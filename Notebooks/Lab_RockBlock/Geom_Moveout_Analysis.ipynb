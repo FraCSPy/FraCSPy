{
 "cells": [
  {
   "cell_type": "code",
   "execution_count": 28,
   "id": "bcce3028-4fff-49a1-b594-49e274041024",
   "metadata": {},
   "outputs": [],
   "source": [
    "%load_ext autoreload\n",
    "%autoreload 2\n",
    "%matplotlib inline\n",
    "\n",
    "import warnings\n",
    "warnings.filterwarnings('ignore')\n",
    "\n",
    "import numpy as np\n",
    "import matplotlib.pyplot as plt\n",
    "import scipy as sp\n",
    "\n",
    "\n",
    "from pyfrac.modelling.kirchhoff import Kirchhoff\n",
    "from pylops.utils                      import dottest\n",
    "from pylops.utils.wavelets             import *"
   ]
  },
  {
   "cell_type": "code",
   "execution_count": 24,
   "id": "c4c1d762-ef41-4d8d-89f7-b1f9adc804c6",
   "metadata": {},
   "outputs": [
    {
     "data": {
      "text/plain": [
       "(3, 8)"
      ]
     },
     "execution_count": 24,
     "metadata": {},
     "output_type": "execute_result"
    }
   ],
   "source": [
    "rec_locs_a = np.array([[30.11, 9.89, 0.],\n",
    "                      [24.45, 15.55, 0.],\n",
    "                      [24.45, 24.45, 0.],\n",
    "                      [30.11, 30.11, 0.],\n",
    "                      [9.89, 9.89, 0.],\n",
    "                      [15.55, 15.55, 0.],\n",
    "                      [15.55, 24.45, 0.],\n",
    "                      [9.89, 30.11, 0.],\n",
    "                      ]).T\n",
    "rec_locs_a.shape"
   ]
  },
  {
   "cell_type": "markdown",
   "id": "4e2d5f26-351c-4fec-86c9-1a496618694f",
   "metadata": {},
   "source": [
    "# SETUP MODEL"
   ]
  },
  {
   "cell_type": "code",
   "execution_count": 25,
   "id": "4f919051-fa1b-4893-9308-6e5828429356",
   "metadata": {},
   "outputs": [],
   "source": [
    "# Load velocity model\n",
    "dimlims = 0.40  # 40cm cubed\n",
    "dx = dy = dz = 0.01  # 5mm\n",
    "nx = ny = nz = int(dimlims/dx)\n",
    "x, y, z = np.arange(nx)*dx, np.arange(ny)*dy, np.arange(nz)*dz\n",
    "\n",
    "# Subsurface properties\n",
    "vp = 5260  # m/s\n",
    "vs = 3260  # m/s\n",
    "rho = 2590;  # kg/m3"
   ]
  },
  {
   "cell_type": "code",
   "execution_count": 36,
   "id": "446c8362-9cad-4c45-be80-73aa30b26e70",
   "metadata": {},
   "outputs": [
    {
     "data": {
      "text/plain": [
       "[<matplotlib.lines.Line2D at 0x153d47e568e0>]"
      ]
     },
     "execution_count": 36,
     "metadata": {},
     "output_type": "execute_result"
    },
    {
     "data": {
      "image/png": "[encoded data removed]",
      "text/plain": [
       "<Figure size 640x480 with 1 Axes>"
      ]
     },
     "metadata": {},
     "output_type": "display_data"
    }
   ],
   "source": [
    "nt = 251\n",
    "Fs = 125000  # 125 kHz sampling rate\n",
    "dt = 1/Fs\n",
    "t = np.arange(nt)*dt\n",
    "\n",
    "Fc = 50000\n",
    "wav, wavt, wavc = ricker(t[:41], f0=Fc)\n",
    "\n",
    "plt.plot(wav)"
   ]
  },
  {
   "cell_type": "code",
   "execution_count": 45,
   "id": "fb80ed29-a850-40a0-920a-bd86195849ba",
   "metadata": {},
   "outputs": [
    {
     "name": "stdout",
     "output_type": "stream",
     "text": [
      "Dot test passed, v^H(Opu)=0.0 - u^H(Op^Hv)=0.0\n"
     ]
    }
   ],
   "source": [
    "# INITIALISE OPERATOR\n",
    "Op = Kirchhoff(z=z, \n",
    "               x=x, \n",
    "               y=y, \n",
    "               t=t, \n",
    "               srcs=rec_locs_a[:, :1], \n",
    "               recs=rec_locs_a, \n",
    "               vel=vp, \n",
    "               wav=wav, \n",
    "               wavcenter=wavc, \n",
    "               mode='analytic',)\n",
    "\n",
    "# check operator with dottest\n",
    "_ = dottest(Op, verb=True)"
   ]
  },
  {
   "cell_type": "code",
   "execution_count": 40,
   "id": "c0aabef2-fd52-4daa-9e17-1fe2be8ff8d3",
   "metadata": {},
   "outputs": [
    {
     "data": {
      "text/plain": [
       "(8,)"
      ]
     },
     "execution_count": 40,
     "metadata": {},
     "output_type": "execute_result"
    }
   ],
   "source": [
    "rec_locs_a[0].shape"
   ]
  },
  {
   "cell_type": "code",
   "execution_count": 63,
   "id": "a2997097-912b-4e13-8757-786189ba0709",
   "metadata": {},
   "outputs": [
    {
     "name": "stdout",
     "output_type": "stream",
     "text": [
      "40 40 40\n",
      "(64000, 8)\n",
      "(64000, 8)\n",
      "(64000, 8)\n"
     ]
    }
   ],
   "source": [
    "trav = Kirchhoff._traveltime_table(z, x, rec_locs_a, y=y, vel=vp, mode='analytic')"
   ]
  },
  {
   "cell_type": "code",
   "execution_count": 64,
   "id": "dd89a4cb-6c7c-42e2-9fa5-bd578862eee4",
   "metadata": {},
   "outputs": [
    {
     "data": {
      "text/plain": [
       "(64000, 8)"
      ]
     },
     "execution_count": 64,
     "metadata": {},
     "output_type": "execute_result"
    }
   ],
   "source": [
    "trav.shape"
   ]
  },
  {
   "cell_type": "code",
   "execution_count": 75,
   "id": "30dad2fb-a006-4108-9b4a-2429bae30be8",
   "metadata": {},
   "outputs": [],
   "source": [
    "min_tt = np.min(trav,axis=1)\n",
    "max_tt = np.max(trav,axis=1)\n",
    "\n",
    "max_diff_tt = max_tt - min_tt\n",
    "max_diff_tt_3d = max_diff_tt.reshape(nx,ny,nz)"
   ]
  },
  {
   "cell_type": "code",
   "execution_count": 76,
   "id": "54a974bf-f6ec-4d9c-b7f4-04863fe79a02",
   "metadata": {},
   "outputs": [
    {
     "data": {
      "text/plain": [
       "0.005436199937741203"
      ]
     },
     "execution_count": 76,
     "metadata": {},
     "output_type": "execute_result"
    }
   ],
   "source": [
    "max_diff_tt_3d[20,20,20]"
   ]
  },
  {
   "cell_type": "code",
   "execution_count": 74,
   "id": "57788cc1-5a16-47e2-9d0a-d2d6a655fa8b",
   "metadata": {},
   "outputs": [
    {
     "data": {
      "text/plain": [
       "64000"
      ]
     },
     "execution_count": 74,
     "metadata": {},
     "output_type": "execute_result"
    }
   ],
   "source": [
    "len(max_diff_tt)"
   ]
  },
  {
   "cell_type": "code",
   "execution_count": 72,
   "id": "1525a123-08cb-4ed2-95ab-e8b1d8bdb0f6",
   "metadata": {},
   "outputs": [
    {
     "data": {
      "text/plain": [
       "array([0.00543639, 0.00543639, 0.00543639, ..., 0.00543573, 0.00543569,\n",
       "       0.00543566])"
      ]
     },
     "execution_count": 72,
     "metadata": {},
     "output_type": "execute_result"
    }
   ],
   "source": [
    "max_diff_tt"
   ]
  },
  {
   "cell_type": "code",
   "execution_count": 77,
   "id": "75733fa8-4615-4d28-a6b4-57bae3c25fbc",
   "metadata": {},
   "outputs": [
    {
     "data": {
      "text/plain": [
       "8e-06"
      ]
     },
     "execution_count": 77,
     "metadata": {},
     "output_type": "execute_result"
    }
   ],
   "source": [
    "dt"
   ]
  },
  {
   "cell_type": "code",
   "execution_count": null,
   "id": "31bdc1ed-2ee8-477e-af20-be80f16be43b",
   "metadata": {},
   "outputs": [],
   "source": []
  }
 ],
 "metadata": {
  "kernelspec": {
   "display_name": "Python 3 (ipykernel)",
   "language": "python",
   "name": "python3"
  },
  "language_info": {
   "codemirror_mode": {
    "name": "ipython",
    "version": 3
   },
   "file_extension": ".py",
   "mimetype": "text/x-python",
   "name": "python",
   "nbconvert_exporter": "python",
   "pygments_lexer": "ipython3",
   "version": "3.9.18"
  }
 },
 "nbformat": 4,
 "nbformat_minor": 5
}
