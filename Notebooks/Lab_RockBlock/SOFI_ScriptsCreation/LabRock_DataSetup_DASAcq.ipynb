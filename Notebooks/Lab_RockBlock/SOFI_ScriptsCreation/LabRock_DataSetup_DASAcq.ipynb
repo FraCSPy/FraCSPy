{
 "cells": [
  {
   "cell_type": "code",
   "execution_count": 1,
   "id": "4493379b",
   "metadata": {},
   "outputs": [],
   "source": [
    "%load_ext autoreload\n",
    "%autoreload 2\n",
    "%matplotlib inline\n",
    "\n",
    "import warnings\n",
    "warnings.filterwarnings('ignore')\n",
    "\n",
    "import os\n",
    "import numpy as np\n",
    "import scipy as sc\n",
    "import matplotlib.pyplot as plt\n",
    "\n",
    "import pyfrac\n",
    "from pyfrac.utils.sofiutils import *\n",
    "from pyfrac.utils.modellingutils import *\n",
    "from pyfrac.hydrafrac.acquisition import recgeom,recgeom_rockblock"
   ]
  },
  {
   "cell_type": "code",
   "execution_count": 2,
   "id": "48719887-31b4-4ba9-a5da-4f2d1ed38f99",
   "metadata": {},
   "outputs": [],
   "source": [
    "data_dir = '/home/birniece/Documents/data/ANPERC_Lab/LargeRockBlock/Sandstone'"
   ]
  },
  {
   "cell_type": "markdown",
   "id": "48d75b78",
   "metadata": {},
   "source": [
    "# Rock Properties - subsurface models"
   ]
  },
  {
   "cell_type": "code",
   "execution_count": 3,
   "id": "9678c9d2-ea04-4af9-b082-a52fdaf162c7",
   "metadata": {},
   "outputs": [],
   "source": [
    "modname = 'homo40cubed'"
   ]
  },
  {
   "cell_type": "code",
   "execution_count": 4,
   "id": "ca5e9819",
   "metadata": {},
   "outputs": [],
   "source": [
    "dimlims = 0.40  # 40cm cubed\n",
    "dx = dy = dz = 0.01  # 5mm\n",
    "nx = ny = nz = int(dimlims/dx)\n",
    "# dimlims = nx*dx\n",
    "\n",
    "# Subsurface properties\n",
    "vp = 5260  # m/s\n",
    "vs = 3260  # m/s\n",
    "rho = 2590;  # kg/m3\n"
   ]
  },
  {
   "cell_type": "code",
   "execution_count": 5,
   "id": "13b7cb6e",
   "metadata": {},
   "outputs": [],
   "source": [
    "subsurface_properties = [vp, vs, rho]\n",
    "vp_mod, vs_mod, rho_mod = make_homo_model(dimlims,\n",
    "                                            dx,\n",
    "                                            subsurface_properties,\n",
    "                                            pad=False,\n",
    "                                            npad=0,\n",
    "                                            freesurface=False\n",
    "                                            )\n",
    "\n",
    "vp_mod.astype(np.float32).tofile(os.path.join(data_dir,'%s.vp'%modname))#,format='<f')\n",
    "vs_mod.astype(np.float32).tofile(os.path.join(data_dir,'%s.vs'%modname))  #,format='<f')\n",
    "rho_mod.astype(np.float32).tofile(os.path.join(data_dir,'%s.rho'%modname))  #,format='<f')"
   ]
  },
  {
   "cell_type": "markdown",
   "id": "661a3ddb",
   "metadata": {},
   "source": [
    "# Acquisition Geometry - Receivers & Source\n",
    "\n",
    "## RECEIVERS"
   ]
  },
  {
   "cell_type": "code",
   "execution_count": 6,
   "id": "1ba4f3e9",
   "metadata": {},
   "outputs": [
    {
     "name": "stdout",
     "output_type": "stream",
     "text": [
      "8664 (3, 8664)\n",
      "[[0.01 0.01 0.01 ... 0.37 0.38 0.39]\n",
      " [0.02 0.02 0.02 ... 0.39 0.39 0.39]\n",
      " [0.02 0.03 0.04 ... 0.4  0.4  0.4 ]]\n"
     ]
    }
   ],
   "source": [
    "# RECEIVERS\n",
    "nrperface = 38\n",
    "\n",
    "# don't need to change below\n",
    "nxyz = [nx, ny, nz]\n",
    "dxyz = [dx, dy, dz]\n",
    "gridded_recs, nr, rec_string = recgeom(nxyz, dxyz, nrperfc_xyz=[nrperface], recbuf_gps=1)\n",
    "# gridded_recs, nr = recgeom_rockblock(nxyz, dxyz, dr_xyz=dx, recbuf_gps=1)\n",
    "print (nr, gridded_recs.shape)\n",
    "print(gridded_recs)\n",
    "\n",
    "np.savetxt(os.path.join(data_dir,'RecArray_fullcoverage.dat'),\n",
    "           gridded_recs.T.astype(np.float32), \n",
    "           fmt='%.2f')"
   ]
  },
  {
   "cell_type": "markdown",
   "id": "1330a3f8-81d0-46b7-a4a0-bbe09a061687",
   "metadata": {},
   "source": [
    "## SOURCES "
   ]
  },
  {
   "cell_type": "code",
   "execution_count": 7,
   "id": "df580ad7-ab7c-4921-a726-610bf8a8a2ea",
   "metadata": {},
   "outputs": [
    {
     "name": "stdout",
     "output_type": "stream",
     "text": [
      "Event Central Frequency: 25000,\n",
      "Sampling Frequency: 100000,\n",
      "Receiver dt: 1e-05\n"
     ]
    }
   ],
   "source": [
    "fc_kHz = 25  # kHz\n",
    "fs_kHz = 100\n",
    "\n",
    "fc = fc_kHz * 1000\n",
    "fs = fs_kHz * 1000\n",
    "rec_dt = 1/fs\n",
    "\n",
    "amp = 1.  # amplitude\n",
    "\n",
    "print(f\"Event Central Frequency: {fc},\\nSampling Frequency: {fs},\\nReceiver dt: {rec_dt}\")"
   ]
  },
  {
   "cell_type": "markdown",
   "id": "e9e868d4-f93d-4dd2-a0a7-c1b7b0b28e71",
   "metadata": {},
   "source": [
    "### Source file 1 - Explosive, heading out one direction but not overlapping"
   ]
  },
  {
   "cell_type": "code",
   "execution_count": 8,
   "id": "0df66f33-4345-4a69-82c1-42414d600b79",
   "metadata": {},
   "outputs": [
    {
     "name": "stdout",
     "output_type": "stream",
     "text": [
      "[1.00000000e-05 2.63257895e-02 5.26415789e-02 7.89573684e-02\n",
      " 1.05273158e-01 1.31588947e-01 1.57904737e-01 1.84220526e-01\n",
      " 2.10536316e-01 2.36852105e-01 2.63167895e-01 2.89483684e-01\n",
      " 3.15799474e-01 3.42115263e-01 3.68431053e-01 3.94746842e-01\n",
      " 4.21062632e-01 4.47378421e-01 4.73694211e-01 5.00010000e-01]\n"
     ]
    }
   ],
   "source": [
    "frac_dur = 0.5 # second\n",
    "# let it just propagate straight x-line\n",
    "grid_sx_locs = np.round(np.arange(0.01,0.2000001,dx)[::-1], decimals=2)\n",
    "ignition_times = np.linspace((1/fs),(1/fs) + frac_dur,len(grid_sx_locs))\n",
    "print(ignition_times)"
   ]
  },
  {
   "cell_type": "code",
   "execution_count": 9,
   "id": "653d2a63-1194-4267-bcf2-02564414760d",
   "metadata": {},
   "outputs": [],
   "source": [
    "# MAKE STRINGS PER SHOT LOC\n",
    "sz = 0.2\n",
    "sy = 0.2\n",
    "string_list = []\n",
    "for t0,sx in zip(ignition_times, grid_sx_locs):\n",
    "    string_list.append([str(i) for i in [sx, sz, sy, t0, fc, amp]])\n",
    "\n",
    "# Save to file\n",
    "src_filename = 'SourceArray_explosiveXfrac.dat'\n",
    "# print(src_filename)\n",
    "src_file = os.path.join(data_dir,src_filename)  \n",
    "# print(src_file)  \n",
    "text_file = open(src_file, \"wt\")\n",
    "for string_line in string_list:\n",
    "    text_file.writelines('\\t'.join(string_line)+'\\n')\n",
    "text_file.close()"
   ]
  },
  {
   "cell_type": "code",
   "execution_count": 10,
   "id": "01fa4161-4102-4ecf-ba9d-29ba682588cf",
   "metadata": {},
   "outputs": [],
   "source": [
    "# MAKE STRINGS PER SHOT LOC\n",
    "sz = 0.2\n",
    "sy = 0.2\n",
    "td = 1/fs  # ignition time\n",
    "\n",
    "string_list = []\n",
    "for sx in grid_sx_locs:\n",
    "    string_list.append([str(i) for i in [sx, sz, sy, td, fc, amp]])\n",
    "\n",
    "# Save to file\n",
    "src_filename = 'SourceArray_explosiveXfrac_singleshots.dat'\n",
    "# print(src_filename)\n",
    "src_file = os.path.join(data_dir,src_filename)  \n",
    "# print(src_file)  \n",
    "text_file = open(src_file, \"wt\")\n",
    "for string_line in string_list:\n",
    "    text_file.writelines('\\t'.join(string_line)+'\\n')\n",
    "text_file.close()"
   ]
  },
  {
   "cell_type": "markdown",
   "id": "60eaf706-874a-4523-a62a-c10abc64be73",
   "metadata": {},
   "source": [
    "### Source file 2 - independent shots, full x-y coverage"
   ]
  },
  {
   "cell_type": "code",
   "execution_count": 11,
   "id": "a6308120-19eb-4952-8e72-963b61237ae5",
   "metadata": {},
   "outputs": [],
   "source": [
    "# Want to place directly on grid, dx=4\n",
    "grid_sx_locs = np.arange(0.1,0.4,dx)\n",
    "grid_sy_locs = np.arange(0.1,0.4,dy)\n",
    "\n",
    "sx, sy, sz = np.meshgrid(grid_sx_locs,\n",
    "                         grid_sy_locs,\n",
    "                         0.2) \n",
    "\n",
    "srclocs = np.vstack((sx.flatten(), sy.flatten(), sz.flatten()))# y is y, I fix the SOFI ordering later\n",
    "srclocs.shape\n",
    "\n",
    "src_xyz_list = []\n",
    "for srcloc in srclocs.T:\n",
    "    src_xyz_list.append(srcloc)\n",
    "\n",
    "# MAKE STRINGS PER SHOT LOC\n",
    "td = 1/fs  # ignition time\n",
    "\n",
    "src_xyz_list=src_xyz_list[::2]\n",
    "string_list = []\n",
    "for src in src_xyz_list:\n",
    "    string_list.append([str(i) for i in [src[0], src[2], src[1], td, fc, amp]])\n",
    "\n",
    "# Save to file\n",
    "src_filename = 'SourceArray_multishotFullXY.dat'\n",
    "# print(src_filename)\n",
    "src_file = os.path.join(data_dir,src_filename)  \n",
    "# print(src_file)  \n",
    "text_file = open(src_file, \"wt\")\n",
    "for string_line in string_list:\n",
    "    text_file.writelines('\\t'.join(string_line)+'\\n')\n",
    "text_file.close()"
   ]
  },
  {
   "cell_type": "code",
   "execution_count": null,
   "id": "4810deed-f76e-4fff-860e-2e4a7f671d2b",
   "metadata": {},
   "outputs": [],
   "source": []
  }
 ],
 "metadata": {
  "kernelspec": {
   "display_name": "Python 3 (ipykernel)",
   "language": "python",
   "name": "python3"
  },
  "language_info": {
   "codemirror_mode": {
    "name": "ipython",
    "version": 3
   },
   "file_extension": ".py",
   "mimetype": "text/x-python",
   "name": "python",
   "nbconvert_exporter": "python",
   "pygments_lexer": "ipython3",
   "version": "3.9.18"
  }
 },
 "nbformat": 4,
 "nbformat_minor": 5
}
