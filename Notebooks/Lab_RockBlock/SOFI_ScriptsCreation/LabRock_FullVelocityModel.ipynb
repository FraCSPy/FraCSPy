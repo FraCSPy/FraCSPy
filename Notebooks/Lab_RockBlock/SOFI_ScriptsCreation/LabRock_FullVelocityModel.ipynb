{
 "cells": [
  {
   "cell_type": "code",
   "execution_count": 1,
   "id": "4493379b",
   "metadata": {},
   "outputs": [],
   "source": [
    "%load_ext autoreload\n",
    "%autoreload 2\n",
    "%matplotlib inline\n",
    "\n",
    "import warnings\n",
    "warnings.filterwarnings('ignore')\n",
    "\n",
    "import os\n",
    "import numpy as np\n",
    "import scipy as sc\n",
    "import matplotlib.pyplot as plt\n",
    "\n",
    "import pyfrac\n",
    "from pyfrac.utils.sofiutils import *\n",
    "from pyfrac.utils.modellingutils import *\n",
    "from pyfrac.hydrafrac.acquisition import recgeom,recgeom_rockblock"
   ]
  },
  {
   "cell_type": "code",
   "execution_count": 2,
   "id": "48719887-31b4-4ba9-a5da-4f2d1ed38f99",
   "metadata": {},
   "outputs": [],
   "source": [
    "data_dir = '/home/birniece/Documents/data/ANPERC_Lab/LargeRockBlock/Sandstone'"
   ]
  },
  {
   "cell_type": "markdown",
   "id": "48d75b78",
   "metadata": {},
   "source": [
    "# Rock Properties - subsurface models"
   ]
  },
  {
   "cell_type": "code",
   "execution_count": 3,
   "id": "9678c9d2-ea04-4af9-b082-a52fdaf162c7",
   "metadata": {},
   "outputs": [],
   "source": [
    "modname = 'expSetUp_wBounds'\n"
   ]
  },
  {
   "cell_type": "code",
   "execution_count": 4,
   "id": "3b426c01-58bb-48e7-8d46-86a508edc24e",
   "metadata": {},
   "outputs": [],
   "source": [
    "dimlims = 0.40  # 40cm cubed\n",
    "dx = dy = dz = 0.005  # 5mm\n",
    "nx = ny = nz = int(dimlims/dx)\n",
    "\n",
    "# Accounting for media that ain't the rock\n",
    "r_shift = 0.34/2\n",
    "s_shift = 0.34/2"
   ]
  },
  {
   "cell_type": "code",
   "execution_count": 5,
   "id": "5b87a15b-438f-4678-b5c7-d45d560eedba",
   "metadata": {},
   "outputs": [],
   "source": [
    "rock_vp = 5260  # m/s\n",
    "rock_vs = 3260  # m/s\n",
    "rock_rho = 2590;  # kg/m3\n",
    "\n",
    "rubber_vp = 300 # m/s after eq 4 of https://www.sciencedirect.com/science/article/pii/S2588840420300445#fig5\n",
    "rubber_vs = (2/3) * rubber_vp  # 2/3 of vp\n",
    "rubber_rho = 1000 ;  # kg/m3\n",
    "\n",
    "steel_vp = 6030  # m/s\n",
    "steel_vs = 3260  # m/s\n",
    "steel_rho = 2667;  # kg/m3"
   ]
  },
  {
   "cell_type": "code",
   "execution_count": 6,
   "id": "d7ced119-49e0-44ca-a184-ae3486f82eba",
   "metadata": {},
   "outputs": [],
   "source": [
    "vp_mod, vs_mod, rho_mod = make_homo_model(dimlims,\n",
    "                                            dx,\n",
    "                                            [steel_vp, steel_vs, steel_rho],\n",
    "                                            pad=True,\n",
    "                                            npad=34,\n",
    "                                            freesurface=True\n",
    "                                            )"
   ]
  },
  {
   "cell_type": "code",
   "execution_count": 7,
   "id": "53e2ee89-f19b-4307-8b9f-785a5d19ea59",
   "metadata": {},
   "outputs": [
    {
     "data": {
      "text/plain": [
       "(148, 114, 148)"
      ]
     },
     "execution_count": 7,
     "metadata": {},
     "output_type": "execute_result"
    }
   ],
   "source": [
    "vp_mod.shape"
   ]
  },
  {
   "cell_type": "code",
   "execution_count": 8,
   "id": "3c1d61ed-7908-450f-8ceb-de8690dbf676",
   "metadata": {},
   "outputs": [],
   "source": [
    "vp_mod[30:-30,:-30,30:-30] = rubber_vp\n",
    "vp_mod[34:-33,:-33,34:-33] = rock_vp\n",
    "\n",
    "vs_mod[30:-30,:-30,30:-30] = rubber_vs\n",
    "vs_mod[34:-33,:-33,34:-33] = rock_vs\n",
    "\n",
    "rho_mod[30:-30,:-30,30:-30] = rubber_rho\n",
    "rho_mod[34:-33,:-33,34:-33] = rock_rho"
   ]
  },
  {
   "cell_type": "code",
   "execution_count": 9,
   "id": "af6372f7-c742-46e5-a4c6-06445a01128b",
   "metadata": {},
   "outputs": [
    {
     "data": {
      "text/plain": [
       "<matplotlib.image.AxesImage at 0x152369bf9ca0>"
      ]
     },
     "execution_count": 9,
     "metadata": {},
     "output_type": "execute_result"
    },
    {
     "data": {
      "image/png": "[encoded data removed]",
      "text/plain": [
       "<Figure size 640x480 with 1 Axes>"
      ]
     },
     "metadata": {},
     "output_type": "display_data"
    }
   ],
   "source": [
    "plt.imshow(vp_mod[nx//2,:,:])"
   ]
  },
  {
   "cell_type": "code",
   "execution_count": 10,
   "id": "13b7cb6e",
   "metadata": {},
   "outputs": [],
   "source": [
    "vp_mod.transpose([0,2,1]).astype(np.float32).tofile(os.path.join(data_dir,'%s_xyz.vp'%modname))#,format='<f')\n",
    "vs_mod.transpose([0,2,1]).astype(np.float32).tofile(os.path.join(data_dir,'%s_xyz.vs'%modname))  #,format='<f')\n",
    "rho_mod.transpose([0,2,1]).astype(np.float32).tofile(os.path.join(data_dir,'%s_xyz.rho'%modname))  #,format='<f')"
   ]
  },
  {
   "cell_type": "markdown",
   "id": "661a3ddb",
   "metadata": {},
   "source": [
    "# Acquisition Geometry - Receivers & Source\n",
    "\n",
    "## RECEIVERS"
   ]
  },
  {
   "cell_type": "code",
   "execution_count": 11,
   "id": "84713ae9-a565-4364-aacd-00c2a82f7a85",
   "metadata": {},
   "outputs": [
    {
     "data": {
      "text/plain": [
       "9126"
      ]
     },
     "execution_count": 11,
     "metadata": {},
     "output_type": "execute_result"
    }
   ],
   "source": [
    "39*39*6"
   ]
  },
  {
   "cell_type": "code",
   "execution_count": 12,
   "id": "1ba4f3e9",
   "metadata": {},
   "outputs": [
    {
     "name": "stdout",
     "output_type": "stream",
     "text": [
      "9126 (3, 9126)\n",
      "[[0.17 0.17 0.17 ... 0.54 0.55 0.56]\n",
      " [0.18 0.18 0.18 ... 0.56 0.56 0.56]\n",
      " [0.01 0.02 0.03 ... 0.4  0.4  0.4 ]]\n",
      "9126 (3, 9126)\n",
      "[[0.17 0.17 0.17 ... 0.54 0.55 0.56]\n",
      " [0.01 0.02 0.03 ... 0.4  0.4  0.4 ]\n",
      " [0.18 0.18 0.18 ... 0.56 0.56 0.56]]\n"
     ]
    }
   ],
   "source": [
    "# RECEIVERS\n",
    "nrperface = 39\n",
    "\n",
    "# don't need to change below\n",
    "r_nxyz = [40, 40, 40]\n",
    "r_dxyz = [0.01, 0.01, 0.01]\n",
    "gridded_recs, nr, rec_string = recgeom(r_nxyz, \n",
    "                                       r_dxyz, \n",
    "                                       nrperfc_xyz=[nrperface], \n",
    "                                       recbuf_gps=1,\n",
    "                                       sofishift=0)\n",
    "\n",
    "# Shift in x and y\n",
    "gridded_recs[0] = gridded_recs[0] + r_shift\n",
    "gridded_recs[1] = gridded_recs[1] + r_shift\n",
    "\n",
    "# gridded_recs, nr = recgeom_rockblock(nxyz, dxyz, dr_xyz=dx, recbuf_gps=1)\n",
    "print (nr, gridded_recs.shape)\n",
    "print(gridded_recs)\n",
    "\n",
    "gridded_recs = np.array([gridded_recs[0], gridded_recs[2], gridded_recs[1], ])\n",
    "print (nr, gridded_recs.shape)\n",
    "print(gridded_recs)"
   ]
  },
  {
   "cell_type": "code",
   "execution_count": 13,
   "id": "66a0f20c-6c5a-499f-9589-112a99e095b5",
   "metadata": {},
   "outputs": [
    {
     "data": {
      "text/plain": [
       "0.005"
      ]
     },
     "execution_count": 13,
     "metadata": {},
     "output_type": "execute_result"
    }
   ],
   "source": [
    "dx"
   ]
  },
  {
   "cell_type": "code",
   "execution_count": 22,
   "id": "85f661f3-e589-4977-bb6e-5d4740a920d1",
   "metadata": {},
   "outputs": [
    {
     "data": {
      "text/plain": [
       "Text(0.5, 1.0, 'Experimental SetUp')"
      ]
     },
     "execution_count": 22,
     "metadata": {},
     "output_type": "execute_result"
    },
    {
     "data": {
      "image/png": "[encoded data removed]",
      "text/plain": [
       "<Figure size 600x600 with 1 Axes>"
      ]
     },
     "metadata": {},
     "output_type": "display_data"
    }
   ],
   "source": [
    "fig,ax = plt.subplots(1,1,figsize=[6,6])\n",
    "ax.imshow(vp_mod[nx//2,:,:])\n",
    "ax.scatter(gridded_recs[2]/dx, gridded_recs[1]/dx,marker='.')\n",
    "ax.axvline(34,c='k')\n",
    "ax.axvline(34+80,c='k')\n",
    "ax.axhline(80,c='k')\n",
    "ax.set_xlabel('X')\n",
    "ax.set_ylabel('Y')\n",
    "ax.set_title('Experimental SetUp')"
   ]
  },
  {
   "cell_type": "code",
   "execution_count": 15,
   "id": "50ac456b-9ff7-4108-a3b1-54e02396c783",
   "metadata": {},
   "outputs": [],
   "source": [
    "np.savetxt(os.path.join(data_dir,'RecArray_%s.dat'%modname),\n",
    "           gridded_recs.T.astype(np.float32), \n",
    "           fmt='%.2f')"
   ]
  },
  {
   "cell_type": "markdown",
   "id": "3a081454-0bbb-40f5-960f-0ff67d12fb6d",
   "metadata": {},
   "source": [
    "## SOURCES "
   ]
  },
  {
   "cell_type": "code",
   "execution_count": 16,
   "id": "ed414c74-3d89-416f-93ef-74bec28be868",
   "metadata": {},
   "outputs": [
    {
     "name": "stdout",
     "output_type": "stream",
     "text": [
      "Event Central Frequency: 25000,\n",
      "Sampling Frequency: 100000,\n",
      "Receiver dt: 1e-05\n"
     ]
    }
   ],
   "source": [
    "fc_kHz = 25  # kHz\n",
    "fs_kHz = 100\n",
    "\n",
    "fc = fc_kHz * 1000\n",
    "fs = fs_kHz * 1000\n",
    "rec_dt = 1/fs\n",
    "\n",
    "amp = 1.  # amplitude\n",
    "\n",
    "print(f\"Event Central Frequency: {fc},\\nSampling Frequency: {fs},\\nReceiver dt: {rec_dt}\")"
   ]
  },
  {
   "cell_type": "code",
   "execution_count": 17,
   "id": "348e0858-8baa-4528-b737-4a4e20a33d61",
   "metadata": {},
   "outputs": [],
   "source": [
    "# MAKE STRINGS PER SHOT LOC\n",
    "sz = 40 *dx\n",
    "sy = vp_mod.shape[2]//2 *dx\n",
    "sx = vp_mod.shape[0]//2 *dx\n",
    "\n",
    "td = 1/fs  # ignition time\n",
    "\n",
    "string_list = [str(i) for i in [sx, sz, sy, td, fc, amp]]\n",
    "\n",
    "# Save to file\n",
    "src_filename = 'SourceArray_singleshots_%s.dat'%modname\n",
    "\n",
    "# print(src_filename)\n",
    "src_file = os.path.join(data_dir,src_filename)  \n",
    "# print(src_file)  \n",
    "text_file = open(src_file, \"wt\")\n",
    "text_file.writelines('\\t'.join(string_list))\n",
    "text_file.close()"
   ]
  },
  {
   "cell_type": "code",
   "execution_count": 18,
   "id": "dde35427-67ef-4c7a-8388-0dd01f6534e8",
   "metadata": {},
   "outputs": [
    {
     "data": {
      "text/plain": [
       "['0.37', '0.2', '0.37', '1e-05', '25000', '1.0']"
      ]
     },
     "execution_count": 18,
     "metadata": {},
     "output_type": "execute_result"
    }
   ],
   "source": [
    "string_list"
   ]
  },
  {
   "cell_type": "code",
   "execution_count": 19,
   "id": "4810deed-f76e-4fff-860e-2e4a7f671d2b",
   "metadata": {},
   "outputs": [
    {
     "data": {
      "text/plain": [
       "<matplotlib.lines.Line2D at 0x1523640f9a00>"
      ]
     },
     "execution_count": 19,
     "metadata": {},
     "output_type": "execute_result"
    },
    {
     "data": {
      "image/png": "[encoded data removed]",
      "text/plain": [
       "<Figure size 600x600 with 1 Axes>"
      ]
     },
     "metadata": {},
     "output_type": "display_data"
    }
   ],
   "source": [
    "fig,ax = plt.subplots(1,1,figsize=[6,6])\n",
    "ax.imshow(vp_mod[nx//2,:,:])\n",
    "ax.scatter(gridded_recs[2]/dx, gridded_recs[1]/dx,marker='.')\n",
    "ax.scatter(sy/dx, sz/dx,marker='*')\n",
    "ax.axvline(34,c='k')\n",
    "ax.axvline(34+80,c='k')\n",
    "ax.axhline(80,c='k')"
   ]
  },
  {
   "cell_type": "code",
   "execution_count": 20,
   "id": "a3533bfb-3a7c-4a7d-95b2-4c2d9457c753",
   "metadata": {},
   "outputs": [
    {
     "data": {
      "text/plain": [
       "(148, 114, 148)"
      ]
     },
     "execution_count": 20,
     "metadata": {},
     "output_type": "execute_result"
    }
   ],
   "source": [
    "vp_mod.shape"
   ]
  },
  {
   "cell_type": "code",
   "execution_count": null,
   "id": "3e8cd290-031a-47fd-8350-814e59007714",
   "metadata": {},
   "outputs": [],
   "source": []
  }
 ],
 "metadata": {
  "kernelspec": {
   "display_name": "Python 3 (ipykernel)",
   "language": "python",
   "name": "python3"
  },
  "language_info": {
   "codemirror_mode": {
    "name": "ipython",
    "version": 3
   },
   "file_extension": ".py",
   "mimetype": "text/x-python",
   "name": "python",
   "nbconvert_exporter": "python",
   "pygments_lexer": "ipython3",
   "version": "3.9.18"
  }
 },
 "nbformat": 4,
 "nbformat_minor": 5
}
