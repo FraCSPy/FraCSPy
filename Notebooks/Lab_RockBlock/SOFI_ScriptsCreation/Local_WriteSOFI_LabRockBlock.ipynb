{
 "cells": [
  {
   "cell_type": "raw",
   "id": "2bb7b098-0744-43dc-bce8-9b64fb96ff7e",
   "metadata": {},
   "source": [
    "# FROM OUTGOING FOLDER\n",
    "scp -r birniece@kw60926.kaust.edu.sa:\"/home/birniece/Documents/Projects/MicroseismicModelling/ShaheenTransfers/OUTGOING/TOC2ME/\" ./\n",
    "\n",
    "# IN INCOMING FOLDER\n",
    "scp -r birniece@shaheen.hpc.kaust.edu.sa:\"/scratch/birniece/SOFI_UtahFORGE/explosive_multishot\" /home/birniece/Documents/Projects/MicroseismicModelling/ShaheenTransfers/INCOMING/"
   ]
  },
  {
   "cell_type": "code",
   "execution_count": 1,
   "id": "03d3aef2-1b84-48c8-849d-55797c7f20ef",
   "metadata": {},
   "outputs": [],
   "source": [
    "import numpy as np\n",
    "import pandas as pd\n",
    "import os\n",
    "import glob\n",
    "import scipy \n",
    "from scipy.interpolate import RegularGridInterpolator\n",
    "\n",
    "%matplotlib inline\n",
    "import matplotlib.pyplot as plt\n",
    "\n",
    "from pyfrac.utils.sofiutils import *"
   ]
  },
  {
   "cell_type": "markdown",
   "id": "532640c5-90d9-4b1c-a346-696d93e08f79",
   "metadata": {},
   "source": [
    "# FILE PATHS"
   ]
  },
  {
   "cell_type": "code",
   "execution_count": 2,
   "id": "4de3383f-de5d-4a13-9db9-c7c2a029ebd6",
   "metadata": {},
   "outputs": [],
   "source": [
    "sofimaster = '/home/birniece/Documents/Projects/MicroseismicModelling/SOFI3D-master/bin/sofi3D'"
   ]
  },
  {
   "cell_type": "code",
   "execution_count": 3,
   "id": "92baa4dd-2a3a-4a5f-831d-376e937bc15c",
   "metadata": {},
   "outputs": [],
   "source": [
    "# Project Directory\n",
    "proj_dir = '/home/birniece/Documents/Projects/MicroseismicModelling/SOFI_LargeRockBlock_Sandstone/expSetUp'"
   ]
  },
  {
   "cell_type": "code",
   "execution_count": 4,
   "id": "e7b7ce8a-4beb-4032-a8fa-124aad85e6ac",
   "metadata": {},
   "outputs": [],
   "source": [
    "# Project Files - 40 cm Cube -> No boundaries\n",
    "rec_file = './inputs/RecArray_expSetUp_wBounds_1mm.dat'\n",
    "model_dir = './inputs/expSetUp_wBounds_xyz_1mm'\n",
    "src_file = './inputs/SourceArray_singleshots_expSetUp_wBounds_1mm.dat'"
   ]
  },
  {
   "cell_type": "markdown",
   "id": "19301ab7-8181-4193-8409-b1aa9ab03f68",
   "metadata": {},
   "source": [
    "# MODELLING PARAMS (Indep. of src locs)"
   ]
  },
  {
   "cell_type": "markdown",
   "id": "87463c82-fb7c-400d-81e8-e32de0217baa",
   "metadata": {},
   "source": [
    "### MODEL PARAMETERS - Get these from the script that made the models"
   ]
  },
  {
   "cell_type": "code",
   "execution_count": 5,
   "id": "f409a190-670b-44ba-9224-f0b902628854",
   "metadata": {},
   "outputs": [
    {
     "name": "stdout",
     "output_type": "stream",
     "text": [
      "Event Central Frequency: 25000,\n",
      "Sampling Frequency: 100000,\n",
      "Receiver dt: 1e-05\n"
     ]
    }
   ],
   "source": [
    "fc_kHz = 25  # kHz\n",
    "fs_kHz = 100\n",
    "\n",
    "fc = fc_kHz * 1000\n",
    "fs = fs_kHz * 1000\n",
    "rec_dt = 1/fs\n",
    "print(f\"Event Central Frequency: {fc},\\nSampling Frequency: {fs},\\nReceiver dt: {rec_dt}\")\n",
    "\n",
    "# time params (in seconds!)\n",
    "dt = 5e-8\n",
    "tdur = 0.001\n",
    "tsnap_params = [dt, dt*2000, dt*50]\n"
   ]
  },
  {
   "cell_type": "code",
   "execution_count": 6,
   "id": "4afda309-2ed7-40a4-9185-3a7f59cf7aaa",
   "metadata": {},
   "outputs": [],
   "source": [
    "dx = dy = dz = 0.001 \n",
    "n_xzy = (504, 452, 504)\n",
    "d_xzy = [dx, dz, dy]\n"
   ]
  },
  {
   "cell_type": "code",
   "execution_count": 7,
   "id": "9342eb68-70fc-41fc-9a62-cfbb4d9f27d5",
   "metadata": {},
   "outputs": [],
   "source": [
    "# BOUNDARIES & FREE SURFACE\n",
    "nbounds = 30\n",
    "free_surface = True"
   ]
  },
  {
   "cell_type": "code",
   "execution_count": 8,
   "id": "1e2acfbc-3383-4b19-a1a5-61071e677511",
   "metadata": {},
   "outputs": [],
   "source": [
    "# SNAP PARAMETERS\n",
    "snap_start = dt\n",
    "snap_end = tdur/8\n",
    "snap_step = 50*dt\n",
    "tsnap_params = [snap_start, snap_end, snap_step]\n",
    "snap_sbsmp_xyz = 2\n",
    "\n",
    "# SEISMOGRAM PARAMETERS\n",
    "smgrm_ndt = 10"
   ]
  },
  {
   "cell_type": "code",
   "execution_count": 9,
   "id": "958ffd77-dad2-4bac-84e8-a747dd21d30e",
   "metadata": {},
   "outputs": [],
   "source": [
    "# GET THE DIFFERENT STRINGS - this will be updated in the future\n",
    "default_strs = get_default_strings(rec_file=rec_file)\n",
    "\n",
    "# MODELLING\n",
    "mod_strs = get_subsurfmod_str(n_xzy, \n",
    "                              d_xzy,\n",
    "                              ' ',\n",
    "                              moddir=model_dir,\n",
    "                              np_xzy=[2,2,2]\n",
    "                             )\n",
    "bndry_str = get_boundary_str(fs=free_surface, \n",
    "                             npad=nbounds, \n",
    "                             cpml=True)\n"
   ]
  },
  {
   "cell_type": "code",
   "execution_count": 10,
   "id": "b68f1bed-826e-455a-8a55-3aa6e8e0c54a",
   "metadata": {},
   "outputs": [
    {
     "data": {
      "text/plain": [
       "'#-----------------------------------------------------------------\\n#      JSON PARAMETER FILE FOR SOFI3D\\n#-----------------------------------------------------------------\\n# description: example of json input file\\n# description/name of the model: homogeneous full space (hh.c)\\n#\\n\\n \\n{\\n \\n\"Checkpoints\" : \"comment\",\\n    \"CHECKPTREAD\" : \"0\",\\n    \"CHECKPTWRITE\" : \"0\",\\n    \"CHECKPT_FILE\" : \"tmp/checkpoint_sofi3D\",\\n \\n\"FD order\" : \"comment\",\\n    \"FDORDER\" : \"4\",\\n    \"FDORDER_TIME\" : \"2\",\\n    \"FDCOEFF\" : \"2\",\\n    \"fdcoeff values: Taylor=1, Holberg=2\" : \"comment\",\\n \\n\"Q-approximation\" : \"comment\",\\n    \"L\" : \"0\",\\n    \"FREF\" : \"5.0\",\\n    \"FL1\" : \"5.0\",\\n    \"TAU\" : \"0.00001\",\\n \\n\"Receiver\" : \"comment\",\\n    \"SEISMO\" : \"4\",\\n    \"READREC\" : \"1\",\\n    \"REC_FILE\" : \"./inputs/RecArray_expSetUp_wBounds_1mm.dat\",\\n    \"REFRECX, REFRECY, REFRECZ\" : \"0.0 , 0.0 , 0.0\",\\n    \"NGEOPH\" : \"1\",\\n    \"REC_ARRAY\" : \"0\", # No array as it is read from the rec file\\n \\n\"Snapshots\" : \"comment\",\\n        \"SNAP\" : \"4\",\\n        \"TSNAP1\" : \"5.00e-08\",\\n        \"TSNAP2\" : \"1.25e-04\",\\n        \"TSNAPINC\" : \"2.50e-06\",\\n        \"IDX\" : \"2\",\\n        \"IDY\" : \"2\",\\n        \"IDZ\" : \"2\",\\n        \"SNAP_FORMAT\" : \"3\",\\n        \"SNAP_FILE\" : \"./outputs/snap/expSetUp\",\\n        \"SNAP_PLANE\" : \"2\",\\n \\n\"Seismograms\" : \"comment\",\\n    \"NDT, NDTSHIFT\" : \"10, 0\",\\n    \"SEIS_FORMAT\" : \"2\",\\n    \"SEIS_FILE\" : \"./outputs/su/expSetUp\",\\n \\n\"Monitoring the simulation\" : \"comment\",\\n    \"LOG_FILE\" : \"./outputs/log/expSetUp.log\",\\n    \"LOG\" : \"1\",\\n    \"OUT_SOURCE_WAVELET\" : \"1\",\\n    \"OUT_TIMESTEP_INFO\" : \"10\",\\n    \\n \\n\"Time Stepping\" : \"comment\",\\n    \"TIME\" : \"0.001\",\\n    \"DT\" : \"5.00e-08\",\\n \\n\"3-D Grid\" : \"comment\",\\n    \"NX\" : \"504\",\\n    \"NY\" : \"452\",\\n    \"NZ\" : \"504\",\\n    \"DX\" : \"0.0010\",  # meters\\n    \"DY\" : \"0.0010\",  # meters\\n    \"DZ\" : \"0.0010\",  # meters\\n\\n \\n\"Model\" : \"comment\",\\n    \"READMOD\" : \"1\", # Read from file\\n    \"MFILE\" : \"./inputs/expSetUp_wBounds_xyz_1mm\",\\n    \"WRITE_MODELFILES\" : \"2\",\\n \\n\"Domain Decomposition\" : \"comment\",\\n    \"NPROCX\" : \"2\",\\n    \"NPROCY\" : \"2\",\\n    \"NPROCZ\" : \"2\",\\n    \\n \\n\"Source\" : \"comment\",\\n    \"SOURCE_SHAPE\" : \"1\",  # Ricker\\n    \"SOURCE_TYPE\" : \"1\",  # Explosive\\n    \"SRCREC\" : \"1\",  # Read from file\\n    \"SOURCE_FILE\" : \"./inputs/SourceArray_singleshots_expSetUp_wBounds_1mm.dat\",\\n    \"RUN_MULTIPLE_SHOTS\" : \"0\",\\n    \"PLANE_WAVE_ANGLE\" : \"0.0\",\\n    \"TS\" : \"0.05\",  # Duration of source-signal\\n    \\n \\n\"Boundary Conditions\" : \"comment\",\\n    \"FREE_SURF\" : \"1\",\\n    \"ABS_TYPE\" : \"1\",\\n    \"FW\" : \"30\",\\n    \"DAMPING\" : \"4.0\",\\n    \"FPML\" : \"20.0\",\\n    \"VPPML\" : \"3500.0\",\\n    \"NPOWER\" : \"4.0\",\\n    \"K_MAX_CPML\" : \"1.0\",\\n    \"BOUNDARY\" : \"0\",\\n \\n}'"
      ]
     },
     "execution_count": 10,
     "metadata": {},
     "output_type": "execute_result"
    }
   ],
   "source": [
    "groupname = \"expSetUp\"\n",
    "\n",
    "# Make time string (long as multishot in one rec)\n",
    "t_str = get_time_str(dt, tdur)\n",
    "\n",
    "# Make SOFI Source String\n",
    "src_str = get_source_str(sfile=src_file, multisource=0)\n",
    "\n",
    "# Make Monitor String\n",
    "monitor_strs = get_monitor_str(tsnap_params, \n",
    "                           smgrm_ndt, \n",
    "                           groupname, \n",
    "                           sbsmp_xyz=snap_sbsmp_xyz,\n",
    "                           snap=True\n",
    "                          )\n",
    "\n",
    "# Write SOFI FILE\n",
    "sofi_json_file = os.path.join(proj_dir, groupname+'.json')\n",
    "write_SOFIjsonParams(default_strs, \n",
    "                     monitor_strs,  \n",
    "                     t_str, \n",
    "                     mod_strs, \n",
    "                     src_str, \n",
    "                     bndry_str,\n",
    "                     sofi_json_file)\n",
    "\n"
   ]
  },
  {
   "cell_type": "markdown",
   "id": "fe8063fe-312a-40fb-834c-494224a408ab",
   "metadata": {},
   "source": [
    "# MAKE BASH SCRIPT TO SUBMIT ALL SLURM JOBS"
   ]
  },
  {
   "cell_type": "code",
   "execution_count": 11,
   "id": "6c448252-4ad9-42ae-8581-6a262dc36ed9",
   "metadata": {},
   "outputs": [],
   "source": [
    "bashsubmitfile = os.path.join(proj_dir, 'submit_ALL.sh')\n",
    "\n",
    "bashsubmitstring = '''#!/bin/bash \n",
    "\n",
    "mkdir -p outputs\n",
    "mkdir -p outputs/log\n",
    "mkdir -p outputs/snap\n",
    "mkdir -p outputs/su\n",
    "\n",
    "mpirun -np 8 %s %s > sofi3D.jout\n",
    "\n",
    "# Do the snap merge thing\n",
    "snapmergepath=~/Documents/Projects/MicroseismicModelling/SOFI3D-master/bin/snapmerge\n",
    "${snapmergepath} %s\n",
    "\n",
    "# Clean up the snap files (for memory purposes)\n",
    "rm -rf ./outputs/snap/**.0*\n",
    "rm -rf ./outputs/snap/**.1*\n",
    "'''%(sofimaster,sofi_json_file,sofi_json_file)\n",
    "\n",
    "text_file = open(bashsubmitfile, \"wt\")\n",
    "text_file.writelines(bashsubmitstring)\n",
    "text_file.close()"
   ]
  },
  {
   "cell_type": "code",
   "execution_count": null,
   "id": "d6f1b932-04bb-4d04-997c-ad6089cde5d5",
   "metadata": {},
   "outputs": [],
   "source": []
  }
 ],
 "metadata": {
  "kernelspec": {
   "display_name": "Python 3 (ipykernel)",
   "language": "python",
   "name": "python3"
  },
  "language_info": {
   "codemirror_mode": {
    "name": "ipython",
    "version": 3
   },
   "file_extension": ".py",
   "mimetype": "text/x-python",
   "name": "python",
   "nbconvert_exporter": "python",
   "pygments_lexer": "ipython3",
   "version": "3.9.18"
  }
 },
 "nbformat": 4,
 "nbformat_minor": 5
}
