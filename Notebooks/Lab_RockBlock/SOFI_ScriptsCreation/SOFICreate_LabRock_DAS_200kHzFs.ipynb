{
 "cells": [
  {
   "cell_type": "code",
   "execution_count": 1,
   "id": "4493379b",
   "metadata": {},
   "outputs": [],
   "source": [
    "%load_ext autoreload\n",
    "%autoreload 2\n",
    "%matplotlib inline\n",
    "\n",
    "import warnings\n",
    "warnings.filterwarnings('ignore')\n",
    "\n",
    "import os\n",
    "import numpy as np\n",
    "import scipy as sc\n",
    "import matplotlib.pyplot as plt\n",
    "\n",
    "import pyfrac\n",
    "from pyfrac.utils.sofiutils import *\n",
    "from pyfrac.utils.modellingutils import *\n",
    "from pyfrac.hydrafrac.acquisition import recgeom,recgeom_rockblock"
   ]
  },
  {
   "cell_type": "code",
   "execution_count": 2,
   "id": "45744c6a",
   "metadata": {},
   "outputs": [],
   "source": [
    "# 3 layer model - USER DEFINED\n",
    "expname = 'LRBDASgeom'\n",
    "outpath = '/home/birniece/Documents/Projects/MicroseismicModelling/MicroseismicProcessing/FDModelling/HomoLRB_DAS'"
   ]
  },
  {
   "cell_type": "markdown",
   "id": "1472bb23",
   "metadata": {},
   "source": [
    "# EXPERIMENT FREQUENCIES"
   ]
  },
  {
   "cell_type": "code",
   "execution_count": 3,
   "id": "85e652ea",
   "metadata": {},
   "outputs": [
    {
     "name": "stdout",
     "output_type": "stream",
     "text": [
      "Event Central Frequency: 25000,\n",
      "Sampling Frequency: 100000,\n",
      "Receiver dt: 1e-05\n"
     ]
    }
   ],
   "source": [
    "fc_kHz = 25  # kHz\n",
    "fs_kHz = 100\n",
    "\n",
    "fc = fc_kHz * 1000\n",
    "fs = fs_kHz * 1000\n",
    "rec_dt = 1/fs\n",
    "print(f\"Event Central Frequency: {fc},\\nSampling Frequency: {fs},\\nReceiver dt: {rec_dt}\")"
   ]
  },
  {
   "cell_type": "markdown",
   "id": "48d75b78",
   "metadata": {},
   "source": [
    "# Rock Properties - subsurface models"
   ]
  },
  {
   "cell_type": "code",
   "execution_count": 4,
   "id": "ca5e9819",
   "metadata": {},
   "outputs": [],
   "source": [
    "dimlims = 0.40  # 40cm cubed\n",
    "dx = dy = dz = 0.01  # 5mm\n",
    "nx = ny = nz = int(dimlims/dx)\n",
    "# dimlims = nx*dx\n",
    "\n",
    "# Subsurface properties\n",
    "vp = 5260  # m/s\n",
    "vs = 3260  # m/s\n",
    "rho = 2590;  # kg/m3\n"
   ]
  },
  {
   "cell_type": "code",
   "execution_count": 5,
   "id": "13b7cb6e",
   "metadata": {},
   "outputs": [],
   "source": [
    "subsurface_properties = [vp, vs, rho]\n",
    "vp_mod, vs_mod, rho_mod = make_homo_model(dimlims,\n",
    "                                            dx,\n",
    "                                            subsurface_properties,\n",
    "                                            pad=False,\n",
    "                                            npad=0,\n",
    "                                            freesurface=False\n",
    "                                            )\n",
    "\n",
    "# Write as binary\n",
    "os.makedirs(os.path.join(outpath,'inputs/model/'), exist_ok=True)\n",
    "vp_mod.astype(np.float32).tofile(os.path.join(outpath,'inputs/model/%s.vp'%expname))#,format='<f')\n",
    "vs_mod.astype(np.float32).tofile(os.path.join(outpath,'inputs/model/%s.vs'%expname))  #,format='<f')\n",
    "rho_mod.astype(np.float32).tofile(os.path.join(outpath,'inputs/model/%s.rho'%expname))  #,format='<f')"
   ]
  },
  {
   "cell_type": "code",
   "execution_count": 6,
   "id": "9a9822d3",
   "metadata": {},
   "outputs": [
    {
     "name": "stdout",
     "output_type": "stream",
     "text": [
      "40\n"
     ]
    }
   ],
   "source": [
    "print(nx)"
   ]
  },
  {
   "cell_type": "markdown",
   "id": "661a3ddb",
   "metadata": {},
   "source": [
    "# Acquisition Geometry - Receivers & Source"
   ]
  },
  {
   "cell_type": "code",
   "execution_count": 7,
   "id": "65ca935d",
   "metadata": {},
   "outputs": [
    {
     "name": "stdout",
     "output_type": "stream",
     "text": [
      "0.2\t0.2\t0.2\t0.0\t25000\t1.0\n"
     ]
    }
   ],
   "source": [
    "# Source \n",
    "sx, sy, sz = 0.2, 0.2, 0.2\n",
    "td = 0.  # ignition time\n",
    "# fc = 25000  # central frequency\n",
    "amp = 1.  # amplitude\n",
    "string_list = [str(i) for i in [sx, sz, sy, td, fc, amp]]\n",
    "src_string = '\\t'.join(string_list)\n",
    "print(src_string)\n",
    "\n",
    "text_file = open(os.path.join(outpath,'inputs/sources.dat'), \"wt\")\n",
    "text_file.writelines(src_string)\n",
    "text_file.close()"
   ]
  },
  {
   "cell_type": "code",
   "execution_count": 8,
   "id": "1ba4f3e9",
   "metadata": {},
   "outputs": [
    {
     "name": "stdout",
     "output_type": "stream",
     "text": [
      "8664 (3, 8664)\n"
     ]
    }
   ],
   "source": [
    "# RECEIVERS\n",
    "nrperface = 38\n",
    "\n",
    "# don't need to change below\n",
    "nxyz = [nx, ny, nz]\n",
    "dxyz = [dx, dy, dz]\n",
    "gridded_recs, nr, rec_string = recgeom(nxyz, dxyz, nrperfc_xyz=[nrperface], recbuf_gps=1)\n",
    "# gridded_recs, nr = recgeom_rockblock(nxyz, dxyz, dr_xyz=dx, recbuf_gps=1)\n",
    "print (nr, gridded_recs.shape)\n",
    "# print(gridded_recs)\n",
    "\n",
    "np.savetxt(os.path.join(outpath,'inputs/receiver.dat'),\n",
    "           gridded_recs.T.astype(np.float32), \n",
    "           fmt='%.2f')"
   ]
  },
  {
   "cell_type": "code",
   "execution_count": 9,
   "id": "59999970",
   "metadata": {},
   "outputs": [
    {
     "data": {
      "text/plain": [
       "array([[0.01, 0.01, 0.01, ..., 0.37, 0.38, 0.39],\n",
       "       [0.02, 0.02, 0.02, ..., 0.39, 0.39, 0.39],\n",
       "       [0.02, 0.03, 0.04, ..., 0.4 , 0.4 , 0.4 ]])"
      ]
     },
     "execution_count": 9,
     "metadata": {},
     "output_type": "execute_result"
    }
   ],
   "source": [
    "\n",
    "gridded_recs"
   ]
  },
  {
   "cell_type": "code",
   "execution_count": 10,
   "id": "15d0132e",
   "metadata": {},
   "outputs": [
    {
     "data": {
      "text/plain": [
       "8664"
      ]
     },
     "execution_count": 10,
     "metadata": {},
     "output_type": "execute_result"
    }
   ],
   "source": [
    "nr"
   ]
  },
  {
   "cell_type": "code",
   "execution_count": 11,
   "id": "9b8b0788",
   "metadata": {},
   "outputs": [
    {
     "data": {
      "text/plain": [
       "8664"
      ]
     },
     "execution_count": 11,
     "metadata": {},
     "output_type": "execute_result"
    }
   ],
   "source": [
    "38*38*6"
   ]
  },
  {
   "cell_type": "markdown",
   "id": "e3b49e31",
   "metadata": {},
   "source": [
    "# BUILD JSON FOR SOFI"
   ]
  },
  {
   "cell_type": "code",
   "execution_count": 12,
   "id": "3a17d0bb",
   "metadata": {},
   "outputs": [],
   "source": [
    "# mod params\n",
    "n_xzy = vp_mod.transpose(0,2,1).shape\n",
    "d_xzy = [dx, dz, dy]\n",
    "\n",
    "# time params (in seconds!)\n",
    "dt = 1e-7\n",
    "tdur = 0.0005\n",
    "tsnap_params = [dt, dt*2000, dt*50]\n",
    "smgrm_ndt = 1\n",
    "\n",
    "SOFIjsonfilename = os.path.join(outpath,'SOFI3D_%s.json'%expname)\n",
    "\n",
    "sofimaster = '~/Documents/Projects/MicroseismicModelling/SOFI3D-master/bin/'\n",
    "num_procs = 8\n",
    "sofi_param_file = \"SOFI3D_%s.json\"%expname\n",
    "shellfilename = os.path.join(outpath,'runSOFI3D_%s.sh'%expname)\n"
   ]
  },
  {
   "cell_type": "code",
   "execution_count": 13,
   "id": "bf1445f1",
   "metadata": {},
   "outputs": [],
   "source": [
    "# GET THE DIFFERENT STRINGS - this will be updated in the future\n",
    "default_strs = get_default_strings()\n",
    "\n",
    "monitor_strs = get_monitor_str(tsnap_params, smgrm_ndt, expname, sbsmp_xyz=2)\n",
    "t_str = get_time_str(dt, tdur)\n",
    "mod_strs = get_subsurfmod_str(n_xzy, d_xzy,expname)\n",
    "bndry_str = get_boundary_str(fs=False, npad=0,cpml=False)\n",
    "src_str = get_source_str()\n",
    "\n",
    "write_SOFIjsonParams = write_SOFIjsonParams(default_strs, \n",
    "                                            monitor_strs,  \n",
    "                                            t_str, \n",
    "                                            mod_strs, \n",
    "                                            src_str, \n",
    "                                            bndry_str, \n",
    "                                            SOFIjsonfilename)\n",
    "runscript = write_SOFIrunScript(sofimaster, \n",
    "                                num_procs, \n",
    "                                sofi_param_file, \n",
    "                                shellfilename)"
   ]
  },
  {
   "cell_type": "code",
   "execution_count": 14,
   "id": "04c83421",
   "metadata": {},
   "outputs": [
    {
     "data": {
      "text/plain": [
       "(40, 40, 40)"
      ]
     },
     "execution_count": 14,
     "metadata": {},
     "output_type": "execute_result"
    }
   ],
   "source": [
    "vp_mod.transpose(0,2,1).shape"
   ]
  },
  {
   "cell_type": "code",
   "execution_count": null,
   "id": "28b37c0b",
   "metadata": {},
   "outputs": [],
   "source": []
  }
 ],
 "metadata": {
  "kernelspec": {
   "display_name": "Python 3 (ipykernel)",
   "language": "python",
   "name": "python3"
  },
  "language_info": {
   "codemirror_mode": {
    "name": "ipython",
    "version": 3
   },
   "file_extension": ".py",
   "mimetype": "text/x-python",
   "name": "python",
   "nbconvert_exporter": "python",
   "pygments_lexer": "ipython3",
   "version": "3.9.16"
  }
 },
 "nbformat": 4,
 "nbformat_minor": 5
}
