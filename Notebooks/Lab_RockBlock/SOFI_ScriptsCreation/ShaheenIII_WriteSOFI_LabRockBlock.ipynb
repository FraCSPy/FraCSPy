{
 "cells": [
  {
   "cell_type": "raw",
   "id": "2bb7b098-0744-43dc-bce8-9b64fb96ff7e",
   "metadata": {},
   "source": [
    "# FROM OUTGOING FOLDER\n",
    "scp -r birniece@kw60926.kaust.edu.sa:\"/home/birniece/Documents/Projects/MicroseismicModelling/ShaheenTransfers/OUTGOING/TOC2ME/\" ./\n",
    "\n",
    "# IN INCOMING FOLDER\n",
    "scp -r birniece@shaheen.hpc.kaust.edu.sa:\"/scratch/birniece/SOFI_UtahFORGE/explosive_multishot\" /home/birniece/Documents/Projects/MicroseismicModelling/ShaheenTransfers/INCOMING/"
   ]
  },
  {
   "cell_type": "code",
   "execution_count": 1,
   "id": "4de3383f-de5d-4a13-9db9-c7c2a029ebd6",
   "metadata": {},
   "outputs": [],
   "source": [
    "local_outgoing_path = '/home/birniece/Documents/Projects/MicroseismicModelling/ShaheenTransfers/OUTGOING/LargeRockBlock'\n",
    "shaheen2_path = '/scratch/birniece/LargeRockBlock'\n",
    "shaheen3_path = '/scratch/birniece/LargeRockBlock'\n",
    "\n",
    "sofimaster = '/scratch/birniece/sofi3d/bin/sofi3D'"
   ]
  },
  {
   "cell_type": "code",
   "execution_count": 2,
   "id": "03d3aef2-1b84-48c8-849d-55797c7f20ef",
   "metadata": {},
   "outputs": [],
   "source": [
    "import numpy as np\n",
    "import pandas as pd\n",
    "import os\n",
    "import glob\n",
    "import scipy \n",
    "from scipy.interpolate import RegularGridInterpolator\n",
    "\n",
    "%matplotlib inline\n",
    "import matplotlib.pyplot as plt\n",
    "\n",
    "from pyfrac.utils.sofiutils import *"
   ]
  },
  {
   "cell_type": "markdown",
   "id": "532640c5-90d9-4b1c-a346-696d93e08f79",
   "metadata": {},
   "source": [
    "# FILE PATHS"
   ]
  },
  {
   "cell_type": "raw",
   "id": "631218c7-fc8a-478d-badb-3e5dfba7672f",
   "metadata": {},
   "source": [
    "# LOCAL PATHS\n",
    "local_cp_dir = os.path.join(local_outgoing_path,expname)\n",
    "shaheen2_proj_dir = os.path.join(shaheen2_path,expname)\n",
    "shaheen3_proj_dir = os.path.join(shaheen3_path,expname)\n"
   ]
  },
  {
   "cell_type": "code",
   "execution_count": 3,
   "id": "e7b7ce8a-4beb-4032-a8fa-124aad85e6ac",
   "metadata": {},
   "outputs": [
    {
     "name": "stdout",
     "output_type": "stream",
     "text": [
      "/scratch/birniece/LargeRockBlock/\n"
     ]
    }
   ],
   "source": [
    "shaheen_cp_loc = '/home/birniece/Documents/Projects/MicroseismicModelling/ShaheenTransfers/OUTGOING/LargeRockBlock'\n",
    "\n",
    "# 'FAKE' Shaheen Path\n",
    "shaheen_proj_loc = '/scratch/birniece/LargeRockBlock/'\n",
    "\n",
    "rec_file = './inputs/RecArray_fullcoverage.dat'\n",
    "model_dir = './inputs/model/homo40cubed'\n",
    "\n",
    "print(shaheen_proj_loc)"
   ]
  },
  {
   "cell_type": "markdown",
   "id": "833167e6-122e-465f-8789-885c0d0f987b",
   "metadata": {},
   "source": [
    "### SLURM FILE CREATION FUNC"
   ]
  },
  {
   "cell_type": "code",
   "execution_count": 4,
   "id": "3b080c42-ece0-4b75-8f8a-e7d98ebb47cc",
   "metadata": {},
   "outputs": [],
   "source": [
    "def slurmfilecreation(slurmfile, gid, sofimaster, jsonloc, joutloc, write=True, tstring='23:00:00'):\n",
    "    slurmstr='''#!/bin/bash -l\n",
    "#SBATCH --job-name=LRB_%.2i\n",
    "#SBATCH --nodes=32\n",
    "#SBATCH --partition=workq\n",
    "#SBATCH --time=%s\n",
    "#SBATCH --error=sofi.%%J.err \n",
    "#SBATCH --output=sofi.%%J.out\n",
    "\n",
    "#OpenMP settings:\n",
    "export OMP_NUM_THREADS=1\n",
    "\n",
    "# RUN MODELLING JOB\n",
    "srun --hint=nomultithread --ntasks=1000 %s %s.json > %s.jout\n",
    "'''%(gid, tstring, sofimaster, jsonloc, joutloc)\n",
    "    \n",
    "    if write:\n",
    "        text_file = open(slurmfile, \"wt\")\n",
    "        text_file.writelines(slurmstr)\n",
    "        text_file.close()"
   ]
  },
  {
   "cell_type": "markdown",
   "id": "19301ab7-8181-4193-8409-b1aa9ab03f68",
   "metadata": {},
   "source": [
    "# MODELLING PARAMS (Indep. of src locs)"
   ]
  },
  {
   "cell_type": "markdown",
   "id": "87463c82-fb7c-400d-81e8-e32de0217baa",
   "metadata": {},
   "source": [
    "### MODEL PARAMETERS - Get these from the script that made the models"
   ]
  },
  {
   "cell_type": "code",
   "execution_count": 5,
   "id": "f409a190-670b-44ba-9224-f0b902628854",
   "metadata": {},
   "outputs": [
    {
     "name": "stdout",
     "output_type": "stream",
     "text": [
      "Event Central Frequency: 25000,\n",
      "Sampling Frequency: 100000,\n",
      "Receiver dt: 1e-05\n"
     ]
    }
   ],
   "source": [
    "fc_kHz = 25  # kHz\n",
    "fs_kHz = 100\n",
    "\n",
    "fc = fc_kHz * 1000\n",
    "fs = fs_kHz * 1000\n",
    "rec_dt = 1/fs\n",
    "print(f\"Event Central Frequency: {fc},\\nSampling Frequency: {fs},\\nReceiver dt: {rec_dt}\")\n",
    "\n",
    "# time params (in seconds!)\n",
    "dt = 1e-7\n",
    "tdur = 0.0005\n",
    "tsnap_params = [dt, dt*2000, dt*50]\n"
   ]
  },
  {
   "cell_type": "code",
   "execution_count": 6,
   "id": "4afda309-2ed7-40a4-9185-3a7f59cf7aaa",
   "metadata": {},
   "outputs": [],
   "source": [
    "dimlims = 0.40  # 40cm cubed\n",
    "dx = dy = dz = 0.01  # 5mm\n",
    "nx = ny = nz = int(dimlims/dx)\n",
    "n_xzy = (nx, nz, ny)\n",
    "d_xzy = [dx, dz, dy]\n"
   ]
  },
  {
   "cell_type": "code",
   "execution_count": 7,
   "id": "9342eb68-70fc-41fc-9a62-cfbb4d9f27d5",
   "metadata": {},
   "outputs": [],
   "source": [
    "# BOUNDARIES & FREE SURFACE\n",
    "nbounds = 0\n",
    "free_surface = False"
   ]
  },
  {
   "cell_type": "code",
   "execution_count": 8,
   "id": "1e2acfbc-3383-4b19-a1a5-61071e677511",
   "metadata": {},
   "outputs": [],
   "source": [
    "# SNAP PARAMETERS\n",
    "snap_start = dt\n",
    "snap_end = tdur/2\n",
    "snap_step = 100*dt\n",
    "tsnap_params = [snap_start, snap_end, snap_step]\n",
    "snap_sbsmp_xyz = 1\n",
    "\n",
    "# SEISMOGRAM PARAMETERS\n",
    "smgrm_ndt = 100"
   ]
  },
  {
   "cell_type": "code",
   "execution_count": 9,
   "id": "958ffd77-dad2-4bac-84e8-a747dd21d30e",
   "metadata": {},
   "outputs": [],
   "source": [
    "# GET THE DIFFERENT STRINGS - this will be updated in the future\n",
    "default_strs = get_default_strings(rec_file=rec_file)\n",
    "\n",
    "# MODELLING\n",
    "mod_strs = get_subsurfmod_str(n_xzy, \n",
    "                              d_xzy,\n",
    "                              ' ',\n",
    "                              moddir=model_dir,\n",
    "                              np_xzy=[10,10,10]\n",
    "                             )\n",
    "bndry_str = get_boundary_str(fs=free_surface, \n",
    "                             npad=nbounds, \n",
    "                             cpml=True)\n"
   ]
  },
  {
   "cell_type": "markdown",
   "id": "48f9dce7-7900-411e-bf2b-79ef8fc44849",
   "metadata": {},
   "source": [
    "# WRITE FILES"
   ]
  },
  {
   "cell_type": "markdown",
   "id": "6662ddb9-7817-46ae-8671-32e0a9eae94b",
   "metadata": {},
   "source": [
    "## Source file 1 - Explosive, heading out one direction but not overlapping"
   ]
  },
  {
   "cell_type": "code",
   "execution_count": 10,
   "id": "b68f1bed-826e-455a-8a55-3aa6e8e0c54a",
   "metadata": {},
   "outputs": [
    {
     "name": "stdout",
     "output_type": "stream",
     "text": [
      "./inputs/SourceArray_explosiveXfrac.dat\n",
      "/home/birniece/Documents/Projects/MicroseismicModelling/ShaheenTransfers/OUTGOING/LargeRockBlock/SourceArray_explosiveXfrac.json\n",
      " \n"
     ]
    }
   ],
   "source": [
    "groupname = \"SourceArray_explosiveXfrac\"\n",
    "src_file = './inputs/SourceArray_explosiveXfrac.dat'\n",
    "\n",
    "# Make time string (long as multishot in one rec)\n",
    "tdur = 0.6\n",
    "t_str = get_time_str(dt, tdur)\n",
    "\n",
    "# Make SOFI Source String\n",
    "src_str = get_source_str(sfile=src_file, multisource=0)\n",
    "\n",
    "# Make Monitor String\n",
    "monitor_strs = get_monitor_str(tsnap_params, \n",
    "                           smgrm_ndt, \n",
    "                           groupname, \n",
    "                           sbsmp_xyz=snap_sbsmp_xyz,\n",
    "                           snap=False\n",
    "                          )\n",
    "\n",
    "# Write SOFI FILE\n",
    "sofi_json_file = os.path.join(shaheen_cp_loc, groupname+'.json')\n",
    "shaheen_sofi_json_file = os.path.join(shaheen_proj_loc, groupname+'.json')\n",
    "print(src_file)\n",
    "print(sofi_json_file)\n",
    "write_SOFIjsonParams(default_strs, \n",
    "                     monitor_strs,  \n",
    "                     t_str, \n",
    "                     mod_strs, \n",
    "                     src_str, \n",
    "                     bndry_str,\n",
    "                     sofi_json_file)\n",
    "\n",
    "# WRITE SLURM FILE\n",
    "slurmfile = os.path.join(shaheen_cp_loc, 'submit_'+groupname+'.slurm')\n",
    "slurmfilecreation(slurmfile, \n",
    "                  gid=0, \n",
    "                  sofimaster=sofimaster, \n",
    "                  jsonloc=shaheen_sofi_json_file[:-5], \n",
    "                  joutloc=shaheen_sofi_json_file[:-5],\n",
    "                 tstring='01:00:00')\n",
    "print(' ')"
   ]
  },
  {
   "cell_type": "markdown",
   "id": "a04ec2a7-9d37-486b-94ba-04f36e7cb4f5",
   "metadata": {},
   "source": [
    "## Source file 2 - independent shots, full x-y coverage"
   ]
  },
  {
   "cell_type": "code",
   "execution_count": 11,
   "id": "a5a1100d-16d2-415f-b868-10d0580552ca",
   "metadata": {
    "scrolled": true
   },
   "outputs": [
    {
     "name": "stdout",
     "output_type": "stream",
     "text": [
      "./inputs/SourceArray_multishotFullXY.dat\n",
      "/home/birniece/Documents/Projects/MicroseismicModelling/ShaheenTransfers/OUTGOING/LargeRockBlock/multishotFullXY.json\n",
      " \n"
     ]
    }
   ],
   "source": [
    "groupname = \"multishotFullXY\"\n",
    "src_file = './inputs/SourceArray_multishotFullXY.dat'\n",
    "\n",
    "# Make time string (short as per shot)\n",
    "tdur = 0.0005\n",
    "t_str = get_time_str(dt, tdur)\n",
    "\n",
    "# Make SOFI Source String\n",
    "src_str = get_source_str(sfile=src_file, multisource=1)\n",
    "\n",
    "# Make Monitor String\n",
    "monitor_strs = get_monitor_str(tsnap_params, \n",
    "                           smgrm_ndt, \n",
    "                           groupname, \n",
    "                           sbsmp_xyz=snap_sbsmp_xyz,\n",
    "                           snap=False\n",
    "                          )\n",
    "\n",
    "# Write SOFI FILE\n",
    "sofi_json_file = os.path.join(shaheen_cp_loc, groupname+'.json')\n",
    "shaheen_sofi_json_file = os.path.join(shaheen_proj_loc, groupname+'.json')\n",
    "print(src_file)\n",
    "print(sofi_json_file)\n",
    "write_SOFIjsonParams(default_strs, \n",
    "                     monitor_strs,  \n",
    "                     t_str, \n",
    "                     mod_strs, \n",
    "                     src_str, \n",
    "                     bndry_str,\n",
    "                     sofi_json_file)\n",
    "\n",
    "# WRITE SLURM FILE\n",
    "slurmfile = os.path.join(shaheen_cp_loc, 'submit_'+groupname+'.slurm')\n",
    "slurmfilecreation(slurmfile, \n",
    "                  gid=0, \n",
    "                  sofimaster=sofimaster, \n",
    "                  jsonloc=shaheen_sofi_json_file[:-5], \n",
    "                  joutloc=shaheen_sofi_json_file[:-5],)\n",
    "print(' ')"
   ]
  },
  {
   "cell_type": "markdown",
   "id": "fe8063fe-312a-40fb-834c-494224a408ab",
   "metadata": {},
   "source": [
    "# MAKE BASH SCRIPT TO SUBMIT ALL SLURM JOBS"
   ]
  },
  {
   "cell_type": "code",
   "execution_count": 12,
   "id": "5e4ccaec-3999-45f2-9c74-03bf4ce9963b",
   "metadata": {},
   "outputs": [],
   "source": [
    "slurmfiles = []\n",
    "for file in glob.glob(os.path.join(shaheen_cp_loc)+\"/*.slurm\"):\n",
    "    slurmfiles.append(file.split('/')[-1])\n"
   ]
  },
  {
   "cell_type": "code",
   "execution_count": 13,
   "id": "58430290-213a-4f59-9b3d-4574deaffa6d",
   "metadata": {},
   "outputs": [
    {
     "data": {
      "text/plain": [
       "'submit_multishotFullXY.slurm'"
      ]
     },
     "execution_count": 13,
     "metadata": {},
     "output_type": "execute_result"
    }
   ],
   "source": [
    "slurmfiles[0]"
   ]
  },
  {
   "cell_type": "code",
   "execution_count": 14,
   "id": "6c448252-4ad9-42ae-8581-6a262dc36ed9",
   "metadata": {},
   "outputs": [
    {
     "name": "stdout",
     "output_type": "stream",
     "text": [
      "#!/bin/bash \n",
      "\n",
      "mkdir -p outputs\n",
      "mkdir -p outputs/log\n",
      "mkdir -p outputs/snap\n",
      "mkdir -p outputs/su\n",
      "\n",
      "sbatch submit_multishotFullXY.slurm\n",
      "sbatch submit_SourceArray_explosiveXfrac.slurm\n",
      "\n"
     ]
    }
   ],
   "source": [
    "bashsubmitfile = os.path.join(shaheen_cp_loc, 'submit_ALL.sh')\n",
    "\n",
    "bashsubmitstring = '''#!/bin/bash \n",
    "\n",
    "mkdir -p outputs\n",
    "mkdir -p outputs/log\n",
    "mkdir -p outputs/snap\n",
    "mkdir -p outputs/su\n",
    "\n",
    "'''\n",
    "\n",
    "for slurmf in slurmfiles:\n",
    "    bashsubmitstring+='sbatch %s\\n'%slurmf \n",
    "print(bashsubmitstring)\n",
    "\n",
    "text_file = open(bashsubmitfile, \"wt\")\n",
    "text_file.writelines(bashsubmitstring)\n",
    "text_file.close()"
   ]
  },
  {
   "cell_type": "code",
   "execution_count": null,
   "id": "d6f1b932-04bb-4d04-997c-ad6089cde5d5",
   "metadata": {},
   "outputs": [],
   "source": []
  }
 ],
 "metadata": {
  "kernelspec": {
   "display_name": "Python 3 (ipykernel)",
   "language": "python",
   "name": "python3"
  },
  "language_info": {
   "codemirror_mode": {
    "name": "ipython",
    "version": 3
   },
   "file_extension": ".py",
   "mimetype": "text/x-python",
   "name": "python",
   "nbconvert_exporter": "python",
   "pygments_lexer": "ipython3",
   "version": "3.9.18"
  }
 },
 "nbformat": 4,
 "nbformat_minor": 5
}
