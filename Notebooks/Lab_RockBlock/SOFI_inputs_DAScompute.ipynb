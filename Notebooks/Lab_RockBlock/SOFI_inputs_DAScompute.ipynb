{
 "cells": [
  {
   "cell_type": "code",
   "execution_count": 1,
   "id": "7eff5f33",
   "metadata": {},
   "outputs": [],
   "source": [
    "%load_ext autoreload\n",
    "%autoreload 2\n",
    "%matplotlib inline\n",
    "\n",
    "import warnings\n",
    "warnings.filterwarnings('ignore')\n",
    "\n",
    "import os\n",
    "import numpy as np\n",
    "import scipy as sc\n",
    "import matplotlib.pyplot as plt\n",
    "import pandas as pd\n",
    "\n",
    "import pyfrac\n",
    "from pyfrac.utils.sofiutils import *\n",
    "from pyfrac.utils.modellingutils import *\n",
    "from pyfrac.hydrafrac.acquisition import recgeom, recgeom_indivFaces"
   ]
  },
  {
   "cell_type": "code",
   "execution_count": 2,
   "id": "437c77ec",
   "metadata": {},
   "outputs": [],
   "source": [
    "# 3 layer model - USER DEFINED\n",
    "expname = 'homoRB'\n",
    "outpath = '../../FDModelling/HomoForDAS/'"
   ]
  },
  {
   "cell_type": "markdown",
   "id": "8b81d522",
   "metadata": {},
   "source": [
    "# Rock Properties - subsurface models"
   ]
  },
  {
   "cell_type": "code",
   "execution_count": 3,
   "id": "4846f27e",
   "metadata": {},
   "outputs": [],
   "source": [
    "dimlims = 0.4 # 1m cubed\n",
    "dx = dy = dz = 0.01  # 1cm\n",
    "nx = ny = nz = int(dimlims/dx)\n",
    "# dimlims = nx*dx\n",
    "\n",
    "# Subsurface properties\n",
    "vp = 5260  # m/s\n",
    "vs = 3260  # m/s\n",
    "rho = 2590;  # kg/m3\n"
   ]
  },
  {
   "cell_type": "code",
   "execution_count": 4,
   "id": "87da9852",
   "metadata": {},
   "outputs": [],
   "source": [
    "subsurface_properties = [vp, vs, rho]\n",
    "vp_mod, vs_mod, rho_mod = make_homo_model(dimlims,\n",
    "                                            dx,\n",
    "                                            subsurface_properties,\n",
    "                                            pad=False,\n",
    "                                            npad=0,\n",
    "                                            freesurface=False\n",
    "                                            )\n",
    "\n",
    "# Write as binary\n",
    "os.makedirs(os.path.join(outpath,'inputs/model/'), exist_ok=True)\n",
    "vp_mod.astype(np.float32).tofile(os.path.join(outpath,'inputs/model/%s.vp'%expname))#,format='<f')\n",
    "vs_mod.astype(np.float32).tofile(os.path.join(outpath,'inputs/model/%s.vs'%expname))  #,format='<f')\n",
    "rho_mod.astype(np.float32).tofile(os.path.join(outpath,'inputs/model/%s.rho'%expname))  #,format='<f')"
   ]
  },
  {
   "cell_type": "markdown",
   "id": "0ea077b7",
   "metadata": {},
   "source": [
    "# Acquisition Geometry - Receivers & Source"
   ]
  },
  {
   "cell_type": "code",
   "execution_count": 5,
   "id": "e2dd21ae",
   "metadata": {},
   "outputs": [
    {
     "name": "stdout",
     "output_type": "stream",
     "text": [
      "0.2\t0.2\t0.2\t0.0\t25000\t1.0\n"
     ]
    }
   ],
   "source": [
    "# Source \n",
    "sx, sy, sz = 0.2, 0.2, 0.2\n",
    "td = 0.  # ignition time\n",
    "fc = 25000  # central frequency\n",
    "amp = 1.  # amplitude\n",
    "string_list = [str(i) for i in [sx, sz, sy, td, fc, amp]]\n",
    "src_string = '\\t'.join(string_list)\n",
    "print(src_string)\n",
    "\n",
    "text_file = open(os.path.join(outpath,'inputs/sources.dat'), \"wt\")\n",
    "text_file.writelines(src_string)\n",
    "text_file.close()"
   ]
  },
  {
   "cell_type": "code",
   "execution_count": 6,
   "id": "9502d736",
   "metadata": {},
   "outputs": [],
   "source": [
    "# ALL FACES\n",
    "nrperface = 40\n",
    "\n",
    "# don't need to change below\n",
    "nxyz = [nx, ny, nz]\n",
    "dxyz = [dx, dy, dz]\n",
    "gridded_recs, nr, rec_string = recgeom(nxyz, dxyz, nrperfc_xyz=[nrperface], recbuf_gps=1)\n",
    "np.savetxt(os.path.join(outpath,'inputs/receiver.dat'),\n",
    "           gridded_recs.T.astype(np.float32), \n",
    "           fmt='%.2f')"
   ]
  },
  {
   "cell_type": "raw",
   "id": "24cfda85",
   "metadata": {},
   "source": [
    "# RECEIVERS\n",
    "nrperface = 100\n",
    "\n",
    "# don't need to change below\n",
    "nxyz = [nx, ny, nz]\n",
    "dxyz = [dx, dy, dz]\n",
    "# gridded_recs, nr, rec_string = recgeom(nxyz, dxyz, nrperfc_xyz=[nrperface], recbuf_gps=0)\n",
    "\n",
    "F0, F1, F2, F3, F4, F5 = recgeom_indivFaces(nxyz, dxyz, nrperfc_xyz=[nrperface], recbuf_gps=1)\n",
    "F0[0]=0.01\n",
    "print (F0)\n",
    "# print(gridded_recs)\n",
    "\n",
    "def with_dataframe(x, y, z):\n",
    "    df = pd.DataFrame({'x':x, 'y':y, 'z':z})\n",
    "    return df.drop_duplicates()\n",
    "print(len(with_dataframe(F0[0], F0[1], F0[2])))\n",
    "\n",
    "\n",
    "np.savetxt(os.path.join(outpath,'inputs/receiver.dat'),\n",
    "           F0.T.astype(np.float32), \n",
    "           fmt='%.2f')"
   ]
  },
  {
   "cell_type": "markdown",
   "id": "12b05e59",
   "metadata": {},
   "source": [
    "# BUILD JSON FOR SOFI"
   ]
  },
  {
   "cell_type": "code",
   "execution_count": 7,
   "id": "4659316a",
   "metadata": {},
   "outputs": [],
   "source": [
    "# mod params\n",
    "n_xzy = vp_mod.transpose(0,2,1).shape\n",
    "d_xzy = [dx, dz, dy]\n",
    "\n",
    "# time params (in seconds!)\n",
    "dt = 1e-7\n",
    "tdur = 0.001\n",
    "tsnap_params = [dt, tdur-dt, dt*2]\n",
    "smgrm_ndt = 1\n",
    "SOFIjsonfilename = os.path.join(outpath,'SOFI3D_%s.json'%expname)\n",
    "\n",
    "sofimaster = '~/Documents/Projects/MicroseismicModelling/SOFI3D-master/bin/'\n",
    "num_procs = 8\n",
    "sofi_param_file = \"SOFI3D_%s.json\"%expname\n",
    "shellfilename = os.path.join(outpath,'runSOFI3D_%s.sh'%expname)\n"
   ]
  },
  {
   "cell_type": "code",
   "execution_count": 8,
   "id": "aeb4e9f9",
   "metadata": {},
   "outputs": [],
   "source": [
    "# GET THE DIFFERENT STRINGS - this will be updated in the future\n",
    "default_strs = get_default_strings()\n",
    "\n",
    "monitor_strs = get_monitor_str(tsnap_params, smgrm_ndt, expname, sbsmp_xyz=1)\n",
    "t_str = get_time_str(dt, tdur)\n",
    "mod_strs = get_subsurfmod_str(n_xzy, d_xzy,expname)\n",
    "bndry_str = get_boundary_str(fs=False, npad=0,cpml=False)\n",
    "src_str = get_source_str()\n",
    "\n",
    "write_SOFIjsonParams = write_SOFIjsonParams(default_strs, \n",
    "                                            monitor_strs,  \n",
    "                                            t_str, \n",
    "                                            mod_strs, \n",
    "                                            src_str, \n",
    "                                            bndry_str, \n",
    "                                            SOFIjsonfilename)\n",
    "runscript = write_SOFIrunScript(sofimaster, \n",
    "                                num_procs, \n",
    "                                sofi_param_file, \n",
    "                                shellfilename)"
   ]
  },
  {
   "cell_type": "code",
   "execution_count": 9,
   "id": "d4ac5580",
   "metadata": {},
   "outputs": [
    {
     "data": {
      "text/plain": [
       "(40, 40, 40)"
      ]
     },
     "execution_count": 9,
     "metadata": {},
     "output_type": "execute_result"
    }
   ],
   "source": [
    "vp_mod.transpose(0,2,1).shape"
   ]
  },
  {
   "cell_type": "code",
   "execution_count": null,
   "id": "33258c25",
   "metadata": {},
   "outputs": [],
   "source": []
  }
 ],
 "metadata": {
  "kernelspec": {
   "display_name": "Python 3 (ipykernel)",
   "language": "python",
   "name": "python3"
  },
  "language_info": {
   "codemirror_mode": {
    "name": "ipython",
    "version": 3
   },
   "file_extension": ".py",
   "mimetype": "text/x-python",
   "name": "python",
   "nbconvert_exporter": "python",
   "pygments_lexer": "ipython3",
   "version": "3.9.16"
  }
 },
 "nbformat": 4,
 "nbformat_minor": 5
}
