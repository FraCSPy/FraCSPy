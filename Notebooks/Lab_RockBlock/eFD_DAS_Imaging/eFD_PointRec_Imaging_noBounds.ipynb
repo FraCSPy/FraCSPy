{
 "cells": [
  {
   "cell_type": "code",
   "execution_count": 1,
   "id": "e18667c7",
   "metadata": {},
   "outputs": [],
   "source": [
    "%load_ext autoreload\n",
    "%autoreload 2\n",
    "%matplotlib inline\n",
    "\n",
    "import warnings\n",
    "warnings.filterwarnings('ignore')\n",
    "\n",
    "import numpy as np\n",
    "import matplotlib.pyplot as plt\n",
    "import scipy as sp\n",
    "import os\n",
    "\n",
    "from scipy.sparse.linalg import LinearOperator, cg, lsqr\n",
    "\n",
    "import pylops\n",
    "from pylops.utils                      import dottest\n",
    "from pylops.utils.wavelets             import *\n",
    "from pylops.optimization.sparsity  import *\n"
   ]
  },
  {
   "cell_type": "code",
   "execution_count": 2,
   "id": "49cc4e0b",
   "metadata": {},
   "outputs": [],
   "source": [
    "# LOCATION\n",
    "from pyfrac.pseudodas.receiveroperators import cubePDoperator\n",
    "from pyfrac.modelling.kirchhoff import Kirchhoff\n",
    "from pyfrac.locationsolvers.imaging import *\n",
    "\n",
    "from pyfrac.locationsolvers.localisationutils import get_max_locs\n",
    "\n",
    "# VISUALISATION\n",
    "from pyfrac.visualisation.traceviz import traceimage, wiggleplot\n",
    "from pyfrac.visualisation.eventimages import locimage3d"
   ]
  },
  {
   "cell_type": "code",
   "execution_count": 3,
   "id": "b5e20384-b284-4a1e-9f91-59c648b01e74",
   "metadata": {},
   "outputs": [],
   "source": [
    "def read_seis(seisfile, nr):\n",
    "    # s_wave_file = os.path.join(data_path,'test.bin.curl')\n",
    "    seis_flat = np.loadtxt(seisfile)\n",
    "\n",
    "    # determine number of timesamples and ensure it saved fully\n",
    "    nt = int(seis_flat.shape[0] / nr)\n",
    "    try:\n",
    "        seis_flat.reshape((nr, nt))\n",
    "    except:\n",
    "        print('Not good dims \\n nt:%i nr:%i \\n vz flat:%i' % (nt, nr, seis_flat.shape[0]))\n",
    "\n",
    "    # Resample to 2D\n",
    "    seis = seis_flat[:nt * nr].reshape((nr, nt))\n",
    "    return seis"
   ]
  },
  {
   "cell_type": "markdown",
   "id": "c27f9a00",
   "metadata": {},
   "source": [
    "# LOAD DATA, Rec, Models"
   ]
  },
  {
   "cell_type": "code",
   "execution_count": 6,
   "id": "c3603fdf-3cfd-45c2-bb50-75d22580ba81",
   "metadata": {},
   "outputs": [
    {
     "name": "stderr",
     "output_type": "stream",
     "text": [
      "\n",
      "KeyboardInterrupt\n",
      "\n"
     ]
    }
   ],
   "source": [
    "seispath = '/home/birniece/Documents/Projects/MicroseismicModelling/ShaheenTransfers/INCOMING/LargeRockBlock/outputs/su'\n",
    "nr = 38*38*6\n",
    "\n",
    "vy = read_seis(os.path.join(seispath,'SourceArray_explosiveXfrac_p.txt'), nr)\n"
   ]
  },
  {
   "cell_type": "code",
   "execution_count": 5,
   "id": "58ac89d8-5729-4b68-9a9a-a6ba3ca0b7e2",
   "metadata": {},
   "outputs": [
    {
     "data": {
      "text/plain": [
       "(8664, 60000)"
      ]
     },
     "execution_count": 5,
     "metadata": {},
     "output_type": "execute_result"
    }
   ],
   "source": [
    "vy.shape"
   ]
  },
  {
   "cell_type": "code",
   "execution_count": 3,
   "id": "637b2ae8-e703-4a6f-997c-c2a158fe2eac",
   "metadata": {},
   "outputs": [
    {
     "ename": "NameError",
     "evalue": "name 'np' is not defined",
     "output_type": "error",
     "traceback": [
      "\u001b[0;31m---------------------------------------------------------------------------\u001b[0m",
      "\u001b[0;31mNameError\u001b[0m                                 Traceback (most recent call last)",
      "Cell \u001b[0;32mIn[3], line 3\u001b[0m\n\u001b[1;32m      1\u001b[0m \u001b[38;5;66;03m# Load receivers\u001b[39;00m\n\u001b[1;32m      2\u001b[0m data_dir \u001b[38;5;241m=\u001b[39m \u001b[38;5;124m'\u001b[39m\u001b[38;5;124m/home/birniece/Documents/data/ANPERC_Lab/LargeRockBlock/Sandstone\u001b[39m\u001b[38;5;124m'\u001b[39m\n\u001b[0;32m----> 3\u001b[0m recgeom \u001b[38;5;241m=\u001b[39m \u001b[43mnp\u001b[49m\u001b[38;5;241m.\u001b[39mloadtxt(os\u001b[38;5;241m.\u001b[39mpath\u001b[38;5;241m.\u001b[39mjoin(data_dir,\u001b[38;5;124m'\u001b[39m\u001b[38;5;124mRecArray_fullcoverage.dat\u001b[39m\u001b[38;5;124m'\u001b[39m))\n\u001b[1;32m      5\u001b[0m fs_kHz \u001b[38;5;241m=\u001b[39m \u001b[38;5;241m100\u001b[39m\n\u001b[1;32m      6\u001b[0m fs \u001b[38;5;241m=\u001b[39m fs_kHz \u001b[38;5;241m*\u001b[39m \u001b[38;5;241m1000\u001b[39m\n",
      "\u001b[0;31mNameError\u001b[0m: name 'np' is not defined"
     ]
    }
   ],
   "source": [
    "# Load receivers\n",
    "data_dir = '/home/birniece/Documents/data/ANPERC_Lab/LargeRockBlock/Sandstone'\n",
    "recgeom = np.loadtxt(os.path.join(data_dir,'RecArray_fullcoverage.dat'))\n",
    "\n",
    "fs_kHz = 100\n",
    "fs = fs_kHz * 1000\n",
    "rec_dt = 1/fs\n",
    "\n",
    "rec_t = np.arange(0,vy.shape[1]*rec_dt - rec_dt, rec_dt)\n",
    "nt = len(rec_t)\n",
    "\n",
    "rec_t.shape"
   ]
  },
  {
   "cell_type": "code",
   "execution_count": null,
   "id": "70a178f0-f038-4995-99d4-2cccccb79b5d",
   "metadata": {},
   "outputs": [],
   "source": [
    "# Load velocity model\n",
    "dimlims = 0.40  # 40cm cubed\n",
    "dx = dy = dz = 0.01  # 5mm\n",
    "nx = ny = nz = int(dimlims/dx)\n",
    "x, y, z = np.arange(nx)*dx, np.arange(ny)*dy, np.arange(nz)*dz\n",
    "\n",
    "# Subsurface properties\n",
    "vp = 5260  # m/s\n",
    "vs = 3260  # m/s\n",
    "rho = 2590;  # kg/m3"
   ]
  },
  {
   "cell_type": "code",
   "execution_count": null,
   "id": "f8250395-baa8-4b10-80c0-2dd1a27d230c",
   "metadata": {},
   "outputs": [],
   "source": [
    "# Make wavelet\n",
    "fwav = 25000  # WAVELET CENTRAL FREQUENCY\n",
    "nt = 251  # TIME SAMPLES\n",
    "\n",
    "wav, wavt, wavc = ricker(rec_t[:41], f0=fwav)\n",
    "plt.plot(wavt, wav,)\n",
    "plt.xlabel('Time (s)')\n",
    "plt.title('Ricker, Fc: %i Hz'%fwav)\n",
    "plt.grid()"
   ]
  },
  {
   "cell_type": "markdown",
   "id": "1af304b3",
   "metadata": {},
   "source": [
    "# MAKE DATA"
   ]
  },
  {
   "cell_type": "code",
   "execution_count": null,
   "id": "3c2530e9-fe4d-46c5-ba15-c3302583e5c5",
   "metadata": {},
   "outputs": [],
   "source": [
    "tshift = 7 # index of source ignition\n",
    "vy = vy[:,tshift:500]\n",
    "nt = vy.shape[1]"
   ]
  },
  {
   "cell_type": "code",
   "execution_count": null,
   "id": "6febcf54",
   "metadata": {},
   "outputs": [],
   "source": [
    "# INITIALISE OPERATOR\n",
    "Op = Kirchhoff(z=z, \n",
    "               x=x, \n",
    "               y=y, \n",
    "               t=rec_t[:nt], \n",
    "               srcs=recgeom.T[:, :1], \n",
    "               recs=recgeom.T, \n",
    "               vel=vp, \n",
    "               wav=wav, \n",
    "               wavcenter=wavc, \n",
    "               mode='analytic', \n",
    "               engine='numba')\n",
    "\n",
    "# check operator with dottest\n",
    "_ = dottest(Op, verb=True)"
   ]
  },
  {
   "cell_type": "code",
   "execution_count": null,
   "id": "fee793b8-1e0b-4605-88f8-c36290b607af",
   "metadata": {},
   "outputs": [],
   "source": [
    "sx, sy, sz = [nx//2, ny//2, nz//2]\n",
    "microseismic = np.zeros((nx, ny, nz))\n",
    "microseismic[sx, sy, sz] = 1.\n",
    "\n",
    "frwddata_1d = Op @ microseismic.flatten().squeeze()\n",
    "frwddata  = frwddata_1d.reshape(nr,nt)\n",
    "\n",
    "traceimage(frwddata[:50,:40], climQ=99.99)"
   ]
  },
  {
   "cell_type": "code",
   "execution_count": null,
   "id": "2891a2d4-2624-4dbb-8289-a46c7e56d3ab",
   "metadata": {},
   "outputs": [],
   "source": [
    "traceimage(vy[:50,:40], climQ=99.99)"
   ]
  },
  {
   "cell_type": "code",
   "execution_count": null,
   "id": "eb914b0d-a1a2-4e22-a0e4-29c8a163da60",
   "metadata": {},
   "outputs": [],
   "source": [
    "fig,axs = plt.subplots(1,2, figsize=[12,6])\n",
    "traceimage(frwddata[:50,:60], climQ=99.99, ax=axs[0])\n",
    "traceimage(vy[:50,:60], climQ=99.99, ax=axs[1])\n",
    "axs[0].set_title('Frwd Model')\n",
    "axs[1].set_title('eFD')"
   ]
  },
  {
   "cell_type": "code",
   "execution_count": null,
   "id": "32ebc883-ac72-4580-9cbc-f5e56790546b",
   "metadata": {},
   "outputs": [],
   "source": [
    "migrated_synth, hc_synth = migration(Op, frwddata, (nx,ny,nz), nforhc=10)\n",
    "migrated, hc = migration(Op, vy, (nx,ny,nz), nforhc=10)\n",
    "\n",
    "print('Synth. Migration Hypo Center:',hc_synth)\n",
    "print('eFD Migration Hypo Center:',hc)"
   ]
  },
  {
   "cell_type": "code",
   "execution_count": null,
   "id": "376eb4bd-8224-4a3f-be3c-a17be21a49d6",
   "metadata": {},
   "outputs": [],
   "source": [
    "fig,axs = locimage3d(migrated_synth,20,20)\n",
    "fig,axs = locimage3d(migrated,20,20)\n"
   ]
  },
  {
   "cell_type": "markdown",
   "id": "4e985e2f-3b54-4642-8e59-98a2af8ae173",
   "metadata": {},
   "source": [
    "# Inversion"
   ]
  },
  {
   "cell_type": "code",
   "execution_count": null,
   "id": "506459c3-0a28-4514-8aa0-1dbbfa12415a",
   "metadata": {},
   "outputs": [],
   "source": [
    "inv_synth, hc_synth = lsqr_migration(Op, frwddata, [nx,ny,nz], niter=100, nforhc=10, verbose=True)\n",
    "inv, hc = lsqr_migration(Op, vy, [nx,ny,nz], niter=100, nforhc=10, verbose=True)\n",
    "\n",
    "print('Synth. LSQR Hypo Center:',hc_synth)\n",
    "print('eFD LSQR Hypo Center:',hc)"
   ]
  },
  {
   "cell_type": "code",
   "execution_count": null,
   "id": "29a866b2",
   "metadata": {},
   "outputs": [],
   "source": [
    "fig,axs = locimage3d(inv_synth,20,20)\n",
    "fig,axs = locimage3d(inv,20,20)"
   ]
  },
  {
   "cell_type": "markdown",
   "id": "2ee3107c-ce3f-4cf5-b542-d6f5c65c8b63",
   "metadata": {},
   "source": [
    "# X-Corr Imaging"
   ]
  },
  {
   "cell_type": "code",
   "execution_count": null,
   "id": "b5ecfcc4-1bf3-47be-a208-fb9501a6ffc3",
   "metadata": {},
   "outputs": [],
   "source": [
    "from pyfrac.locationsolvers.crosscorr_imaging import xcorr_imaging"
   ]
  },
  {
   "cell_type": "code",
   "execution_count": null,
   "id": "9022cae9",
   "metadata": {},
   "outputs": [],
   "source": [
    "xc_synth, hc_synth, _, _ = xcorr_imaging(Op, frwddata, [nx,ny,nz], niter=100, xceps=8e-1, lr=1e-5, nforhc=10, verbose=True)\n",
    "xc, hc, _, _ = xcorr_imaging(Op, vy, [nx,ny,nz], niter=100, xceps=8e-1, lr=1e-5, nforhc=10, verbose=True)\n",
    "\n",
    "print('Synth. X-Corr Hypo Center:',hc_synth)\n",
    "print('eFD X-Corr Hypo Center:',hc)"
   ]
  },
  {
   "cell_type": "code",
   "execution_count": null,
   "id": "2808179a",
   "metadata": {},
   "outputs": [],
   "source": [
    "fig,axs = locimage3d(xc_synth,20,20)\n",
    "fig,axs = locimage3d(xc,20,20)"
   ]
  },
  {
   "cell_type": "code",
   "execution_count": null,
   "id": "3bb77b17",
   "metadata": {},
   "outputs": [],
   "source": []
  }
 ],
 "metadata": {
  "kernelspec": {
   "display_name": "Python 3 (ipykernel)",
   "language": "python",
   "name": "python3"
  },
  "language_info": {
   "codemirror_mode": {
    "name": "ipython",
    "version": 3
   },
   "file_extension": ".py",
   "mimetype": "text/x-python",
   "name": "python",
   "nbconvert_exporter": "python",
   "pygments_lexer": "ipython3",
   "version": "3.9.18"
  }
 },
 "nbformat": 4,
 "nbformat_minor": 5
}
