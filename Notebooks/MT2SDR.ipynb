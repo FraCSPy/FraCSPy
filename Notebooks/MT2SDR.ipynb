{
 "cells": [
  {
   "cell_type": "code",
   "execution_count": 1,
   "id": "fa035d9b-0286-4436-a0c4-83f1881501f3",
   "metadata": {},
   "outputs": [],
   "source": [
    "import numpy as np"
   ]
  },
  {
   "cell_type": "code",
   "execution_count": 11,
   "id": "d949cef4-1c30-4392-b8ca-4a0ebd443a4c",
   "metadata": {},
   "outputs": [],
   "source": [
    "def MTfromSDR(strike, dip,rake, Mo=1):\n",
    "    Mxx = -1*Mo*((np.sin(dip)*np.cos(rake)*np.sin(2*strike)) + (np.sin(2*dip)*np.sin(rake)*np.sin(2*strike)))\n",
    "    Myy = Mo*((np.sin(dip)*np.cos(rake)*np.sin(2*strike)) - (np.sin(2*dip)*np.sin(rake)*np.cos(2*strike)))\n",
    "    Mzz = Mo*(np.sin(2*dip)*np.sin(rake)) \n",
    "\n",
    "    \n",
    "    Mxy = Mo*((np.sin(dip)*np.cos(rake)*np.cos(2*strike)) + (np.sin(2*dip)*np.sin(rake)*np.sin(strike)*np.cos(strike)))    \n",
    "    Mxz = -1*Mo*((np.cos(dip)*np.cos(rake)*np.cos(strike)) + (np.cos(2*dip)*np.sin(rake)*np.sin(strike)))\n",
    "    Myz = -1*Mo*((np.cos(dip)*np.cos(rake)*np.sin(strike)) + (np.cos(2*dip)*np.sin(rake)*np.cos(strike)))\n",
    "\n",
    "\n",
    "    return (Mxx, Myy, Mzz, Mxy, Mxz, Myz)"
   ]
  },
  {
   "cell_type": "code",
   "execution_count": 12,
   "id": "56917856-987b-4760-8848-7f53135f5c78",
   "metadata": {},
   "outputs": [
    {
     "data": {
      "text/plain": [
       "(-0.0,\n",
       " -0.7992300345289288,\n",
       " 0.7992300345289288,\n",
       " -0.3812674192150584,\n",
       " 0.2353829231617276,\n",
       " 0.40057631786691517)"
      ]
     },
     "execution_count": 12,
     "metadata": {},
     "output_type": "execute_result"
    }
   ],
   "source": [
    "strike, dip, rake = 0., 45., 90.\n",
    "MTfromSDR(strike, dip,rake, Mo=1)"
   ]
  },
  {
   "cell_type": "code",
   "execution_count": 13,
   "id": "80b9cdd3-0b9a-4ade-8d58-2162745fbc2b",
   "metadata": {},
   "outputs": [
    {
     "data": {
      "text/plain": [
       "(-0.0, 0.0, -0.0, 0.8939966636005577, 0.4480736161291701, 0.0)"
      ]
     },
     "execution_count": 13,
     "metadata": {},
     "output_type": "execute_result"
    }
   ],
   "source": [
    "strike, dip, rake = 0., 90., 0.\n",
    "MTfromSDR(strike, dip,rake, Mo=1)"
   ]
  },
  {
   "cell_type": "code",
   "execution_count": null,
   "id": "4e423c38-fe65-4b7a-9d29-bd09dd896e54",
   "metadata": {},
   "outputs": [],
   "source": []
  }
 ],
 "metadata": {
  "kernelspec": {
   "display_name": "Python 3 (ipykernel)",
   "language": "python",
   "name": "python3"
  },
  "language_info": {
   "codemirror_mode": {
    "name": "ipython",
    "version": 3
   },
   "file_extension": ".py",
   "mimetype": "text/x-python",
   "name": "python",
   "nbconvert_exporter": "python",
   "pygments_lexer": "ipython3",
   "version": "3.9.18"
  }
 },
 "nbformat": 4,
 "nbformat_minor": 5
}
