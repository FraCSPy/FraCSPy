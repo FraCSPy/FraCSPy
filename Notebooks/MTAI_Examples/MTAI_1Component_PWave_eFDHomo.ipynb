{
 "cells": [
  {
   "cell_type": "markdown",
   "id": "0e7940b3-2e0f-4161-98d3-5a6cd1c0b2bc",
   "metadata": {},
   "source": [
    "# Moment Tensor Amplitude Inversion"
   ]
  },
  {
   "cell_type": "code",
   "execution_count": 6,
   "id": "e18667c7",
   "metadata": {},
   "outputs": [
    {
     "name": "stdout",
     "output_type": "stream",
     "text": [
      "The autoreload extension is already loaded. To reload it, use:\n",
      "  %reload_ext autoreload\n"
     ]
    }
   ],
   "source": [
    "%load_ext autoreload\n",
    "%autoreload 2\n",
    "%matplotlib inline\n",
    "\n",
    "import warnings\n",
    "warnings.filterwarnings('ignore')\n",
    "\n",
    "import numpy as np\n",
    "import matplotlib.pyplot as plt\n",
    "import os\n",
    "import scipy as sp\n",
    "from obspy.imaging.beachball import beachball\n",
    "from obspy.imaging.beachball import beach\n",
    "\n",
    "from scipy.sparse.linalg import LinearOperator, cg, lsqr\n",
    "from scipy.linalg import lstsq\n",
    "\n",
    "from pylops.basicoperators import HStack, VStack\n",
    "from pylops.utils import dottest\n",
    "from pylops.utils.wavelets import *\n",
    "from pylops.optimization.sparsity import *\n"
   ]
  },
  {
   "cell_type": "code",
   "execution_count": 12,
   "id": "49cc4e0b",
   "metadata": {},
   "outputs": [],
   "source": [
    "from pyfrac.mtsolvers.homo_mti import collect_source_angles, pwave_Greens_comp\n",
    "from pyfrac.mtsolvers.mtutils import get_mt_computation_dict\n",
    "from pyfrac.mtsolvers.mtai import *\n",
    "from pyfrac.modelling.kirchhoff import Kirchhoff\n",
    "from pyfrac.visualisation.eventimages import locimage3d"
   ]
  },
  {
   "cell_type": "markdown",
   "id": "71b2b396-9e44-489b-b3b7-7e8319588c03",
   "metadata": {},
   "source": [
    "# Load eFD Data"
   ]
  },
  {
   "cell_type": "code",
   "execution_count": 3,
   "id": "32c0b06c-21d5-4d12-9506-90adcabdc25f",
   "metadata": {},
   "outputs": [],
   "source": [
    "data_dir = '../../data/pyfrac_SOFIModelling'"
   ]
  },
  {
   "cell_type": "code",
   "execution_count": 4,
   "id": "09337a3b-87ff-4f2a-bcc1-f980251af982",
   "metadata": {},
   "outputs": [],
   "source": [
    "def read_seis(seisfile, nr):\n",
    "    # s_wave_file = os.path.join(data_path,'test.bin.curl')\n",
    "    seis_flat = np.loadtxt(seisfile)\n",
    "\n",
    "    # determine number of timesamples and ensure it saved fully\n",
    "    nt = int(seis_flat.shape[0] / nr)\n",
    "    try:\n",
    "        seis_flat.reshape((nr, nt))\n",
    "    except:\n",
    "        print('Not good dims \\n nt:%i nr:%i \\n vz flat:%i' % (nt, nr, seis_flat.shape[0]))\n",
    "\n",
    "    # Resample to 2D\n",
    "    seis = seis_flat[:nt * nr].reshape((nr, nt))\n",
    "    return seis"
   ]
  },
  {
   "cell_type": "code",
   "execution_count": 7,
   "id": "bd19a16e-188c-422f-b515-7dad8787a1ab",
   "metadata": {},
   "outputs": [
    {
     "name": "stdout",
     "output_type": "stream",
     "text": [
      "143\n"
     ]
    }
   ],
   "source": [
    "# RECEIVERS\n",
    "recs_xzy = np.loadtxt(os.path.join(data_dir,'inputs/surfacearray_xzy_20m.dat')).T\n",
    "nr = recs_xzy.shape[1]\n",
    "print(nr)\n"
   ]
  },
  {
   "cell_type": "code",
   "execution_count": 17,
   "id": "67c4e012-5bff-4950-bd16-426ba190b5b4",
   "metadata": {},
   "outputs": [],
   "source": [
    "# expname = 'homo_exp'\n",
    "expname = 'homo_MT_90_90_180'\n",
    "\n",
    "# Vz is Vy \n",
    "vz = read_seis(os.path.join(data_dir,'outputs/su/%s_vy.txt'%expname), \n",
    "               nr=143)\n",
    "\n",
    "dt = 1e-3 #ms\n",
    "t_shift = 162\n",
    "tdur = 500\n",
    "\n",
    "vz = vz[:,t_shift:t_shift+tdur]\n",
    "vz /= np.max(abs(vz))"
   ]
  },
  {
   "cell_type": "markdown",
   "id": "70a0d68f-68b6-41eb-88b8-34a31cb5f328",
   "metadata": {},
   "source": [
    "# 3D Model & Source Params"
   ]
  },
  {
   "cell_type": "code",
   "execution_count": 9,
   "id": "1747bde9-1c1d-442d-96a0-9d55e12c637c",
   "metadata": {},
   "outputs": [
    {
     "name": "stdout",
     "output_type": "stream",
     "text": [
      "112 128 120\n",
      "52 68 90\n"
     ]
    }
   ],
   "source": [
    "abs_bounds = 30\n",
    "dx = dy = dz = 5\n",
    "nx = 112\n",
    "ny = 128\n",
    "nz = 120\n",
    "print(nx,ny,nz)\n",
    "\n",
    "mod_w_bounds = np.fromfile(os.path.join(data_dir,'inputs/models/Homogeneous_xyz.vp'),dtype='float32').reshape([nx,ny,nz])\n",
    "\n",
    "# Remove absorbing boundaries\n",
    "mod = mod_w_bounds[abs_bounds:-abs_bounds,abs_bounds:-abs_bounds,:-abs_bounds] # z has free surface\n",
    "nx, ny, nz = mod.shape\n",
    "x, y, z = np.arange(nx)*dx, np.arange(ny)*dy, np.arange(nz)*dz\n",
    "print(nx,ny,nz)\n",
    "recs = np.array([recs_xzy[0]-(abs_bounds*dx),recs_xzy[2]-(abs_bounds*dx),recs_xzy[1]])"
   ]
  },
  {
   "cell_type": "code",
   "execution_count": 10,
   "id": "b7f4f301-d45c-4979-b528-1c2099a73a7e",
   "metadata": {},
   "outputs": [],
   "source": [
    "# Source Parameters\n",
    "omega_p = 20 \n",
    "\n",
    "sx = nx//2\n",
    "sy = ny//2\n",
    "sz = 2*nz//3\n",
    "sloc_ind =[sx,sy,sz]"
   ]
  },
  {
   "cell_type": "markdown",
   "id": "3dc335d4-2ee4-4fda-b70b-c72d7ff32c87",
   "metadata": {},
   "source": [
    "## Get all necessary components"
   ]
  },
  {
   "cell_type": "code",
   "execution_count": 20,
   "id": "35a53080-88b0-4f01-93e1-dad625deb428",
   "metadata": {},
   "outputs": [],
   "source": [
    "# TRAVEL TIME TABLE\n",
    "trav = Kirchhoff._traveltime_table(z, \n",
    "                                   x, \n",
    "                                   y=y, \n",
    "                                   recs=recs,  \n",
    "                                   vel=mod, \n",
    "                                   mode='eikonal')\n",
    "\n",
    "TTT_full = trav.reshape(nx,ny,nz,nr).transpose([3,0,1,2])\n",
    "\n",
    "source_times = np.round(TTT_full[:, sloc_ind[0], sloc_ind[1], sloc_ind[2]]/dt).astype(int)\n",
    "\n",
    "vz_amps = np.ones(nr)\n",
    "for i in range(nr):\n",
    "    vz_amps[i] = vz[i,source_times[i]]\n",
    "\n",
    "plt.imshow(vz[:,np.min(source_times)-50:150+np.min(source_times)].T, aspect='auto',\n",
    "           extent=[0, nr, 150+np.min(source_times), np.min(source_times)-50],\n",
    "           cmap='RdBu',\n",
    "          )\n",
    "plt.scatter(range(nr),source_times, marker='o', facecolors='none', edgecolors='k', s=5)\n",
    "\n",
    "p_amps = vz_amps"
   ]
  },
  {
   "cell_type": "code",
   "execution_count": 21,
   "id": "090e63a0-2440-4b95-9e30-3c7ac99b0981",
   "metadata": {},
   "outputs": [],
   "source": [
    "# AMPLITUDE TERMS\n",
    "gamma_sourceangles, dist_table = collect_source_angles(x,y,z, reclocs=recs, nc=3)"
   ]
  },
  {
   "cell_type": "code",
   "execution_count": 22,
   "id": "bc1f6d35-c950-4fb7-8a37-5413f54b5507",
   "metadata": {},
   "outputs": [],
   "source": [
    "# Source Parameters\n",
    "omega_p = 30  # Assume central frequency of 25Hz\n",
    "sloc_ind = [nx//2, ny//2, nz//2]  # As indices of velocity model"
   ]
  },
  {
   "cell_type": "code",
   "execution_count": 23,
   "id": "3b1f3bbb-55e9-410b-a28a-cf29add7a039",
   "metadata": {},
   "outputs": [],
   "source": [
    "MT_comp_dict = get_mt_computation_dict()  # This keeps everything nice and clean in the later G compute"
   ]
  },
  {
   "cell_type": "markdown",
   "id": "6522ef91-ccbb-4440-8450-ccd9a297ce54",
   "metadata": {},
   "source": [
    "## Compute Greens for area of interest"
   ]
  },
  {
   "cell_type": "code",
   "execution_count": 25,
   "id": "1da41cb0-9e22-465e-b633-e23b8054e368",
   "metadata": {},
   "outputs": [],
   "source": [
    "Gz = pwave_Greens_comp(gamma_sourceangles,\n",
    "                        dist_table,\n",
    "                        sloc_ind,\n",
    "                        mod,\n",
    "                        MT_comp_dict,\n",
    "                        comp_gamma_ind=2,\n",
    "                        omega_p=omega_p,\n",
    "                        )"
   ]
  },
  {
   "cell_type": "code",
   "execution_count": 26,
   "id": "b7a16c80-642d-453f-87ac-e98fe39a5b3f",
   "metadata": {},
   "outputs": [
    {
     "data": {
      "text/plain": [
       "(6, 143)"
      ]
     },
     "execution_count": 26,
     "metadata": {},
     "output_type": "execute_result"
    }
   ],
   "source": [
    "Gz.shape"
   ]
  },
  {
   "cell_type": "markdown",
   "id": "63873ee4-1076-4234-b9f0-b3d37dd0e8a7",
   "metadata": {},
   "source": [
    "# Single Event Example"
   ]
  },
  {
   "cell_type": "code",
   "execution_count": 28,
   "id": "58ae8205-9236-4fd3-aaf9-6a323709e9a2",
   "metadata": {},
   "outputs": [],
   "source": [
    "# Modelled MT\n",
    "mt =-1 * np.array([0,0,0,1,0,0]) #  np.array([1,1,1,0,0,0]) "
   ]
  },
  {
   "cell_type": "code",
   "execution_count": 27,
   "id": "d869faa6-35bc-46b3-a58c-6e9a07b5b5c4",
   "metadata": {},
   "outputs": [
    {
     "data": {
      "text/plain": [
       "[<matplotlib.lines.Line2D at 0x145bb92a36a0>]"
      ]
     },
     "execution_count": 27,
     "metadata": {},
     "output_type": "execute_result"
    },
    {
     "data": {
      "image/png": "[encoded data removed]",
      "text/plain": [
       "<Figure size 640x480 with 1 Axes>"
      ]
     },
     "metadata": {},
     "output_type": "display_data"
    }
   ],
   "source": [
    "# Forward\n",
    "# p_amps = frwrd_mtmodelling(Gz, mt)\n",
    "plt.plot(p_amps)"
   ]
  },
  {
   "cell_type": "code",
   "execution_count": 30,
   "id": "65bac127-c109-41b7-9a2a-63b88d0ffd14",
   "metadata": {},
   "outputs": [
    {
     "name": "stdout",
     "output_type": "stream",
     "text": [
      "[ 3.05850451e-07  3.88683160e-08 -6.57461020e-09  1.00000000e+00\n",
      " -2.11868911e-06  1.97523034e-02]\n",
      "[-3.05850451e-07 -3.88683160e-08  6.57461020e-09 -2.00000000e+00\n",
      "  2.11868911e-06 -1.97523034e-02]\n"
     ]
    },
    {
     "data": {
      "text/plain": [
       "Text(0.5, 1.0, 'MT Amplitude Inversion')"
      ]
     },
     "execution_count": 30,
     "metadata": {},
     "output_type": "execute_result"
    },
    {
     "data": {
      "image/png": "[encoded data removed]",
      "text/plain": [
       "<Figure size 640x480 with 1 Axes>"
      ]
     },
     "metadata": {},
     "output_type": "display_data"
    }
   ],
   "source": [
    "# LSQR Inversion\n",
    "mt_est = lsqr_mtsolver(Gz, p_amps)\n",
    "mt_est /= np.max(abs(mt_est))\n",
    "print(mt_est)\n",
    "print(mt-mt_est)\n",
    "\n",
    "plt.scatter(range(6), mt, c='k', marker='s', label='True')\n",
    "plt.scatter(range(6), mt_est, c='r', marker='x', label='Estimated')\n",
    "plt.legend()\n",
    "plt.title('MT Amplitude Inversion')"
   ]
  },
  {
   "cell_type": "code",
   "execution_count": null,
   "id": "02ebb54f-bb6d-4783-8d2c-89cc00664a8a",
   "metadata": {},
   "outputs": [],
   "source": []
  }
 ],
 "metadata": {
  "kernelspec": {
   "display_name": "Python 3 (ipykernel)",
   "language": "python",
   "name": "python3"
  },
  "language_info": {
   "codemirror_mode": {
    "name": "ipython",
    "version": 3
   },
   "file_extension": ".py",
   "mimetype": "text/x-python",
   "name": "python",
   "nbconvert_exporter": "python",
   "pygments_lexer": "ipython3",
   "version": "3.9.18"
  }
 },
 "nbformat": 4,
 "nbformat_minor": 5
}
