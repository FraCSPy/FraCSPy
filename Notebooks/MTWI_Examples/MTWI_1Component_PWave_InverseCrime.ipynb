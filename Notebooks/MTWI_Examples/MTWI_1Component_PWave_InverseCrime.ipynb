{
 "cells": [
  {
   "cell_type": "markdown",
   "id": "0e7940b3-2e0f-4161-98d3-5a6cd1c0b2bc",
   "metadata": {},
   "source": [
    "# Moment Tensor Wavefield Inversion - Single Component\n",
    "## The inverse crime edition"
   ]
  },
  {
   "cell_type": "code",
   "execution_count": 1,
   "id": "e18667c7",
   "metadata": {},
   "outputs": [],
   "source": [
    "%load_ext autoreload\n",
    "%autoreload 2\n",
    "%matplotlib inline\n",
    "\n",
    "import warnings\n",
    "warnings.filterwarnings('ignore')\n",
    "\n",
    "import numpy as np\n",
    "import matplotlib.pyplot as plt\n",
    "import scipy as sp\n",
    "from obspy.imaging.beachball import beachball\n",
    "from obspy.imaging.beachball import beach\n",
    "\n",
    "from scipy.sparse.linalg import LinearOperator, cg, lsqr\n",
    "from scipy.linalg import lstsq\n",
    "\n",
    "from pylops.basicoperators import HStack, VStack\n",
    "from pylops.utils import dottest\n",
    "from pylops.utils.wavelets import *\n",
    "from pylops.optimization.sparsity import *\n"
   ]
  },
  {
   "cell_type": "code",
   "execution_count": 2,
   "id": "49cc4e0b",
   "metadata": {},
   "outputs": [
    {
     "ename": "ModuleNotFoundError",
     "evalue": "No module named 'fracspy'",
     "output_type": "error",
     "traceback": [
      "\u001b[0;31m---------------------------------------------------------------------------\u001b[0m",
      "\u001b[0;31mModuleNotFoundError\u001b[0m                       Traceback (most recent call last)",
      "Cell \u001b[0;32mIn[2], line 1\u001b[0m\n\u001b[0;32m----> 1\u001b[0m \u001b[38;5;28;01mfrom\u001b[39;00m \u001b[38;5;21;01mfracspy\u001b[39;00m\u001b[38;5;21;01m.\u001b[39;00m\u001b[38;5;21;01mmodelling\u001b[39;00m\u001b[38;5;21;01m.\u001b[39;00m\u001b[38;5;21;01mkirchhoff\u001b[39;00m \u001b[38;5;28;01mimport\u001b[39;00m Kirchhoff\n\u001b[1;32m      2\u001b[0m \u001b[38;5;28;01mfrom\u001b[39;00m \u001b[38;5;21;01mfracspy\u001b[39;00m\u001b[38;5;21;01m.\u001b[39;00m\u001b[38;5;21;01mmodelling\u001b[39;00m\u001b[38;5;21;01m.\u001b[39;00m\u001b[38;5;21;01mtrueamp_kirchhoff\u001b[39;00m \u001b[38;5;28;01mimport\u001b[39;00m Kirchhoff \u001b[38;5;28;01mas\u001b[39;00m TAKirchhoff\n\u001b[1;32m      4\u001b[0m \u001b[38;5;28;01mfrom\u001b[39;00m \u001b[38;5;21;01mfracspy\u001b[39;00m\u001b[38;5;21;01m.\u001b[39;00m\u001b[38;5;21;01mmtsolvers\u001b[39;00m\u001b[38;5;21;01m.\u001b[39;00m\u001b[38;5;21;01mmtwi\u001b[39;00m \u001b[38;5;28;01mimport\u001b[39;00m \u001b[38;5;241m*\u001b[39m\n",
      "\u001b[0;31mModuleNotFoundError\u001b[0m: No module named 'fracspy'"
     ]
    }
   ],
   "source": [
    "from fracspy.modelling.kirchhoff import Kirchhoff\n",
    "from fracspy.modelling.trueamp_kirchhoff import Kirchhoff as TAKirchhoff\n",
    "\n",
    "from fracspy.mtsolvers.mtwi import *\n",
    "from fracspy.mtsolvers.homo_mti import collect_source_angles, singlecomp_Greens_Pwave\n",
    "from fracspy.mtsolvers.mtutils import get_mt_computation_dict\n",
    "\n",
    "from fracspy.visualisation.eventimages import locimage3d"
   ]
  },
  {
   "cell_type": "markdown",
   "id": "c27f9a00",
   "metadata": {},
   "source": [
    "# 3D Model - Homo"
   ]
  },
  {
   "cell_type": "code",
   "execution_count": null,
   "id": "39f93ed9",
   "metadata": {},
   "outputs": [],
   "source": [
    "# Velocity Model\n",
    "nx, ny, nz = 47, 51, 75\n",
    "dx, dy, dz = 4, 4, 4\n",
    "x, y, z = np.arange(nx)*dx, np.arange(ny)*dy, np.arange(nz)*dz\n",
    "\n",
    "v0 = 1000 # initial velocity\n",
    "kv = 0. # gradient\n",
    "vel = v0 * np.ones([nx, ny, nz])"
   ]
  },
  {
   "cell_type": "code",
   "execution_count": null,
   "id": "5827a5ae",
   "metadata": {},
   "outputs": [],
   "source": [
    "# RECEIVERS\n",
    "grid_rx_locs = np.linspace(dx, (dx*nx)-2*dx, 11)\n",
    "grid_ry_locs = np.linspace(dy, (dy*ny)-2*dy, 13)\n",
    "\n",
    "rx, ry, rz = np.meshgrid(grid_rx_locs,\n",
    "                         grid_ry_locs,\n",
    "                         dz) \n",
    "recs = np.vstack((rx.flatten(), ry.flatten(), rz.flatten()))\n",
    "nr = recs.shape[1]\n",
    "\n",
    "plt.scatter(rx,ry)\n",
    "print(recs.shape)\n",
    "print(recs[:,::10])\n",
    "print(grid_ry_locs, y.max(), grid_rx_locs, x.max())"
   ]
  },
  {
   "cell_type": "markdown",
   "id": "3dc335d4-2ee4-4fda-b70b-c72d7ff32c87",
   "metadata": {},
   "source": [
    "## Get all necessary components"
   ]
  },
  {
   "cell_type": "code",
   "execution_count": null,
   "id": "e54ea502-6798-409c-b9da-a337e4131df5",
   "metadata": {},
   "outputs": [],
   "source": [
    "# TRAVEL TIME TABLE\n",
    "trav = Kirchhoff._traveltime_table(z, \n",
    "                                   x, \n",
    "                                   y=y, \n",
    "                                   recs=recs,  \n",
    "                                   vel=vel, \n",
    "                                   mode='eikonal')\n",
    "\n",
    "TTT_full = trav.reshape(nx,ny,nz,nr).transpose([3,0,1,2])"
   ]
  },
  {
   "cell_type": "code",
   "execution_count": null,
   "id": "090e63a0-2440-4b95-9e30-3c7ac99b0981",
   "metadata": {},
   "outputs": [],
   "source": [
    "# AMPLITUDE TERMS\n",
    "gamma_sourceangles, dist_table = collect_source_angles(x,y,z, reclocs=recs, nc=3)"
   ]
  },
  {
   "cell_type": "code",
   "execution_count": null,
   "id": "bc1f6d35-c950-4fb7-8a37-5413f54b5507",
   "metadata": {},
   "outputs": [],
   "source": [
    "# Source Parameters\n",
    "omega_p = 30  # Assume central frequency of 25Hz\n",
    "sloc_ind = [nx//2, ny//2, nz//2]  # As indices of velocity model"
   ]
  },
  {
   "cell_type": "markdown",
   "id": "ae54b947-542a-4458-bd8e-90571f58fa03",
   "metadata": {},
   "source": [
    "### SELECT AREA OF INTEREST"
   ]
  },
  {
   "cell_type": "code",
   "execution_count": null,
   "id": "d4de19e3-7eb1-4ef5-bd7a-ecbe46dafc5d",
   "metadata": {},
   "outputs": [],
   "source": [
    "# Make cube area of interest as can't consider the full subsurface body\n",
    "hwin_nx_aoi, hwin_ny_aoi, hwin_nz_aoi = 15, 13, 11  # half windows to place source in center of region of interest\n",
    "xsi, xfi = sloc_ind[0]-hwin_nx_aoi, sloc_ind[0]+hwin_nx_aoi+1   # start/end index of x-region of interest\n",
    "ysi, yfi = sloc_ind[1]-hwin_ny_aoi, sloc_ind[1]+hwin_ny_aoi+1   # start/end index of y-region of interest\n",
    "zsi, zfi = sloc_ind[2]-hwin_nz_aoi, sloc_ind[2]+hwin_nz_aoi+1   # start/end index of z-region of interest"
   ]
  },
  {
   "cell_type": "code",
   "execution_count": null,
   "id": "5f4baad5-31ee-4b84-a95b-1cc659eb6c16",
   "metadata": {},
   "outputs": [],
   "source": [
    "# Parameters only for the area of interest\n",
    "gamma_sourceangles_aoi = gamma_sourceangles[:, :, xsi:xfi, ysi:yfi, zsi:zfi]\n",
    "dist_table_aoi = dist_table[:, xsi:xfi, ysi:yfi, zsi:zfi]\n",
    "tt_table_aoi = TTT_full[:, xsi:xfi, ysi:yfi, zsi:zfi]\n",
    "\n",
    "nr, nx_aoi, ny_aoi, nz_aoi = tt_table_aoi.shape\n",
    "print(nr, nx_aoi, ny_aoi, nz_aoi)"
   ]
  },
  {
   "cell_type": "code",
   "execution_count": null,
   "id": "3b1f3bbb-55e9-410b-a28a-cf29add7a039",
   "metadata": {},
   "outputs": [],
   "source": [
    "MT_comp_dict = get_mt_computation_dict()  # This keeps everything nice and clean in the later G compute"
   ]
  },
  {
   "cell_type": "markdown",
   "id": "6522ef91-ccbb-4440-8450-ccd9a297ce54",
   "metadata": {},
   "source": [
    "## Compute Greens for area of interest"
   ]
  },
  {
   "cell_type": "code",
   "execution_count": null,
   "id": "1da41cb0-9e22-465e-b633-e23b8054e368",
   "metadata": {},
   "outputs": [],
   "source": [
    "Gz = singlecomp_Greens_Pwave(nxyz=[nx_aoi, ny_aoi, nz_aoi],\n",
    "                                    nr=nr,\n",
    "                                    gamma_sourceangles=gamma_sourceangles_aoi,\n",
    "                                    dist_table=dist_table_aoi,\n",
    "                                    vel=vel,\n",
    "                                    MT_comp_dict=MT_comp_dict,\n",
    "                                    omega_p=1,\n",
    "                                    )"
   ]
  },
  {
   "cell_type": "code",
   "execution_count": null,
   "id": "b7a16c80-642d-453f-87ac-e98fe39a5b3f",
   "metadata": {},
   "outputs": [],
   "source": [
    "Gz.shape"
   ]
  },
  {
   "cell_type": "markdown",
   "id": "ae4437a7-34d1-4d3b-82c4-5e39c7b8804b",
   "metadata": {},
   "source": [
    "# Moment Tensor Kirchhoff Imaging"
   ]
  },
  {
   "cell_type": "markdown",
   "id": "faf8168b-619a-4383-8699-1835008c9131",
   "metadata": {},
   "source": [
    "### MAKE OPERATOR"
   ]
  },
  {
   "cell_type": "code",
   "execution_count": null,
   "id": "acccd9a3-a30d-4297-b98b-959a7413fa68",
   "metadata": {},
   "outputs": [],
   "source": [
    "# Time and Wavelet Information\n",
    "nt = 251\n",
    "dt = 0.004\n",
    "t = np.arange(nt)*dt\n",
    "wav, wavt, wavc = ricker(t[:41], f0=omega_p)"
   ]
  },
  {
   "cell_type": "code",
   "execution_count": null,
   "id": "cc34b58c-8d64-4dd7-955a-bbfe1cba9202",
   "metadata": {},
   "outputs": [],
   "source": [
    "Mstack_Op = singlecomp_pwave_mtioperator(x=x[xsi:xfi],\n",
    "                                        y=y[ysi:yfi],\n",
    "                                        z=z[zsi:zfi],\n",
    "                                        recs=recs,\n",
    "                                        t=t,\n",
    "                                        wav=wav,\n",
    "                                        wavc=wavc,\n",
    "                                        tt_table=tt_table_aoi,\n",
    "                                        Gz=Gz,\n",
    "                                        Ms_scaling = 1e6,\n",
    "                                        engine='numba'\n",
    "                                        )"
   ]
  },
  {
   "cell_type": "markdown",
   "id": "bcc8389b-a49e-447d-a142-17a1ebfc02ae",
   "metadata": {},
   "source": [
    "## INVERSE CRIME - Make data with forward operation"
   ]
  },
  {
   "cell_type": "code",
   "execution_count": null,
   "id": "33ff9c4f-fa76-43f5-ab03-2f40145cf722",
   "metadata": {},
   "outputs": [],
   "source": [
    "# Modelled MT\n",
    "MT_aoi = np.zeros([6, nx_aoi, ny_aoi, nz_aoi])  # MT components as images\n",
    "MT_selected =-1 * np.array([0,0,0,1,0,0]) #  np.array([1,1,1,0,0,0]) \n",
    "MT_aoi[:, nx_aoi//2, ny_aoi//2, nz_aoi//2] = MT_selected\n",
    "\n",
    "# Generated Data\n",
    "data = Mstack_Op @ MT_aoi.ravel()\n",
    "data = data.reshape(nr, nt)"
   ]
  },
  {
   "cell_type": "code",
   "execution_count": null,
   "id": "eb4a0dd6-ea22-4e0d-951e-c14e1e297944",
   "metadata": {},
   "outputs": [],
   "source": [
    "plt.figure(figsize=(15, 5))\n",
    "plt.imshow(data.T, cmap='gray', vmin=-1e-7, vmax=1e-7)\n",
    "plt.axis('tight')\n"
   ]
  },
  {
   "cell_type": "code",
   "execution_count": null,
   "id": "833e03a4-6ce6-4e43-9ac1-30c45e8e7d4d",
   "metadata": {},
   "outputs": [],
   "source": [
    "nxyz=[nx_aoi, ny_aoi, nz_aoi]\n",
    "\n",
    "# ADJOINT\n",
    "mt_adj = adjoint_mtmodelling(data, Mstack_Op, nxyz)\n",
    "\n",
    "# LSQR\n",
    "mt_inv = lsqr_mtsolver(data, Mstack_Op, nxyz)\n",
    "\n",
    "# FISTA\n",
    "mt_fista = fista_mtsolver(data, Mstack_Op, nxyz, fista_niter=100, fista_damping=1e-13, verbose=True)\n"
   ]
  },
  {
   "cell_type": "code",
   "execution_count": null,
   "id": "1de2eb14-66d0-49a4-80eb-023a7386020b",
   "metadata": {},
   "outputs": [],
   "source": [
    "locimage3d(mt_fista[0], sloc_ind[0]-xsi, sloc_ind[1]-ysi, clipval=[-1e-3, 1e-3])\n",
    "locimage3d(mt_fista[1], sloc_ind[0]-xsi, sloc_ind[1]-ysi, clipval=[-1e-3, 1e-3])\n",
    "locimage3d(mt_fista[3], sloc_ind[0]-xsi, sloc_ind[1]-ysi, clipval=[-1e-3, 1e-3]);"
   ]
  },
  {
   "cell_type": "code",
   "execution_count": null,
   "id": "0f2dc4a1-28d1-4130-9729-2ef8554ce97a",
   "metadata": {},
   "outputs": [],
   "source": []
  }
 ],
 "metadata": {
  "kernelspec": {
   "display_name": "Python 3 (ipykernel)",
   "language": "python",
   "name": "python3"
  },
  "language_info": {
   "codemirror_mode": {
    "name": "ipython",
    "version": 3
   },
   "file_extension": ".py",
   "mimetype": "text/x-python",
   "name": "python",
   "nbconvert_exporter": "python",
   "pygments_lexer": "ipython3",
   "version": "3.12.4"
  }
 },
 "nbformat": 4,
 "nbformat_minor": 5
}
