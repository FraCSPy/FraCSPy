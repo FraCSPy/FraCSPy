{
 "cells": [
  {
   "cell_type": "code",
   "execution_count": 9,
   "id": "70f904f1",
   "metadata": {},
   "outputs": [],
   "source": [
    "import numpy as np\n",
    "import os\n",
    "\n",
    "%matplotlib inline\n",
    "import matplotlib.pyplot as plt"
   ]
  },
  {
   "cell_type": "code",
   "execution_count": 10,
   "id": "80eb9812",
   "metadata": {},
   "outputs": [],
   "source": [
    "grid_spacing=0.2;\n",
    "\n",
    "# dimensions of base model\n",
    "xmax_base=300; #gridpoints\n",
    "ymax_base=400; #(vertical)\n",
    "zmax_base=200;"
   ]
  },
  {
   "cell_type": "code",
   "execution_count": null,
   "id": "ebe53783",
   "metadata": {},
   "outputs": [],
   "source": []
  },
  {
   "cell_type": "markdown",
   "id": "088bd4e0",
   "metadata": {},
   "source": [
    "# Simple One Layer"
   ]
  },
  {
   "cell_type": "code",
   "execution_count": 11,
   "id": "8177aad6",
   "metadata": {},
   "outputs": [],
   "source": [
    "# Model Properties\n",
    "nx = ny = nz = 100\n",
    "# ny = 100\n",
    "# nz = 100\n",
    "\n",
    "dx=dy=dz=1"
   ]
  },
  {
   "cell_type": "code",
   "execution_count": 12,
   "id": "17202ad6",
   "metadata": {},
   "outputs": [],
   "source": [
    "# Subsurface properties\n",
    "vp = 5000 #m/s\n",
    "vs = 3500 \n",
    "rho = 2200; #kg/m3\n"
   ]
  },
  {
   "cell_type": "code",
   "execution_count": 13,
   "id": "6497505b",
   "metadata": {},
   "outputs": [],
   "source": [
    "mod_vp = vp * np.ones([ny,nx,nz])\n",
    "mod_vs = vs * np.ones([ny,nx,nz])\n",
    "mod_rho = rho * np.ones([ny,nx,nz])"
   ]
  },
  {
   "cell_type": "code",
   "execution_count": 14,
   "id": "07de7120",
   "metadata": {},
   "outputs": [],
   "source": [
    "# Write as binary\n",
    "outpath = '../../../SOFI-modelling/HomogeneousExample'\n",
    "mod_vp.astype(np.float32).tofile(os.path.join(outpath,'homo.vp'))#,format='<f')\n",
    "mod_vs.astype(np.float32).tofile(os.path.join(outpath,'homo.vs'))  #,format='<f')\n",
    "mod_rho.astype(np.float32).tofile(os.path.join(outpath,'homo.rho'))  #,format='<f')"
   ]
  },
  {
   "cell_type": "code",
   "execution_count": 7,
   "id": "284a32a5",
   "metadata": {},
   "outputs": [
    {
     "data": {
      "text/plain": [
       "<matplotlib.collections.PathCollection at 0x147c2bf99a60>"
      ]
     },
     "execution_count": 7,
     "metadata": {},
     "output_type": "execute_result"
    },
    {
     "data": {
      "image/png": "[encoded data removed]",
      "text/plain": [
       "<Figure size 640x480 with 1 Axes>"
      ]
     },
     "metadata": {},
     "output_type": "display_data"
    }
   ],
   "source": [
    "# Receivers \n",
    "nr_x = nr_y = 10\n",
    "r_buf = 30*dx\n",
    "\n",
    "rx, ry = np.meshgrid(np.linspace(r_buf*dx, (nx*dx)-r_buf, nr_x),\n",
    "                         np.linspace(r_buf*dy, (ny*dy)-r_buf, nr_y))\n",
    "recs = np.vstack((rx.flatten(), ry.flatten(), 10*np.ones_like(ry.flatten())))\n",
    "\n",
    "plt.scatter(recs[0],recs[1])"
   ]
  },
  {
   "cell_type": "code",
   "execution_count": 8,
   "id": "1d914386",
   "metadata": {},
   "outputs": [
    {
     "name": "stdout",
     "output_type": "stream",
     "text": [
      "30.0 10.0 30.0\n",
      "34.4 10.0 34.4\n",
      "38.9 10.0 38.9\n",
      "43.3 10.0 43.3\n",
      "47.8 10.0 47.8\n",
      "52.2 10.0 52.2\n",
      "56.7 10.0 56.7\n",
      "61.1 10.0 61.1\n",
      "65.6 10.0 65.6\n",
      "70.0 10.0 70.0\n",
      "30.0 10.0 30.0\n",
      "34.4 10.0 34.4\n",
      "38.9 10.0 38.9\n",
      "43.3 10.0 43.3\n",
      "47.8 10.0 47.8\n",
      "52.2 10.0 52.2\n",
      "56.7 10.0 56.7\n",
      "61.1 10.0 61.1\n",
      "65.6 10.0 65.6\n",
      "70.0 10.0 70.0\n",
      "30.0 10.0 30.0\n",
      "34.4 10.0 34.4\n",
      "38.9 10.0 38.9\n",
      "43.3 10.0 43.3\n",
      "47.8 10.0 47.8\n",
      "52.2 10.0 52.2\n",
      "56.7 10.0 56.7\n",
      "61.1 10.0 61.1\n",
      "65.6 10.0 65.6\n",
      "70.0 10.0 70.0\n",
      "30.0 10.0 30.0\n",
      "34.4 10.0 34.4\n",
      "38.9 10.0 38.9\n",
      "43.3 10.0 43.3\n",
      "47.8 10.0 47.8\n",
      "52.2 10.0 52.2\n",
      "56.7 10.0 56.7\n",
      "61.1 10.0 61.1\n",
      "65.6 10.0 65.6\n",
      "70.0 10.0 70.0\n",
      "30.0 10.0 30.0\n",
      "34.4 10.0 34.4\n",
      "38.9 10.0 38.9\n",
      "43.3 10.0 43.3\n",
      "47.8 10.0 47.8\n",
      "52.2 10.0 52.2\n",
      "56.7 10.0 56.7\n",
      "61.1 10.0 61.1\n",
      "65.6 10.0 65.6\n",
      "70.0 10.0 70.0\n",
      "30.0 10.0 30.0\n",
      "34.4 10.0 34.4\n",
      "38.9 10.0 38.9\n",
      "43.3 10.0 43.3\n",
      "47.8 10.0 47.8\n",
      "52.2 10.0 52.2\n",
      "56.7 10.0 56.7\n",
      "61.1 10.0 61.1\n",
      "65.6 10.0 65.6\n",
      "70.0 10.0 70.0\n",
      "30.0 10.0 30.0\n",
      "34.4 10.0 34.4\n",
      "38.9 10.0 38.9\n",
      "43.3 10.0 43.3\n",
      "47.8 10.0 47.8\n",
      "52.2 10.0 52.2\n",
      "56.7 10.0 56.7\n",
      "61.1 10.0 61.1\n",
      "65.6 10.0 65.6\n",
      "70.0 10.0 70.0\n",
      "30.0 10.0 30.0\n",
      "34.4 10.0 34.4\n",
      "38.9 10.0 38.9\n",
      "43.3 10.0 43.3\n",
      "47.8 10.0 47.8\n",
      "52.2 10.0 52.2\n",
      "56.7 10.0 56.7\n",
      "61.1 10.0 61.1\n",
      "65.6 10.0 65.6\n",
      "70.0 10.0 70.0\n",
      "30.0 10.0 30.0\n",
      "34.4 10.0 34.4\n",
      "38.9 10.0 38.9\n",
      "43.3 10.0 43.3\n",
      "47.8 10.0 47.8\n",
      "52.2 10.0 52.2\n",
      "56.7 10.0 56.7\n",
      "61.1 10.0 61.1\n",
      "65.6 10.0 65.6\n",
      "70.0 10.0 70.0\n",
      "30.0 10.0 30.0\n",
      "34.4 10.0 34.4\n",
      "38.9 10.0 38.9\n",
      "43.3 10.0 43.3\n",
      "47.8 10.0 47.8\n",
      "52.2 10.0 52.2\n",
      "56.7 10.0 56.7\n",
      "61.1 10.0 61.1\n",
      "65.6 10.0 65.6\n",
      "70.0 10.0 70.0\n"
     ]
    }
   ],
   "source": [
    "for r in recs.T:\n",
    "    print('%.1f %.1f %.1f'%(r[0],r[2],r[0]))"
   ]
  },
  {
   "cell_type": "code",
   "execution_count": null,
   "id": "71131c98",
   "metadata": {},
   "outputs": [],
   "source": []
  }
 ],
 "metadata": {
  "kernelspec": {
   "display_name": "Python 3 (ipykernel)",
   "language": "python",
   "name": "python3"
  },
  "language_info": {
   "codemirror_mode": {
    "name": "ipython",
    "version": 3
   },
   "file_extension": ".py",
   "mimetype": "text/x-python",
   "name": "python",
   "nbconvert_exporter": "python",
   "pygments_lexer": "ipython3",
   "version": "3.9.16"
  }
 },
 "nbformat": 4,
 "nbformat_minor": 5
}
