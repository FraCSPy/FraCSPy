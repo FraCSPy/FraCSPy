{
 "cells": [
  {
   "cell_type": "markdown",
   "id": "d668ec18-ad66-4f2a-9854-f00bba7ae738",
   "metadata": {},
   "source": [
    "# VELOCITY MODEL CREATION \n",
    "To the specifications defined by Bing"
   ]
  },
  {
   "cell_type": "code",
   "execution_count": 1,
   "id": "4493379b",
   "metadata": {},
   "outputs": [],
   "source": [
    "%load_ext autoreload\n",
    "%autoreload 2\n",
    "%matplotlib inline\n",
    "\n",
    "import warnings\n",
    "warnings.filterwarnings('ignore')\n",
    "\n",
    "import os\n",
    "import numpy as np\n",
    "import scipy as sc\n",
    "import matplotlib.pyplot as plt\n",
    "\n",
    "import pyfrac\n",
    "from pyfrac.utils.sofiutils import *\n",
    "from pyfrac.utils.modellingutils import *\n",
    "from pyfrac.hydrafrac.acquisition import recgeom"
   ]
  },
  {
   "cell_type": "code",
   "execution_count": 2,
   "id": "1960d50c-7ba3-4939-88da-6b571216b520",
   "metadata": {},
   "outputs": [],
   "source": [
    "outpath = '/home/birniece/Documents/data/ANPERC_Lab/STYLOLITES/'"
   ]
  },
  {
   "cell_type": "markdown",
   "id": "48d75b78",
   "metadata": {},
   "source": [
    "# Rock Properties - subsurface models"
   ]
  },
  {
   "cell_type": "code",
   "execution_count": 3,
   "id": "1c6d2959",
   "metadata": {},
   "outputs": [],
   "source": [
    "abs_bounds = 30 # boundary points"
   ]
  },
  {
   "cell_type": "code",
   "execution_count": 4,
   "id": "ca5e9819",
   "metadata": {},
   "outputs": [
    {
     "name": "stdout",
     "output_type": "stream",
     "text": [
      "460\n"
     ]
    }
   ],
   "source": [
    "dx = dy = dz = 0.001  # 1mm\n",
    "dimlims = 0.4 + 2*(abs_bounds*dx) # 40cm cubed\n",
    "nx = ny = nz = int(dimlims/dx) \n",
    "print(nx)\n",
    "# dimlims = nx*dx\n",
    "\n",
    "# Subsurface properties\n",
    "vp = 5260  # m/s\n",
    "vs = 3260  # m/s\n",
    "rho = 2590;  # kg/m3\n"
   ]
  },
  {
   "cell_type": "code",
   "execution_count": 5,
   "id": "13b7cb6e",
   "metadata": {},
   "outputs": [],
   "source": [
    "subsurface_properties = [vp, vs, rho]\n",
    "vp_mod, vs_mod, rho_mod = make_homo_model(dimlims,\n",
    "                                            dx,\n",
    "                                            subsurface_properties,\n",
    "                                            pad=False,\n",
    "                                            npad=0,\n",
    "                                            freesurface=False\n",
    "                                            )"
   ]
  },
  {
   "cell_type": "markdown",
   "id": "661a3ddb",
   "metadata": {},
   "source": [
    "# Acquisition Geometry - Receivers & Source"
   ]
  },
  {
   "cell_type": "code",
   "execution_count": 6,
   "id": "65ca935d",
   "metadata": {},
   "outputs": [
    {
     "name": "stdout",
     "output_type": "stream",
     "text": [
      "0.23\t0.23\t0.23\t1e-06\t80000\t1.0\n"
     ]
    }
   ],
   "source": [
    "# Source \n",
    "sx = sy = sz = 0.2 + (abs_bounds*dx)\n",
    "td = 1e-6  # ignition time\n",
    "fc = 80000  # central frequency\n",
    "amp = 1.  # amplitude\n",
    "string_list = [str(i) for i in [sx, sz, sy, td, fc, amp]]\n",
    "src_string = '\\t'.join(string_list)\n",
    "print(src_string)\n",
    "\n",
    "text_file = open(os.path.join(outpath,'central_source.dat'), \"wt\")\n",
    "text_file.writelines(src_string)\n",
    "text_file.close()"
   ]
  },
  {
   "cell_type": "code",
   "execution_count": 7,
   "id": "1ba4f3e9",
   "metadata": {
    "scrolled": true
   },
   "outputs": [
    {
     "name": "stdout",
     "output_type": "stream",
     "text": [
      "150 (3, 150)\n",
      "[[0.031   0.031   0.031   0.031   0.031   0.031   0.031   0.031   0.031\n",
      "  0.031   0.031   0.031   0.031   0.031   0.031   0.031   0.031   0.031\n",
      "  0.031   0.031   0.031   0.031   0.031   0.031   0.031   0.43    0.43\n",
      "  0.43    0.43    0.43    0.43    0.43    0.43    0.43    0.43    0.43\n",
      "  0.43    0.43    0.43    0.43    0.43    0.43    0.43    0.43    0.43\n",
      "  0.43    0.43    0.43    0.43    0.43    0.041   0.041   0.041   0.041\n",
      "  0.041   0.13575 0.13575 0.13575 0.13575 0.13575 0.2305  0.2305  0.2305\n",
      "  0.2305  0.2305  0.32525 0.32525 0.32525 0.32525 0.32525 0.42    0.42\n",
      "  0.42    0.42    0.42    0.041   0.041   0.041   0.041   0.041   0.13575\n",
      "  0.13575 0.13575 0.13575 0.13575 0.2305  0.2305  0.2305  0.2305  0.2305\n",
      "  0.32525 0.32525 0.32525 0.32525 0.32525 0.42    0.42    0.42    0.42\n",
      "  0.42    0.041   0.13575 0.2305  0.32525 0.42    0.041   0.13575 0.2305\n",
      "  0.32525 0.42    0.041   0.13575 0.2305  0.32525 0.42    0.041   0.13575\n",
      "  0.2305  0.32525 0.42    0.041   0.13575 0.2305  0.32525 0.42    0.041\n",
      "  0.13575 0.2305  0.32525 0.42    0.041   0.13575 0.2305  0.32525 0.42\n",
      "  0.041   0.13575 0.2305  0.32525 0.42    0.041   0.13575 0.2305  0.32525\n",
      "  0.42    0.041   0.13575 0.2305  0.32525 0.42   ]\n",
      " [0.041   0.041   0.041   0.041   0.041   0.13575 0.13575 0.13575 0.13575\n",
      "  0.13575 0.2305  0.2305  0.2305  0.2305  0.2305  0.32525 0.32525 0.32525\n",
      "  0.32525 0.32525 0.42    0.42    0.42    0.42    0.42    0.041   0.041\n",
      "  0.041   0.041   0.041   0.13575 0.13575 0.13575 0.13575 0.13575 0.2305\n",
      "  0.2305  0.2305  0.2305  0.2305  0.32525 0.32525 0.32525 0.32525 0.32525\n",
      "  0.42    0.42    0.42    0.42    0.42    0.031   0.031   0.031   0.031\n",
      "  0.031   0.031   0.031   0.031   0.031   0.031   0.031   0.031   0.031\n",
      "  0.031   0.031   0.031   0.031   0.031   0.031   0.031   0.031   0.031\n",
      "  0.031   0.031   0.031   0.43    0.43    0.43    0.43    0.43    0.43\n",
      "  0.43    0.43    0.43    0.43    0.43    0.43    0.43    0.43    0.43\n",
      "  0.43    0.43    0.43    0.43    0.43    0.43    0.43    0.43    0.43\n",
      "  0.43    0.041   0.041   0.041   0.041   0.041   0.13575 0.13575 0.13575\n",
      "  0.13575 0.13575 0.2305  0.2305  0.2305  0.2305  0.2305  0.32525 0.32525\n",
      "  0.32525 0.32525 0.32525 0.42    0.42    0.42    0.42    0.42    0.041\n",
      "  0.041   0.041   0.041   0.041   0.13575 0.13575 0.13575 0.13575 0.13575\n",
      "  0.2305  0.2305  0.2305  0.2305  0.2305  0.32525 0.32525 0.32525 0.32525\n",
      "  0.32525 0.42    0.42    0.42    0.42    0.42   ]\n",
      " [0.041   0.13575 0.2305  0.32525 0.42    0.041   0.13575 0.2305  0.32525\n",
      "  0.42    0.041   0.13575 0.2305  0.32525 0.42    0.041   0.13575 0.2305\n",
      "  0.32525 0.42    0.041   0.13575 0.2305  0.32525 0.42    0.041   0.13575\n",
      "  0.2305  0.32525 0.42    0.041   0.13575 0.2305  0.32525 0.42    0.041\n",
      "  0.13575 0.2305  0.32525 0.42    0.041   0.13575 0.2305  0.32525 0.42\n",
      "  0.041   0.13575 0.2305  0.32525 0.42    0.041   0.13575 0.2305  0.32525\n",
      "  0.42    0.041   0.13575 0.2305  0.32525 0.42    0.041   0.13575 0.2305\n",
      "  0.32525 0.42    0.041   0.13575 0.2305  0.32525 0.42    0.041   0.13575\n",
      "  0.2305  0.32525 0.42    0.041   0.13575 0.2305  0.32525 0.42    0.041\n",
      "  0.13575 0.2305  0.32525 0.42    0.041   0.13575 0.2305  0.32525 0.42\n",
      "  0.041   0.13575 0.2305  0.32525 0.42    0.041   0.13575 0.2305  0.32525\n",
      "  0.42    0.031   0.031   0.031   0.031   0.031   0.031   0.031   0.031\n",
      "  0.031   0.031   0.031   0.031   0.031   0.031   0.031   0.031   0.031\n",
      "  0.031   0.031   0.031   0.031   0.031   0.031   0.031   0.031   0.43\n",
      "  0.43    0.43    0.43    0.43    0.43    0.43    0.43    0.43    0.43\n",
      "  0.43    0.43    0.43    0.43    0.43    0.43    0.43    0.43    0.43\n",
      "  0.43    0.43    0.43    0.43    0.43    0.43   ]]\n"
     ]
    }
   ],
   "source": [
    "# RECEIVERS\n",
    "nrperface = 5\n",
    "\n",
    "# don't need to change below\n",
    "nxyz = [nx-2*abs_bounds, ny-2*abs_bounds, nz-2*abs_bounds]\n",
    "dxyz = [dx, dy, dz]\n",
    "gridded_recs, nr, rec_string = recgeom(nxyz, \n",
    "                                       dxyz, \n",
    "                                       nrperfc_xyz=[nrperface], \n",
    "                                       recbuf_gps=10)\n",
    "print (nr, gridded_recs.shape)\n",
    "# print(gridded_recs)\n",
    "gridded_recs = gridded_recs + (abs_bounds*dx)\n",
    "print(gridded_recs)\n",
    "\n",
    "np.savetxt(os.path.join(outpath,'gridded_recs.dat'),\n",
    "           gridded_recs.T.astype(np.float32), \n",
    "           fmt='%.3f')"
   ]
  },
  {
   "cell_type": "code",
   "execution_count": null,
   "id": "e43fe80a",
   "metadata": {},
   "outputs": [],
   "source": []
  }
 ],
 "metadata": {
  "kernelspec": {
   "display_name": "Python 3 (ipykernel)",
   "language": "python",
   "name": "python3"
  },
  "language_info": {
   "codemirror_mode": {
    "name": "ipython",
    "version": 3
   },
   "file_extension": ".py",
   "mimetype": "text/x-python",
   "name": "python",
   "nbconvert_exporter": "python",
   "pygments_lexer": "ipython3",
   "version": "3.9.18"
  }
 },
 "nbformat": 4,
 "nbformat_minor": 5
}
