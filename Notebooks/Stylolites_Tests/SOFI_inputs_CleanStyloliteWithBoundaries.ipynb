{
 "cells": [
  {
   "cell_type": "code",
   "execution_count": 1,
   "id": "4493379b",
   "metadata": {},
   "outputs": [],
   "source": [
    "%load_ext autoreload\n",
    "%autoreload 2\n",
    "%matplotlib inline\n",
    "\n",
    "import warnings\n",
    "warnings.filterwarnings('ignore')\n",
    "\n",
    "import os\n",
    "import numpy as np\n",
    "import scipy as sc\n",
    "import matplotlib.pyplot as plt\n",
    "\n",
    "import pyfrac\n",
    "from pyfrac.utils.sofiutils import *\n",
    "from pyfrac.utils.modellingutils import *\n",
    "from pyfrac.hydrafrac.acquisition import recgeom"
   ]
  },
  {
   "cell_type": "code",
   "execution_count": 2,
   "id": "45744c6a",
   "metadata": {},
   "outputs": [],
   "source": [
    "# 3 layer model - USER DEFINED\n",
    "expname = 'StySamp'\n",
    "outpath = '../../FDModelling/StylolitesSample/'"
   ]
  },
  {
   "cell_type": "markdown",
   "id": "48d75b78",
   "metadata": {},
   "source": [
    "# Rock Properties - subsurface models"
   ]
  },
  {
   "cell_type": "code",
   "execution_count": 3,
   "id": "b7626c54",
   "metadata": {},
   "outputs": [],
   "source": [
    "xlim = 0.2  # 20cm\n",
    "ylim = 0.1  # 10cm\n",
    "zlim = 0.1  # 10cm\n",
    "nbounds = 30\n",
    "# time params (in seconds!)\n",
    "dt = 5e-8\n",
    "tdur = 0.0005"
   ]
  },
  {
   "cell_type": "code",
   "execution_count": 4,
   "id": "ca5e9819",
   "metadata": {},
   "outputs": [
    {
     "name": "stdout",
     "output_type": "stream",
     "text": [
      "160 110 110\n"
     ]
    }
   ],
   "source": [
    "dx = dy = dz = 0.002  # 5mm\n",
    "\n",
    "nx = int(xlim/dx) + (nbounds*2)\n",
    "ny = int(ylim/dy) + (nbounds*2)\n",
    "nz = int(zlim/dz) + (nbounds*2)\n",
    "\n",
    "# Subsurface properties\n",
    "vp = 5260  # m/s\n",
    "vs = 3260  # m/s\n",
    "rho = 2590;  # kg/m3\n",
    " \n",
    "print(nx,ny,nz)"
   ]
  },
  {
   "cell_type": "code",
   "execution_count": 5,
   "id": "ac1c0bbe",
   "metadata": {},
   "outputs": [],
   "source": [
    "# MAKE MODELS\n",
    "mod_vp = vp * np.ones([nx, ny, nz])\n",
    "mod_vs = vs * np.ones([nx, ny, nz])\n",
    "mod_rho = rho * np.ones([nx, ny, nz])"
   ]
  },
  {
   "cell_type": "code",
   "execution_count": 6,
   "id": "0199fd2b",
   "metadata": {},
   "outputs": [],
   "source": [
    "# mod_vp[:,90,:] =  vp*1.5\n",
    "# mod_vp[:,75,:] =  vp*1.5\n",
    "# mod_vp[:,65,:] =  vp*1.5\n",
    "# fig,ax = plt.subplots(1,1,figsize=[5,5])\n",
    "# c = ax.imshow(mod_vp[nbounds:-nbounds,nbounds:-nbounds,0].T, cmap='copper_r')\n",
    "# c = ax.imshow(mod_vp[0,nbounds:-nbounds,nbounds:-nbounds].T, cmap='copper_r')"
   ]
  },
  {
   "cell_type": "code",
   "execution_count": 14,
   "id": "4131ae76",
   "metadata": {},
   "outputs": [
    {
     "data": {
      "image/png": "[encoded data removed]",
      "text/plain": [
       "<Figure size 500x500 with 1 Axes>"
      ]
     },
     "metadata": {},
     "output_type": "display_data"
    }
   ],
   "source": [
    "print(mod_vp.shape)\n",
    "fig,ax = plt.subplots(1,1,figsize=[5,5])\n",
    "c = ax.imshow(mod_vp[nbounds:-nbounds,nbounds:-nbounds,0].T, cmap='copper_r')\n",
    "# c = ax.imshow(mod_vp[0,nbounds:-nbounds,nbounds:-nbounds].T, cmap='copper_r')"
   ]
  },
  {
   "cell_type": "code",
   "execution_count": 8,
   "id": "13b7cb6e",
   "metadata": {},
   "outputs": [],
   "source": [
    "# Write as binary\n",
    "os.makedirs(os.path.join(outpath,'inputs/model/'), exist_ok=True)\n",
    "np.transpose(mod_vp,[0,2,1]).astype(np.float32).tofile(os.path.join(outpath,'inputs/model/%s.vp'%expname))#,format='<f')\n",
    "np.transpose(mod_vs,[0,2,1]).astype(np.float32).tofile(os.path.join(outpath,'inputs/model/%s.vs'%expname))  #,format='<f')\n",
    "np.transpose(mod_rho,[0,2,1]).astype(np.float32).tofile(os.path.join(outpath,'inputs/model/%s.rho'%expname))  #,format='<f')"
   ]
  },
  {
   "cell_type": "markdown",
   "id": "661a3ddb",
   "metadata": {},
   "source": [
    "# Acquisition Geometry - Receivers & Source"
   ]
  },
  {
   "cell_type": "code",
   "execution_count": 9,
   "id": "1ba4f3e9",
   "metadata": {},
   "outputs": [
    {
     "name": "stdout",
     "output_type": "stream",
     "text": [
      "[[0.11 0.06 0.11]\n",
      " [0.16 0.06 0.11]\n",
      " [0.21 0.06 0.11]\n",
      " [0.11 0.16 0.11]\n",
      " [0.21 0.16 0.11]\n",
      " [0.26 0.11 0.11]\n",
      " [0.06 0.11 0.11]\n",
      " [0.11 0.11 0.06]\n",
      " [0.16 0.11 0.06]\n",
      " [0.21 0.11 0.06]\n",
      " [0.11 0.11 0.16]\n",
      " [0.16 0.11 0.16]\n",
      " [0.21 0.11 0.16]]\n"
     ]
    }
   ],
   "source": [
    "# RECEIVERS\n",
    "recA = np.array([50, 50, 0])/1000\n",
    "recB = np.array([100, 50, 0])/1000\n",
    "recC = np.array([150, 50, 0])/1000\n",
    "\n",
    "recD = np.array([50, 50, 100])/1000\n",
    "recE = np.array([150, 50, 100])/1000\n",
    "\n",
    "recF = np.array([200, 50, 50])/1000\n",
    "recG = np.array([0, 50, 50])/1000\n",
    "\n",
    "recH = np.array([50, 0, 50])/1000\n",
    "recI = np.array([100, 0, 50])/1000\n",
    "recJ = np.array([150, 0, 50])/1000\n",
    "\n",
    "recK = np.array([50, 100, 50])/1000\n",
    "recL = np.array([100, 100, 50])/1000\n",
    "recM = np.array([150, 100, 50])/1000\n",
    "\n",
    "\n",
    "\n",
    "recs=np.vstack([recA,recB,recC,recD,\n",
    "                recE,recF,recG,recH,\n",
    "                recI,recJ,recK,recL, \n",
    "                recM\n",
    "               ])\n",
    "\n",
    "# shift x & y for abs boundaries\n",
    "recs[:,0] += (nbounds*dx)\n",
    "recs[:,1] += (nbounds*dy)\n",
    "recs[:,2] += (nbounds*dz)\n",
    "\n",
    "rec_xzy = np.vstack([recs.T[0],recs.T[2],recs.T[1]]).T\n",
    "print(rec_xzy)\n",
    "np.savetxt(os.path.join(outpath,'inputs/receiver.dat'),\n",
    "           rec_xzy.astype(np.float32), \n",
    "           fmt='%.4f')"
   ]
  },
  {
   "cell_type": "code",
   "execution_count": 10,
   "id": "65ca935d",
   "metadata": {},
   "outputs": [
    {
     "name": "stdout",
     "output_type": "stream",
     "text": [
      "0.11\t0.11\t0.06\t2.5e-07\t100000\t1.0\n"
     ]
    }
   ],
   "source": [
    "# Source \n",
    "sx, sy, sz = 0.1, 0.05, 0.05\n",
    "sx += (nbounds*dx)\n",
    "sy += (nbounds*dy)\n",
    "sz += (nbounds*dz)\n",
    "\n",
    "sx, sz, sy = recs[0]\n",
    "\n",
    "td = dt*5  # ignition time 5 timesteps in\n",
    "fc = 100000  # central frequency\n",
    "amp = 1.  # amplitude\n",
    "string_list = [str(i) for i in [sx, sz, sy, td, fc, amp]]\n",
    "src_string = '\\t'.join(string_list)\n",
    "print(src_string)\n",
    "\n",
    "text_file = open(os.path.join(outpath,'inputs/sources.dat'), \"wt\")\n",
    "text_file.writelines(src_string)\n",
    "text_file.close()"
   ]
  },
  {
   "cell_type": "markdown",
   "id": "e3b49e31",
   "metadata": {},
   "source": [
    "# BUILD JSON FOR SOFI"
   ]
  },
  {
   "cell_type": "code",
   "execution_count": 11,
   "id": "3a17d0bb",
   "metadata": {},
   "outputs": [],
   "source": [
    "# mod params\n",
    "n_xzy = mod_rho.transpose(0,2,1).shape\n",
    "d_xzy = [dx, dz, dy]\n",
    "\n",
    "\n",
    "tsnap_params = [dt, 2000*dt, dt*5]\n",
    "smgrm_ndt = 100\n",
    "\n",
    "SOFIjsonfilename = os.path.join(outpath,'SOFI3D_%s.json'%expname)\n",
    "\n",
    "sofimaster = '~/Documents/Projects/MicroseismicModelling/SOFI3D-master/bin/'\n",
    "num_procs = 8\n",
    "sofi_param_file = \"SOFI3D_%s.json\"%expname\n",
    "shellfilename = os.path.join(outpath,'runSOFI3D_%s.sh'%expname)\n"
   ]
  },
  {
   "cell_type": "code",
   "execution_count": 12,
   "id": "bf1445f1",
   "metadata": {},
   "outputs": [],
   "source": [
    "# GET THE DIFFERENT STRINGS - this will be updated in the future\n",
    "default_strs = get_default_strings()\n",
    "\n",
    "monitor_strs = get_monitor_str(tsnap_params, smgrm_ndt, expname, sbsmp_xyz=1)\n",
    "t_str = get_time_str(dt, tdur)\n",
    "mod_strs = get_subsurfmod_str(n_xzy, d_xzy,expname)\n",
    "bndry_str = get_boundary_str(fs=False, npad=nbounds, cpml=True)\n",
    "src_str = get_source_str()\n",
    "\n",
    "write_SOFIjsonParams = write_SOFIjsonParams(default_strs, \n",
    "                                            monitor_strs,  \n",
    "                                            t_str, \n",
    "                                            mod_strs, \n",
    "                                            src_str, \n",
    "                                            bndry_str, \n",
    "                                            SOFIjsonfilename)\n",
    "runscript = write_SOFIrunScript(sofimaster, \n",
    "                                num_procs, \n",
    "                                sofi_param_file, \n",
    "                                shellfilename)"
   ]
  },
  {
   "cell_type": "code",
   "execution_count": 13,
   "id": "04c83421",
   "metadata": {},
   "outputs": [
    {
     "data": {
      "text/plain": [
       "(160, 110, 110)"
      ]
     },
     "execution_count": 13,
     "metadata": {},
     "output_type": "execute_result"
    }
   ],
   "source": [
    "mod_rho.transpose(0,2,1).shape"
   ]
  },
  {
   "cell_type": "code",
   "execution_count": null,
   "id": "28b37c0b",
   "metadata": {},
   "outputs": [],
   "source": []
  }
 ],
 "metadata": {
  "kernelspec": {
   "display_name": "Python 3 (ipykernel)",
   "language": "python",
   "name": "python3"
  },
  "language_info": {
   "codemirror_mode": {
    "name": "ipython",
    "version": 3
   },
   "file_extension": ".py",
   "mimetype": "text/x-python",
   "name": "python",
   "nbconvert_exporter": "python",
   "pygments_lexer": "ipython3",
   "version": "3.9.16"
  }
 },
 "nbformat": 4,
 "nbformat_minor": 5
}
