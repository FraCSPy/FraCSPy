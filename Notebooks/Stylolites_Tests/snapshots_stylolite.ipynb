{
 "cells": [
  {
   "cell_type": "code",
   "execution_count": 1,
   "id": "b62558f7",
   "metadata": {},
   "outputs": [],
   "source": [
    "import numpy as np\n",
    "import os\n",
    "import segyio\n",
    "\n",
    "from pyfrac.visualisation.plotting_support import explode_volume\n",
    "from pyfrac.visualisation.traceviz import wiggleplot\n",
    "\n",
    "%matplotlib inline\n",
    "import matplotlib.pyplot as plt"
   ]
  },
  {
   "cell_type": "code",
   "execution_count": 2,
   "id": "2b12b126",
   "metadata": {},
   "outputs": [],
   "source": [
    "# expname = 'homoRB'\n",
    "# projpath = '../../FDModelling/HomoLabRockBlock/'\n",
    "\n",
    "# expname = 'StylolitesTest_pointrecs'\n",
    "# projpath = '../../FDModelling/StylolitesTest_pointrecs/'\n",
    "\n",
    "expname = 'StylolitesTest_pointrecs_v80_3mm'\n",
    "projpath = '../../FDModelling/StylolitesTest_pointrecs_v80_3mm/'\n",
    "\n",
    "# expname = 'StySamp'\n",
    "# projpath = '/home/birniece/Documents/Projects/MicroseismicModelling/MicroseismicProcessing/FDModelling/StylolitesSample'\n",
    "\n",
    "snappath = os.path.join(projpath,'outputs/snap/')\n",
    "seispath = os.path.join(projpath,'outputs/su/')\n",
    "\n",
    "outpath = './StylolitesData/'"
   ]
  },
  {
   "cell_type": "code",
   "execution_count": 3,
   "id": "74e3bb4f",
   "metadata": {},
   "outputs": [
    {
     "name": "stdout",
     "output_type": "stream",
     "text": [
      "460\n"
     ]
    }
   ],
   "source": [
    "nbounds = abs_bounds = 30 # boundary points\n",
    "\n",
    "dx = dy = dz = 0.001  # 5mm\n",
    "dimlims = 0.4 + 2*(abs_bounds*dx) # 40cm cubed\n",
    "nx = ny = nz = int(dimlims/dx) \n",
    "print(nx)\n",
    "\n",
    "nr = 150\n",
    "snap_sbsmp = 10"
   ]
  },
  {
   "cell_type": "raw",
   "id": "25e9009a",
   "metadata": {},
   "source": [
    "xlim = 0.2  # 20cm\n",
    "ylim = 0.1  # 10cm\n",
    "zlim = 0.1  # 10cm\n",
    "nbounds = 30\n",
    "\n",
    "dx = dy = dz = 0.002  # 5mm\n",
    "\n",
    "nx = int(xlim/dx) + (nbounds*2)\n",
    "ny = int(ylim/dy) + (nbounds*2)\n",
    "nz = int(zlim/dz) + (nbounds*2)\n",
    "print(nx,ny,nz)\n",
    "# dimlims = nx*dx\n",
    "\n",
    "nr = 13"
   ]
  },
  {
   "cell_type": "markdown",
   "id": "ad76d6a7",
   "metadata": {},
   "source": [
    "# SNAPS"
   ]
  },
  {
   "cell_type": "code",
   "execution_count": 4,
   "id": "859340aa",
   "metadata": {},
   "outputs": [],
   "source": [
    "def read_snap(snap_file, modshape, snap_sbsmp=1, nbounds=0., freesurface=False):\n",
    "    '''modshape = [nx,ny,nz]\n",
    "    '''\n",
    "    # Read in snaps file\n",
    "    snaps_1d = np.fromfile(snap_file, dtype='<f')\n",
    "\n",
    "    # Get snap dimensions\n",
    "    snap_nx = int(modshape[0] / snap_sbsmp)\n",
    "    snap_ny = int(modshape[1] / snap_sbsmp)\n",
    "    snap_nz = int(modshape[2] / snap_sbsmp)\n",
    "    nsnaps = int(snaps_1d.shape[0] / (snap_nx * snap_ny * snap_nz))\n",
    "\n",
    "    snaps_4d = snaps_1d.reshape([nsnaps, snap_nz, snap_nx, snap_ny, ])\n",
    "    snaps_4d = np.transpose(snaps_4d, [0, 3, 1, 2])\n",
    "\n",
    "    if np.float64(nbounds) == 0.:\n",
    "        return snaps_4d\n",
    "    else:\n",
    "        bounds_shift = int(nbounds / snap_sbsmp)\n",
    "        if not freesurface:\n",
    "            snaps_4d_excbounds = snaps_4d[:,\n",
    "                                 bounds_shift:-bounds_shift,\n",
    "                                 bounds_shift:-bounds_shift,\n",
    "                                 bounds_shift:-bounds_shift]\n",
    "        else:\n",
    "            snaps_4d_excbounds = snaps_4d[:,\n",
    "                                 :-bounds_shift,\n",
    "                                 bounds_shift:-bounds_shift,\n",
    "                                 bounds_shift:-bounds_shift]\n",
    "        return snaps_4d, snaps_4d_excbounds\n",
    "    "
   ]
  },
  {
   "cell_type": "code",
   "execution_count": 5,
   "id": "4e652d64",
   "metadata": {},
   "outputs": [
    {
     "ename": "FileNotFoundError",
     "evalue": "[Errno 2] No such file or directory: '../../FDModelling/StylolitesTest_pointrecs_v80_3mm/outputs/snap/StylolitesTest_pointrecs_v80_3mm.bin.div'",
     "output_type": "error",
     "traceback": [
      "\u001b[0;31m---------------------------------------------------------------------------\u001b[0m",
      "\u001b[0;31mFileNotFoundError\u001b[0m                         Traceback (most recent call last)",
      "Cell \u001b[0;32mIn[5], line 3\u001b[0m\n\u001b[1;32m      1\u001b[0m snap_file \u001b[38;5;241m=\u001b[39m os\u001b[38;5;241m.\u001b[39mpath\u001b[38;5;241m.\u001b[39mjoin(snappath,\u001b[38;5;124m'\u001b[39m\u001b[38;5;132;01m%s\u001b[39;00m\u001b[38;5;124m.bin.div\u001b[39m\u001b[38;5;124m'\u001b[39m\u001b[38;5;241m%\u001b[39mexpname)\n\u001b[0;32m----> 3\u001b[0m snaps_4d, snaps_4d_excbounds \u001b[38;5;241m=\u001b[39m \u001b[43mread_snap\u001b[49m\u001b[43m(\u001b[49m\u001b[43msnap_file\u001b[49m\u001b[43m,\u001b[49m\u001b[43m \u001b[49m\n\u001b[1;32m      4\u001b[0m \u001b[43m                                         \u001b[49m\u001b[43mmodshape\u001b[49m\u001b[43m \u001b[49m\u001b[38;5;241;43m=\u001b[39;49m\u001b[43m \u001b[49m\u001b[43m[\u001b[49m\u001b[43mnx\u001b[49m\u001b[43m,\u001b[49m\u001b[43m \u001b[49m\u001b[43mny\u001b[49m\u001b[43m,\u001b[49m\u001b[43m \u001b[49m\u001b[43mnz\u001b[49m\u001b[43m]\u001b[49m\u001b[43m,\u001b[49m\u001b[43m \u001b[49m\n\u001b[1;32m      5\u001b[0m \u001b[43m                                         \u001b[49m\u001b[43msnap_sbsmp\u001b[49m\u001b[38;5;241;43m=\u001b[39;49m\u001b[43msnap_sbsmp\u001b[49m\u001b[43m,\u001b[49m\u001b[43m \u001b[49m\n\u001b[1;32m      6\u001b[0m \u001b[43m                                         \u001b[49m\u001b[43mnbounds\u001b[49m\u001b[38;5;241;43m=\u001b[39;49m\u001b[43mnbounds\u001b[49m\u001b[43m,\u001b[49m\u001b[43m \u001b[49m\n\u001b[1;32m      7\u001b[0m \u001b[43m                                         \u001b[49m\u001b[43mfreesurface\u001b[49m\u001b[38;5;241;43m=\u001b[39;49m\u001b[38;5;28;43;01mFalse\u001b[39;49;00m\u001b[43m)\u001b[49m\n\u001b[1;32m      9\u001b[0m \u001b[38;5;28mprint\u001b[39m(snaps_4d\u001b[38;5;241m.\u001b[39mshape)\n\u001b[1;32m     10\u001b[0m \u001b[38;5;28mprint\u001b[39m(snaps_4d_excbounds\u001b[38;5;241m.\u001b[39mshape)\n",
      "Cell \u001b[0;32mIn[4], line 5\u001b[0m, in \u001b[0;36mread_snap\u001b[0;34m(snap_file, modshape, snap_sbsmp, nbounds, freesurface)\u001b[0m\n\u001b[1;32m      2\u001b[0m \u001b[38;5;250m\u001b[39m\u001b[38;5;124;03m'''modshape = [nx,ny,nz]\u001b[39;00m\n\u001b[1;32m      3\u001b[0m \u001b[38;5;124;03m'''\u001b[39;00m\n\u001b[1;32m      4\u001b[0m \u001b[38;5;66;03m# Read in snaps file\u001b[39;00m\n\u001b[0;32m----> 5\u001b[0m snaps_1d \u001b[38;5;241m=\u001b[39m \u001b[43mnp\u001b[49m\u001b[38;5;241;43m.\u001b[39;49m\u001b[43mfromfile\u001b[49m\u001b[43m(\u001b[49m\u001b[43msnap_file\u001b[49m\u001b[43m,\u001b[49m\u001b[43m \u001b[49m\u001b[43mdtype\u001b[49m\u001b[38;5;241;43m=\u001b[39;49m\u001b[38;5;124;43m'\u001b[39;49m\u001b[38;5;124;43m<f\u001b[39;49m\u001b[38;5;124;43m'\u001b[39;49m\u001b[43m)\u001b[49m\n\u001b[1;32m      7\u001b[0m \u001b[38;5;66;03m# Get snap dimensions\u001b[39;00m\n\u001b[1;32m      8\u001b[0m snap_nx \u001b[38;5;241m=\u001b[39m \u001b[38;5;28mint\u001b[39m(modshape[\u001b[38;5;241m0\u001b[39m] \u001b[38;5;241m/\u001b[39m snap_sbsmp)\n",
      "\u001b[0;31mFileNotFoundError\u001b[0m: [Errno 2] No such file or directory: '../../FDModelling/StylolitesTest_pointrecs_v80_3mm/outputs/snap/StylolitesTest_pointrecs_v80_3mm.bin.div'"
     ]
    }
   ],
   "source": [
    "\n",
    "snap_file = os.path.join(snappath,'%s.bin.div'%expname)\n",
    "\n",
    "snaps_4d, snaps_4d_excbounds = read_snap(snap_file, \n",
    "                                         modshape = [nx, ny, nz], \n",
    "                                         snap_sbsmp=snap_sbsmp, \n",
    "                                         nbounds=nbounds, \n",
    "                                         freesurface=False)\n",
    "\n",
    "print(snaps_4d.shape)\n",
    "print(snaps_4d_excbounds.shape)\n",
    "\n",
    "print(np.unravel_index(np.argmax(snaps_4d),snaps_4d.shape))\n",
    "print(np.unravel_index(np.argmax(snaps_4d_excbounds),snaps_4d_excbounds.shape))"
   ]
  },
  {
   "cell_type": "code",
   "execution_count": null,
   "id": "c179ee2f",
   "metadata": {},
   "outputs": [],
   "source": [
    "fig,axs = plt.subplots(4,7, figsize=[15,10], sharey=True)\n",
    "for i,ax in enumerate(axs.ravel()):\n",
    "    snap = snaps_4d_excbounds[i*3,:,20,:]\n",
    "    ax.imshow(snap/np.max(abs(snap)),  \n",
    "                          cmap='binary', vmin=-1, vmax=1, \n",
    "                         )\n",
    "    ax.set_title('t step %i'%(i*3))\n",
    "# for ax in axs.ravel(): ax.set_yticks([]); ax.set_xticks([])\n",
    "plt.tight_layout()"
   ]
  },
  {
   "cell_type": "raw",
   "id": "d22a4c1b",
   "metadata": {},
   "source": [
    "explode_volume(snaps_4d[10], p=99.8, x=49, t=74, y=49)"
   ]
  },
  {
   "cell_type": "raw",
   "id": "cf0b408b",
   "metadata": {},
   "source": [
    "snap_sbsmp = 2\n",
    "bounds_shift = int(nbounds/snap_sbsmp)\n",
    "snap_file = os.path.join(snappath,'%s.bin.div'%expname)\n",
    "\n",
    "p_snaps_1d = np.fromfile(snap_file,dtype='<f')\n",
    "\n",
    "snap_nx = int(nx/snap_sbsmp )\n",
    "snap_ny = int(ny/snap_sbsmp )\n",
    "snap_nz= int(nz/snap_sbsmp )\n",
    "nsnaps = int(p_snaps_1d.shape[0]/(snap_nx*snap_ny*snap_nz))\n",
    "\n",
    "p_snaps = p_snaps_1d.reshape([nsnaps, snap_nz, snap_nx, snap_ny,])\n",
    "p_snaps = np.transpose(p_snaps,[0,3,1,2])\n",
    "p_snaps = p_snaps/np.max(abs(p_snaps))\n",
    "\n",
    "p_snaps.shape"
   ]
  },
  {
   "cell_type": "code",
   "execution_count": null,
   "id": "eb9a8079",
   "metadata": {},
   "outputs": [],
   "source": [
    "explode_volume(snaps_4d_excbounds[65], p=99.99999999, x=20, t=20, y=20)"
   ]
  },
  {
   "cell_type": "code",
   "execution_count": null,
   "id": "ea660863",
   "metadata": {},
   "outputs": [],
   "source": [
    "fig,axs = plt.subplots(4,7, figsize=[15,10], sharey=True)\n",
    "for i,ax in enumerate(axs.ravel()):\n",
    "    snap = snaps_4d_excbounds[i*3,:,20,:]\n",
    "    ax.imshow(snap.T/np.max(abs(snaps_4d_excbounds)),  \n",
    "                          cmap='binary', vmin=-0.01, vmax=0.01, \n",
    "                         )\n",
    "    ax.set_title('t step %i'%(i*3))\n",
    "# for ax in axs.ravel(): ax.set_yticks([]); ax.set_xticks([])\n",
    "plt.tight_layout()"
   ]
  },
  {
   "cell_type": "markdown",
   "id": "f54360de",
   "metadata": {},
   "source": [
    "# Receivers"
   ]
  },
  {
   "cell_type": "code",
   "execution_count": null,
   "id": "f613c5ac",
   "metadata": {},
   "outputs": [],
   "source": [
    "def read_seis(seisfile, nr):\n",
    "    # s_wave_file = os.path.join(data_path,'test.bin.curl')\n",
    "    seis_flat = np.genfromtxt(seisfile)\n",
    "\n",
    "    # determine number of timesamples and ensure it saved fully\n",
    "    nt = int(seis_flat.shape[0] / nr)\n",
    "    try:\n",
    "        seis_flat.reshape((nr, nt))\n",
    "    except:\n",
    "        print('Not good dims \\n nt:%i nr:%i \\n vz flat:%i' % (nt, nr, seis_flat.shape[0]))\n",
    "\n",
    "    # Resample to 2D\n",
    "    seis = seis_flat[:nt * nr].reshape((nr, nt))\n",
    "    return seis"
   ]
  },
  {
   "cell_type": "code",
   "execution_count": null,
   "id": "b9c1559e",
   "metadata": {},
   "outputs": [],
   "source": [
    "p = read_seis(os.path.join(seispath,'%s_div.txt'%expname), nr)\n",
    "vx = read_seis(os.path.join(seispath,'%s_vx.txt'%expname), nr)\n",
    "vy = read_seis(os.path.join(seispath,'%s_vy.txt'%expname), nr)\n",
    "vz = read_seis(os.path.join(seispath,'%s_vz.txt'%expname), nr)\n",
    "\n"
   ]
  },
  {
   "cell_type": "code",
   "execution_count": null,
   "id": "a5bfadb4",
   "metadata": {},
   "outputs": [],
   "source": [
    "vx.shape"
   ]
  },
  {
   "cell_type": "code",
   "execution_count": null,
   "id": "45e0256f",
   "metadata": {},
   "outputs": [],
   "source": [
    "fig,axs = wiggleplot(vz[::25,:200]);\n",
    "fig.suptitle('Vz', fontweight='bold')\n",
    "plt.tight_layout()"
   ]
  },
  {
   "cell_type": "markdown",
   "id": "94457212",
   "metadata": {},
   "source": [
    "# SAVE DATA"
   ]
  },
  {
   "cell_type": "code",
   "execution_count": null,
   "id": "4ec1386b",
   "metadata": {},
   "outputs": [],
   "source": [
    "mod_path = os.path.join(projpath,'inputs/model/')\n",
    "\n",
    "vp_mod = np.fromfile(os.path.join(mod_path,'%s.vp'%expname), dtype='<f').reshape([nz, nx, ny])[nbounds:-nbounds,nbounds:-nbounds,nbounds:-nbounds]\n",
    "vs_mod = np.fromfile(os.path.join(mod_path,'%s.vp'%expname), dtype='<f').reshape([nz, nx, ny])[nbounds:-nbounds,nbounds:-nbounds,nbounds:-nbounds]\n",
    "rho_mod = np.fromfile(os.path.join(mod_path,'%s.vp'%expname), dtype='<f').reshape([nz, nx, ny])[nbounds:-nbounds,nbounds:-nbounds,nbounds:-nbounds]\n",
    "\n",
    "\n",
    "vp_mod.shape\n",
    "\n",
    "recs = np.loadtxt(os.path.join(projpath,'inputs/receiver.dat')).T\n",
    "recs = recs - (nbounds*dx)"
   ]
  },
  {
   "cell_type": "code",
   "execution_count": null,
   "id": "e2bd5b4a",
   "metadata": {},
   "outputs": [],
   "source": [
    "fig,ax = plt.subplots(1,1,figsize=[5,5])\n",
    "c = ax.imshow(vp_mod[:,:,0].T, aspect='auto', cmap='copper_r')\n",
    "fig,ax = plt.subplots(1,1,figsize=[5,5])\n",
    "c = ax.imshow(vp_mod[0,:,:], cmap='copper_r')"
   ]
  },
  {
   "cell_type": "code",
   "execution_count": null,
   "id": "3c080a39",
   "metadata": {},
   "outputs": [],
   "source": [
    "np.savez(os.path.join(outpath,'StylolitesExp_3mm_5r_3sty_80perc.npz'),\n",
    "         p = p[:,:200],\n",
    "         vx = vx[:,:200],\n",
    "         vy = vy[:,:200],\n",
    "         vz = vz[:,:200],\n",
    "         p_snaps = snaps_4d_excbounds,\n",
    "         vp_mod = vp_mod,\n",
    "         vs_mod = vs_mod,\n",
    "         rho_mod = rho_mod,\n",
    "         recs = recs\n",
    "        )"
   ]
  },
  {
   "cell_type": "code",
   "execution_count": null,
   "id": "2f156a0e",
   "metadata": {},
   "outputs": [],
   "source": []
  },
  {
   "cell_type": "code",
   "execution_count": null,
   "id": "99e9ff62",
   "metadata": {},
   "outputs": [],
   "source": []
  },
  {
   "cell_type": "code",
   "execution_count": null,
   "id": "2ec109ba",
   "metadata": {},
   "outputs": [],
   "source": [
    "vz.shape"
   ]
  },
  {
   "cell_type": "raw",
   "id": "ad67fc7d",
   "metadata": {},
   "source": [
    "vz_file = os.path.join(seispath,'%s_vz.txt'%expname)\n",
    "# s_wave_file = os.path.join(data_path,'test.bin.curl')\n",
    "vz_flat = np.loadtxt(vz_file,delimiter=\"\\n\")\n",
    "nt = int(vz_flat.shape[0]/nr)\n",
    "print('nt:%i, nr:%i'%(nt,nr))\n",
    "\n",
    "try: \n",
    "    vz_flat.reshape((nr,nt))\n",
    "except:\n",
    "    print('Not good dims \\n nt:%i nr:%i \\n vz flat:%i'%(nt,nr,vz_flat.shape[0]))\n",
    "    \n",
    "vz = vz_flat[:nt*nr].reshape((nr,nt))\n",
    "print(np.max(vz[:1000]))"
   ]
  },
  {
   "cell_type": "code",
   "execution_count": null,
   "id": "34e2ef7e",
   "metadata": {},
   "outputs": [],
   "source": [
    "seislim = np.percentile(abs(vz[:6500]),99.)\n",
    "vmin=-1*seislim\n",
    "vmax=seislim    \n",
    "cmap='binary'\n",
    "              \n",
    "plt.figure(figsize=[15,10])\n",
    "plt.imshow(vz.T, aspect='auto', cmap=cmap, vmin=vmin, vmax=vmax, interpolation=None)"
   ]
  },
  {
   "cell_type": "code",
   "execution_count": null,
   "id": "e1202dbe",
   "metadata": {},
   "outputs": [],
   "source": [
    "fig,axs = wiggleplot(vz[:,:50]);\n",
    "fig.suptitle('Vz', fontweight='bold')\n",
    "plt.tight_layout()"
   ]
  },
  {
   "cell_type": "code",
   "execution_count": null,
   "id": "1b392e0c",
   "metadata": {},
   "outputs": [],
   "source": []
  }
 ],
 "metadata": {
  "kernelspec": {
   "display_name": "Python 3 (ipykernel)",
   "language": "python",
   "name": "python3"
  },
  "language_info": {
   "codemirror_mode": {
    "name": "ipython",
    "version": 3
   },
   "file_extension": ".py",
   "mimetype": "text/x-python",
   "name": "python",
   "nbconvert_exporter": "python",
   "pygments_lexer": "ipython3",
   "version": "3.9.18"
  }
 },
 "nbformat": 4,
 "nbformat_minor": 5
}
