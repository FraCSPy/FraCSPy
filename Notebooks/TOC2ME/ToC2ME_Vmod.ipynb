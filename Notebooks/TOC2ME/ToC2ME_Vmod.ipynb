{
 "cells": [
  {
   "cell_type": "code",
   "execution_count": 1,
   "id": "efdec02a-a680-400f-80ca-5894eb626260",
   "metadata": {},
   "outputs": [],
   "source": [
    "import numpy as np\n",
    "import pandas as pd\n",
    "import os\n",
    "import scipy \n",
    "from scipy.interpolate import RegularGridInterpolator\n",
    "\n",
    "%matplotlib inline\n",
    "import matplotlib.pyplot as plt\n",
    "\n",
    "from pyfrac.visualisation.plotting_support import explode_volume"
   ]
  },
  {
   "cell_type": "code",
   "execution_count": 2,
   "id": "0b2d3e94-0c83-4438-a086-c174272a59b5",
   "metadata": {},
   "outputs": [],
   "source": [
    "# PANCAKE MODEL FROM: https://zenodo.org/records/4574249\n",
    "mod_outpath = '/home/birniece/Documents/data/ToC2ME/VelocityModels'\n",
    "vmod_file = '/home/birniece/Documents/data/ToC2ME/VelocityModels/ToC2MEVelModel.mat'"
   ]
  },
  {
   "cell_type": "code",
   "execution_count": 3,
   "id": "de2330f9-0b57-4016-b12c-d03da73c15f1",
   "metadata": {},
   "outputs": [
    {
     "data": {
      "text/plain": [
       "dict_items([('__header__', b'MATLAB 5.0 MAT-file, Platform: MACI64, Created on: Tue Mar  2 10:54:39 2021'), ('__version__', '1.0'), ('__globals__', []), ('rho', array([[2400],\n",
       "       [2400],\n",
       "       [2400],\n",
       "       ...,\n",
       "       [2700],\n",
       "       [2700],\n",
       "       [2700]], dtype=uint16)), ('vp', array([[2500.     ],\n",
       "       [2500.     ],\n",
       "       [2500.     ],\n",
       "       ...,\n",
       "       [4888.76343],\n",
       "       [4888.76343],\n",
       "       [4888.76343]])), ('vs', array([[1250.        ],\n",
       "       [1250.        ],\n",
       "       [1250.        ],\n",
       "       ...,\n",
       "       [2758.16173352],\n",
       "       [2758.16173352],\n",
       "       [2758.16173352]])), ('z', array([[   0],\n",
       "       [   1],\n",
       "       [   2],\n",
       "       ...,\n",
       "       [5998],\n",
       "       [5999],\n",
       "       [6000]], dtype=uint16))])"
      ]
     },
     "execution_count": 3,
     "metadata": {},
     "output_type": "execute_result"
    }
   ],
   "source": [
    "mod_zprofile = scipy.io.loadmat(vmod_file)\n",
    "mod_zprofile.items()"
   ]
  },
  {
   "cell_type": "code",
   "execution_count": 4,
   "id": "a7ca8029-e83a-486d-9cae-6ce490dbb9c2",
   "metadata": {},
   "outputs": [
    {
     "name": "stdout",
     "output_type": "stream",
     "text": [
      "6001 6001\n"
     ]
    },
    {
     "data": {
      "image/png": "[encoded data removed]",
      "text/plain": [
       "<Figure size 400x500 with 3 Axes>"
      ]
     },
     "metadata": {},
     "output_type": "display_data"
    }
   ],
   "source": [
    "datum = -980\n",
    "z = mod_zprofile['z'] + datum\n",
    "vp_1D = mod_zprofile['vp']\n",
    "vs_1D = mod_zprofile['vs']\n",
    "rho_1D = mod_zprofile['rho']\n",
    "\n",
    "print(len(z), len(vp_1D))\n",
    "fig,axs = plt.subplots(1,3,figsize=[4,5], sharey=True)\n",
    "axs[0].plot(vp_1D, z,'k')\n",
    "axs[1].plot(vs_1D, z,'k')\n",
    "axs[2].plot(rho_1D, z,'k')\n",
    "\n",
    "axs[0].set_title('Vp')\n",
    "axs[1].set_title('Vs')\n",
    "axs[2].set_title('Rho')\n",
    "\n",
    "for ax in axs:ax.set_ylim(5100,-1000)\n",
    "fig.tight_layout()"
   ]
  },
  {
   "cell_type": "code",
   "execution_count": 11,
   "id": "87a7176b-9788-4cda-b8b2-f28c41bd0ba8",
   "metadata": {},
   "outputs": [
    {
     "name": "stdout",
     "output_type": "stream",
     "text": [
      "2500.0 4464.6218214580895 6055.14252\n"
     ]
    }
   ],
   "source": [
    "print(vp_1D.min(),vp_1D.mean(),vp_1D.max())"
   ]
  },
  {
   "cell_type": "markdown",
   "id": "aa583510-d335-4f26-a99e-a6dbd13cbe82",
   "metadata": {},
   "source": [
    "---------------------"
   ]
  },
  {
   "cell_type": "markdown",
   "id": "d1fc22fb-c736-4d3d-9430-746c3b2645e4",
   "metadata": {},
   "source": [
    "# Geometry\n",
    "rec file from : https://github.com/ToC2ME/ToC2ME/blob/master/Rodriguez-Pradilla/LinEpiLoc_ToC2ME_Demo/ToC2ME_Demo_recloc.txt\\\n",
    "\n",
    "    Receivers' location from the Shallow-Borehole monitoring array\n",
    "    \"NL\" network code in IRIS database\n",
    "    Relative coordinates in metres\n",
    "    Input File: ToC2ME_Demo_recloc.txt "
   ]
  },
  {
   "cell_type": "code",
   "execution_count": 5,
   "id": "0e1b5f09-a5e2-4545-951d-67a9ff1b73c4",
   "metadata": {},
   "outputs": [],
   "source": [
    "rec_file = '/home/birniece/Documents/data/ToC2ME/Receivers/ToC2ME_Demo_recloc.txt'"
   ]
  },
  {
   "cell_type": "code",
   "execution_count": 6,
   "id": "77e15f2e-2256-4039-9449-6954f66ace93",
   "metadata": {},
   "outputs": [
    {
     "data": {
      "text/html": [
       "<div>\n",
       "<style scoped>\n",
       "    .dataframe tbody tr th:only-of-type {\n",
       "        vertical-align: middle;\n",
       "    }\n",
       "\n",
       "    .dataframe tbody tr th {\n",
       "        vertical-align: top;\n",
       "    }\n",
       "\n",
       "    .dataframe thead th {\n",
       "        text-align: right;\n",
       "    }\n",
       "</style>\n",
       "<table border=\"1\" class=\"dataframe\">\n",
       "  <thead>\n",
       "    <tr style=\"text-align: right;\">\n",
       "      <th></th>\n",
       "      <th>StationName</th>\n",
       "      <th>NAD83_X_m</th>\n",
       "      <th>NAD83_Y_m</th>\n",
       "      <th>z_m</th>\n",
       "      <th>DrillDepth_m</th>\n",
       "      <th>LoadedDepth_m</th>\n",
       "    </tr>\n",
       "  </thead>\n",
       "  <tbody>\n",
       "    <tr>\n",
       "      <th>0</th>\n",
       "      <td>1</td>\n",
       "      <td>3422.9603</td>\n",
       "      <td>2117.611</td>\n",
       "      <td>919.293356</td>\n",
       "      <td>27</td>\n",
       "      <td>27</td>\n",
       "    </tr>\n",
       "    <tr>\n",
       "      <th>1</th>\n",
       "      <td>2</td>\n",
       "      <td>4288.1870</td>\n",
       "      <td>2072.621</td>\n",
       "      <td>908.303961</td>\n",
       "      <td>27</td>\n",
       "      <td>27</td>\n",
       "    </tr>\n",
       "    <tr>\n",
       "      <th>2</th>\n",
       "      <td>3</td>\n",
       "      <td>6782.7966</td>\n",
       "      <td>2903.516</td>\n",
       "      <td>900.890654</td>\n",
       "      <td>27</td>\n",
       "      <td>24</td>\n",
       "    </tr>\n",
       "    <tr>\n",
       "      <th>3</th>\n",
       "      <td>4</td>\n",
       "      <td>3235.7770</td>\n",
       "      <td>2588.658</td>\n",
       "      <td>923.843327</td>\n",
       "      <td>27</td>\n",
       "      <td>27</td>\n",
       "    </tr>\n",
       "    <tr>\n",
       "      <th>4</th>\n",
       "      <td>5</td>\n",
       "      <td>3700.0376</td>\n",
       "      <td>3062.286</td>\n",
       "      <td>911.115825</td>\n",
       "      <td>27</td>\n",
       "      <td>27</td>\n",
       "    </tr>\n",
       "  </tbody>\n",
       "</table>\n",
       "</div>"
      ],
      "text/plain": [
       "   StationName  NAD83_X_m  NAD83_Y_m         z_m  DrillDepth_m  LoadedDepth_m\n",
       "0            1  3422.9603   2117.611  919.293356            27             27\n",
       "1            2  4288.1870   2072.621  908.303961            27             27\n",
       "2            3  6782.7966   2903.516  900.890654            27             24\n",
       "3            4  3235.7770   2588.658  923.843327            27             27\n",
       "4            5  3700.0376   3062.286  911.115825            27             27"
      ]
     },
     "execution_count": 6,
     "metadata": {},
     "output_type": "execute_result"
    }
   ],
   "source": [
    "recDF = pd.read_csv(rec_file)\n",
    "recDF.head()"
   ]
  },
  {
   "cell_type": "code",
   "execution_count": 7,
   "id": "671fb096-60dd-4f6d-93e1-4eb13df2bcb5",
   "metadata": {},
   "outputs": [
    {
     "data": {
      "text/plain": [
       "<matplotlib.collections.PathCollection at 0x14c02bac3d60>"
      ]
     },
     "execution_count": 7,
     "metadata": {},
     "output_type": "execute_result"
    },
    {
     "data": {
      "image/png": "[encoded data removed]",
      "text/plain": [
       "<Figure size 640x480 with 1 Axes>"
      ]
     },
     "metadata": {},
     "output_type": "display_data"
    }
   ],
   "source": [
    "plt.scatter(x=recDF['NAD83_X_m'],\n",
    "            y=recDF['NAD83_Y_m'])"
   ]
  },
  {
   "cell_type": "code",
   "execution_count": 8,
   "id": "eea649e1-be85-40bf-a0ab-d39037eca368",
   "metadata": {},
   "outputs": [
    {
     "name": "stdout",
     "output_type": "stream",
     "text": [
      "X 1234.56709999999 7849.87270000001\n",
      "Y 2072.62100000028 9502.92899999954\n",
      "Z 816.2254735 971.0501945\n"
     ]
    }
   ],
   "source": [
    "# determine lateral model extents from \n",
    "xmin = min(recDF['NAD83_X_m'])\n",
    "xmax = max(recDF['NAD83_X_m'])\n",
    "print('X', xmin, xmax)\n",
    "\n",
    "ymin = min(recDF['NAD83_Y_m'])\n",
    "ymax = max(recDF['NAD83_Y_m'])\n",
    "print('Y', ymin, ymax)\n",
    "\n",
    "zmin = min(recDF['z_m'])\n",
    "zmax = max(recDF['z_m'])\n",
    "print('Z', zmin, zmax)"
   ]
  },
  {
   "cell_type": "markdown",
   "id": "73b93539-2c87-4eb7-bf8b-003086663faa",
   "metadata": {},
   "source": [
    "# MAKE MODEL"
   ]
  },
  {
   "cell_type": "code",
   "execution_count": 9,
   "id": "a244088b-d6c5-49e6-a15b-02d62af8ac57",
   "metadata": {},
   "outputs": [],
   "source": [
    "d_xyz = 5 # 10 meter sampling\n",
    "nbounds = 30\n",
    "\n",
    "mod_bounds = d_xyz + (d_xyz * nbounds)\n",
    "\n",
    "mod_xmin = np.round(xmin,decimals=-1) - mod_bounds\n",
    "mod_xmax = np.round(xmax,decimals=-1) + mod_bounds\n",
    "\n",
    "mod_ymin = np.round(ymin,decimals=-1) - mod_bounds\n",
    "mod_ymax = np.round(ymax,decimals=-1) + mod_bounds\n",
    "\n",
    "mod_zmin = datum\n",
    "mod_zmax = 4000 + mod_bounds  # based on catalogue "
   ]
  },
  {
   "cell_type": "code",
   "execution_count": 10,
   "id": "dbca04f6-17d3-452f-a94a-ca27744c1ca5",
   "metadata": {},
   "outputs": [
    {
     "name": "stdout",
     "output_type": "stream",
     "text": [
      "1075.0 1915.0 -980\n"
     ]
    }
   ],
   "source": [
    "print(mod_xmin, mod_ymin, mod_zmin, )"
   ]
  },
  {
   "cell_type": "code",
   "execution_count": 11,
   "id": "b55be96e-fb82-4ab5-88ac-6138bda94bca",
   "metadata": {},
   "outputs": [],
   "source": [
    "mod_x = np.arange(mod_xmin, mod_xmax + 4*d_xyz, d_xyz)\n",
    "mod_y = np.arange(mod_ymin, mod_ymax+ 2*d_xyz, d_xyz)\n",
    "mod_z = np.arange(mod_zmin, mod_zmax+ 3*d_xyz, d_xyz)\n",
    "\n",
    "nx_mod = len(mod_x)\n",
    "ny_mod = len(mod_y)\n",
    "nz_mod = len(mod_z)"
   ]
  },
  {
   "cell_type": "code",
   "execution_count": 12,
   "id": "c2e4f206-6140-4e4a-b38a-b78862baeeab",
   "metadata": {},
   "outputs": [
    {
     "name": "stdout",
     "output_type": "stream",
     "text": [
      "1390 1550 1030\n"
     ]
    }
   ],
   "source": [
    "print(len(mod_x), len(mod_y), len(mod_z))"
   ]
  },
  {
   "cell_type": "code",
   "execution_count": 13,
   "id": "4fd4ebc9-e95a-4b43-aac0-53bb93044c3a",
   "metadata": {},
   "outputs": [
    {
     "data": {
      "text/plain": [
       "(6001, 1)"
      ]
     },
     "execution_count": 13,
     "metadata": {},
     "output_type": "execute_result"
    }
   ],
   "source": [
    "z.shape"
   ]
  },
  {
   "cell_type": "code",
   "execution_count": 14,
   "id": "110febad-f893-4853-8a83-53cebcbf7d02",
   "metadata": {},
   "outputs": [
    {
     "data": {
      "image/png": "[encoded data removed]",
      "text/plain": [
       "<Figure size 400x500 with 3 Axes>"
      ]
     },
     "metadata": {},
     "output_type": "display_data"
    }
   ],
   "source": [
    "f_vp = scipy.interpolate.interp1d(z.flatten(), vp_1D.flatten(), kind='previous')\n",
    "f_vs = scipy.interpolate.interp1d(z.flatten(), vs_1D.flatten(), kind='linear')#, kind='previous')\n",
    "f_rho = scipy.interpolate.interp1d(z.flatten(), rho_1D.flatten(), kind='linear')#, kind='previous')\n",
    "\n",
    "vp_log = f_vp(mod_z)\n",
    "vs_log = f_vs(mod_z)\n",
    "rho_log = f_rho(mod_z)\n",
    "\n",
    "fig,axs = plt.subplots(1,3,figsize=[4,5], sharey=True)\n",
    "axs[0].plot(vp_1D, z,'k')\n",
    "axs[0].plot(vp_log, mod_z, '--b')\n",
    "axs[1].plot(vs_1D, z,'k')\n",
    "axs[1].plot(vs_log, mod_z, '--b')\n",
    "axs[2].plot(rho_1D, z,'k')\n",
    "axs[2].plot(rho_log, mod_z, '--b')\n",
    "fig.tight_layout()"
   ]
  },
  {
   "cell_type": "code",
   "execution_count": 15,
   "id": "d35280c7-b108-41c9-9c75-5066a32bd2a9",
   "metadata": {},
   "outputs": [],
   "source": [
    "# Write as binary\n",
    "expname = 'ToC2ME_lateralhomo_XYZ_%im'%d_xyz\n",
    "outpath = os.path.join(mod_outpath,'lateralhomo/')\n",
    "os.makedirs(outpath, exist_ok=True)"
   ]
  },
  {
   "cell_type": "code",
   "execution_count": 16,
   "id": "af7ffba8-07ef-40e0-a5c8-215399761b57",
   "metadata": {},
   "outputs": [
    {
     "name": "stdout",
     "output_type": "stream",
     "text": [
      "(1030, 1550, 1390)\n"
     ]
    }
   ],
   "source": [
    "# Expand to 3D\n",
    "vp_pancake = np.expand_dims(vp_log, axis=[1,2])\n",
    "vp_pancake = vp_pancake.repeat(nx_mod,axis=2).repeat(ny_mod,axis=1)\n",
    "print(vp_pancake.shape)\n",
    "vp_pancake.transpose([2,1,0]).astype(np.float32).tofile(os.path.join(outpath,'%s.vp'%expname),format='<f')\n",
    "del vp_pancake\n",
    "\n",
    "vs_pancake = np.expand_dims(vs_log, axis=[1,2])\n",
    "vs_pancake = vs_pancake.repeat(nx_mod,axis=2).repeat(ny_mod,axis=1)\n",
    "vs_pancake.transpose([2,1,0]).astype(np.float32).tofile(os.path.join(outpath,'%s.vs'%expname),format='<f')\n",
    "del vs_pancake\n",
    "\n",
    "rho_pancake = np.expand_dims(rho_log, axis=[1,2])\n",
    "rho_pancake = rho_pancake.repeat(nx_mod,axis=2).repeat(ny_mod,axis=1)\n",
    "\n",
    "rho_pancake.transpose([2,1,0]).astype(np.float32).tofile(os.path.join(outpath,'%s.rho'%expname),format='<f')\n",
    "del rho_pancake"
   ]
  },
  {
   "cell_type": "code",
   "execution_count": null,
   "id": "4eb9b195-98c1-4e80-b67c-8dfc53f8f15d",
   "metadata": {},
   "outputs": [],
   "source": []
  },
  {
   "cell_type": "raw",
   "id": "065eb096-4656-4d63-8f06-cfbd7092da5d",
   "metadata": {},
   "source": [
    "explode_volume(vp_pancake, \n",
    "               t=vp_pancake.shape[0]//2, \n",
    "               x=vp_pancake.shape[1]//2, \n",
    "               y=vp_pancake.shape[2]//2,\n",
    "               cmap='rainbow',      \n",
    "               clipval = [np.min(vp_pancake), np.max(vp_pancake)],\n",
    "               labels=( '[z]', '[x]', '[y]',),\n",
    "               tlabel='z', xlabel='y', ylabel='x',\n",
    "               title=' ',\n",
    "               )"
   ]
  },
  {
   "cell_type": "code",
   "execution_count": null,
   "id": "8ab62548-97df-48a2-9113-16d6b355ab54",
   "metadata": {},
   "outputs": [],
   "source": [
    "\n"
   ]
  }
 ],
 "metadata": {
  "kernelspec": {
   "display_name": "Python 3 (ipykernel)",
   "language": "python",
   "name": "python3"
  },
  "language_info": {
   "codemirror_mode": {
    "name": "ipython",
    "version": 3
   },
   "file_extension": ".py",
   "mimetype": "text/x-python",
   "name": "python",
   "nbconvert_exporter": "python",
   "pygments_lexer": "ipython3",
   "version": "3.9.18"
  }
 },
 "nbformat": 4,
 "nbformat_minor": 5
}
