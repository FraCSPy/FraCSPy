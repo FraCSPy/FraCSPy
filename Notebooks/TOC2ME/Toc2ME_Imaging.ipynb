{
 "cells": [
  {
   "cell_type": "code",
   "execution_count": 1,
   "id": "c835651a-bc59-4d14-9b73-7ded921ba4ef",
   "metadata": {},
   "outputs": [],
   "source": [
    "%matplotlib inline\n",
    "import matplotlib.pyplot as plt\n",
    "\n",
    "import obspy\n",
    "import numpy as np\n",
    "import pandas as pd\n",
    "import glob \n",
    "import scipy\n",
    "\n",
    "from pylops.utils                      import dottest\n",
    "from pylops.utils.wavelets             import *"
   ]
  },
  {
   "cell_type": "code",
   "execution_count": 2,
   "id": "412d4888-7088-4e8c-82b8-572244fb7cd1",
   "metadata": {},
   "outputs": [],
   "source": [
    "from pyfrac.modelling.kirchhoff import Kirchhoff\n",
    "\n",
    "# VISUALISATION\n",
    "from pyfrac.visualisation.traceviz import traceimage\n",
    "from pyfrac.visualisation.eventimages import locimage3d"
   ]
  },
  {
   "cell_type": "markdown",
   "id": "b5853ade-5754-4858-9f19-9b70da2ee3ec",
   "metadata": {},
   "source": [
    "# DATA"
   ]
  },
  {
   "cell_type": "raw",
   "id": "d6cdcc96-26ff-4d74-8821-723e7896ea24",
   "metadata": {},
   "source": [
    "data = np.load('/home/birniece/Documents/data/ToC2ME/21Nov24Nov/SmallSubsection.npz')\n",
    "dhz = data['dhz']\n",
    "dh1 = data['dh1'],\n",
    "dh2 = data['dh2'],\n",
    "stations = data['stations'],\n",
    "start_index = data['start_index']"
   ]
  },
  {
   "cell_type": "markdown",
   "id": "158b069b-4a59-4e91-a269-bb57efc4b91b",
   "metadata": {},
   "source": [
    "# RECEIVER GEOMETRY"
   ]
  },
  {
   "cell_type": "code",
   "execution_count": 3,
   "id": "481519d4-4504-49f0-aae0-c867ab243335",
   "metadata": {},
   "outputs": [
    {
     "name": "stdout",
     "output_type": "stream",
     "text": [
      "X 1234.56709999999 7849.87270000001\n",
      "Y 2072.62100000028 9502.92899999954\n",
      "Z 816.2254735 971.0501945\n"
     ]
    }
   ],
   "source": [
    "rec_file = '/home/birniece/Documents/data/ToC2ME/Receivers/ToC2ME_Demo_recloc.txt'\n",
    "recDF = pd.read_csv(rec_file)\n",
    "\n",
    "\n",
    "# determine lateral model extents from receiver geometry\n",
    "xmin = min(recDF['NAD83_X_m'])\n",
    "xmax = max(recDF['NAD83_X_m'])\n",
    "print('X', xmin, xmax)\n",
    "\n",
    "ymin = min(recDF['NAD83_Y_m'])\n",
    "ymax = max(recDF['NAD83_Y_m'])\n",
    "print('Y', ymin, ymax)\n",
    "\n",
    "zmin = min(recDF['z_m'])\n",
    "zmax = max(recDF['z_m'])\n",
    "print('Z', zmin, zmax)\n",
    "\n",
    "\n",
    "datum = -980"
   ]
  },
  {
   "cell_type": "code",
   "execution_count": 4,
   "id": "92e44dde-8fd5-4309-afb0-ef708c4926b8",
   "metadata": {},
   "outputs": [],
   "source": [
    "rec_x = recDF['NAD83_X_m'] - xmin\n",
    "rec_y = recDF['NAD83_Y_m'] - ymin\n",
    "rec_z = abs(recDF['z_m'] + datum)\n",
    "\n",
    "recs = np.vstack((rec_x, rec_y, rec_z))\n",
    "recs = np.round(recs, decimals=-1)\n",
    "nr = recs.shape[1]"
   ]
  },
  {
   "cell_type": "markdown",
   "id": "7516eaae-8346-4e18-b0fd-d80adfd3b159",
   "metadata": {},
   "source": [
    "# VELOCITY MODEL"
   ]
  },
  {
   "cell_type": "code",
   "execution_count": 5,
   "id": "2dffee5d-13d1-4b3a-95ad-eebf0297fa1b",
   "metadata": {},
   "outputs": [],
   "source": [
    "vmod_file = '/home/birniece/Documents/data/ToC2ME/VelocityModels/ToC2MEVelModel.mat'\n",
    "mod_zprofile = scipy.io.loadmat(vmod_file)\n",
    "\n",
    "z = mod_zprofile['z'] + datum\n",
    "vp_1D = mod_zprofile['vp']\n",
    "# vs_1D = mod_zprofile['vs']\n",
    "# rho_1D = mod_zprofile['rho']"
   ]
  },
  {
   "cell_type": "code",
   "execution_count": 6,
   "id": "e4fdddf2-7988-4b67-b1d3-00c3635f2bcb",
   "metadata": {},
   "outputs": [],
   "source": [
    "d_xyz = 10  # meter sampling\n",
    "mod_xmin = np.round(xmin,decimals=-1) \n",
    "mod_xmax = np.round(xmax,decimals=-1) \n",
    "\n",
    "mod_ymin = np.round(ymin,decimals=-1)\n",
    "mod_ymax = np.round(ymax,decimals=-1)\n",
    "\n",
    "mod_zmin = datum\n",
    "mod_zmax = 3500   # based on catalogue \n",
    "\n",
    "mod_x = np.arange(mod_xmin, mod_xmax, d_xyz)\n",
    "mod_y = np.arange(mod_ymin, mod_ymax, d_xyz)\n",
    "mod_z = np.arange(mod_zmin, mod_zmax, d_xyz)\n",
    "\n",
    "nx_mod = len(mod_x)\n",
    "ny_mod = len(mod_y)\n",
    "nz_mod = len(mod_z)"
   ]
  },
  {
   "cell_type": "code",
   "execution_count": 7,
   "id": "b36467d0-3b0a-42a1-8cb0-a98a1d1f2dab",
   "metadata": {},
   "outputs": [],
   "source": [
    "f_vp = scipy.interpolate.interp1d(z.flatten(), vp_1D.flatten(), kind='previous')\n",
    "vp_log = f_vp(mod_z)"
   ]
  },
  {
   "cell_type": "code",
   "execution_count": 8,
   "id": "2ff94d9f-b4ed-4733-9f0f-0cdccc9ca235",
   "metadata": {},
   "outputs": [],
   "source": [
    "vp_pancake = np.expand_dims(vp_log, axis=[1,2])\n",
    "vp_pancake = vp_pancake.repeat(nx_mod,axis=2).repeat(ny_mod,axis=1).transpose([2,1,0])"
   ]
  },
  {
   "cell_type": "code",
   "execution_count": 9,
   "id": "a8fea1f6-2f47-4011-bcdf-7d4dbd0bc804",
   "metadata": {},
   "outputs": [
    {
     "data": {
      "text/plain": [
       "(662, 743, 448)"
      ]
     },
     "execution_count": 9,
     "metadata": {},
     "output_type": "execute_result"
    }
   ],
   "source": [
    "vp_pancake.shape"
   ]
  },
  {
   "cell_type": "markdown",
   "id": "98dda3ca-9e02-4a1b-8b09-7d1fafb2887d",
   "metadata": {},
   "source": [
    "# BUILD OPERATOR"
   ]
  },
  {
   "cell_type": "code",
   "execution_count": 10,
   "id": "780a2538-f897-43be-9052-3c3c8183616b",
   "metadata": {},
   "outputs": [],
   "source": [
    "nx, ny, nz = vp_pancake.shape\n",
    "dx, dy, dz = d_xyz, d_xyz, d_xyz\n",
    "x, y, z = np.arange(nx)*dx, np.arange(ny)*dy, np.arange(nz)*dz"
   ]
  },
  {
   "cell_type": "code",
   "execution_count": 11,
   "id": "2d69e558-c349-417d-ac45-310cb66919f4",
   "metadata": {},
   "outputs": [],
   "source": [
    "nt = 501\n",
    "dt = 0.002\n",
    "t = np.arange(nt)*dt\n",
    "wav, wavt, wavc = ricker(t[:41], f0=20)"
   ]
  },
  {
   "cell_type": "code",
   "execution_count": 12,
   "id": "c365b15a-8b72-40ac-bf67-6618732313a5",
   "metadata": {},
   "outputs": [
    {
     "data": {
      "text/plain": [
       "(3, 69)"
      ]
     },
     "execution_count": 12,
     "metadata": {},
     "output_type": "execute_result"
    }
   ],
   "source": [
    "recs.shape"
   ]
  },
  {
   "cell_type": "code",
   "execution_count": null,
   "id": "edd0ca33-b8ea-44a6-b10c-f9e252df4b89",
   "metadata": {},
   "outputs": [
    {
     "name": "stderr",
     "output_type": "stream",
     "text": [
      "/home/birniece/Documents/Projects/MicroseismicModelling/MicroseismicProcessing/pyfrac/modelling/kirchhoff.py:255: FutureWarning: A new implementation of Kirchhoff is provided in v2.1.0. This currently affects only the inner working of the operator, end-users can continue using the operator in the same way. Nevertheless, it is now recommended to providethe variables trav (and amp) as a tuples containing the traveltime (and amplitude) tables for sources and receivers separately. This behaviour will eventually become default in version v3.0.0.\n",
      "  warnings.warn(\n"
     ]
    },
    {
     "name": "stdout",
     "output_type": "stream",
     "text": [
      "[219   4   6]\n"
     ]
    }
   ],
   "source": [
    "# INITIALISE OPERATOR\n",
    "Op = Kirchhoff(z=z, \n",
    "               x=x, \n",
    "               y=y, \n",
    "               t=t, \n",
    "               srcs=recs[:, :1], \n",
    "               recs=recs, \n",
    "               vel=vp_pancake, \n",
    "               wav=wav, \n",
    "               wavcenter=wavc, \n",
    "               mode='eikonal', \n",
    "               engine='numba')\n",
    "\n",
    "# check operator with dottest\n",
    "_ = dottest(Op, verb=True)"
   ]
  }
 ],
 "metadata": {
  "kernelspec": {
   "display_name": "Python 3 (ipykernel)",
   "language": "python",
   "name": "python3"
  },
  "language_info": {
   "codemirror_mode": {
    "name": "ipython",
    "version": 3
   },
   "file_extension": ".py",
   "mimetype": "text/x-python",
   "name": "python",
   "nbconvert_exporter": "python",
   "pygments_lexer": "ipython3",
   "version": "3.9.18"
  }
 },
 "nbformat": 4,
 "nbformat_minor": 5
}
