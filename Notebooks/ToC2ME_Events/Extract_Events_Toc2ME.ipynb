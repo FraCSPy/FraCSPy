{
 "cells": [
  {
   "cell_type": "markdown",
   "id": "29fb4d35",
   "metadata": {},
   "source": [
    "# Download the continuous seismic data for the ToC2ME following the instructions in:\n",
    "# [ToC2ME GitHub Repository](https://github.com/ToC2ME)\n",
    "\n",
    "# Store the continuous data in folder named \"data/TOC2ME_Data\"\n"
   ]
  },
  {
   "cell_type": "code",
   "execution_count": 16,
   "id": "09d3118c",
   "metadata": {},
   "outputs": [],
   "source": [
    "import obspy\n",
    "import glob\n",
    "import pandas as pd\n",
    "import os\n",
    "\n",
    "# Import necessary libraries\n",
    "# obspy: For working with seismic data\n",
    "# glob: For finding pathnames matching a specified pattern\n",
    "# pandas: For data manipulation and analysis\n",
    "# os: For interacting with the operating system\n",
    "\n",
    "# Read Data\n",
    "# Define the path to the continuous seismic data files\n",
    "data_path = glob.glob('../../data/TOC2ME_Data/*.mseed')\n",
    "\n",
    "# Read Short Catalog\n",
    "# Load the earthquake catalog data\n",
    "catalog = pd.read_excel('Catalog_JGR_OneDay.xlsx')\n",
    "\n",
    "# Iterate through each earthquake event in the catalog\n",
    "for k in range(len(catalog)):\n",
    "    for kk in range(len(data_path)):\n",
    "        \n",
    "        # Read the Continous data\n",
    "        # Load the continuous seismic data\n",
    "        st = obspy.read(data_path[kk])\n",
    "        \n",
    "        # Extract Station name\n",
    "        # Get the station name from the seismic data\n",
    "        stnam = st[0].stats.station\n",
    "        \n",
    "        # Set the extraction time\n",
    "        # Extract the event time from the catalog and convert it into UTCDateTime format\n",
    "        dattime = '2016-' + str(int(catalog.iloc[k]['Month'])).zfill(2) + '-' +  str(int(catalog.iloc[k]['Day'])).zfill(2) + 'T' + str(int(catalog.iloc[k]['Hour'])).zfill(2) + ':'  + str(int(catalog.iloc[k]['Minute'])).zfill(2) + ':' + str(int(catalog.iloc[k]['Second'])).zfill(2) + '.000000Z'\n",
    "        dattime = obspy.UTCDateTime(dattime)\n",
    "\n",
    "        # Set the file name\n",
    "        # Define the filename for storing the seismic data\n",
    "        filnam = 'EV' + str(int(catalog.iloc[k]['Month'])).zfill(2) + str(int(catalog.iloc[k]['Day'])).zfill(2) + '_' +  str(int(catalog.iloc[k]['Hour'])).zfill(2)  + str(int(catalog.iloc[k]['Minute'])).zfill(2) + str(int(catalog.iloc[k]['Second'])).zfill(2)\n",
    "\n",
    "        # Create Folders\n",
    "        # Create a folder to store the seismic data if it doesn't already exist\n",
    "        fold_name = '../../data/TOC2ME_Data/waveforms/' + filnam\n",
    "        if os.path.isdir(fold_name) == False:\n",
    "            os.makedirs(fold_name)\n",
    "            \n",
    "        # Trim and save the seismic data\n",
    "        # Trim the seismic data to a specific time window around the event and save it\n",
    "        st = st.trim(dattime-6,dattime+18)\n",
    "        st.write(fold_name + '/' + stnam + '.mseed', format='MSEED')\n"
   ]
  },
  {
   "cell_type": "code",
   "execution_count": null,
   "id": "da11041b",
   "metadata": {},
   "outputs": [],
   "source": []
  }
 ],
 "metadata": {
  "kernelspec": {
   "display_name": "DASDL",
   "language": "python",
   "name": "dasdl"
  },
  "language_info": {
   "codemirror_mode": {
    "name": "ipython",
    "version": 3
   },
   "file_extension": ".py",
   "mimetype": "text/x-python",
   "name": "python",
   "nbconvert_exporter": "python",
   "pygments_lexer": "ipython3",
   "version": "3.8.18"
  }
 },
 "nbformat": 4,
 "nbformat_minor": 5
}
