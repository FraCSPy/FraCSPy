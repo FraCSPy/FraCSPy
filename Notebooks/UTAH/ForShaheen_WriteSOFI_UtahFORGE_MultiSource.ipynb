{
 "cells": [
  {
   "cell_type": "raw",
   "id": "2bb7b098-0744-43dc-bce8-9b64fb96ff7e",
   "metadata": {},
   "source": [
    "# FROM OUTGOING FOLDER\n",
    "scp -r UtahFORGE_GriddedRecs/ birniece@shaheen.hpc.kaust.edu.sa:\"/scratch/birniece/SOFI_UtahFORGE/explosive_multishot\"\n",
    "scp -r UtahFORGE_GriddedRecs_Pancake/ birniece@shaheen.hpc.kaust.edu.sa:\"/scratch/birniece/SOFI_UtahFORGE/explosive_multishot\"\n",
    "\n",
    "# IN INCOMING FOLDER\n",
    "scp -r birniece@shaheen.hpc.kaust.edu.sa:\"/scratch/birniece/SOFI_UtahFORGE/explosive_multishot\" /home/birniece/Documents/Projects/MicroseismicModelling/ShaheenTransfers/INCOMING/\n",
    "\n",
    "\n",
    "/project/k1056/SOFI_FDmodelling/sofi3d/bin/snapmerge multishot_group00.json\n"
   ]
  },
  {
   "cell_type": "raw",
   "id": "afc42ad2-b93a-46a5-a8a1-fc5d229b4e43",
   "metadata": {},
   "source": [
    "scp -r ./UtahFORGE_GriddedRecs_CroppedModel birniece@kw60926.kaust.edu.sa:\"/home/birniece/Documents/Projects/MicroseismicModelling/ShaheenTransfers/INCOMING/Shaheen3\""
   ]
  },
  {
   "cell_type": "markdown",
   "id": "74a9bbbc-c580-47a8-b9a1-0cb743770371",
   "metadata": {},
   "source": [
    "# Notes:\n",
    "- Split the sources into groups\n",
    "- 200 sources per group\n",
    "- 40 groups\n",
    "- 20hr compute requested per group"
   ]
  },
  {
   "cell_type": "code",
   "execution_count": 1,
   "id": "03d3aef2-1b84-48c8-849d-55797c7f20ef",
   "metadata": {},
   "outputs": [],
   "source": [
    "import numpy as np\n",
    "import pandas as pd\n",
    "import os\n",
    "import glob\n",
    "import scipy \n",
    "from scipy.interpolate import RegularGridInterpolator\n",
    "\n",
    "%matplotlib inline\n",
    "import matplotlib.pyplot as plt\n",
    "\n",
    "from pyfrac.utils.sofiutils import *"
   ]
  },
  {
   "cell_type": "markdown",
   "id": "532640c5-90d9-4b1c-a346-696d93e08f79",
   "metadata": {},
   "source": [
    "# FILE PATHS"
   ]
  },
  {
   "cell_type": "raw",
   "id": "160c1f17-c6a5-4b89-b571-585f831c41a9",
   "metadata": {},
   "source": [
    "# HOMO ONES \n",
    "shaheen_cp_loc = '/home/birniece/Documents/Projects/MicroseismicModelling/ShaheenTransfers/OUTGOING/UtahFORGE_GriddedRecs'\n",
    "source_paths = os.path.join(shaheen_cp_loc,'inputs/multishot_sources')\n",
    "print(source_paths)\n",
    "# 'FAKE' Shaheen Path\n",
    "shaheen_proj_loc = '/scratch/birniece/SOFI_UtahFORGE/explosive_multishot/UtahFORGE_GriddedRecs'\n",
    "\n",
    "rec_file = os.path.join(shaheen_proj_loc,'inputs/UtahFORGE_griddedrecs_4m.dat')\n",
    "model_dir = os.path.join(shaheen_proj_loc,'inputs/model/UtahFORGE_homo_4m')"
   ]
  },
  {
   "cell_type": "code",
   "execution_count": 2,
   "id": "8558d862-1a66-4f2c-be12-743504e502c4",
   "metadata": {},
   "outputs": [
    {
     "name": "stdout",
     "output_type": "stream",
     "text": [
      "/home/birniece/Documents/Projects/MicroseismicModelling/ShaheenTransfers/OUTGOING/UtahFORGE_GriddedRecs_CroppedModel/inputs/multishot_sources\n"
     ]
    }
   ],
   "source": [
    "# PANCAKE ONES \n",
    "shaheen_cp_loc = '/home/birniece/Documents/Projects/MicroseismicModelling/ShaheenTransfers/OUTGOING/UtahFORGE_GriddedRecs_CroppedModel'\n",
    "source_paths = os.path.join(shaheen_cp_loc,'inputs/multishot_sources')\n",
    "print(source_paths)\n",
    "\n",
    "# 'FAKE' Shaheen Path\n",
    "# shaheen_proj_loc = '/scratch/birniece/SOFI_UtahFORGE/explosive_multishot/UtahFORGE_GriddedRecs_CroppedModel'\n",
    "shaheen_proj_loc = '/home/birniece/SOFI_UtahFORGE/explosive_multishot/UtahFORGE_GriddedRecs_CroppedModel'\n",
    "\n",
    "rec_file = os.path.join(shaheen_proj_loc,'inputs/UtahFORGE_griddedrecsFS_xzy_2m.dat')\n",
    "model_dir = os.path.join(shaheen_proj_loc,'inputs/model/UtahFORGE_CroppedCentralVolume_XYZ_2m_xyz')"
   ]
  },
  {
   "cell_type": "code",
   "execution_count": 3,
   "id": "8cf1560c-dca2-457c-8bf6-35217f76cdf2",
   "metadata": {},
   "outputs": [],
   "source": [
    "sofi_src_dir = os.path.join(shaheen_proj_loc,'inputs/multishot_sources')\n",
    "\n",
    "# sofimaster = '/project/k1056/SOFI_FDmodelling/sofi3d/bin/sofi3D'\n",
    "sofimaster = '/home/birniece/sofi3d/bin/sofi3D'"
   ]
  },
  {
   "cell_type": "markdown",
   "id": "833167e6-122e-465f-8789-885c0d0f987b",
   "metadata": {},
   "source": [
    "### SLURM FILE CREATION FUNC"
   ]
  },
  {
   "cell_type": "raw",
   "id": "4e85023a-fc2f-4856-bc12-1f0e8218a7a1",
   "metadata": {},
   "source": [
    "def slurmfilecreation(slurmfile, gid, sofimaster, jsonloc, joutloc, write=True):\n",
    "    slurmstr='''#!/bin/bash -l\n",
    "#SBATCH --job-name=UTAH_multishot_PANCAKE_group%.2i\n",
    "#SBATCH --nodes=32\n",
    "#SBATCH --partition=workq\n",
    "#SBATCH -A k1056\n",
    "#SBATCH --time=23:00:00\n",
    "#SBATCH --error=sofi.%%J.err \n",
    "#SBATCH --output=sofi.%%J.out\n",
    "\n",
    "#OpenMP settings:\n",
    "export OMP_NUM_THREADS=1\n",
    "\n",
    "# RUN MODELLING JOB\n",
    "srun --hint=nomultithread --ntasks=1000 %s %s.json > %s.jout\n",
    "'''%(gid, sofimaster, jsonloc, joutloc)\n",
    "    \n",
    "    if write:\n",
    "        text_file = open(slurmfile, \"wt\")\n",
    "        text_file.writelines(slurmstr)\n",
    "        text_file.close()"
   ]
  },
  {
   "cell_type": "code",
   "execution_count": 4,
   "id": "3b080c42-ece0-4b75-8f8a-e7d98ebb47cc",
   "metadata": {},
   "outputs": [],
   "source": [
    "def slurmfilecreation(slurmfile, gid, sofimaster, jsonloc, joutloc, write=True):\n",
    "    slurmstr='''#!/bin/bash -l\n",
    "#SBATCH --job-name=UTAH_multishot_group%.2i\n",
    "#SBATCH --nodes=32\n",
    "#SBATCH --partition=workq\n",
    "#SBATCH --time=23:00:00\n",
    "#SBATCH --error=sofi.%%J.err \n",
    "#SBATCH --output=sofi.%%J.out\n",
    "\n",
    "#OpenMP settings:\n",
    "export OMP_NUM_THREADS=1\n",
    "\n",
    "# RUN MODELLING JOB\n",
    "srun --hint=nomultithread --ntasks=1000 %s %s.json > %s.jout\n",
    "'''%(gid, sofimaster, jsonloc, joutloc)\n",
    "    \n",
    "    if write:\n",
    "        text_file = open(slurmfile, \"wt\")\n",
    "        text_file.writelines(slurmstr)\n",
    "        text_file.close()"
   ]
  },
  {
   "cell_type": "markdown",
   "id": "19301ab7-8181-4193-8409-b1aa9ab03f68",
   "metadata": {},
   "source": [
    "# MODELLING PARAMS (Indep. of src locs)"
   ]
  },
  {
   "cell_type": "markdown",
   "id": "87463c82-fb7c-400d-81e8-e32de0217baa",
   "metadata": {},
   "source": [
    "### MODEL PARAMETERS - Get these from the script that made the models"
   ]
  },
  {
   "cell_type": "code",
   "execution_count": 5,
   "id": "4c921f23-fc8f-4cc0-afb2-f4191d0836fe",
   "metadata": {},
   "outputs": [],
   "source": [
    "# TIME PARAMETERS\n",
    "dt = 0.0001\n",
    "tdur = 1.0"
   ]
  },
  {
   "cell_type": "code",
   "execution_count": 6,
   "id": "dcccdfb8-5bae-4c28-afa2-d4425ee92571",
   "metadata": {},
   "outputs": [
    {
     "name": "stdout",
     "output_type": "stream",
     "text": [
      "1000.0 2000.0 1000.0\n"
     ]
    }
   ],
   "source": [
    "# SPATIAL PARAMETERS\n",
    "dx = dy = dz = 2.\n",
    "n_xzy = (500, 1000, 500)\n",
    "# n_xzy = (500, 500, 920)\n",
    "\n",
    "\n",
    "# dx = dy = dz = 4.\n",
    "# n_xzy = (440, 500, 480)\n",
    "# xmax = 1720\n",
    "# ymax = 1920# y is y, I fix the SOFI ordering later\n",
    "# zmax = 1680\n",
    "\n",
    "# nx_homo = int(xmax//dx)\n",
    "# ny_homo = int(ymax//dy)\n",
    "# nz_homo = int(zmax//dz)\n",
    "# n_xzy = [nx_homo, nz_homo, ny_homo]\n",
    "\n",
    "d_xzy = [dx, dz, dy]\n",
    "\n",
    "print(n_xzy[0]*dx,n_xzy[1]*dx,n_xzy[2]*dx)"
   ]
  },
  {
   "cell_type": "code",
   "execution_count": 7,
   "id": "cd1870f2-cba4-4e8a-a501-5da8fe1b87b6",
   "metadata": {},
   "outputs": [],
   "source": [
    "# BOUNDARIES & FREE SURFACE\n",
    "nbounds = 49\n",
    "free_surface = True"
   ]
  },
  {
   "cell_type": "code",
   "execution_count": 8,
   "id": "1e2acfbc-3383-4b19-a1a5-61071e677511",
   "metadata": {},
   "outputs": [],
   "source": [
    "# SNAP PARAMETERS\n",
    "snap_start = dt\n",
    "snap_end = tdur\n",
    "snap_step = 100*dt\n",
    "tsnap_params = [snap_start, snap_end, snap_step]\n",
    "snap_sbsmp_xyz = 1\n",
    "\n",
    "# SEISMOGRAM PARAMETERS\n",
    "smgrm_ndt = 10"
   ]
  },
  {
   "cell_type": "code",
   "execution_count": 9,
   "id": "958ffd77-dad2-4bac-84e8-a747dd21d30e",
   "metadata": {},
   "outputs": [],
   "source": [
    "# GET THE DIFFERENT STRINGS - this will be updated in the future\n",
    "default_strs = get_default_strings(rec_file=rec_file)\n",
    "\n",
    "# MODELLING\n",
    "t_str = get_time_str(dt, tdur)\n",
    "mod_strs = get_subsurfmod_str(n_xzy, \n",
    "                              d_xzy,\n",
    "                              ' ',\n",
    "                              moddir=model_dir,\n",
    "                              np_xzy=[10,10,10]\n",
    "                             )\n",
    "bndry_str = get_boundary_str(fs=free_surface, \n",
    "                             npad=nbounds, \n",
    "                             cpml=True)\n"
   ]
  },
  {
   "cell_type": "markdown",
   "id": "d1ae1848-04f3-422c-82a1-bdf84f327181",
   "metadata": {},
   "source": [
    "# SOURCES"
   ]
  },
  {
   "cell_type": "code",
   "execution_count": 10,
   "id": "1cf02592-91d2-41a7-bf48-6da86511a4f6",
   "metadata": {},
   "outputs": [],
   "source": [
    "xmid = n_xzy[0]*dx/2  # Place Central\n",
    "ymid = n_xzy[2]*dx/2  # Place Central\n",
    "zloc = 1500\n",
    "\n",
    "nxs = 30\n",
    "nys = 30\n",
    "nzs = 40\n"
   ]
  },
  {
   "cell_type": "code",
   "execution_count": 11,
   "id": "76f33a5e-4ee7-4b82-a413-f02540b736c0",
   "metadata": {},
   "outputs": [
    {
     "data": {
      "text/plain": [
       "30"
      ]
     },
     "execution_count": 11,
     "metadata": {},
     "output_type": "execute_result"
    }
   ],
   "source": [
    "nxs"
   ]
  },
  {
   "cell_type": "code",
   "execution_count": 12,
   "id": "218d5917-6ed7-415b-8f9a-18391c55d6fb",
   "metadata": {},
   "outputs": [],
   "source": [
    "# Want to place directly on grid, dx=4\n",
    "grid_sx_locs = np.arange(xmid-(nxs//2*dx),xmid+(nxs//2*dx), 4)\n",
    "grid_sy_locs = np.arange(ymid-(nys//2*dx),ymid+(nys//2*dx), 4)\n",
    "grid_sz_locs = np.arange(zloc-(nzs//2*dx),zloc+(nzs//2*dx), 2)"
   ]
  },
  {
   "cell_type": "code",
   "execution_count": 13,
   "id": "d4ec2df5-6b03-413a-8b32-536f90a0ae92",
   "metadata": {},
   "outputs": [
    {
     "data": {
      "text/plain": [
       "array([470., 474., 478., 482., 486., 490., 494., 498., 502., 506., 510.,\n",
       "       514., 518., 522., 526.])"
      ]
     },
     "execution_count": 13,
     "metadata": {},
     "output_type": "execute_result"
    }
   ],
   "source": [
    "grid_sx_locs"
   ]
  },
  {
   "cell_type": "code",
   "execution_count": 14,
   "id": "a40e1a02-6d02-46ee-963d-c6af26bac6bf",
   "metadata": {},
   "outputs": [
    {
     "data": {
      "text/plain": [
       "(3, 9000)"
      ]
     },
     "execution_count": 14,
     "metadata": {},
     "output_type": "execute_result"
    }
   ],
   "source": [
    "sx, sy, sz = np.meshgrid(grid_sx_locs,\n",
    "                         grid_sy_locs,\n",
    "                         grid_sz_locs) \n",
    "srclocs = np.vstack((sx.flatten(), sy.flatten(), sz.flatten()))# y is y, I fix the SOFI ordering later\n",
    "srclocs.shape"
   ]
  },
  {
   "cell_type": "code",
   "execution_count": 15,
   "id": "51fa93e3-6d63-4ebb-a12e-8c9ea3059ad0",
   "metadata": {
    "scrolled": true
   },
   "outputs": [],
   "source": [
    "src_xyz_list = []\n",
    "\n",
    "tmp_src_xyz_cutoff = 15000 # 4\n",
    "for srcloc in srclocs[:,:tmp_src_xyz_cutoff].T:\n",
    "    src_xyz_list.append(srcloc)\n",
    "# src_xyz_list"
   ]
  },
  {
   "cell_type": "code",
   "execution_count": 16,
   "id": "3a44ad31-f44f-41bc-a5ed-a81c5250f207",
   "metadata": {},
   "outputs": [],
   "source": [
    "# MAKE STRINGS PER SHOT LOC\n",
    "td = dt  # ignition time\n",
    "fc = 20  # central frequency\n",
    "amp = 1.  # amplitude\n",
    "\n",
    "src_xyz_list=src_xyz_list[::2]\n",
    "string_list = []\n",
    "for src in src_xyz_list:\n",
    "    string_list.append([str(i) for i in [src[0], src[2], src[1], td, fc, amp]])"
   ]
  },
  {
   "cell_type": "markdown",
   "id": "48f9dce7-7900-411e-bf2b-79ef8fc44849",
   "metadata": {},
   "source": [
    "# WRITE FILES"
   ]
  },
  {
   "cell_type": "code",
   "execution_count": 17,
   "id": "ba3f30a2-e797-4f69-8ebf-ee7db1d7a50a",
   "metadata": {},
   "outputs": [
    {
     "data": {
      "text/plain": [
       "4500"
      ]
     },
     "execution_count": 17,
     "metadata": {},
     "output_type": "execute_result"
    }
   ],
   "source": [
    "len(src_xyz_list)"
   ]
  },
  {
   "cell_type": "code",
   "execution_count": 18,
   "id": "c0a2ba1f-0964-4f51-8289-ca141606d3bb",
   "metadata": {},
   "outputs": [
    {
     "name": "stdout",
     "output_type": "stream",
     "text": [
      "45\n"
     ]
    }
   ],
   "source": [
    "# SELECT GROUPING OF SOURCES\n",
    "src_per_group = 100\n",
    "\n",
    "ns = len(src_xyz_list)\n",
    "num_src_groups = int(ns/src_per_group)\n",
    "\n",
    "print(num_src_groups)"
   ]
  },
  {
   "cell_type": "code",
   "execution_count": 19,
   "id": "a5a1100d-16d2-415f-b868-10d0580552ca",
   "metadata": {
    "scrolled": true
   },
   "outputs": [
    {
     "name": "stdout",
     "output_type": "stream",
     "text": [
      "multishot_group00\n",
      "/home/birniece/SOFI_UtahFORGE/explosive_multishot/UtahFORGE_GriddedRecs_CroppedModel/inputs/multishot_sources/multishot_group00.dat\n",
      "/home/birniece/Documents/Projects/MicroseismicModelling/ShaheenTransfers/OUTGOING/UtahFORGE_GriddedRecs_CroppedModel/multishot_group00.json\n",
      " \n",
      "multishot_group01\n",
      "/home/birniece/SOFI_UtahFORGE/explosive_multishot/UtahFORGE_GriddedRecs_CroppedModel/inputs/multishot_sources/multishot_group01.dat\n",
      "/home/birniece/Documents/Projects/MicroseismicModelling/ShaheenTransfers/OUTGOING/UtahFORGE_GriddedRecs_CroppedModel/multishot_group01.json\n",
      " \n",
      "multishot_group02\n",
      "/home/birniece/SOFI_UtahFORGE/explosive_multishot/UtahFORGE_GriddedRecs_CroppedModel/inputs/multishot_sources/multishot_group02.dat\n",
      "/home/birniece/Documents/Projects/MicroseismicModelling/ShaheenTransfers/OUTGOING/UtahFORGE_GriddedRecs_CroppedModel/multishot_group02.json\n",
      " \n",
      "multishot_group03\n",
      "/home/birniece/SOFI_UtahFORGE/explosive_multishot/UtahFORGE_GriddedRecs_CroppedModel/inputs/multishot_sources/multishot_group03.dat\n",
      "/home/birniece/Documents/Projects/MicroseismicModelling/ShaheenTransfers/OUTGOING/UtahFORGE_GriddedRecs_CroppedModel/multishot_group03.json\n",
      " \n",
      "multishot_group04\n",
      "/home/birniece/SOFI_UtahFORGE/explosive_multishot/UtahFORGE_GriddedRecs_CroppedModel/inputs/multishot_sources/multishot_group04.dat\n",
      "/home/birniece/Documents/Projects/MicroseismicModelling/ShaheenTransfers/OUTGOING/UtahFORGE_GriddedRecs_CroppedModel/multishot_group04.json\n",
      " \n",
      "multishot_group05\n",
      "/home/birniece/SOFI_UtahFORGE/explosive_multishot/UtahFORGE_GriddedRecs_CroppedModel/inputs/multishot_sources/multishot_group05.dat\n",
      "/home/birniece/Documents/Projects/MicroseismicModelling/ShaheenTransfers/OUTGOING/UtahFORGE_GriddedRecs_CroppedModel/multishot_group05.json\n",
      " \n",
      "multishot_group06\n",
      "/home/birniece/SOFI_UtahFORGE/explosive_multishot/UtahFORGE_GriddedRecs_CroppedModel/inputs/multishot_sources/multishot_group06.dat\n",
      "/home/birniece/Documents/Projects/MicroseismicModelling/ShaheenTransfers/OUTGOING/UtahFORGE_GriddedRecs_CroppedModel/multishot_group06.json\n",
      " \n",
      "multishot_group07\n",
      "/home/birniece/SOFI_UtahFORGE/explosive_multishot/UtahFORGE_GriddedRecs_CroppedModel/inputs/multishot_sources/multishot_group07.dat\n",
      "/home/birniece/Documents/Projects/MicroseismicModelling/ShaheenTransfers/OUTGOING/UtahFORGE_GriddedRecs_CroppedModel/multishot_group07.json\n",
      " \n",
      "multishot_group08\n",
      "/home/birniece/SOFI_UtahFORGE/explosive_multishot/UtahFORGE_GriddedRecs_CroppedModel/inputs/multishot_sources/multishot_group08.dat\n",
      "/home/birniece/Documents/Projects/MicroseismicModelling/ShaheenTransfers/OUTGOING/UtahFORGE_GriddedRecs_CroppedModel/multishot_group08.json\n",
      " \n",
      "multishot_group09\n",
      "/home/birniece/SOFI_UtahFORGE/explosive_multishot/UtahFORGE_GriddedRecs_CroppedModel/inputs/multishot_sources/multishot_group09.dat\n",
      "/home/birniece/Documents/Projects/MicroseismicModelling/ShaheenTransfers/OUTGOING/UtahFORGE_GriddedRecs_CroppedModel/multishot_group09.json\n",
      " \n",
      "multishot_group10\n",
      "/home/birniece/SOFI_UtahFORGE/explosive_multishot/UtahFORGE_GriddedRecs_CroppedModel/inputs/multishot_sources/multishot_group10.dat\n",
      "/home/birniece/Documents/Projects/MicroseismicModelling/ShaheenTransfers/OUTGOING/UtahFORGE_GriddedRecs_CroppedModel/multishot_group10.json\n",
      " \n",
      "multishot_group11\n",
      "/home/birniece/SOFI_UtahFORGE/explosive_multishot/UtahFORGE_GriddedRecs_CroppedModel/inputs/multishot_sources/multishot_group11.dat\n",
      "/home/birniece/Documents/Projects/MicroseismicModelling/ShaheenTransfers/OUTGOING/UtahFORGE_GriddedRecs_CroppedModel/multishot_group11.json\n",
      " \n",
      "multishot_group12\n",
      "/home/birniece/SOFI_UtahFORGE/explosive_multishot/UtahFORGE_GriddedRecs_CroppedModel/inputs/multishot_sources/multishot_group12.dat\n",
      "/home/birniece/Documents/Projects/MicroseismicModelling/ShaheenTransfers/OUTGOING/UtahFORGE_GriddedRecs_CroppedModel/multishot_group12.json\n",
      " \n",
      "multishot_group13\n",
      "/home/birniece/SOFI_UtahFORGE/explosive_multishot/UtahFORGE_GriddedRecs_CroppedModel/inputs/multishot_sources/multishot_group13.dat\n",
      "/home/birniece/Documents/Projects/MicroseismicModelling/ShaheenTransfers/OUTGOING/UtahFORGE_GriddedRecs_CroppedModel/multishot_group13.json\n",
      " \n",
      "multishot_group14\n",
      "/home/birniece/SOFI_UtahFORGE/explosive_multishot/UtahFORGE_GriddedRecs_CroppedModel/inputs/multishot_sources/multishot_group14.dat\n",
      "/home/birniece/Documents/Projects/MicroseismicModelling/ShaheenTransfers/OUTGOING/UtahFORGE_GriddedRecs_CroppedModel/multishot_group14.json\n",
      " \n",
      "multishot_group15\n",
      "/home/birniece/SOFI_UtahFORGE/explosive_multishot/UtahFORGE_GriddedRecs_CroppedModel/inputs/multishot_sources/multishot_group15.dat\n",
      "/home/birniece/Documents/Projects/MicroseismicModelling/ShaheenTransfers/OUTGOING/UtahFORGE_GriddedRecs_CroppedModel/multishot_group15.json\n",
      " \n",
      "multishot_group16\n",
      "/home/birniece/SOFI_UtahFORGE/explosive_multishot/UtahFORGE_GriddedRecs_CroppedModel/inputs/multishot_sources/multishot_group16.dat\n",
      "/home/birniece/Documents/Projects/MicroseismicModelling/ShaheenTransfers/OUTGOING/UtahFORGE_GriddedRecs_CroppedModel/multishot_group16.json\n",
      " \n",
      "multishot_group17\n",
      "/home/birniece/SOFI_UtahFORGE/explosive_multishot/UtahFORGE_GriddedRecs_CroppedModel/inputs/multishot_sources/multishot_group17.dat\n",
      "/home/birniece/Documents/Projects/MicroseismicModelling/ShaheenTransfers/OUTGOING/UtahFORGE_GriddedRecs_CroppedModel/multishot_group17.json\n",
      " \n",
      "multishot_group18\n",
      "/home/birniece/SOFI_UtahFORGE/explosive_multishot/UtahFORGE_GriddedRecs_CroppedModel/inputs/multishot_sources/multishot_group18.dat\n",
      "/home/birniece/Documents/Projects/MicroseismicModelling/ShaheenTransfers/OUTGOING/UtahFORGE_GriddedRecs_CroppedModel/multishot_group18.json\n",
      " \n",
      "multishot_group19\n",
      "/home/birniece/SOFI_UtahFORGE/explosive_multishot/UtahFORGE_GriddedRecs_CroppedModel/inputs/multishot_sources/multishot_group19.dat\n",
      "/home/birniece/Documents/Projects/MicroseismicModelling/ShaheenTransfers/OUTGOING/UtahFORGE_GriddedRecs_CroppedModel/multishot_group19.json\n",
      " \n",
      "multishot_group20\n",
      "/home/birniece/SOFI_UtahFORGE/explosive_multishot/UtahFORGE_GriddedRecs_CroppedModel/inputs/multishot_sources/multishot_group20.dat\n",
      "/home/birniece/Documents/Projects/MicroseismicModelling/ShaheenTransfers/OUTGOING/UtahFORGE_GriddedRecs_CroppedModel/multishot_group20.json\n",
      " \n",
      "multishot_group21\n",
      "/home/birniece/SOFI_UtahFORGE/explosive_multishot/UtahFORGE_GriddedRecs_CroppedModel/inputs/multishot_sources/multishot_group21.dat\n",
      "/home/birniece/Documents/Projects/MicroseismicModelling/ShaheenTransfers/OUTGOING/UtahFORGE_GriddedRecs_CroppedModel/multishot_group21.json\n",
      " \n",
      "multishot_group22\n",
      "/home/birniece/SOFI_UtahFORGE/explosive_multishot/UtahFORGE_GriddedRecs_CroppedModel/inputs/multishot_sources/multishot_group22.dat\n",
      "/home/birniece/Documents/Projects/MicroseismicModelling/ShaheenTransfers/OUTGOING/UtahFORGE_GriddedRecs_CroppedModel/multishot_group22.json\n",
      " \n",
      "multishot_group23\n",
      "/home/birniece/SOFI_UtahFORGE/explosive_multishot/UtahFORGE_GriddedRecs_CroppedModel/inputs/multishot_sources/multishot_group23.dat\n",
      "/home/birniece/Documents/Projects/MicroseismicModelling/ShaheenTransfers/OUTGOING/UtahFORGE_GriddedRecs_CroppedModel/multishot_group23.json\n",
      " \n",
      "multishot_group24\n",
      "/home/birniece/SOFI_UtahFORGE/explosive_multishot/UtahFORGE_GriddedRecs_CroppedModel/inputs/multishot_sources/multishot_group24.dat\n",
      "/home/birniece/Documents/Projects/MicroseismicModelling/ShaheenTransfers/OUTGOING/UtahFORGE_GriddedRecs_CroppedModel/multishot_group24.json\n",
      " \n",
      "multishot_group25\n",
      "/home/birniece/SOFI_UtahFORGE/explosive_multishot/UtahFORGE_GriddedRecs_CroppedModel/inputs/multishot_sources/multishot_group25.dat\n",
      "/home/birniece/Documents/Projects/MicroseismicModelling/ShaheenTransfers/OUTGOING/UtahFORGE_GriddedRecs_CroppedModel/multishot_group25.json\n",
      " \n",
      "multishot_group26\n",
      "/home/birniece/SOFI_UtahFORGE/explosive_multishot/UtahFORGE_GriddedRecs_CroppedModel/inputs/multishot_sources/multishot_group26.dat\n",
      "/home/birniece/Documents/Projects/MicroseismicModelling/ShaheenTransfers/OUTGOING/UtahFORGE_GriddedRecs_CroppedModel/multishot_group26.json\n",
      " \n",
      "multishot_group27\n",
      "/home/birniece/SOFI_UtahFORGE/explosive_multishot/UtahFORGE_GriddedRecs_CroppedModel/inputs/multishot_sources/multishot_group27.dat\n",
      "/home/birniece/Documents/Projects/MicroseismicModelling/ShaheenTransfers/OUTGOING/UtahFORGE_GriddedRecs_CroppedModel/multishot_group27.json\n",
      " \n",
      "multishot_group28\n",
      "/home/birniece/SOFI_UtahFORGE/explosive_multishot/UtahFORGE_GriddedRecs_CroppedModel/inputs/multishot_sources/multishot_group28.dat\n",
      "/home/birniece/Documents/Projects/MicroseismicModelling/ShaheenTransfers/OUTGOING/UtahFORGE_GriddedRecs_CroppedModel/multishot_group28.json\n",
      " \n",
      "multishot_group29\n",
      "/home/birniece/SOFI_UtahFORGE/explosive_multishot/UtahFORGE_GriddedRecs_CroppedModel/inputs/multishot_sources/multishot_group29.dat\n",
      "/home/birniece/Documents/Projects/MicroseismicModelling/ShaheenTransfers/OUTGOING/UtahFORGE_GriddedRecs_CroppedModel/multishot_group29.json\n",
      " \n",
      "multishot_group30\n",
      "/home/birniece/SOFI_UtahFORGE/explosive_multishot/UtahFORGE_GriddedRecs_CroppedModel/inputs/multishot_sources/multishot_group30.dat\n",
      "/home/birniece/Documents/Projects/MicroseismicModelling/ShaheenTransfers/OUTGOING/UtahFORGE_GriddedRecs_CroppedModel/multishot_group30.json\n",
      " \n",
      "multishot_group31\n",
      "/home/birniece/SOFI_UtahFORGE/explosive_multishot/UtahFORGE_GriddedRecs_CroppedModel/inputs/multishot_sources/multishot_group31.dat\n",
      "/home/birniece/Documents/Projects/MicroseismicModelling/ShaheenTransfers/OUTGOING/UtahFORGE_GriddedRecs_CroppedModel/multishot_group31.json\n",
      " \n",
      "multishot_group32\n",
      "/home/birniece/SOFI_UtahFORGE/explosive_multishot/UtahFORGE_GriddedRecs_CroppedModel/inputs/multishot_sources/multishot_group32.dat\n",
      "/home/birniece/Documents/Projects/MicroseismicModelling/ShaheenTransfers/OUTGOING/UtahFORGE_GriddedRecs_CroppedModel/multishot_group32.json\n",
      " \n",
      "multishot_group33\n",
      "/home/birniece/SOFI_UtahFORGE/explosive_multishot/UtahFORGE_GriddedRecs_CroppedModel/inputs/multishot_sources/multishot_group33.dat\n",
      "/home/birniece/Documents/Projects/MicroseismicModelling/ShaheenTransfers/OUTGOING/UtahFORGE_GriddedRecs_CroppedModel/multishot_group33.json\n",
      " \n",
      "multishot_group34\n",
      "/home/birniece/SOFI_UtahFORGE/explosive_multishot/UtahFORGE_GriddedRecs_CroppedModel/inputs/multishot_sources/multishot_group34.dat\n",
      "/home/birniece/Documents/Projects/MicroseismicModelling/ShaheenTransfers/OUTGOING/UtahFORGE_GriddedRecs_CroppedModel/multishot_group34.json\n",
      " \n",
      "multishot_group35\n",
      "/home/birniece/SOFI_UtahFORGE/explosive_multishot/UtahFORGE_GriddedRecs_CroppedModel/inputs/multishot_sources/multishot_group35.dat\n",
      "/home/birniece/Documents/Projects/MicroseismicModelling/ShaheenTransfers/OUTGOING/UtahFORGE_GriddedRecs_CroppedModel/multishot_group35.json\n",
      " \n",
      "multishot_group36\n",
      "/home/birniece/SOFI_UtahFORGE/explosive_multishot/UtahFORGE_GriddedRecs_CroppedModel/inputs/multishot_sources/multishot_group36.dat\n",
      "/home/birniece/Documents/Projects/MicroseismicModelling/ShaheenTransfers/OUTGOING/UtahFORGE_GriddedRecs_CroppedModel/multishot_group36.json\n",
      " \n",
      "multishot_group37\n",
      "/home/birniece/SOFI_UtahFORGE/explosive_multishot/UtahFORGE_GriddedRecs_CroppedModel/inputs/multishot_sources/multishot_group37.dat\n",
      "/home/birniece/Documents/Projects/MicroseismicModelling/ShaheenTransfers/OUTGOING/UtahFORGE_GriddedRecs_CroppedModel/multishot_group37.json\n",
      " \n",
      "multishot_group38\n",
      "/home/birniece/SOFI_UtahFORGE/explosive_multishot/UtahFORGE_GriddedRecs_CroppedModel/inputs/multishot_sources/multishot_group38.dat\n",
      "/home/birniece/Documents/Projects/MicroseismicModelling/ShaheenTransfers/OUTGOING/UtahFORGE_GriddedRecs_CroppedModel/multishot_group38.json\n",
      " \n",
      "multishot_group39\n",
      "/home/birniece/SOFI_UtahFORGE/explosive_multishot/UtahFORGE_GriddedRecs_CroppedModel/inputs/multishot_sources/multishot_group39.dat\n",
      "/home/birniece/Documents/Projects/MicroseismicModelling/ShaheenTransfers/OUTGOING/UtahFORGE_GriddedRecs_CroppedModel/multishot_group39.json\n",
      " \n",
      "multishot_group40\n",
      "/home/birniece/SOFI_UtahFORGE/explosive_multishot/UtahFORGE_GriddedRecs_CroppedModel/inputs/multishot_sources/multishot_group40.dat\n",
      "/home/birniece/Documents/Projects/MicroseismicModelling/ShaheenTransfers/OUTGOING/UtahFORGE_GriddedRecs_CroppedModel/multishot_group40.json\n",
      " \n",
      "multishot_group41\n",
      "/home/birniece/SOFI_UtahFORGE/explosive_multishot/UtahFORGE_GriddedRecs_CroppedModel/inputs/multishot_sources/multishot_group41.dat\n",
      "/home/birniece/Documents/Projects/MicroseismicModelling/ShaheenTransfers/OUTGOING/UtahFORGE_GriddedRecs_CroppedModel/multishot_group41.json\n",
      " \n",
      "multishot_group42\n",
      "/home/birniece/SOFI_UtahFORGE/explosive_multishot/UtahFORGE_GriddedRecs_CroppedModel/inputs/multishot_sources/multishot_group42.dat\n",
      "/home/birniece/Documents/Projects/MicroseismicModelling/ShaheenTransfers/OUTGOING/UtahFORGE_GriddedRecs_CroppedModel/multishot_group42.json\n",
      " \n",
      "multishot_group43\n",
      "/home/birniece/SOFI_UtahFORGE/explosive_multishot/UtahFORGE_GriddedRecs_CroppedModel/inputs/multishot_sources/multishot_group43.dat\n",
      "/home/birniece/Documents/Projects/MicroseismicModelling/ShaheenTransfers/OUTGOING/UtahFORGE_GriddedRecs_CroppedModel/multishot_group43.json\n",
      " \n",
      "multishot_group44\n",
      "/home/birniece/SOFI_UtahFORGE/explosive_multishot/UtahFORGE_GriddedRecs_CroppedModel/inputs/multishot_sources/multishot_group44.dat\n",
      "/home/birniece/Documents/Projects/MicroseismicModelling/ShaheenTransfers/OUTGOING/UtahFORGE_GriddedRecs_CroppedModel/multishot_group44.json\n",
      " \n"
     ]
    }
   ],
   "source": [
    "src_cuts = np.arange(0,ns,src_per_group).astype('int')\n",
    "for i,strt in enumerate(src_cuts):\n",
    "    groupname = \"multishot_group%.2i\"%i\n",
    "    print(groupname)\n",
    "    \n",
    "    # Write source file\n",
    "    group_strings = string_list[strt:strt+src_per_group]\n",
    "    src_filename = groupname+'.dat'\n",
    "    # print(src_filename)\n",
    "    src_file = os.path.join(source_paths,src_filename)  \n",
    "    # print(src_file)  \n",
    "    text_file = open(src_file, \"wt\")\n",
    "    for string_line in group_strings:\n",
    "        text_file.writelines('\\t'.join(string_line)+'\\n')\n",
    "    text_file.close()\n",
    "\n",
    "    # Make SOFI Source String\n",
    "    sofi_src_file = os.path.join(sofi_src_dir,src_filename)\n",
    "    src_str = get_source_str(sfile=sofi_src_file, multisource=1)\n",
    "    # print(src_str)\n",
    "    \n",
    "    # Make Monitor String\n",
    "    monitor_strs = get_monitor_str(tsnap_params, \n",
    "                               smgrm_ndt, \n",
    "                               groupname, \n",
    "                               sbsmp_xyz=snap_sbsmp_xyz,\n",
    "                               snap=False\n",
    "                              )\n",
    "\n",
    "    # Write SOFI FILE\n",
    "    sofi_json_file = os.path.join(shaheen_cp_loc, groupname+'.json')\n",
    "    shaheen_sofi_json_file = os.path.join(shaheen_proj_loc, groupname+'.json')\n",
    "    print(sofi_src_file)\n",
    "    print(sofi_json_file)\n",
    "    write_SOFIjsonParams(default_strs, \n",
    "                         monitor_strs,  \n",
    "                         t_str, \n",
    "                         mod_strs, \n",
    "                         src_str, \n",
    "                         bndry_str,\n",
    "                         sofi_json_file)\n",
    "\n",
    "    # WRITE SLURM FILE\n",
    "    slurmfile = os.path.join(shaheen_cp_loc, 'submit_'+groupname+'.slurm')\n",
    "    slurmfilecreation(slurmfile, \n",
    "                      gid=i, \n",
    "                      sofimaster=sofimaster, \n",
    "                      jsonloc=shaheen_sofi_json_file[:-5], \n",
    "                      joutloc=shaheen_sofi_json_file[:-5],)\n",
    "    print(' ')"
   ]
  },
  {
   "cell_type": "markdown",
   "id": "3512fa45-90fa-4a2b-80fb-ed5000c980a9",
   "metadata": {},
   "source": [
    "# MAKE BASH SCRIPT TO SUBMIT ALL SLURM JOBS"
   ]
  },
  {
   "cell_type": "code",
   "execution_count": 20,
   "id": "d2152c2d-0bed-4fac-b63f-10e0f1902aa3",
   "metadata": {},
   "outputs": [],
   "source": [
    "slurmfiles = []\n",
    "for file in glob.glob(shaheen_cp_loc+\"/*.slurm\"):\n",
    "    slurmfiles.append(file.split('/')[-1])\n"
   ]
  },
  {
   "cell_type": "code",
   "execution_count": 21,
   "id": "fd6a697c-48a4-4e09-934f-83308d4b70c2",
   "metadata": {},
   "outputs": [
    {
     "data": {
      "text/plain": [
       "'submit_multishot_group31.slurm'"
      ]
     },
     "execution_count": 21,
     "metadata": {},
     "output_type": "execute_result"
    }
   ],
   "source": [
    "slurmfiles[0]"
   ]
  },
  {
   "cell_type": "code",
   "execution_count": 22,
   "id": "7dc68e3a-5709-4574-9a3f-2fc53f71dc4d",
   "metadata": {},
   "outputs": [
    {
     "name": "stdout",
     "output_type": "stream",
     "text": [
      "#!/bin/bash \n",
      "\n",
      "mkdir -p outputs\n",
      "mkdir -p outputs/log\n",
      "mkdir -p outputs/snap\n",
      "mkdir -p outputs/su\n",
      "\n",
      "sbatch submit_multishot_group31.slurm\n",
      "sbatch submit_multishot_group08.slurm\n",
      "sbatch submit_multishot_group37.slurm\n",
      "sbatch submit_multishot_group21.slurm\n",
      "sbatch submit_multishot_group33.slurm\n",
      "sbatch submit_multishot_group19.slurm\n",
      "sbatch submit_multishot_group10.slurm\n",
      "sbatch submit_multishot_group00.slurm\n",
      "sbatch submit_multishot_group20.slurm\n",
      "sbatch submit_multishot_group16.slurm\n",
      "sbatch submit_multishot_group34.slurm\n",
      "sbatch submit_multishot_group25.slurm\n",
      "sbatch submit_multishot_group23.slurm\n",
      "sbatch submit_multishot_group09.slurm\n",
      "sbatch submit_multishot_group43.slurm\n",
      "sbatch submit_multishot_group27.slurm\n",
      "sbatch submit_multishot_group12.slurm\n",
      "sbatch submit_multishot_group39.slurm\n",
      "sbatch submit_multishot_group41.slurm\n",
      "sbatch submit_multishot_group40.slurm\n",
      "sbatch submit_multishot_group38.slurm\n",
      "sbatch submit_multishot_group24.slurm\n",
      "sbatch submit_multishot_group35.slurm\n",
      "sbatch submit_multishot_group22.slurm\n",
      "sbatch submit_multishot_group30.slurm\n",
      "sbatch submit_multishot_group01.slurm\n",
      "sbatch submit_multishot_group18.slurm\n",
      "sbatch submit_multishot_group11.slurm\n",
      "sbatch submit_multishot_group42.slurm\n",
      "sbatch submit_multishot_group28.slurm\n",
      "sbatch submit_multishot_group26.slurm\n",
      "sbatch submit_multishot_group07.slurm\n",
      "sbatch submit_multishot_group14.slurm\n",
      "sbatch submit_multishot_group44.slurm\n",
      "sbatch submit_multishot_group04.slurm\n",
      "sbatch submit_multishot_group29.slurm\n",
      "sbatch submit_multishot_group32.slurm\n",
      "sbatch submit_multishot_group03.slurm\n",
      "sbatch submit_multishot_group36.slurm\n",
      "sbatch submit_multishot_group13.slurm\n",
      "sbatch submit_multishot_group05.slurm\n",
      "sbatch submit_multishot_group15.slurm\n",
      "sbatch submit_multishot_group02.slurm\n",
      "sbatch submit_multishot_group17.slurm\n",
      "sbatch submit_multishot_group06.slurm\n",
      "\n"
     ]
    }
   ],
   "source": [
    "bashsubmitfile = os.path.join(shaheen_cp_loc, 'submit_ALL.sh')\n",
    "\n",
    "bashsubmitstring = '''#!/bin/bash \n",
    "\n",
    "mkdir -p outputs\n",
    "mkdir -p outputs/log\n",
    "mkdir -p outputs/snap\n",
    "mkdir -p outputs/su\n",
    "\n",
    "'''\n",
    "\n",
    "for slurmf in slurmfiles:\n",
    "    bashsubmitstring+='sbatch %s\\n'%slurmf \n",
    "print(bashsubmitstring)\n",
    "\n",
    "text_file = open(bashsubmitfile, \"wt\")\n",
    "text_file.writelines(bashsubmitstring)\n",
    "text_file.close()"
   ]
  },
  {
   "cell_type": "code",
   "execution_count": null,
   "id": "d6f1b932-04bb-4d04-997c-ad6089cde5d5",
   "metadata": {},
   "outputs": [],
   "source": []
  }
 ],
 "metadata": {
  "kernelspec": {
   "display_name": "Python 3 (ipykernel)",
   "language": "python",
   "name": "python3"
  },
  "language_info": {
   "codemirror_mode": {
    "name": "ipython",
    "version": 3
   },
   "file_extension": ".py",
   "mimetype": "text/x-python",
   "name": "python",
   "nbconvert_exporter": "python",
   "pygments_lexer": "ipython3",
   "version": "3.9.18"
  }
 },
 "nbformat": 4,
 "nbformat_minor": 5
}
