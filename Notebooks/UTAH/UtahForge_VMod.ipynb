{
 "cells": [
  {
   "cell_type": "code",
   "execution_count": 1,
   "id": "c0d67817-51cf-430b-af5d-9ee9176ec229",
   "metadata": {},
   "outputs": [],
   "source": [
    "import numpy as np\n",
    "import pandas as pd\n",
    "import os\n",
    "import scipy \n",
    "from scipy.interpolate import RegularGridInterpolator\n",
    "\n",
    "%matplotlib inline\n",
    "import matplotlib.pyplot as plt"
   ]
  },
  {
   "cell_type": "code",
   "execution_count": 2,
   "id": "189071f8-45d7-4b72-9397-8663c19b63b7",
   "metadata": {},
   "outputs": [],
   "source": [
    "mod_outpath = '/home/birniece/Documents/data/UTAH_FORGE/ClairesVMods'\n",
    "rec_outpath = '/home/birniece/Documents/data/UTAH_FORGE/ReceiverLocations'"
   ]
  },
  {
   "cell_type": "markdown",
   "id": "2308924f-5b89-4d18-bbd8-699d1d8cd8a5",
   "metadata": {},
   "source": [
    "# READ Velocity Model"
   ]
  },
  {
   "cell_type": "code",
   "execution_count": 3,
   "id": "96995de7-301a-40f5-8d88-96764d0d19c3",
   "metadata": {},
   "outputs": [
    {
     "data": {
      "text/html": [
       "<div>\n",
       "<style scoped>\n",
       "    .dataframe tbody tr th:only-of-type {\n",
       "        vertical-align: middle;\n",
       "    }\n",
       "\n",
       "    .dataframe tbody tr th {\n",
       "        vertical-align: top;\n",
       "    }\n",
       "\n",
       "    .dataframe thead th {\n",
       "        text-align: right;\n",
       "    }\n",
       "</style>\n",
       "<table border=\"1\" class=\"dataframe\">\n",
       "  <thead>\n",
       "    <tr style=\"text-align: right;\">\n",
       "      <th></th>\n",
       "      <th>Easting[km]</th>\n",
       "      <th>Northing[km]</th>\n",
       "      <th>x[km]</th>\n",
       "      <th>y[km]</th>\n",
       "      <th>z[km]</th>\n",
       "      <th>Vp[km/s]</th>\n",
       "      <th>Vs[km/s]</th>\n",
       "      <th>Vp/Vs</th>\n",
       "    </tr>\n",
       "  </thead>\n",
       "  <tbody>\n",
       "    <tr>\n",
       "      <th>0</th>\n",
       "      <td>332.800507</td>\n",
       "      <td>4260.690918</td>\n",
       "      <td>0.000</td>\n",
       "      <td>0.0</td>\n",
       "      <td>0.0</td>\n",
       "      <td>1.0</td>\n",
       "      <td>0.577</td>\n",
       "      <td>1.733</td>\n",
       "    </tr>\n",
       "    <tr>\n",
       "      <th>1</th>\n",
       "      <td>332.925507</td>\n",
       "      <td>4260.690918</td>\n",
       "      <td>0.125</td>\n",
       "      <td>0.0</td>\n",
       "      <td>0.0</td>\n",
       "      <td>1.0</td>\n",
       "      <td>0.577</td>\n",
       "      <td>1.733</td>\n",
       "    </tr>\n",
       "    <tr>\n",
       "      <th>2</th>\n",
       "      <td>333.050507</td>\n",
       "      <td>4260.690918</td>\n",
       "      <td>0.250</td>\n",
       "      <td>0.0</td>\n",
       "      <td>0.0</td>\n",
       "      <td>1.0</td>\n",
       "      <td>0.577</td>\n",
       "      <td>1.733</td>\n",
       "    </tr>\n",
       "    <tr>\n",
       "      <th>3</th>\n",
       "      <td>333.175507</td>\n",
       "      <td>4260.690918</td>\n",
       "      <td>0.375</td>\n",
       "      <td>0.0</td>\n",
       "      <td>0.0</td>\n",
       "      <td>1.0</td>\n",
       "      <td>0.577</td>\n",
       "      <td>1.733</td>\n",
       "    </tr>\n",
       "    <tr>\n",
       "      <th>4</th>\n",
       "      <td>333.300507</td>\n",
       "      <td>4260.690918</td>\n",
       "      <td>0.500</td>\n",
       "      <td>0.0</td>\n",
       "      <td>0.0</td>\n",
       "      <td>1.0</td>\n",
       "      <td>0.577</td>\n",
       "      <td>1.733</td>\n",
       "    </tr>\n",
       "  </tbody>\n",
       "</table>\n",
       "</div>"
      ],
      "text/plain": [
       "    Easting[km]   Northing[km]   x[km]   y[km]   z[km]   Vp[km/s]   Vs[km/s]   \n",
       "0    332.800507    4260.690918   0.000     0.0     0.0        1.0      0.577  \\\n",
       "1    332.925507    4260.690918   0.125     0.0     0.0        1.0      0.577   \n",
       "2    333.050507    4260.690918   0.250     0.0     0.0        1.0      0.577   \n",
       "3    333.175507    4260.690918   0.375     0.0     0.0        1.0      0.577   \n",
       "4    333.300507    4260.690918   0.500     0.0     0.0        1.0      0.577   \n",
       "\n",
       "     Vp/Vs  \n",
       "0    1.733  \n",
       "1    1.733  \n",
       "2    1.733  \n",
       "3    1.733  \n",
       "4    1.733  "
      ]
     },
     "execution_count": 3,
     "metadata": {},
     "output_type": "execute_result"
    }
   ],
   "source": [
    "SLB_vmod = pd.read_excel('/home/birniece/Documents/data/UTAH_FORGE/Seismic_Velocity_Model_FORGE_Site.xlsx', \n",
    "                          header=0, \n",
    "                        )\n",
    "SLB_vmod.head()"
   ]
  },
  {
   "cell_type": "code",
   "execution_count": 4,
   "id": "0259ba4b-2401-44fd-898f-8ede4f8629fe",
   "metadata": {},
   "outputs": [
    {
     "data": {
      "text/plain": [
       "1296"
      ]
     },
     "execution_count": 4,
     "metadata": {},
     "output_type": "execute_result"
    }
   ],
   "source": [
    "SLB_vmod_crp = SLB_vmod[SLB_vmod[' z[km]'] < 2.0]\n",
    "SLB_vmod_crp = SLB_vmod_crp[SLB_vmod_crp[' x[km]'] < 3.25]\n",
    "SLB_vmod_crp = SLB_vmod_crp[SLB_vmod_crp[' x[km]'] > 2.]\n",
    "SLB_vmod_crp = SLB_vmod_crp[SLB_vmod_crp[' y[km]'] < 3.25]\n",
    "SLB_vmod_crp = SLB_vmod_crp[SLB_vmod_crp[' y[km]'] > 2.]\n",
    "len(SLB_vmod_crp)"
   ]
  },
  {
   "cell_type": "code",
   "execution_count": 5,
   "id": "0ad03f69-29cf-4858-ab68-b6ad6db1b5e8",
   "metadata": {},
   "outputs": [
    {
     "name": "stdout",
     "output_type": "stream",
     "text": [
      "9 9 16\n",
      "0.125 0.125 0.125\n"
     ]
    }
   ],
   "source": [
    "x = SLB_vmod_crp[' x[km]'].values\n",
    "y = SLB_vmod_crp[' y[km]'].values\n",
    "z = SLB_vmod_crp[' z[km]'].values\n",
    "\n",
    "nx = len(np.unique(x))\n",
    "ny = len(np.unique(y))\n",
    "nz = len(np.unique(z))\n",
    "print(nx,ny,nz)\n",
    "\n",
    "dx_o = x[1]-x[0]\n",
    "dy_o = np.unique(y)[1]-np.unique(y)[0]\n",
    "dz_o = np.unique(z)[1]-np.unique(z)[0]\n",
    "print(dx_o,dy_o,dz_o)\n",
    "\n",
    "vp_flat = SLB_vmod_crp[' Vp[km/s]'].values\n",
    "vs_flat = SLB_vmod_crp[' Vs[km/s]'].values"
   ]
  },
  {
   "cell_type": "code",
   "execution_count": 6,
   "id": "f5744ffa-fb17-40b5-86f7-ae1a32e71c0b",
   "metadata": {},
   "outputs": [
    {
     "data": {
      "text/plain": [
       "(<Figure size 800x800 with 3 Axes>,\n",
       " (<Axes: xlabel='y samples', ylabel='z samples'>,\n",
       "  <Axes: xlabel='x samples'>,\n",
       "  <Axes: ylabel='x samples'>))"
      ]
     },
     "execution_count": 6,
     "metadata": {},
     "output_type": "execute_result"
    },
    {
     "data": {
      "image/png": "[encoded data removed]",
      "text/plain": [
       "<Figure size 800x800 with 3 Axes>"
      ]
     },
     "metadata": {},
     "output_type": "display_data"
    }
   ],
   "source": [
    "from pyfrac.visualisation.plotting_support import explode_volume\n",
    "\n",
    "vp_3D = vp_flat.reshape([nz, ny, nx])\n",
    "vs_3D = vs_flat.reshape([nz, ny, nx])\n",
    "\n",
    "explode_volume(vp_3D, \n",
    "               t=nz//2, \n",
    "               x=ny//2, \n",
    "               y=nx//2,\n",
    "               cmap='rainbow',      \n",
    "               clipval = [np.min(vp_3D), np.max(vp_3D)],\n",
    "               labels=( '[z]', '[x]', '[y]',),\n",
    "               tlabel='z', xlabel='y', ylabel='x',\n",
    "               title=' ',\n",
    "               )"
   ]
  },
  {
   "cell_type": "markdown",
   "id": "25a9766c-3c68-4528-8d9f-5ff190417bca",
   "metadata": {},
   "source": [
    "# MAKE MODELS"
   ]
  },
  {
   "cell_type": "code",
   "execution_count": 7,
   "id": "c3619565-19ad-43bf-bf36-6adab327bfe2",
   "metadata": {},
   "outputs": [
    {
     "name": "stdout",
     "output_type": "stream",
     "text": [
      "880 960 800\n",
      "88.0 96.0 80.0\n",
      "22.0 24.0 20.0\n"
     ]
    }
   ],
   "source": [
    "# Model parameters\n",
    "dx = dy = dz = 2.\n",
    "\n",
    "xmax = 1760\n",
    "ymax = 1920\n",
    "zmax = 1600\n",
    "\n",
    "nx_mod = int(xmax//dx)\n",
    "ny_mod = int(ymax//dy)\n",
    "nz_mod = int(zmax//dz)\n",
    "print(nx_mod,ny_mod,nz_mod)\n",
    "# Checking for nxyz\n",
    "print(nx_mod/10,ny_mod/10,nz_mod/10)\n",
    "# Checking for snapshots\n",
    "print(nx_mod/10/4,ny_mod/10/4,nz_mod/10/4)"
   ]
  },
  {
   "cell_type": "markdown",
   "id": "4cdb953a-018e-4bae-a808-49e74b5f1063",
   "metadata": {},
   "source": [
    "## Homo model from average velocity \n"
   ]
  },
  {
   "cell_type": "raw",
   "id": "5bbdf9fe-9391-41a4-b676-29bc3482e587",
   "metadata": {},
   "source": [
    "vp_homo = np.mean(vp_3D)*1000  # m/s\n",
    "vs_homo = np.mean(vs_3D)*1000  # m/s\n",
    "rho_homo = (0.31 * vp_homo**0.25)  # kg/m**3\n",
    "\n",
    "\n",
    "\n",
    "nx_homo = int(xmax//dx)\n",
    "ny_homo = int(ymax//dy)\n",
    "nz_homo = int(zmax//dz)\n",
    "\n",
    "\n",
    "vp_homo_3D = np.ones([nx_homo,nz_homo,ny_homo]) * vp_homo\n",
    "vs_homo_3D = np.ones([nx_homo,nz_homo,ny_homo]) * vs_homo\n",
    "rho_homo_3D = np.ones([nx_homo,nz_homo,ny_homo]) * rho_homo"
   ]
  },
  {
   "cell_type": "raw",
   "id": "94bc0c0e-9fa7-47bd-9133-b8ef92ea9deb",
   "metadata": {},
   "source": [
    "# Write as binary\n",
    "expname = 'UtahFORGE_homo_2m'\n",
    "outpath = os.path.join(mod_outpath,'homo/')\n",
    "os.makedirs(outpath, exist_ok=True)\n",
    "vp_homo_3D.astype(np.float32).tofile(os.path.join(outpath,'%s.vp'%expname))  #,format='<f')\n",
    "vs_homo_3D.astype(np.float32).tofile(os.path.join(outpath,'%s.vs'%expname))  #,format='<f')\n",
    "rho_homo_3D.astype(np.float32).tofile(os.path.join(outpath,'%s.rho'%expname))  #,format='<f')"
   ]
  },
  {
   "cell_type": "markdown",
   "id": "63edea5b-1b2d-47b5-82f2-62a24636c93f",
   "metadata": {},
   "source": [
    "## Pancake"
   ]
  },
  {
   "cell_type": "code",
   "execution_count": 8,
   "id": "33e252a4-4ac3-4bbf-976d-9c4884a6ddf9",
   "metadata": {},
   "outputs": [
    {
     "name": "stdout",
     "output_type": "stream",
     "text": [
      "500\n"
     ]
    }
   ],
   "source": [
    "z_o = np.unique(z)*1000\n",
    "\n",
    "x_pancake = np.arange(min(x)*1000,max(x)*1000,dx)\n",
    "y_pancake = np.arange(min(y)*1000,max(y)*1000,dy)\n",
    "z_pancake = np.arange(min(z)*1000,max(z)*1000,dz)\n",
    "print(len(x_pancake))\n",
    "\n",
    "nx_pancake = len(x_pancake)\n",
    "ny_pancake = len(y_pancake)\n",
    "nz_pancake = len(z_pancake)\n"
   ]
  },
  {
   "cell_type": "code",
   "execution_count": 9,
   "id": "86daafb3-41bd-4c7f-a73d-a6ea7248e332",
   "metadata": {},
   "outputs": [
    {
     "data": {
      "image/png": "[encoded data removed]",
      "text/plain": [
       "<Figure size 400x500 with 3 Axes>"
      ]
     },
     "metadata": {},
     "output_type": "display_data"
    }
   ],
   "source": [
    "vp_log_o = vp_3D[:,ny//2,nx//2] *1000\n",
    "vs_log_o = vs_3D[:,ny//2,nx//2] *1000\n",
    "rho_log_o = (0.31 * vp_log_o**0.25)  *1000 # kg/m**3\n",
    "\n",
    "f_vp = scipy.interpolate.interp1d(z_o, vp_log_o, kind='linear')#, kind='previous')\n",
    "f_vs = scipy.interpolate.interp1d(z_o, vs_log_o, kind='linear')#, kind='previous')\n",
    "f_rho = scipy.interpolate.interp1d(z_o, rho_log_o, kind='linear')#, kind='previous')\n",
    "vp_log = f_vp(z_pancake)\n",
    "vs_log = f_vs(z_pancake)\n",
    "rho_log = f_rho(z_pancake)\n",
    "\n",
    "fig,axs = plt.subplots(1,3,figsize=[4,5], sharey=True)\n",
    "axs[0].plot(vp_log_o, z_o,'k')\n",
    "axs[0].plot(vp_log, z_pancake, '--b')\n",
    "axs[1].plot(vs_log_o, z_o,'k')\n",
    "axs[1].plot(vs_log, z_pancake, '--b')\n",
    "axs[2].plot(rho_log_o, z_o,'k')\n",
    "axs[2].plot(rho_log, z_pancake, '--b')\n",
    "fig.tight_layout()"
   ]
  },
  {
   "cell_type": "code",
   "execution_count": 10,
   "id": "7c722c09-cdb3-4382-9d2c-6837161dc6da",
   "metadata": {},
   "outputs": [],
   "source": [
    "# Expand to 3D\n",
    "vp_pancake = np.expand_dims(vp_log, axis=[1,2])\n",
    "vp_pancake = vp_pancake.repeat(nx_pancake,axis=2).repeat(ny_pancake,axis=1)\n",
    "vs_pancake = np.expand_dims(vs_log, axis=[1,2])\n",
    "vs_pancake = vs_pancake.repeat(nx_pancake,axis=2).repeat(ny_pancake,axis=1)\n",
    "rho_pancake = np.expand_dims(rho_log, axis=[1,2])\n",
    "rho_pancake = rho_pancake.repeat(nx_pancake,axis=2).repeat(ny_pancake,axis=1)"
   ]
  },
  {
   "cell_type": "code",
   "execution_count": 20,
   "id": "50b910d1-90a4-41ab-922f-a98aa5d6f25e",
   "metadata": {},
   "outputs": [
    {
     "data": {
      "text/plain": [
       "2707.8801936503182"
      ]
     },
     "execution_count": 20,
     "metadata": {},
     "output_type": "execute_result"
    }
   ],
   "source": [
    "np.max(rho_pancake)"
   ]
  },
  {
   "cell_type": "code",
   "execution_count": 12,
   "id": "bd898833-e116-4e19-8d17-0ea674185ba0",
   "metadata": {},
   "outputs": [
    {
     "data": {
      "text/plain": [
       "(<Figure size 800x800 with 3 Axes>,\n",
       " (<Axes: xlabel='y samples', ylabel='z samples'>,\n",
       "  <Axes: xlabel='x samples'>,\n",
       "  <Axes: ylabel='x samples'>))"
      ]
     },
     "execution_count": 12,
     "metadata": {},
     "output_type": "execute_result"
    },
    {
     "data": {
      "image/png": "[encoded data removed]",
      "text/plain": [
       "<Figure size 800x800 with 3 Axes>"
      ]
     },
     "metadata": {},
     "output_type": "display_data"
    }
   ],
   "source": [
    "explode_volume(vp_pancake, \n",
    "               t=vp_pancake.shape[0]//2, \n",
    "               x=vp_pancake.shape[1]//2, \n",
    "               y=vp_pancake.shape[2]//2,\n",
    "               cmap='rainbow',      \n",
    "               clipval = [np.min(vp_pancake), np.max(vp_pancake)],\n",
    "               labels=( '[z]', '[x]', '[y]',),\n",
    "               tlabel='z', xlabel='y', ylabel='x',\n",
    "               title=' ',\n",
    "               )"
   ]
  },
  {
   "cell_type": "code",
   "execution_count": 13,
   "id": "234e90a0-cabe-4b5b-9292-679a4560bc12",
   "metadata": {},
   "outputs": [
    {
     "data": {
      "text/plain": [
       "(<Figure size 800x800 with 3 Axes>,\n",
       " (<Axes: xlabel='y samples', ylabel='z samples'>,\n",
       "  <Axes: xlabel='x samples'>,\n",
       "  <Axes: ylabel='x samples'>))"
      ]
     },
     "execution_count": 13,
     "metadata": {},
     "output_type": "execute_result"
    },
    {
     "data": {
      "image/png": "[encoded data removed]",
      "text/plain": [
       "<Figure size 800x800 with 3 Axes>"
      ]
     },
     "metadata": {},
     "output_type": "display_data"
    }
   ],
   "source": [
    "# Trim model slightly [z,y,x]\n",
    "vp_pancake = vp_pancake[:460*2,:600,:600]\n",
    "vs_pancake = vs_pancake[:460*2,:600,:600]\n",
    "rho_pancake = rho_pancake[:460*2,:600,:600]\n",
    "\n",
    "explode_volume(vp_pancake, \n",
    "               t=vp_pancake.shape[0]//2, \n",
    "               x=vp_pancake.shape[1]//2, \n",
    "               y=vp_pancake.shape[2]//2,\n",
    "               cmap='rainbow',      \n",
    "               clipval = [np.min(vp_pancake), np.max(vp_pancake)],\n",
    "               labels=( '[z]', '[x]', '[y]',),\n",
    "               tlabel='z', xlabel='y', ylabel='x',\n",
    "               title=' ',\n",
    "               )"
   ]
  },
  {
   "cell_type": "code",
   "execution_count": 14,
   "id": "5e68331f-396d-4a84-8b42-c28a743fe2d4",
   "metadata": {},
   "outputs": [
    {
     "data": {
      "text/plain": [
       "(920, 500, 500)"
      ]
     },
     "execution_count": 14,
     "metadata": {},
     "output_type": "execute_result"
    }
   ],
   "source": [
    "vp_pancake.shape"
   ]
  },
  {
   "cell_type": "code",
   "execution_count": 15,
   "id": "7752c272-5866-440d-997e-fd5336ee95ef",
   "metadata": {},
   "outputs": [],
   "source": [
    "# Transpose to [x,z,y] and save\n",
    "# Write as binary\n",
    "expname = 'UtahFORGE_lateralhomo_2m'\n",
    "outpath = os.path.join(mod_outpath,'lateralhomo/')\n",
    "os.makedirs(outpath, exist_ok=True)\n",
    "vp_pancake.transpose([2,0,1]).astype(np.float32).tofile(os.path.join(outpath,'%s.vp'%expname),format='<f')\n",
    "vs_pancake.transpose([2,0,1]).astype(np.float32).tofile(os.path.join(outpath,'%s.vs'%expname),format='<f')\n",
    "rho_pancake.transpose([2,0,1]).astype(np.float32).tofile(os.path.join(outpath,'%s.rho'%expname),format='<f')"
   ]
  },
  {
   "cell_type": "raw",
   "id": "7c034000-46e1-4b46-8318-0433403a794c",
   "metadata": {},
   "source": [
    "del vp_pancake\n",
    "del vs_pancake\n",
    "del rho_pancake"
   ]
  },
  {
   "cell_type": "markdown",
   "id": "2746723b-369f-424f-8656-0964814ea889",
   "metadata": {},
   "source": [
    "## CROPPED MODEL - Resampled"
   ]
  },
  {
   "cell_type": "raw",
   "id": "d6e44be5-e9ed-43fc-b126-8d13a259ab6c",
   "metadata": {},
   "source": [
    "vp_3D.shape"
   ]
  },
  {
   "cell_type": "raw",
   "id": "4fbd28cc-df77-476a-aa06-10407a66e1e9",
   "metadata": {},
   "source": [
    "x_o = np.unique(x)*1000\n",
    "y_o = np.unique(y)*1000\n",
    "z_o = np.unique(z)*1000\n",
    "\n",
    "x_cropped = np.arange(min(x)*1000,max(x)*1000,dx)\n",
    "y_cropped = np.arange(min(y)*1000,max(y)*1000,dy)\n",
    "z_cropped = np.arange(min(z)*1000,max(z)*1000,dz)\n",
    "\n",
    "print(max(x_cropped))"
   ]
  },
  {
   "cell_type": "raw",
   "id": "948c00e7-b158-4a75-a8c7-bb631a15ca03",
   "metadata": {},
   "source": [
    "print(min(x_o), min(x_cropped), max(x_o), max(x_cropped))\n",
    "print(min(y_o), min(y_cropped), max(y_o), max(y_cropped))\n",
    "print(min(z_o), min(z_cropped), max(z_o), max(z_cropped))"
   ]
  },
  {
   "cell_type": "raw",
   "id": "ea6514ef-3e1a-4cd6-8f13-25a87a095d13",
   "metadata": {},
   "source": [
    "Z,Y,X = np.meshgrid(z_cropped, y_cropped, x_cropped)  # 2D grid for interpolation\n",
    "\n",
    "vp_interp = RegularGridInterpolator((z_o, y_o, x_o), vp_3D*1000, method='nearest')\n",
    "vs_interp = RegularGridInterpolator((z_o, y_o, x_o), vs_3D*1000, method='nearest')\n",
    "\n",
    "vp_cropped = vp_interp((Z, Y, X)).transpose([1,0,2])\n",
    "vs_cropped = vs_interp((Z, Y, X)).transpose([1,0,2])\n",
    "rho_cropped =  (0.31 * vp_cropped**0.25)"
   ]
  },
  {
   "cell_type": "raw",
   "id": "11ce7361-1a73-4329-9e6e-7eb403a14152",
   "metadata": {},
   "source": [
    "vp_cropped.shape"
   ]
  },
  {
   "cell_type": "raw",
   "id": "f7861c13-e093-45ba-9bb1-e7718d1a56e9",
   "metadata": {},
   "source": [
    "explode_volume(vp_cropped, \n",
    "               t=vp_cropped.shape[0]//2, \n",
    "               x=vp_cropped.shape[1]//2, \n",
    "               y=vp_cropped.shape[2]//2,\n",
    "               cmap='rainbow',      \n",
    "               clipval = [np.min(vp_cropped), np.max(vp_cropped)],\n",
    "               labels=( '[z]', '[x]', '[y]',),\n",
    "               tlabel='z', xlabel='y', ylabel='x',\n",
    "               title=' ',\n",
    "               )"
   ]
  },
  {
   "cell_type": "raw",
   "id": "d492052e-4c06-4da7-a234-8b7e14176e97",
   "metadata": {},
   "source": [
    "# Trim model slightly [z,y,x]\n",
    "vp_cropped = vp_cropped[:460*2,:420*2,:410*2]\n",
    "vs_cropped = vs_cropped[:460*2,:420*2,:410*2]\n",
    "rho_cropped = rho_cropped[:460*2,:420*2,:410*2]\n",
    "\n",
    "explode_volume(vp_cropped, \n",
    "               t=vp_cropped.shape[0]//2, \n",
    "               x=vp_cropped.shape[1]//2, \n",
    "               y=vp_cropped.shape[2]//2,\n",
    "               cmap='rainbow',      \n",
    "               clipval = [np.min(vp_cropped), np.max(vp_cropped)],\n",
    "               labels=( '[z]', '[x]', '[y]',),\n",
    "               tlabel='z', xlabel='y', ylabel='x',\n",
    "               title=' ',\n",
    "               )"
   ]
  },
  {
   "cell_type": "raw",
   "id": "0a40e58d-d52a-4b74-b75c-26aeea14e814",
   "metadata": {},
   "source": [
    "vp_cropped.transpose([2,0,1]).shape"
   ]
  },
  {
   "cell_type": "raw",
   "id": "08479182-4ea8-41b5-b3ee-ad192d6790bf",
   "metadata": {},
   "source": [
    "# Transpose to [x,z,y] and save\n",
    "# Write as binary\n",
    "expname = 'UtahFORGE_CroppedCentralVolume_2m'\n",
    "outpath = os.path.join(mod_outpath,'CroppedCentralVolume/')\n",
    "os.makedirs(outpath, exist_ok=True)\n",
    "vp_cropped.transpose([2,0,1]).astype(np.float32).tofile(os.path.join(outpath,'%s.vp'%expname))  #,format='<f')\n",
    "vs_cropped.transpose([2,0,1]).astype(np.float32).tofile(os.path.join(outpath,'%s.vs'%expname))  #,format='<f')\n",
    "rho_cropped.transpose([2,0,1]).astype(np.float32).tofile(os.path.join(outpath,'%s.rho'%expname))  #,format='<f')"
   ]
  },
  {
   "cell_type": "markdown",
   "id": "d1d22fa8-41f3-4bae-9d1e-2156bfcb97bf",
   "metadata": {},
   "source": [
    "# ACQUISITIONS"
   ]
  },
  {
   "cell_type": "code",
   "execution_count": 21,
   "id": "7a352ea9-e841-4421-a2f5-56159cffc120",
   "metadata": {},
   "outputs": [
    {
     "name": "stdout",
     "output_type": "stream",
     "text": [
      "1000.0\n",
      "(3, 169)\n"
     ]
    },
    {
     "data": {
      "image/png": "[encoded data removed]",
      "text/plain": [
       "<Figure size 640x480 with 1 Axes>"
      ]
     },
     "metadata": {},
     "output_type": "display_data"
    }
   ],
   "source": [
    "# RECEIVERS\n",
    "xmaxpoint = (vp_pancake.shape[2])*dx\n",
    "ymaxpoint = (vp_pancake.shape[1])*dy\n",
    "print(xmaxpoint)\n",
    "grid_rx_locs = np.arange(250, xmaxpoint-250, 40)\n",
    "grid_ry_locs = np.arange(250, ymaxpoint-250, 40)\n",
    "\n",
    "rx, ry, rz = np.meshgrid(grid_rx_locs,\n",
    "                         grid_ry_locs,\n",
    "                         dz*41) \n",
    "recs = np.vstack((rx.flatten(), rz.flatten(), ry.flatten()))\n",
    "nr = recs.shape[1]\n",
    "\n",
    "plt.scatter(rx,ry)\n",
    "print(recs.shape)\n",
    "\n",
    "np.savetxt(os.path.join(rec_outpath,'UtahFORGE_griddedrecs_2m.dat'),\n",
    "           recs.T.astype(np.float32), \n",
    "           fmt='%.4f')"
   ]
  },
  {
   "cell_type": "code",
   "execution_count": 17,
   "id": "bc6f6e2e-aeea-477f-9de0-4dfe01194b2e",
   "metadata": {},
   "outputs": [],
   "source": [
    "# # Source \n",
    "# sx, sy, sz = 850, 860, 1300\n",
    "# td = 1e-6  # ignition time\n",
    "# fc = 20  # central frequency\n",
    "# amp = 1.  # amplitude\n",
    "# string_list = [str(i) for i in [sx, sz, sy, td, fc, amp]]\n",
    "# src_string = '\\t'.join(string_list)\n",
    "# print(src_string)\n",
    "# text_file = open(os.path.join(outpath,'sources.dat'), \"wt\")\n",
    "# text_file.writelines(src_string)\n",
    "# text_file.close()"
   ]
  },
  {
   "cell_type": "code",
   "execution_count": null,
   "id": "d8f5bbfa-44cc-4423-b5ee-4a63e005ef8d",
   "metadata": {},
   "outputs": [],
   "source": []
  }
 ],
 "metadata": {
  "kernelspec": {
   "display_name": "Python 3 (ipykernel)",
   "language": "python",
   "name": "python3"
  },
  "language_info": {
   "codemirror_mode": {
    "name": "ipython",
    "version": 3
   },
   "file_extension": ".py",
   "mimetype": "text/x-python",
   "name": "python",
   "nbconvert_exporter": "python",
   "pygments_lexer": "ipython3",
   "version": "3.9.18"
  }
 },
 "nbformat": 4,
 "nbformat_minor": 5
}
