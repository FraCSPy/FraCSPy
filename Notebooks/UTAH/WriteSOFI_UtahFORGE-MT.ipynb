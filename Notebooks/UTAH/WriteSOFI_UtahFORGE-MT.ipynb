{
 "cells": [
  {
   "cell_type": "code",
   "execution_count": 1,
   "id": "354b8aad-ae10-4127-885f-6f4b675d97f3",
   "metadata": {},
   "outputs": [],
   "source": [
    "%load_ext autoreload\n",
    "%autoreload 2\n",
    "%matplotlib inline\n",
    "\n",
    "import warnings\n",
    "warnings.filterwarnings('ignore')\n",
    "\n",
    "import os\n",
    "import numpy as np\n",
    "import scipy as sc\n",
    "import matplotlib.pyplot as plt\n",
    "\n",
    "import pyfrac\n",
    "from pyfrac.utils.sofiutils import *\n",
    "from pyfrac.utils.modellingutils import *\n",
    "from pyfrac.hydrafrac.acquisition import recgeom"
   ]
  },
  {
   "cell_type": "markdown",
   "id": "600ddb27-8bb3-4309-8c5d-5b6c610c39c3",
   "metadata": {},
   "source": [
    "### ASSUMPTIONS:\n",
    "- Velocity Models\n",
    "- Receiver Geom\n",
    "\n",
    "Already made, therefore only need to set the path."
   ]
  },
  {
   "cell_type": "code",
   "execution_count": 2,
   "id": "b2b0ecc4-04f3-40d5-bb93-bbcd16e148a9",
   "metadata": {},
   "outputs": [],
   "source": [
    "project_dir = '/home/birniece/Documents/Projects/MicroseismicModelling/MicroseismicProcessing/FDModelling/UTAH_Homo_tst'\n",
    "expname = 'UTAH_Homo_tst'\n",
    "\n",
    "model_dir = '/home/birniece/Documents/data/UTAH_FORGE/ClairesVMods/homo/UtahFORGE_homo'\n",
    "rec_file = '/home/birniece/Documents/data/UTAH_FORGE/ClairesVMods/homo/receiver.dat'\n",
    "source_file = os.path.join('/home/birniece/Documents/data/UTAH_FORGE/SourceFiles','sources.dat')\n",
    "\n",
    "os.makedirs(project_dir, exist_ok=True)  # make project dir if doesn't already exist"
   ]
  },
  {
   "cell_type": "markdown",
   "id": "0f491eab-c6b7-45fd-bba0-347f8f2494f0",
   "metadata": {},
   "source": [
    "# SELECT PARAMETERS"
   ]
  },
  {
   "cell_type": "markdown",
   "id": "87463c82-fb7c-400d-81e8-e32de0217baa",
   "metadata": {},
   "source": [
    "### MODEL PARAMETERS - Get these from the script that made the models"
   ]
  },
  {
   "cell_type": "code",
   "execution_count": 3,
   "id": "4c921f23-fc8f-4cc0-afb2-f4191d0836fe",
   "metadata": {},
   "outputs": [],
   "source": [
    "# TIME PARAMETERS\n",
    "dt = 0.0001\n",
    "tdur = 1.0"
   ]
  },
  {
   "cell_type": "code",
   "execution_count": 4,
   "id": "dcccdfb8-5bae-4c28-afa2-d4425ee92571",
   "metadata": {},
   "outputs": [],
   "source": [
    "# SPATIAL PARAMETERS\n",
    "dx = dy = dz = 10.\n",
    "\n",
    "xmax = 1700\n",
    "ymax = 1740 # y is y, I fix the SOFI ordering later\n",
    "zmax = 1500\n",
    "\n",
    "nx_homo = int(xmax//dx)\n",
    "ny_homo = int(ymax//dy)\n",
    "nz_homo = int(zmax//dz)\n",
    "\n",
    "n_xzy = [nx_homo, nz_homo, ny_homo]\n",
    "d_xzy = [dx, dz, dy]"
   ]
  },
  {
   "cell_type": "code",
   "execution_count": 5,
   "id": "cd1870f2-cba4-4e8a-a501-5da8fe1b87b6",
   "metadata": {},
   "outputs": [],
   "source": [
    "# BOUNDARIES & FREE SURFACE\n",
    "nbounds = 30\n",
    "free_surface = True"
   ]
  },
  {
   "cell_type": "markdown",
   "id": "d1ae1848-04f3-422c-82a1-bdf84f327181",
   "metadata": {},
   "source": [
    "### SOURCE DEFINITION"
   ]
  },
  {
   "cell_type": "code",
   "execution_count": 6,
   "id": "abd1fda0-d290-47ea-bf4e-e5498e5d5d5c",
   "metadata": {},
   "outputs": [],
   "source": [
    "strike, dip, rake = 0., 45., 90."
   ]
  },
  {
   "cell_type": "code",
   "execution_count": 7,
   "id": "3a44ad31-f44f-41bc-a5ed-a81c5250f207",
   "metadata": {},
   "outputs": [],
   "source": [
    "sx, sy, sz = 850, 860, 1300  # y is y, I fix the SOFI ordering later\n",
    "td = dt  # ignition time\n",
    "fc = 20  # central frequency\n",
    "amp = 1.  # amplitude\n",
    "\n",
    "string_list = [str(i) for i in [sx, sz, sy, td, fc, amp]]"
   ]
  },
  {
   "cell_type": "markdown",
   "id": "992d668a-4b3d-4b6d-9bbf-7b9797796ec2",
   "metadata": {},
   "source": [
    "### RECORDING PARAMETERS"
   ]
  },
  {
   "cell_type": "code",
   "execution_count": 8,
   "id": "9eede73b-0fb5-451c-980a-4aa4677703dd",
   "metadata": {},
   "outputs": [],
   "source": [
    "# SNAP PARAMETERS\n",
    "snap_start = dt\n",
    "snap_end = tdur/2\n",
    "snap_step = 10*dt\n",
    "tsnap_params = [snap_start, snap_end, snap_step]\n",
    "snap_sbsmp_xyz = 1"
   ]
  },
  {
   "cell_type": "code",
   "execution_count": 9,
   "id": "a4427f7b-8731-45cc-ad29-e8e61032f686",
   "metadata": {},
   "outputs": [],
   "source": [
    "# SEISMOGRAM PARAMETERS\n",
    "smgrm_ndt = 10"
   ]
  },
  {
   "cell_type": "markdown",
   "id": "4e62bb4b-eda6-4a54-a264-558eecaf0800",
   "metadata": {},
   "source": [
    "### SOFI PARAMETERS"
   ]
  },
  {
   "cell_type": "code",
   "execution_count": 10,
   "id": "0d3853e4-4886-4183-899b-6d8fa638846f",
   "metadata": {},
   "outputs": [],
   "source": [
    "sofimaster = '~/Documents/Projects/MicroseismicModelling/SOFI3D-master/bin/'\n",
    "num_procs = 8"
   ]
  },
  {
   "cell_type": "markdown",
   "id": "c473bb6c-2834-4aaa-a9f1-bf4058940e8e",
   "metadata": {},
   "source": [
    "# WRITE PARAMETERS TO FILE"
   ]
  },
  {
   "cell_type": "code",
   "execution_count": 11,
   "id": "7d84c475-54a0-49df-8e86-e15b729c1c0f",
   "metadata": {},
   "outputs": [],
   "source": [
    "# SOURCE FILE\n",
    "text_file = open(source_file, \"wt\")\n",
    "text_file.writelines('\\t'.join(string_list))\n",
    "text_file.close()"
   ]
  },
  {
   "cell_type": "code",
   "execution_count": 12,
   "id": "f03e6cbc-e0a5-4a89-907a-3d7eeb9e6bd0",
   "metadata": {},
   "outputs": [],
   "source": [
    "# FILE NAMES\n",
    "SOFIjsonfilename = os.path.join(project_dir,'SOFI3D_%s.json'%expname)\n",
    "sofi_param_file = \"SOFI3D_%s.json\"%expname\n",
    "shellfilename = os.path.join(project_dir,'runSOFI3D_%s.sh'%expname)"
   ]
  },
  {
   "cell_type": "code",
   "execution_count": 13,
   "id": "8ee981b6-91ef-47da-bf06-6445a5d12739",
   "metadata": {},
   "outputs": [],
   "source": [
    "# GET THE DIFFERENT STRINGS - this will be updated in the future\n",
    "default_strs = get_default_strings(rec_file=rec_file)\n",
    "\n",
    "# MODELLING\n",
    "t_str = get_time_str(dt, tdur)\n",
    "mod_strs = get_subsurfmod_str(n_xzy, \n",
    "                              d_xzy,\n",
    "                              expname,\n",
    "                              moddir=model_dir,\n",
    "                             )\n",
    "bndry_str = get_boundary_str(fs=free_surface, \n",
    "                             npad=nbounds, \n",
    "                             cpml=False)\n",
    "\n",
    "# SNAP & SEISMOGRAM\n",
    "monitor_strs = get_monitor_str(tsnap_params, \n",
    "                               smgrm_ndt, \n",
    "                               expname, \n",
    "                               sbsmp_xyz=snap_sbsmp_xyz)\n",
    "\n",
    "\n",
    "# SOURCE\n",
    "# src_str = get_source_str(sfile=source_file)\n",
    "src_str = get_MTsource_str(strike, dip, rake, sfile=source_file)"
   ]
  },
  {
   "cell_type": "code",
   "execution_count": 14,
   "id": "449f85eb-391a-4db3-b8c9-c11a61198858",
   "metadata": {},
   "outputs": [],
   "source": [
    "write_SOFIjsonParams = write_SOFIjsonParams(default_strs, \n",
    "                                            monitor_strs,  \n",
    "                                            t_str, \n",
    "                                            mod_strs, \n",
    "                                            src_str, \n",
    "                                            bndry_str, \n",
    "                                            SOFIjsonfilename)\n",
    "runscript = write_SOFIrunScript(sofimaster, \n",
    "                                num_procs, \n",
    "                                sofi_param_file, \n",
    "                                shellfilename)"
   ]
  }
 ],
 "metadata": {
  "kernelspec": {
   "display_name": "Python 3 (ipykernel)",
   "language": "python",
   "name": "python3"
  },
  "language_info": {
   "codemirror_mode": {
    "name": "ipython",
    "version": 3
   },
   "file_extension": ".py",
   "mimetype": "text/x-python",
   "name": "python",
   "nbconvert_exporter": "python",
   "pygments_lexer": "ipython3",
   "version": "3.9.18"
  }
 },
 "nbformat": 4,
 "nbformat_minor": 5
}
