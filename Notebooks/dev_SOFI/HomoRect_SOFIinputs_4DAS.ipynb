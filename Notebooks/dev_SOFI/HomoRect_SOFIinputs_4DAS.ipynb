{
 "cells": [
  {
   "cell_type": "markdown",
   "id": "c14c9d99",
   "metadata": {},
   "source": [
    "# Generating the FD inputs for replication of the lab experiment \n",
    "\n",
    "**MODEL**: Homogeneous model of size 50x50x50 cm with properties of _Fine Sandstone_ as defined by Xi et al., 2009\n",
    "- v_p 5.26 km/s \n",
    "- v_s 3.26 km/s\n",
    "- rho 2.59 g/cm^3\n",
    "\n",
    "Add a buffer of 25 gridpoints around to imitate \n",
    "\n",
    "**GEOMETRY**: Imitating 5 DAS loops per face, with loops starting 2cm into face. Loops are imitated by 10 point receivers per face (i.e. every 5cm)"
   ]
  },
  {
   "cell_type": "code",
   "execution_count": 11,
   "id": "70f904f1",
   "metadata": {},
   "outputs": [],
   "source": [
    "import numpy as np\n",
    "import os\n",
    "\n",
    "%matplotlib inline\n",
    "import matplotlib.pyplot as plt\n",
    "from mpl_toolkits.mplot3d import Axes3D\n"
   ]
  },
  {
   "cell_type": "code",
   "execution_count": 12,
   "id": "9ef58187",
   "metadata": {},
   "outputs": [],
   "source": [
    "outpath = '../../../SOFI-modelling/SOFI_LabImitiation/inputs/'"
   ]
  },
  {
   "cell_type": "markdown",
   "id": "088bd4e0",
   "metadata": {},
   "source": [
    "# MODEL"
   ]
  },
  {
   "cell_type": "code",
   "execution_count": 13,
   "id": "a665a57d",
   "metadata": {},
   "outputs": [],
   "source": [
    "def make_homo_model(dimlims, \n",
    "                    deltadims, \n",
    "                    subsurface_properties,\n",
    "                    pad=True, \n",
    "                    npad=30,\n",
    "                    freesurface=True\n",
    "                   ):\n",
    "    \n",
    "    # Assign variables\n",
    "    xmax = ymax = zmax = dimlims  # m\n",
    "    dx = dy = dz = deltadims  # m\n",
    "    \n",
    "    # Compute number of grid points\n",
    "    nx = ny = nz = int(xmax/dx) # Grid points\n",
    "    nx_m = ny_m = nz_m = nx\n",
    "    if pad:\n",
    "        nx_m = ny_m = nz_m = int(nx + npad*2) # Grid points\n",
    "    if freesurface:\n",
    "        ny_m = int(nx + npad)\n",
    "        \n",
    "    # Make models\n",
    "    vp = subsurface_properties[0]  #m/s\n",
    "    vs = subsurface_properties[1]  #m/s \n",
    "    rho = subsurface_properties[2]; #kg/m3\n",
    "    \n",
    "    mod_vp = vp * np.ones([nx_m,ny_m, nz_m])\n",
    "    mod_vs = vs * np.ones([nx_m,ny_m,nz_m])\n",
    "    mod_rho = rho * np.ones([nx_m,ny_m,nz_m])\n",
    "    \n",
    "    return mod_vp, mod_vs, mod_rho"
   ]
  },
  {
   "cell_type": "code",
   "execution_count": 14,
   "id": "af34250b",
   "metadata": {},
   "outputs": [
    {
     "name": "stdout",
     "output_type": "stream",
     "text": [
      "(50, 50, 50)\n"
     ]
    }
   ],
   "source": [
    "# Model params\n",
    "mod_length = 0.5  # m\n",
    "dx = 0.01  # m\n",
    "nx = int(mod_length/dx)\n",
    "npad = 0\n",
    "\n",
    "# Subsurface properties\n",
    "vp = 5260 #m/s\n",
    "vs = 3260 \n",
    "rho = 2590; #kg/m3\n",
    "\n",
    "mod_vp, mod_vs, mod_rho = make_homo_model(dimlims=mod_length, \n",
    "                                            deltadims=dx, \n",
    "                                            subsurface_properties=[vp,vs,rho],\n",
    "                                            pad=False, \n",
    "                                            npad=npad,\n",
    "                                            freesurface=False\n",
    "                                           )\n",
    "\n",
    "print(mod_vp.shape)\n",
    "\n",
    "mod_path = os.path.join(outpath,'model')\n",
    "mod_vp.astype(np.float32).tofile(os.path.join(mod_path,'lab_sample.vp'))#,format='<f')\n",
    "mod_vs.astype(np.float32).tofile(os.path.join(mod_path,'lab_sample.vs'))  #,format='<f')\n",
    "mod_rho.astype(np.float32).tofile(os.path.join(mod_path,'lab_sample.rho'))  #,format='<f')"
   ]
  },
  {
   "cell_type": "markdown",
   "id": "8b855698",
   "metadata": {},
   "source": [
    "# SOURCE LOCATION"
   ]
  },
  {
   "cell_type": "code",
   "execution_count": 15,
   "id": "f43677af",
   "metadata": {},
   "outputs": [],
   "source": [
    "def comp_source_loc(orig_xyz, \n",
    "                    deltadims, \n",
    "                    npad=30,\n",
    "                    freesurface=True):\n",
    "    \n",
    "    '''convert orig xyz to new xyz taking into account padding'''\n",
    "    \n",
    "    # convert to gridpoint\n",
    "    o_source_gp = [x/dx for x in orig_xyz]\n",
    "    n_source_gp = [x+npad for x in o_source_gp]\n",
    "    \n",
    "    # Account for freesurface\n",
    "    if freesurface:\n",
    "        n_source_gp[1] = o_source_gp[1]\n",
    "        \n",
    "    # Convert back to meters\n",
    "    n_source_xyz = [x*dx for x in n_source_gp]\n",
    "    \n",
    "    return n_source_xyz"
   ]
  },
  {
   "cell_type": "code",
   "execution_count": 16,
   "id": "3664dcfc",
   "metadata": {
    "scrolled": true
   },
   "outputs": [
    {
     "name": "stdout",
     "output_type": "stream",
     "text": [
      "SOURCE LOC:  [0.25, 0.25, 0.25]\n"
     ]
    }
   ],
   "source": [
    "freesurface = True\n",
    "orig_xyz = [0.25, 0.25, 0.25]\n",
    "\n",
    "n_source_xyz = comp_source_loc(orig_xyz, \n",
    "                    deltadims=dx, \n",
    "                    npad=npad,\n",
    "                    freesurface=False)\n",
    "\n",
    "print('SOURCE LOC: ',n_source_xyz)"
   ]
  },
  {
   "cell_type": "markdown",
   "id": "3837e467",
   "metadata": {},
   "source": [
    "# RECEIVERS "
   ]
  },
  {
   "cell_type": "code",
   "execution_count": 17,
   "id": "2a8473bf",
   "metadata": {},
   "outputs": [],
   "source": [
    "def get_recs_on_face(nrpF, nx, dx, rec_buffer=6, npad=30, freesurface=True):\n",
    "    '''At the moment identical in x and y '''\n",
    "    \n",
    "    # Get grid location without considering padding\n",
    "    start_point = rec_buffer*dx\n",
    "    end_point = (nx-(2*rec_buffer))*dx \n",
    "    grid_locs = np.linspace(start_point, end_point, nrpF)\n",
    "    \n",
    "    if freesurface:  ypad=0    \n",
    "    else: ypad=npad\n",
    "    \n",
    "    if npad==0:\n",
    "        xstrt0 = ystrt0 = zstrt0 = dx\n",
    "        xstrt1 = ystrt1 = zstrt1 = (nx-1)*dx\n",
    "    else:\n",
    "        xstrt0 = zstrt0 = npad*dx\n",
    "        xstrt1 = zstrt1 = (npad+nx)*dx\n",
    "        ystrt0 = ypad*dx\n",
    "        ystrt1 = (ypad+nx)*dx\n",
    "        \n",
    "    # X FACE\n",
    "    F0_rx, F0_ry, F0_rz = np.meshgrid(xstrt0, grid_locs+(ypad*dx), grid_locs+(npad*dx))      # X face 0 \n",
    "    F1_rx, F1_ry, F1_rz = np.meshgrid(xstrt1, grid_locs+(ypad*dx), grid_locs+(npad*dx))      # X face 1  \n",
    "    # Y FACE\n",
    "    F2_rx, F2_ry, F2_rz = np.meshgrid(grid_locs+(npad*dx), ystrt0, grid_locs+(npad*dx))      # Y face 0 \n",
    "    F3_rx, F3_ry, F3_rz = np.meshgrid(grid_locs+(npad*dx), ystrt1, grid_locs+(npad*dx))      # Y face 1 \n",
    "    # Z FACE\n",
    "    F4_rx, F4_ry, F4_rz = np.meshgrid(grid_locs+(npad*dx), grid_locs+(ypad*dx), zstrt0)   # Z face 0 \n",
    "    F5_rx, F5_ry, F5_rz = np.meshgrid(grid_locs+(npad*dx), grid_locs+(ypad*dx), zstrt1)  # Z face 1 \n",
    "\n",
    "    # COMBINE\n",
    "    grid_rx = np.vstack([rx.flatten() for rx in [F0_rx,F1_rx,F2_rx,F3_rx,F4_rx,F5_rx,]])\n",
    "    grid_ry = np.vstack([ry.flatten() for ry in [F0_ry,F1_ry,F2_ry,F3_ry,F4_ry,F5_ry,]])\n",
    "    grid_rz = np.vstack([rz.flatten() for rz in [F0_rz,F1_rz,F2_rz,F3_rz,F4_rz,F5_rz,]])\n",
    "\n",
    "    gridded_recs = np.vstack((grid_rx.flatten(), grid_ry.flatten(), grid_rz.flatten()))\n",
    "    nr = gridded_recs.shape[1]\n",
    "    \n",
    "    return gridded_recs,nr"
   ]
  },
  {
   "cell_type": "code",
   "execution_count": 18,
   "id": "178cd509",
   "metadata": {},
   "outputs": [],
   "source": [
    "gridded_recs,nr = get_recs_on_face(nrpF=5, nx=nx, dx=dx, rec_buffer=6, npad=npad, freesurface=False)"
   ]
  },
  {
   "cell_type": "code",
   "execution_count": 19,
   "id": "d917ef9d",
   "metadata": {},
   "outputs": [
    {
     "name": "stdout",
     "output_type": "stream",
     "text": [
      "150 (3, 150)\n",
      "[[0.01 0.06 0.06]\n",
      " [0.01 0.06 0.14]\n",
      " [0.01 0.06 0.22]\n",
      " [0.01 0.06 0.3 ]\n",
      " [0.01 0.06 0.38]\n",
      " [0.01 0.14 0.06]\n",
      " [0.01 0.14 0.14]\n",
      " [0.01 0.14 0.22]\n",
      " [0.01 0.14 0.3 ]\n",
      " [0.01 0.14 0.38]\n",
      " [0.01 0.22 0.06]\n",
      " [0.01 0.22 0.14]\n",
      " [0.01 0.22 0.22]\n",
      " [0.01 0.22 0.3 ]\n",
      " [0.01 0.22 0.38]]\n"
     ]
    }
   ],
   "source": [
    "print (nr, gridded_recs.shape)\n",
    "print(gridded_recs[:,:15].T)"
   ]
  },
  {
   "cell_type": "code",
   "execution_count": 20,
   "id": "a3a2a078",
   "metadata": {},
   "outputs": [],
   "source": [
    "np.savetxt(os.path.join(outpath,'receiver.dat'),\n",
    "           gridded_recs.T.astype(np.float32), \n",
    "           fmt='%.4f')"
   ]
  },
  {
   "cell_type": "code",
   "execution_count": null,
   "id": "5cd12447",
   "metadata": {},
   "outputs": [],
   "source": []
  },
  {
   "cell_type": "code",
   "execution_count": null,
   "id": "2b42d639",
   "metadata": {},
   "outputs": [],
   "source": []
  },
  {
   "cell_type": "code",
   "execution_count": null,
   "id": "977f35bc",
   "metadata": {},
   "outputs": [],
   "source": []
  },
  {
   "cell_type": "code",
   "execution_count": null,
   "id": "605ea6d2",
   "metadata": {},
   "outputs": [],
   "source": []
  },
  {
   "cell_type": "code",
   "execution_count": null,
   "id": "1daf5f1c",
   "metadata": {},
   "outputs": [],
   "source": []
  },
  {
   "cell_type": "code",
   "execution_count": null,
   "id": "ed56e6b9",
   "metadata": {},
   "outputs": [],
   "source": []
  },
  {
   "cell_type": "code",
   "execution_count": null,
   "id": "6f6576ec",
   "metadata": {},
   "outputs": [],
   "source": []
  },
  {
   "cell_type": "raw",
   "id": "33005985",
   "metadata": {},
   "source": [
    "# Grid shift to allow for absorbing boundaries\n",
    "pad = 30"
   ]
  },
  {
   "cell_type": "raw",
   "id": "8900fc7e",
   "metadata": {},
   "source": [
    "# Model Properties\n",
    "xmax = ymax = zmax = 50  # cm\n",
    "dx = dy = dz = 1\n",
    "\n",
    "nx = ny = nz = int(xmax/dx) # Grid points\n",
    "nx_m = ny_m = nz_m = int((xmax/dx) + pad*2) # Grid points\n",
    "\n",
    "print(nx,nx_m)"
   ]
  },
  {
   "cell_type": "raw",
   "id": "add43cbb",
   "metadata": {},
   "source": [
    "30*dx"
   ]
  },
  {
   "cell_type": "raw",
   "id": "6e77f4a1",
   "metadata": {},
   "source": [
    "print('Mid point: %.3f m'%(((nx_m*dx)/2.)/100.))"
   ]
  },
  {
   "cell_type": "raw",
   "id": "5bf78128",
   "metadata": {},
   "source": [
    "# Subsurface properties\n",
    "vp = 5260 #m/s\n",
    "vs = 3260 \n",
    "rho = 2590; #kg/m3\n"
   ]
  },
  {
   "cell_type": "raw",
   "id": "61a71aa0",
   "metadata": {},
   "source": [
    "mod_vp = vp * np.ones([nx_m,ny_m, nz_m])\n",
    "mod_vs = vs * np.ones([nx_m,ny_m,nz_m])\n",
    "mod_rho = rho * np.ones([nx_m,ny_m,nz_m])"
   ]
  },
  {
   "cell_type": "raw",
   "id": "b9f9f709",
   "metadata": {},
   "source": [
    "# Write as binary\n",
    "mod_path = os.path.join(outpath,'model')\n",
    "mod_vp.astype(np.float32).tofile(os.path.join(mod_path,'lab_sample.vp'))#,format='<f')\n",
    "mod_vs.astype(np.float32).tofile(os.path.join(mod_path,'lab_sample.vs'))  #,format='<f')\n",
    "mod_rho.astype(np.float32).tofile(os.path.join(mod_path,'lab_sample.rho'))  #,format='<f')"
   ]
  },
  {
   "cell_type": "raw",
   "id": "2462d1f9",
   "metadata": {},
   "source": [
    "# RECEIVERS"
   ]
  },
  {
   "cell_type": "raw",
   "id": "57956071",
   "metadata": {},
   "source": [
    "# Define Receiver grid as lines in X and Z\n",
    "nr_z = 5\n",
    "nr_x = 5\n",
    "nr_y = 5\n",
    "rec_string = '%i-by-%i-by-%i'%(nr_x,nr_y,nr_z)\n",
    "\n",
    "rec_buffer = 6 # in grid point\n",
    "start_point = pad*dx + rec_buffer*dx\n",
    "end_point = start_point + (nx- (2*rec_buffer))*dx \n",
    "\n",
    "# RECEIVER GRID - ONLY ON CUBE SURFACES\n",
    "grid_z_locs = np.linspace(start_point, end_point, nr_z)\n",
    "grid_x_locs = np.linspace(start_point, end_point, nr_x)\n",
    "grid_y_locs = np.linspace(start_point, end_point, nr_y)\n",
    "\n",
    "F0_rx, F0_ry, F0_rz = np.meshgrid(start_point, grid_y_locs, grid_z_locs)      # X face 0 \n",
    "F1_rx, F1_ry, F1_rz = np.meshgrid(nx*dx,       grid_y_locs, grid_z_locs)      # X face 1 \n",
    "F2_rx, F2_ry, F2_rz = np.meshgrid(grid_x_locs, start_point, grid_z_locs)      # Y face 0 \n",
    "F3_rx, F3_ry, F3_rz = np.meshgrid(grid_x_locs, ny*dy,       grid_z_locs)      # Y face 1  \n",
    "F4_rx, F4_ry, F4_rz = np.meshgrid(grid_x_locs, grid_y_locs, start_point)   # Z face 0 \n",
    "F5_rx, F5_ry, F5_rz = np.meshgrid(grid_x_locs, grid_y_locs, nz*dz)  # Z face 1 \n",
    "\n",
    "grid_rx = np.vstack([rx.flatten() for rx in [F0_rx,F1_rx,F2_rx,F3_rx,F4_rx,F5_rx,]])\n",
    "grid_ry = np.vstack([ry.flatten() for ry in [F0_ry,F1_ry,F2_ry,F3_ry,F4_ry,F5_ry,]])\n",
    "grid_rz = np.vstack([rz.flatten() for rz in [F0_rz,F1_rz,F2_rz,F3_rz,F4_rz,F5_rz,]])\n",
    "                     \n",
    "gridded_recs = np.vstack((grid_rx.flatten(), grid_ry.flatten(), grid_rz.flatten()))\n",
    "nr = gridded_recs.shape[1]\n",
    "\n",
    "print (nr, gridded_recs.shape)"
   ]
  },
  {
   "cell_type": "raw",
   "id": "e6d8775b",
   "metadata": {},
   "source": [
    "gridded_recs[:,:15].T"
   ]
  },
  {
   "cell_type": "raw",
   "id": "811853c3",
   "metadata": {},
   "source": [
    "fig = plt.figure()\n",
    "ax = fig.add_subplot(111, projection='3d')\n",
    "r = [start_point, end_point]\n",
    "X, Y = np.meshgrid(r, r)\n",
    "Z0, Z1 = r[0]*np.ones_like(X), r[1]*np.ones_like(X)\n",
    "\n",
    "ax.plot_surface(X,Y,Z1, color='grey', alpha=0.5, zorder=0.3)\n",
    "ax.plot_surface(X,Y,Z0,color='grey',  alpha=0.5, zorder=0.3)\n",
    "ax.plot_surface(X,Z0,Y, color='grey', alpha=0.5, zorder=0.3)\n",
    "ax.plot_surface(X,Z1,Y, color='grey', alpha=0.5, zorder=0.3)\n",
    "ax.plot_surface(Z0,X,Y, color='grey', alpha=0.5, zorder=0.3)\n",
    "ax.plot_surface(Z1,X,Y, color='grey', alpha=0.5, zorder=0.3)\n",
    "\n",
    "# # SOURCE\n",
    "# ax.scatter3D(100, 100, 100, alpha=1, color='yellow', marker='*', edgecolor='k', s=100, label='Source');\n",
    "\n",
    "ax.scatter3D(F2_rx, F2_ry, F2_rz,alpha=1, color='blue', marker='v', edgecolor='k', label='Point Recs');\n",
    "ax.scatter3D(F5_rx, F5_ry, F5_rz,alpha=1, color='blue', marker='v', edgecolor='k', );\n",
    "ax.scatter3D(F1_rx, F1_ry, F1_rz,alpha=1, color='blue', marker='v', edgecolor='k', );\n",
    "\n",
    "\n",
    "ax.set_xlabel('X')\n",
    "ax.set_ylabel('Y')\n",
    "ax.set_zlabel('Z')\n",
    "\n",
    "plt.suptitle('3D Velocity Model \\n and Acquisition', fontsize=18)\n",
    "plt.tight_layout()"
   ]
  },
  {
   "cell_type": "raw",
   "id": "26356100",
   "metadata": {},
   "source": [
    "np.savetxt(os.path.join(outpath,'receiver.dat'),\n",
    "           gridded_recs.T.astype(np.float32)/100, \n",
    "           fmt='%.4f')"
   ]
  },
  {
   "cell_type": "code",
   "execution_count": null,
   "id": "7ebaeeb4",
   "metadata": {},
   "outputs": [],
   "source": []
  },
  {
   "cell_type": "code",
   "execution_count": null,
   "id": "66e99376",
   "metadata": {},
   "outputs": [],
   "source": []
  },
  {
   "cell_type": "code",
   "execution_count": null,
   "id": "71131c98",
   "metadata": {},
   "outputs": [],
   "source": []
  }
 ],
 "metadata": {
  "kernelspec": {
   "display_name": "Python 3 (ipykernel)",
   "language": "python",
   "name": "python3"
  },
  "language_info": {
   "codemirror_mode": {
    "name": "ipython",
    "version": 3
   },
   "file_extension": ".py",
   "mimetype": "text/x-python",
   "name": "python",
   "nbconvert_exporter": "python",
   "pygments_lexer": "ipython3",
   "version": "3.9.18"
  }
 },
 "nbformat": 4,
 "nbformat_minor": 5
}
