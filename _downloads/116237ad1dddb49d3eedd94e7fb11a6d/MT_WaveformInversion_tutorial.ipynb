{
  "cells": [
    {
      "cell_type": "markdown",
      "metadata": {},
      "source": [
        "\n# Waveform-based Moment Tensor Inversion - Multicomponent\nThis tutorial illustrates how we can determine the moment tensor of a microseismic source where\nwe do not know the source location. As such, the workflow can act as a joint location and MT\nsolution.\n\nMicroseismic data can be considered as:\n$d=GM\nUsing the Greens functions as defined by Aki and Richards, the above can be expanded out as\n\n\\begin{align}v_i^\\theta = j \\omega_\\theta ( \\frac{\\gamma_i\\gamma_p\\gamma_q}{4\\pi\\rho\\alpha^3}  \\frac{1}{r} )M_{pq}\\end{align}\n\nwhere\n\n        $v$ is the velocity measurements (seismic data)\n\n        $M$ is the moment tensor\n\n        $\\theta$ describes whether we are utilising the P- or S-wave information\n\n        $i$ describes the component of the data, aligning with the below p,q definitions\n\n        $p$ describes the first index of the moment tensor element\n\n        $q$ describes the second index of the moment tensor element\n\n        $\\omega_\\theta$ is the peak frequency of the given wave\n\n        $\\gamma_i$ is the take-off angle in the ith direction (for a ray between the source and receiver)\n\n        $\\alpha$ is the average velocity (currently we assume a homogeneous velocity)\n\n        $r$ is the distance between source and receiver\n\n        $\\rho$ is the average density\n\nFor more information on the above equation, please refer to [LINK TO MTAI DOCUMENTATION].\n\nIn comparison to the Amplitude-Based Moment Tensor Inversion, in this waveform-based approach we do not pick the\namplitudes of the p-wave and therefore, do not need knowledge of the source location. Instead, we solve for the\nMT kernels, e.g., $M_{xx}$ , $M_{xy}$ , $M_{xz}$, etc., across a subsurface area of interest.\nThe resulting product, as you will see, is six MT kernel images.\n\n\nThe workflow consists of:\n    - reading and pre-processing the seismic data\n    - setting up the problem (subsurface models)\n    - Obtain traveltimes & ray angles\n    - Computing Greens functions for the subsurface area of interest\n    - Make the combined Kirchhoff-MT operator\n    - Jointly solve for the location and MT with a least squares solver\n    - _[Bonus]_ Jointly solve for the location and MT with a FISTA solver\n\n\n\n*Assumptions*: for now, the MTWI procedure assumes a homogeneous velocity model.\n\nKeywords: Greens functions -- Kirchhoff\n"
      ]
    },
    {
      "cell_type": "code",
      "execution_count": null,
      "metadata": {
        "collapsed": false
      },
      "outputs": [],
      "source": [
        "import numpy as np\nimport os\nimport matplotlib.pyplot as plt\nfrom pylops.utils import dottest\nfrom pylops.utils.wavelets import *\n\nfrom pyfrac.utils.sofiutils import read_seis\n\nfrom pyfrac.modelling.kirchhoff import Kirchhoff\nfrom pyfrac.modelling.trueamp_kirchhoff import Kirchhoff as TAKirchhoff\n\nfrom pyfrac.locationsolvers.localisationutils import get_max_locs\nfrom pyfrac.mtsolvers.mtwi import *\nfrom pyfrac.mtsolvers.homo_mti import collect_source_angles, multicomp_Greens_Pwave\nfrom pyfrac.mtsolvers.mtutils import get_mt_computation_dict, get_mt_at_loc, expected_sloc_from_mtwi\nfrom pyfrac.visualisation.eventimages import locimage3d"
      ]
    },
    {
      "cell_type": "markdown",
      "metadata": {},
      "source": [
        "# Load seismic data\nFor this example, we will use a toy example of a small homogenous model with a gridded surface receiver\narray. The data are modelled using the SOFI3D Finite Difference package.\n\n"
      ]
    },
    {
      "cell_type": "code",
      "execution_count": null,
      "metadata": {
        "collapsed": false
      },
      "outputs": [],
      "source": [
        "data_dir = '../data/pyfrac_SOFIModelling'\n\n# Load receiver geometry\nrecs_xzy = np.loadtxt(os.path.join(data_dir,'inputs/griddedarray_xzy_20m.dat')).T\nnr = recs_xzy.shape[1]\nprint(nr)\n\n\n# Load seismic data\nexpname = 'MT-90-90-180_Homogeneous_griddedarray'\n\n# Vz is Vy cause SOFI \u00af\\_(\u30c4)_/\u00af\nvx = read_seis(os.path.join(data_dir, 'outputs/su/%s_vx.txt'%expname),\n               nr=nr)\nvy = read_seis(os.path.join(data_dir, 'outputs/su/%s_vz.txt'%expname),\n               nr=nr)\nvz = read_seis(os.path.join(data_dir, 'outputs/su/%s_vy.txt'%expname),\n               nr=nr)\n\nsdt = 1e-3  # SOFI3D Time sampling rate\nt_shift = 167  # Time shift required to align FD data to zero for Kirchhoff operators\ntdur = 500  # Recording duration\nefd_scaler = np.max(abs(vz))    # Scaler to make data more friendly\n\nvx = vx[:, t_shift:t_shift+tdur]*efd_scaler\nvy = vy[:, t_shift:t_shift+tdur]*efd_scaler\nvz = vz[:, t_shift:t_shift+tdur]*efd_scaler\n# Combine into a single array\nFD_data = np.array([vx, vy, vz])\n\n# Let's just double-check the data is loaded well. Observe the changes in polarity across the\n# traces, this is the information that we utilise to determine the Moment Tensor.\nfig,axs = plt.subplots(1,3,figsize=[15,5])\naxs[0].imshow(vx.T, aspect='auto',cmap='binary_r')\naxs[1].imshow(vy.T, aspect='auto',cmap='binary_r')\naxs[2].imshow(vz.T, aspect='auto',cmap='binary_r')"
      ]
    },
    {
      "cell_type": "markdown",
      "metadata": {},
      "source": [
        "# Set up Problem\nFor this simple example, let's use a small homogeneous velocity model with a surface receiver array in a\ngridded formation that fully covers the velocity model.\n\n"
      ]
    },
    {
      "cell_type": "code",
      "execution_count": null,
      "metadata": {
        "collapsed": false
      },
      "outputs": [],
      "source": [
        "# Load in the velocity model - this is the model used in the FD modelling to generate the data.\n# At the moment it has boundaries that we used for the modelling but we will remove them after\n# Loading the model\nabs_bounds = 30\ndx = dy = dz = 5\nnx = 112\nny = 128\nnz = 120\nmod_w_bounds = np.fromfile(os.path.join(data_dir,'inputs/models/Homogeneous_xyz.vp'),dtype='float32').reshape([nx,ny,nz])\n\n# Remove absorbing boundaries for both the model and receiver coordinates\nmod = mod_w_bounds[abs_bounds:-abs_bounds, abs_bounds:-abs_bounds, :-abs_bounds] # z has free surface\nnx, ny, nz = mod.shape\nx, y, z = np.arange(nx)*dx, np.arange(ny)*dy, np.arange(nz)*dz\nrecs = np.array([recs_xzy[0]-(abs_bounds*dx), recs_xzy[2]-(abs_bounds*dx), recs_xzy[1]])"
      ]
    },
    {
      "cell_type": "markdown",
      "metadata": {},
      "source": [
        "# Obtain traveltimes & ray angles, Estimate Wavelet\nThese are required for the Green's functions\n\n"
      ]
    },
    {
      "cell_type": "code",
      "execution_count": null,
      "metadata": {
        "collapsed": false
      },
      "outputs": [],
      "source": [
        "# TRAVEL TIME TABLE\ntrav = Kirchhoff._traveltime_table(z,\n                                   x,\n                                   y=y,\n                                   recs=recs,\n                                   vel=mod,\n                                   mode='eikonal')\n\nTTT_full = trav.reshape(nx,ny,nz,nr).transpose([3,0,1,2])\n# AMPLITUDE TERMS\ngamma_sourceangles, dist_table = collect_source_angles(x,y,z, reclocs=recs, nc=3)\n\ndt = sdt\nnt = vz.shape[1]\nt = np.arange(nt)*dt\nwav, wavt, wavc = ricker(t[:81], f0=20)\nplt.plot(wav)"
      ]
    },
    {
      "cell_type": "markdown",
      "metadata": {},
      "source": [
        "# Computing Greens functions for the subsurface area of interest\n\n"
      ]
    },
    {
      "cell_type": "markdown",
      "metadata": {},
      "source": [
        "Make cube area of interest as can't consider the full subsurface body\n\n"
      ]
    },
    {
      "cell_type": "code",
      "execution_count": null,
      "metadata": {
        "collapsed": false
      },
      "outputs": [],
      "source": [
        "hwin_nx_aoi, hwin_ny_aoi, hwin_nz_aoi = 15, 13, 11  # half window lengths in x, y, z\nwinc_x, winc_y, winc_z = nx//2, ny//2, 2*nz//3  # Center points of the area of interest\n# Defining area of interest\nxsi, xfi = winc_x-hwin_nx_aoi, winc_x+hwin_nx_aoi+1   # start/end index of x-region of interest\nysi, yfi = winc_y-hwin_ny_aoi, winc_y+hwin_ny_aoi+1   # start/end index of y-region of interest\nzsi, zfi = winc_z-hwin_nz_aoi, winc_z+hwin_nz_aoi+1   # start/end index of z-region of interest\n\n\n# Parameters only for the area of interest\ngamma_sourceangles_aoi = gamma_sourceangles[:, :, xsi:xfi, ysi:yfi, zsi:zfi]\ndist_table_aoi = dist_table[:, xsi:xfi, ysi:yfi, zsi:zfi]\ntt_table_aoi = TTT_full[:, xsi:xfi, ysi:yfi, zsi:zfi]\n\nnr, nx_aoi, ny_aoi, nz_aoi = tt_table_aoi.shape\nprint(nr, nx_aoi, ny_aoi, nz_aoi)\n\nMT_comp_dict = get_mt_computation_dict()  # This keeps everything nice and clean in the later G compute\n# Computing Greens functions for AoI\nGx, Gy, Gz = multicomp_Greens_Pwave(nxyz=[nx_aoi, ny_aoi, nz_aoi],\n                                    nr=nr,\n                                    gamma_sourceangles=gamma_sourceangles_aoi,\n                                    dist_table=dist_table_aoi,\n                                    vel=mod,\n                                    MT_comp_dict=MT_comp_dict,\n                                    omega_p=1,\n                                    )"
      ]
    },
    {
      "cell_type": "markdown",
      "metadata": {},
      "source": [
        "# Make the combined Kirchhoff-MT operator\n\n"
      ]
    },
    {
      "cell_type": "code",
      "execution_count": null,
      "metadata": {
        "collapsed": false
      },
      "outputs": [],
      "source": [
        "Mstack_Op = multicomp_pwave_mtioperator(x=x[xsi:xfi],\n                                        y=y[ysi:yfi],\n                                        z=z[zsi:zfi],\n                                        recs=recs,\n                                        t=t,\n                                        wav=wav,\n                                        wavc=wavc,\n                                        tt_table=tt_table_aoi,\n                                        Gx=Gx,\n                                        Gy=Gy,\n                                        Gz=Gz,\n                                        Ms_scaling = 1e7,\n                                        engine='numba'\n                                        )"
      ]
    },
    {
      "cell_type": "markdown",
      "metadata": {},
      "source": [
        "# Jointly solve for the location and MT with a least squares solver\n\n"
      ]
    },
    {
      "cell_type": "code",
      "execution_count": null,
      "metadata": {
        "collapsed": false
      },
      "outputs": [],
      "source": [
        "nxyz=[nx_aoi, ny_aoi, nz_aoi]\n# ADJOINT\nmt_adj = adjoint_mtmodelling(FD_data, Mstack_Op, nxyz)\n\n\n# LSQR\nmt_inv = lsqr_mtsolver(FD_data, Mstack_Op, nxyz)\n\nexp_sloc, _ = expected_sloc_from_mtwi(mt_inv)\nprint('Expected Source Location (AOI coord. ref.): \\n', exp_sloc)\nmt_at_loc = get_mt_at_loc(mt_inv, [int(exp_sloc[0]), int(exp_sloc[1]), int(exp_sloc[2])])\nprint('MT at expected Source Location (full): \\n', mt_at_loc)\nprint('MT at expected Source Location (rounded): \\n', np.round(mt_at_loc, decimals=2))\n\nclim = 1e-4\nlocimage3d(mt_inv[0], int(exp_sloc[0]), int(exp_sloc[1]), int(exp_sloc[2]), clipval=[-clim, clim])\nlocimage3d(mt_inv[1], int(exp_sloc[0]), int(exp_sloc[1]), int(exp_sloc[2]), clipval=[-clim, clim])\nlocimage3d(mt_inv[2], int(exp_sloc[0]), int(exp_sloc[1]), int(exp_sloc[2]), clipval=[-clim, clim])\nlocimage3d(mt_inv[3], int(exp_sloc[0]), int(exp_sloc[1]), int(exp_sloc[2]), clipval=[-clim, clim])\nlocimage3d(mt_inv[4], int(exp_sloc[0]), int(exp_sloc[1]), int(exp_sloc[2]), clipval=[-clim, clim])\nlocimage3d(mt_inv[5], int(exp_sloc[0]), int(exp_sloc[1]), int(exp_sloc[2]), clipval=[-clim, clim]);"
      ]
    }
  ],
  "metadata": {
    "kernelspec": {
      "display_name": "Python 3",
      "language": "python",
      "name": "python3"
    },
    "language_info": {
      "codemirror_mode": {
        "name": "ipython",
        "version": 3
      },
      "file_extension": ".py",
      "mimetype": "text/x-python",
      "name": "python",
      "nbconvert_exporter": "python",
      "pygments_lexer": "ipython3",
      "version": "3.10.14"
    }
  },
  "nbformat": 4,
  "nbformat_minor": 0
}