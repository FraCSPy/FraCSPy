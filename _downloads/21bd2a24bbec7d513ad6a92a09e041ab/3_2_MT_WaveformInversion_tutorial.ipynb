{
  "cells": [
    {
      "cell_type": "markdown",
      "metadata": {},
      "source": [
        "\n# 3.2 Waveform-based Moment Tensor Inversion - Multicomponent\nThis is a follow-up of the Amplitude-based Moment Tensor Inversion tutorial. In this tutorial, we will extend the\nMT inversion algorithm to work directly with waveforms instead of picked amplitudes. By avoiding any picking,\nthis method can determine the moment tensor of a microseismic source when the source location is not known a-prior.\nAs such, it can be considered a joint location and MT inversion algorithm.\n\nWe will start once again from the far-field particle velocity expression from a moment tensor source in a homogeneous full space\n(from eq. 4.29, Aki and Richards) - see the Amplitude-based Moment Tensor Inversion tutorial for more details.\n\nHowever, in comparison to the Amplitude-Based Moment Tensor Inversion tutorial, in this waveform-based approach we\nassume a distributed source within a subsurface area of interest and use the following integral relation to reconstruct\nthe surface data:\n\n\\begin{align}v_1^P(\\mathbf{x_r}, t) =\n        w(t) * \\int\\limits_V G_{pq}(\\mathbf{x_r}, \\mathbf{x}, t) M_{pq}(\\mathbf{x})\\,\\mathrm{d}\\mathbf{x}\\end{align}\n\nwhere $M_{pq}$ with $p,q=1,2,3$ are the so-called MT kernels and $G_{pq}$ are the so-called\nGreen's functions, whose high-frequency approximation can be written as:\n\n\\begin{align}G_{pq}(\\mathbf{x_r}, \\mathbf{x}, \\omega) = a_{pq}(\\mathbf{x_r}, \\mathbf{x})\n        e^{j \\omega t(\\mathbf{x_r}, \\mathbf{x})}\\end{align}\n\nHere $a_{pq}$ with $p,q=1,2,3$ represent the same coefficients used in the Amplitude-based Moment Tensor\nInversion tutorial.\n\nTo summarize, we will apply the following workflow:\n\n    - Load model and data;\n    - Compute the traveltimes & ray angles\n    - Compute the Greens functions for the subsurface area of interest\n    - Define the Kirchhoff-MT operator\n    - Jointly solve for the location and MT with a least-squares solver\n\n*Assumptions*: for now, the MTWI procedure assumes a homogeneous velocity model.\n"
      ]
    },
    {
      "cell_type": "code",
      "execution_count": null,
      "metadata": {
        "collapsed": false
      },
      "outputs": [],
      "source": [
        "import os\nimport numpy as np\nimport matplotlib.pyplot as plt\n\nimport fracspy\n\nfrom pylops.utils.wavelets import ricker\nfrom fracspy.utils.sofiutils import read_seis\nfrom fracspy.mtinversion.utils import get_mt_max_locs, get_mt_at_loc\nfrom fracspy.mtinversion.mtwi import *"
      ]
    },
    {
      "cell_type": "markdown",
      "metadata": {},
      "source": [
        "## Load model and seismic data\nFor this example, we will use a toy homogenous model with a gridded surface\nreceiver array. The data are modelled using the\n[SOFI3D](https://gitlab.kit.edu/kit/gpi/ag/software/sofi3d)\nFinite Difference modelling software. The model is the same that we have used\nin the FD modelling to generate the data. As such, it contains additional\nboundaries, which we need to remove prior to performing localisation.\n\n"
      ]
    },
    {
      "cell_type": "code",
      "execution_count": null,
      "metadata": {
        "collapsed": false
      },
      "outputs": [],
      "source": [
        "# Directory containing input data\ninput_dir = '../data/pyfrac_SOFIModelling'\n\n# Model parameters\nabs_bounds = 30\ndx = dy = dz = 5\nnx = 112\nny = 128\nnz = 120\n\n# Modelling parameters\ndt = 1e-3  # SOFI3D Time sampling rate\nt_shift = 167  # Time shift required to align FD data to zero time for Kirchhoff operators\ntdur = 500  # Recording duration\n\n# Load model\nmod_w_bounds = np.fromfile(os.path.join(input_dir,'inputs',\n                                        'models',\n                                        'Homogeneous_xyz.vp'),\n                           dtype='float32').reshape([nx, ny, nz])\n\n# Load receiver geometry\nrecs_xzy = np.loadtxt(os.path.join(input_dir,'inputs',\n                                   'griddedarray_xzy_20m.dat')).T\nnr = recs_xzy.shape[1]\n\n# Load seismic data (note that Vz is Vy given the SOFI convention)\nexpname = 'MT-90-90-180_Homogeneous_griddedarray'\n\nvx = read_seis(os.path.join(input_dir, 'outputs', 'su', '%s_vx.txt' % expname), nr=nr)\nvy = read_seis(os.path.join(input_dir, 'outputs', 'su', '%s_vz.txt' % expname), nr=nr)\nvz = read_seis(os.path.join(input_dir, 'outputs', 'su', '%s_vy.txt' % expname), nr=nr)\nvx = vx[:,t_shift:t_shift+tdur]\nvy = vy[:,t_shift:t_shift+tdur]\nvz = vz[:,t_shift:t_shift+tdur]\n\n# Scale data to the maximum of vz\nefd_scaler = np.max(abs(vz))\nvx /= efd_scaler\nvy /= efd_scaler\nvz /= efd_scaler\n\n# Combine into a single array\nFD_data = np.array([vx, vy, vz])\n\n# Remove absorbing boundaries for both the model and receiver coordinates\nmod = mod_w_bounds[abs_bounds:-abs_bounds, abs_bounds:-abs_bounds, :-abs_bounds] # z has free surface\nnx, ny, nz = mod.shape\nx, y, z = np.arange(nx)*dx, np.arange(ny)*dy, np.arange(nz)*dz\nrecs = np.array([recs_xzy[0]-(abs_bounds*dx), recs_xzy[2]-(abs_bounds*dx), recs_xzy[1]])"
      ]
    },
    {
      "cell_type": "markdown",
      "metadata": {},
      "source": [
        "Let's now double-check that the data has been loaded correctly. Observe the\nchanges in polarity across the traces, this is the information that we\nutilise to determine the Moment Tensor.\n\n"
      ]
    },
    {
      "cell_type": "code",
      "execution_count": null,
      "metadata": {
        "collapsed": false
      },
      "outputs": [],
      "source": [
        "fig, axs = plt.subplots(3, 1,figsize=[10, 8])\naxs[0].imshow(vx.T, aspect='auto',cmap='binary_r')\naxs[1].imshow(vy.T, aspect='auto',cmap='binary_r')\naxs[2].imshow(vz.T, aspect='auto',cmap='binary_r')\nplt.tight_layout()"
      ]
    },
    {
      "cell_type": "markdown",
      "metadata": {},
      "source": [
        "## Create modelling operator\nFirst, we will define a Ricker wavelet with\npeak frequency of 20Hz. This is the same wavelet that we used in modelling;\nin real applications, this will need to be estimated from the data.\n\n"
      ]
    },
    {
      "cell_type": "code",
      "execution_count": null,
      "metadata": {
        "collapsed": false
      },
      "outputs": [],
      "source": [
        "omega_p = 20\nnt = vz.shape[1]\nt = np.arange(nt)*dt\nwav, wavt, wavc = ricker(t[:81], f0=omega_p)\n\nfig, ax = plt.subplots(figsize=(10, 2))\nax.plot(wavt, wav, 'k', lw=2)\nax.set_xlabel('t [s]')\nax.set_title('Wavelet')\nax.grid('on')\nplt.tight_layout()"
      ]
    },
    {
      "cell_type": "markdown",
      "metadata": {},
      "source": [
        "Second we define an area of interest where we expect the source to be located.\nIn fact, whilst in practice one could consider the entire subsurface,\nthis comes with a computational and storage burden for the Green's functions.\n\n"
      ]
    },
    {
      "cell_type": "code",
      "execution_count": null,
      "metadata": {
        "collapsed": false
      },
      "outputs": [],
      "source": [
        "sx = nx // 2\nsy = ny // 2\nsz = 2 * nz // 3\nsloc_ind = [sx, sy, sz]\n\nhwin_nx_aoi, hwin_ny_aoi, hwin_nz_aoi = 15, 13, 11  # half window lengths in x, y, z\nwinc_x, winc_y, winc_z = nx // 2, ny // 2, 2 * nz // 3  # Center points of the area of interest\n\n# Defining area of interest\nxsi, xfi = winc_x-hwin_nx_aoi, winc_x+hwin_nx_aoi+1   # start/end index of x-region of interest\nysi, yfi = winc_y-hwin_ny_aoi, winc_y+hwin_ny_aoi+1   # start/end index of y-region of interest\nzsi, zfi = winc_z-hwin_nz_aoi, winc_z+hwin_nz_aoi+1   # start/end index of z-region of interest\nnx_aoi = xfi - xsi\nny_aoi = yfi - ysi\nnz_aoi = zfi - zsi\n\n# MT in area of interest\nMT_aoi = np.zeros([6, nx_aoi, ny_aoi, nz_aoi])  # MT components as images\nMT_selected = -1 * np.array([0,0,0,1,0,0])\nMT_aoi[:, nx_aoi//2, ny_aoi//2, nz_aoi//2] = MT_selected"
      ]
    },
    {
      "cell_type": "markdown",
      "metadata": {},
      "source": [
        "Next, we create our Kirchhoff-MT operator\n\n"
      ]
    },
    {
      "cell_type": "code",
      "execution_count": null,
      "metadata": {
        "collapsed": false
      },
      "outputs": [],
      "source": [
        "Ms_scaling = 1.92e10\nmtw = MTW(x, y, z, recs, mod, sloc_ind,\n          2, omega_p, (hwin_nx_aoi, hwin_ny_aoi, hwin_nz_aoi),\n          t, wav, wavc, multicomp=True,\n          Ms_scaling=Ms_scaling,\n          engine='numba')\ndata = mtw.model(MT_aoi)\n\n# Visualization\nfor ivc, vc in enumerate([vx, vy, vz]):\n    fig, axs = plt.subplots(1, 3, figsize=[15,5],\n                            sharey=True, sharex=True)\n    axs[0].imshow(data[ivc].T, aspect='auto',cmap='RdBu')\n    axs[1].imshow(vc.T, aspect='auto',cmap='RdBu')\n    axs[2].imshow(data[ivc].T-vc.T, aspect='auto',cmap='RdBu')\n    axs[2].set_ylim([350,270])\n    axs[2].set_xlim([0,20])\n    for ax in axs: ax.axhline(300)\n    fig.tight_layout()\n\n    fig, axs = plt.subplots(1,2, figsize=[15,5], sharey=True)\n    axs[0].plot(data[ivc, 0], 'k', label='FD')\n    axs[0].plot(vc[0], 'r', label='Kirch')\n    axs[0].legend()\n    axs[1].plot(data[ivc, 20], 'k')\n    axs[1].plot(vc[20], 'r')\n    fig.tight_layout()"
      ]
    },
    {
      "cell_type": "markdown",
      "metadata": {},
      "source": [
        "## Joint localisation and MT inversion\nFinally, we are ready to invert our waveform data for the 6 MT kernels.\n\n"
      ]
    },
    {
      "cell_type": "code",
      "execution_count": null,
      "metadata": {
        "collapsed": false
      },
      "outputs": [],
      "source": [
        "# Adjoint\nmt_adj = mtw.adjoint(FD_data)\n\n# Inversion\nmt_inv = mtw.lsi(FD_data, niter=100, verbose=True)"
      ]
    },
    {
      "cell_type": "markdown",
      "metadata": {},
      "source": [
        "Let's now extract both the expected location and MT source parameters\n\n"
      ]
    },
    {
      "cell_type": "code",
      "execution_count": null,
      "metadata": {
        "collapsed": false
      },
      "outputs": [],
      "source": [
        "exp_sloc, _ = get_mt_max_locs(mt_inv)\nprint('Expected Source Location (AOI coord. ref.): \\n', exp_sloc)\n\nmt_at_loc = get_mt_at_loc(mt_inv / np.abs(mt_inv).max(), [int(exp_sloc[0]), int(exp_sloc[1]), int(exp_sloc[2])])\nprint('MT at expected Source Location (full): \\n', mt_at_loc)\nprint('MT at expected Source Location (rounded): \\n', np.round(mt_at_loc, decimals=2))\n\nmt_at_loc = get_mt_at_loc(mt_inv / np.abs(mt_inv).max(),  [sloc_ind[0]-xsi, sloc_ind[1]-ysi, sloc_ind[2]-zsi])\nprint('MT at true Source Location (full): \\n', mt_at_loc)\nprint('MT at true Source Location (rounded): \\n', np.round(mt_at_loc, decimals=2))"
      ]
    },
    {
      "cell_type": "markdown",
      "metadata": {},
      "source": [
        "And finally we visualize the estimated kernels both from the adjoint and\ninverse approaches.\n\n"
      ]
    },
    {
      "cell_type": "code",
      "execution_count": null,
      "metadata": {
        "collapsed": false
      },
      "outputs": [],
      "source": [
        "clim = 5e-4\nfracspy.visualisation.eventimages.locimage3d(mt_inv[0], int(exp_sloc[0]), int(exp_sloc[1]), int(exp_sloc[2]), clipval=[-clim, clim])\nfracspy.visualisation.eventimages.locimage3d(mt_inv[1], int(exp_sloc[0]), int(exp_sloc[1]), int(exp_sloc[2]), clipval=[-clim, clim])\nfracspy.visualisation.eventimages.locimage3d(mt_inv[2], int(exp_sloc[0]), int(exp_sloc[1]), int(exp_sloc[2]), clipval=[-clim, clim])\nfracspy.visualisation.eventimages.locimage3d(mt_inv[3], int(exp_sloc[0]), int(exp_sloc[1]), int(exp_sloc[2]), clipval=[-clim, clim])\nfracspy.visualisation.eventimages.locimage3d(mt_inv[4], int(exp_sloc[0]), int(exp_sloc[1]), int(exp_sloc[2]), clipval=[-clim, clim])\nfracspy.visualisation.eventimages.locimage3d(mt_inv[5], int(exp_sloc[0]), int(exp_sloc[1]), int(exp_sloc[2]), clipval=[-clim, clim])"
      ]
    }
  ],
  "metadata": {
    "kernelspec": {
      "display_name": "Python 3",
      "language": "python",
      "name": "python3"
    },
    "language_info": {
      "codemirror_mode": {
        "name": "ipython",
        "version": 3
      },
      "file_extension": ".py",
      "mimetype": "text/x-python",
      "name": "python",
      "nbconvert_exporter": "python",
      "pygments_lexer": "ipython3",
      "version": "3.10.15"
    }
  },
  "nbformat": 4,
  "nbformat_minor": 0
}