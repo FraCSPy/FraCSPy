{
  "cells": [
    {
      "cell_type": "markdown",
      "metadata": {},
      "source": [
        "\n# 1.2 Diffraction Stacking: Detection\nThis tutorial illustrates how to perform joint microseismic event detection and localisation using diffraction stacking. \n\nWe consider here a simple case of a homogeneous subsurface model and a set of point microseismic sources with various epicenters and various origin times.\nWe consider only P-waves and single-component receivers for simplicity.\n\n## Traveltimes\nIn a homogeneous medium traveltimes are computed analytically as\n\n\\begin{align}t(\\mathbf{x_r},\\mathbf{x_s}) = \\frac{d(\\mathbf{x_r},\\mathbf{x_s})}{v}\\end{align}\n\nwhere $d(\\mathbf{x_r},\\mathbf{x_s})$ is the distance between a source at \n$\\mathbf{x_s}$ and a receiver at $\\mathbf{x_r}$, \nand $v$ is medium wave velocity (e.g. P-wave velocity $v_p$).\n\n## Waveforms\nThe input data waveforms are computed with the help of PyLops Kirchhoff operator which uses Kirchhoff integral relation with high-frequency Green's functions.\n\nSee more information here:\nhttps://pylops.readthedocs.io\n\n## Detection by diffraction stacking\nThe basics of localisation by diffraction stacking are explained in\n`sphx_glr_tutorials_2_1_Location_DiffractionStacking_tutorial.py`.\n\nMicroseismic data always contain scattered energy and noise which may result in multiple\nlocal maxima of the 4D imaging function. Therefore, a certain criterion is required to identify these local maxima\nas detections of microseismic events.\nFor this purpose a joint detection and localisation algorithm was proposed in Anikiev at al. (2014).\nFor every time $t$ the maximum of the imaging function over all potential locations $\\mathbf{r}$ is\nevaluated:\n\n\\begin{align}F_t(t) = \\max_{\\mathbf{r}} F(\\mathbf{r},t)\\end{align}\n\nThe local maxima of the function $F_t(t)$ (later on referred to as the maximum stack function or MSF) occur at the times linked to the origin times of microseismic events (Anikiev 2015).\nThese local maxima can be found by triggering algorithms, usually used for automatic picking of seismic signal, for instance, the STA/LTA (Short Term Average / Long Term Average) method (e.g., Withers et al. 1998; Trnkoczy 2012).\nLocal maxima are detected by measuring the ratio of average stack energy in short and long sliding time windows and comparing this ratio with the pre-defined STA/LTA threshold (Anikiev et al., 2014).\nFor each zone triggered by the high STA/LTA once can determine a corresponding maximum (or peak) of the MSF an its time $t_{peak}$.\n\nFor each determined peak, the origin time $t_{est}$ of the corresponding event can be determined from $t_{peak}$ as \n\n\\begin{align}\\mathbf{t}_{est} = t_{peak} - \\min_{R} T_R(\\mathbf{r}_{peak}).\\end{align}\n\nwhere $T_R(\\mathbf{r}_{peak})$ is the traveltime to receiver $R$ from $\\mathbf{r}_{peak}$ - \nthe location determined from the maximum of $F(\\mathbf{r},t)$ at the time moment $t_{peak}$:\n\n\\begin{align}\\mathbf{r}_{peak} = \\arg\\!\\max_{\\mathbf{r}} F(\\mathbf{r},t_{peak}).\\end{align}\n\n## References\nAnikiev, D. (2015). Joint detection, location and source mechanism \ndetermination of microseismic events (Doctoral dissertation). \nSt. Petersburg State University. St. Petersburg. \nhttps://disser.spbu.ru/files/phdspsu2015/Anikiev_PhD_web_final.pdf\n\nAnikiev, D., Valenta, J., Stan\u011bk, F. & Eisner, L. (2014). Joint location and \nsource mechanism inversion of microseismic events: Benchmarking on seismicity \ninduced by hydraulic fracturing. Geophysical Journal International, 198(1), \n249\u2013258. https://doi.org/10.1093/gji/ggu126\n\nTrnkoczy, A. (2012). Understanding and parameter setting of STA/LTA trigger algorithm. \nIn: Bormann, P. (Ed.), New Manual of Seismological Observatory Practice 2 (NMSOP-2), \nPotsdam: Deutsches GeoForschungsZentrum GFZ, 1-20.\nhttps://doi.org/10.2312/GFZ.NMSOP-2_IS_8.1\n\nWithers, M., Aster, R., Young, C., Beiriger, J., Harris, M., Moore, S., & Trujillo, J. (1998). \nA comparison of select trigger algorithms for automated global seismic phase and event detection. \nBulletin of the Seismological Society of America, 88(1), 95\u2013106. https://doi.org/10.1785/bssa0880010095\n"
      ]
    },
    {
      "cell_type": "markdown",
      "metadata": {},
      "source": [
        "## Load all necessary packages\n\n"
      ]
    },
    {
      "cell_type": "code",
      "execution_count": null,
      "metadata": {
        "collapsed": false
      },
      "outputs": [],
      "source": [
        "import numpy as np\nimport matplotlib.pyplot as plt\nimport matplotlib.colors as mcolors\nimport cmcrameri.cm as cmc\n\nfrom pylops.utils import dottest\nfrom pylops.utils.wavelets import ricker\n\n# Import modelling utils\nfrom fracspy.modelling.kirchhoff import Kirchhoff\nfrom fracspy.utils.synthutils import add_noise\n\n# Import location utils\nfrom fracspy.location import Location\nfrom fracspy.location.utils import *\nfrom fracspy.detection.stacking import *\n\n# Import visualisation utils\nfrom fracspy.visualisation.traceviz import traceimage\nfrom fracspy.visualisation.eventimages import locimage3d\nfrom fracspy.visualisation.plotting_support import *\n\n# Deal with warnings (for a cleaner code)\nimport warnings\nwarnings.filterwarnings(\"ignore\", category=FutureWarning)\nwarnings.filterwarnings(\"ignore\", category=UserWarning)\n\n# Track computation time\nfrom time import time"
      ]
    },
    {
      "cell_type": "markdown",
      "metadata": {},
      "source": [
        "## Setup\nHere we setup the parameters of the velocity model, geometry of receivers and \nmicroseismic source for forward modelling\n\n"
      ]
    },
    {
      "cell_type": "markdown",
      "metadata": {},
      "source": [
        "### Velocity Model\n\n"
      ]
    },
    {
      "cell_type": "code",
      "execution_count": null,
      "metadata": {
        "collapsed": false
      },
      "outputs": [],
      "source": [
        "nx, ny, nz = 50, 50, 50\ndx, dy, dz = 4, 4, 4\nx, y, z = np.arange(nx)*dx, np.arange(ny)*dy, np.arange(nz)*dz\n\nv0 = 1000 # initial velocity\nvel = np.ones([nx,ny,nz])*v0\n\nprint(f\"Velocity model shape: {vel.shape}\")"
      ]
    },
    {
      "cell_type": "markdown",
      "metadata": {},
      "source": [
        "### Receivers\n\n"
      ]
    },
    {
      "cell_type": "code",
      "execution_count": null,
      "metadata": {
        "collapsed": false
      },
      "outputs": [],
      "source": [
        "dr_xyz = 4*dx\n\ngrid_rx_locs = np.arange(dx, (dx*nx)-dx, dr_xyz)\ngrid_ry_locs = np.arange(dy, (dy*ny)-dy, dr_xyz)\n\nrx, ry, rz = np.meshgrid(grid_rx_locs,\n                          grid_ry_locs,\n                          dz) \nrecs = np.vstack((rx.flatten(), ry.flatten(), rz.flatten()))\nnr = recs.shape[1]\n\nprint(f\"Receiver array shape: {recs.shape}\")"
      ]
    },
    {
      "cell_type": "markdown",
      "metadata": {},
      "source": [
        "### Microseismic sources\nHere we set up multiple sources at different locations \nand with different origin times\n\n"
      ]
    },
    {
      "cell_type": "code",
      "execution_count": null,
      "metadata": {
        "collapsed": false
      },
      "outputs": [],
      "source": [
        "# number of sources\nnsrc=3\n\n# Declare empty arrays\nisx, isy, isz = [np.zeros(nsrc).astype(int), np.zeros(nsrc).astype(int), np.zeros(nsrc).astype(int)]\nsx, sy, sz = [np.zeros(nsrc), np.zeros(nsrc), np.zeros(nsrc)] \n\n# Fill grid locations of events\nisx[0], isy[0], isz[0] = [nx//4, ny//2, nz//2]\nisx[1], isy[1], isz[1] = [(3*nx)//4, ny//2, (3*nz)//4]\nisx[2], isy[2], isz[2] = [nx//2, ny//4, nz//4]\n\n# Get real locations\nfor isrc in np.arange(nsrc):\n    sx[isrc], sy[isrc], sz[isrc] = isx[isrc]*dx, isy[isrc]*dy, isz[isrc]*dz \n\n# Origin times in sec\nort = [0, 0.15, 0.40]\n\n# Create source arrays in a loop, using different strengths for the sources \nmicroseismic = []\nfor isrc in np.arange(nsrc):\n    micro = np.zeros((nx, ny, nz))\n    if isrc == 0:\n        micro[isx[isrc], isy[isrc], isz[isrc]] = 1.0\n    elif isrc == 1:\n        micro[isx[isrc], isy[isrc], isz[isrc]] = 0.3\n    elif isrc == 2:\n        micro[isx[isrc], isy[isrc], isz[isrc]] = 0.9\n    microseismic.append(micro)"
      ]
    },
    {
      "cell_type": "markdown",
      "metadata": {},
      "source": [
        "## Generate synthetic data\n\n\n"
      ]
    },
    {
      "cell_type": "code",
      "execution_count": null,
      "metadata": {
        "collapsed": false
      },
      "outputs": [],
      "source": [
        "start_time = time()\nprint(\"Generating synthetic data...\")\nnt = 161 # number of time steps\ndt = 0.004 # time step\nf0 = 20 # Central frequency\nt = np.arange(nt) * dt # time vector"
      ]
    },
    {
      "cell_type": "markdown",
      "metadata": {},
      "source": [
        "### Create signal wavelet\n\n"
      ]
    },
    {
      "cell_type": "code",
      "execution_count": null,
      "metadata": {
        "collapsed": false
      },
      "outputs": [],
      "source": [
        "wav, wavt, wavc = ricker(t[:41], f0=f0)"
      ]
    },
    {
      "cell_type": "markdown",
      "metadata": {},
      "source": [
        "### Initialise operator\n\n"
      ]
    },
    {
      "cell_type": "code",
      "execution_count": null,
      "metadata": {
        "collapsed": false
      },
      "outputs": [],
      "source": [
        "Op = Kirchhoff(z=z, \n                x=x, \n                y=y, \n                t=t, \n                recs=recs, \n                vel=vel, \n                wav=wav, \n                wavcenter=wavc, \n                mode='eikonal', \n                engine='numba')"
      ]
    },
    {
      "cell_type": "markdown",
      "metadata": {},
      "source": [
        "### Check operator with dottest\nThis test can help to detect errors in the operator implementation.\n\n"
      ]
    },
    {
      "cell_type": "code",
      "execution_count": null,
      "metadata": {
        "collapsed": false
      },
      "outputs": [],
      "source": [
        "_ = dottest(Op, verb=True)"
      ]
    },
    {
      "cell_type": "markdown",
      "metadata": {},
      "source": [
        "### Forward modelling\nApply operator to model data for each event, shift by origin time and store in frwddata\n\n"
      ]
    },
    {
      "cell_type": "code",
      "execution_count": null,
      "metadata": {
        "collapsed": false
      },
      "outputs": [],
      "source": [
        "frwddata = np.zeros((nr, nt))\nfor isrc in np.arange(nsrc):\n    frwddata_src = (Op @ microseismic[isrc].flatten().squeeze()).reshape(nr, nt)\n    frwddata += np.roll(frwddata_src, shift=int(ort[isrc]/dt), axis=1)\n\n# Contaminate data with white noise\n# \"\"\"\"\"\"\"\"\"\"\"\"\"\"\"\"\"\"\"\"\"\"\"\"\"\"\"\"\"\"\"\"\"\n\n# Fix the seed for reproducibility\nseed=1\n\n# Fix SNR levels\nsnr_wn=1\n\n# Fix traces for ringy noise\ntrind_rn = np.arange(1,nr,11)\n\n# Add white noise of defined SNR\nfrwddata_wn = add_noise(frwddata,noise_type=\"white\",snr=snr_wn,seed=seed)\n\n# Show consumed time\nend_time = time()\nprint(f\"Computation time: {end_time - start_time} seconds\")"
      ]
    },
    {
      "cell_type": "markdown",
      "metadata": {},
      "source": [
        "## Plot input data\n\n"
      ]
    },
    {
      "cell_type": "code",
      "execution_count": null,
      "metadata": {
        "collapsed": false
      },
      "outputs": [],
      "source": [
        "# Plot modelled data\n# \"\"\"\"\"\"\"\"\"\"\"\"\"\"\"\"\"\"\n\nfig, ax = traceimage(frwddata, climQ=99.99)\nax.set_title('Noise-free modelled data')\nfig = ax.get_figure()\nfig.set_size_inches(10, 3)  # set size in inches"
      ]
    },
    {
      "cell_type": "markdown",
      "metadata": {},
      "source": [
        "### Plot modelled data contaminated with white noise\n\n"
      ]
    },
    {
      "cell_type": "code",
      "execution_count": null,
      "metadata": {
        "collapsed": false
      },
      "outputs": [],
      "source": [
        "fig, ax = traceimage(frwddata_wn, climQ=99.99)\nax.set_title(f\"Modelled data contaminated with white noise of SNR={snr_wn}\")\nfig = ax.get_figure()\nfig.set_size_inches(10, 3)  # set size in inches"
      ]
    },
    {
      "cell_type": "markdown",
      "metadata": {},
      "source": [
        "### Plot receiver geometry\n\n"
      ]
    },
    {
      "cell_type": "code",
      "execution_count": null,
      "metadata": {
        "collapsed": false
      },
      "outputs": [],
      "source": [
        "fig, ax = plt.subplots(1, 1)\nfig.set_size_inches(8, 8)  # set size in inches\nax.set_aspect('equal')\nax.scatter(recs[0],recs[1])\nfor isrc in np.arange(nsrc):\n    ax.scatter(sx[isrc],sy[isrc], marker='*')\n\nax.set_title('Receiver Geometry: map view')\nax.legend(['Receivers', 'Source 1', 'Source 2', 'Source 3'],loc='upper right')\n_ = ax.set_xlabel('x')\n_ = ax.set_ylabel('y')"
      ]
    },
    {
      "cell_type": "markdown",
      "metadata": {},
      "source": [
        "## Prepare for location\n\n"
      ]
    },
    {
      "cell_type": "markdown",
      "metadata": {},
      "source": [
        "### Define location class using grid vectors\nUse the original velocity model grid for location (the grid can be different)\n\n"
      ]
    },
    {
      "cell_type": "code",
      "execution_count": null,
      "metadata": {
        "collapsed": false
      },
      "outputs": [],
      "source": [
        "gx = x[:]\ngy = y[:]\ngz = z[:]\n\n# Set up the location class\n\nL = Location(gx, gy, gz)"
      ]
    },
    {
      "cell_type": "markdown",
      "metadata": {},
      "source": [
        "### Prepare traveltimes\n\n"
      ]
    },
    {
      "cell_type": "code",
      "execution_count": null,
      "metadata": {
        "collapsed": false
      },
      "outputs": [],
      "source": [
        "tt = 1 / v0*dist2rec(recs,gx,gy,gz)\nprint(f\"Traveltime array shape: {tt.shape}\")"
      ]
    },
    {
      "cell_type": "markdown",
      "metadata": {},
      "source": [
        "## Localisation by diffraction stacking for clean data\nHere we apply diffraction stacking algorithm to clean noise-free \ndata, get the image volume and determine location from the maximum of this \nvolume in order to show that it is still possible despite multiple records.\n\n"
      ]
    },
    {
      "cell_type": "markdown",
      "metadata": {},
      "source": [
        "### Perform squared-value diffraction stacking\n\n"
      ]
    },
    {
      "cell_type": "code",
      "execution_count": null,
      "metadata": {
        "collapsed": false
      },
      "outputs": [],
      "source": [
        "start_time = time()\nprint(\"Squared-value diffraction stacking applied to clean data...\")\ndstacked_sqd, hc_sqd = L.apply(frwddata, \n                               kind=\"diffstack\",\n                               x=gx, y=gy, z=gz,\n                               tt=tt, dt=dt, nforhc=10,\n                               stack_type=\"squared\")\nend_time = time()\nprint(f\"Computation time: {end_time - start_time} seconds\")"
      ]
    },
    {
      "cell_type": "markdown",
      "metadata": {},
      "source": [
        "## Localisation by diffraction stacking for noise-contaminated data\nHere we apply diffraction stacking to data contaminated \nwith noise\n\n"
      ]
    },
    {
      "cell_type": "markdown",
      "metadata": {},
      "source": [
        "### Perform squared-value diffraction stacking\n\n"
      ]
    },
    {
      "cell_type": "code",
      "execution_count": null,
      "metadata": {
        "collapsed": false
      },
      "outputs": [],
      "source": [
        "start_time = time()\nprint(\"Squared-value diffraction stacking applied to noisy data...\")\ndstacked_sqd_wn, hc_sqd_wn = L.apply(frwddata_wn, \n                                     kind=\"diffstack\",\n                                     x=gx, y=gy, z=gz,\n                                     tt=tt, dt=dt, nforhc=10,\n                                     stack_type=\"squared\")\nend_time = time()\nprint(f\"Computation time: {end_time - start_time} seconds\")"
      ]
    },
    {
      "cell_type": "markdown",
      "metadata": {},
      "source": [
        "## Visualisation of location results\nHere we visualise the slices of the resulting image volume\n\n"
      ]
    },
    {
      "cell_type": "code",
      "execution_count": null,
      "metadata": {
        "collapsed": false
      },
      "outputs": [],
      "source": [
        "# Get the spatial limits for plotting\nxlim = (min(gx),max(gx))\nylim = (min(gy),max(gy))\nzlim = (min(gz),max(gz))\n\n# Define colormap\ncmap='cmc.bilbao_r'\n\n# Define legend\ncrosslegend=('Intersect plane (True location: event 1)','Determined location')\n\n# Print true locations\nprint('-------------------------------------------------------')\nfor isrc in np.arange(nsrc):\n    print('True event {:d} hypocentre:\\n[{:.2f} m, {:.2f} m, {:.2f} m]'.format(isrc+1,sx[isrc], sy[isrc], sz[isrc]))"
      ]
    },
    {
      "cell_type": "markdown",
      "metadata": {},
      "source": [
        "### Plot resulting image volumes from diffraction stacking\nNote the spots related to other events\n\n"
      ]
    },
    {
      "cell_type": "code",
      "execution_count": null,
      "metadata": {
        "collapsed": false
      },
      "outputs": [],
      "source": [
        "# Results of application to clean data:\nfig,axs = locimage3d(dstacked_sqd, \n                     cmap=cmap,\n                     title='Location with squared-value diffraction stacking:\\nclean data',\n                     x0=isx[0], y0=isy[0], z0=isz[0],\n                     secondcrossloc=hc_sqd,\n                     crosslegend=crosslegend,\n                     xlim=xlim,ylim=ylim,zlim=zlim)\n\nprint('-------------------------------------------------------')\nprint('Event hypocentre from squared-value diffraction stacking for clean data:\\n[{:.2f} m, {:.2f} m, {:.2f} m]'.format(*np.multiply(hc_sqd,[dx, dy, dz])))\nprint('Location error:\\n[{:.2f} m, {:.2f} m, {:.2f} m]'.format(*get_location_misfit([isx[0], isy[0], isz[0]], hc_sqd, [dx, dy, dz])))\n\n# Results of application to data contaminated with white noise:\nfig,axs = locimage3d(dstacked_sqd_wn, \n                     cmap=cmap,\n                     title=f\"Location with squared-value diffraction stacking:\\ndata contaminated with white noise of SNR={snr_wn}\",\n                     x0=isx[0], y0=isy[0], z0=isz[0],\n                     secondcrossloc=hc_sqd_wn,\n                     crosslegend=crosslegend,\n                     xlim=xlim,ylim=ylim,zlim=zlim)\nprint('-------------------------------------------------------')\nprint('Event hypocentre from squared-value diffraction stacking for data contaminated with white noise of SNR={:.1f}:\\n[{:.2f} m, {:.2f} m, {:.2f} m]'.format(snr_wn,*np.multiply(hc_sqd_wn,[dx, dy, dz])))\nprint('Location error:\\n[{:.2f} m, {:.2f} m, {:.2f} m]'.format(*get_location_misfit([isx[0], isy[0], isz[0]], hc_sqd_wn, [dx, dy, dz])))\nprint('-------------------------------------------------------')"
      ]
    },
    {
      "cell_type": "markdown",
      "metadata": {},
      "source": [
        "## Diffraction stacking detection for clean data\nHere we apply diffraction stacking detection algorithm to noise-free data\n\n"
      ]
    },
    {
      "cell_type": "markdown",
      "metadata": {},
      "source": [
        "### Define detection parameters\n\n"
      ]
    },
    {
      "cell_type": "code",
      "execution_count": null,
      "metadata": {
        "collapsed": false
      },
      "outputs": [],
      "source": [
        "# Short time window\nstw = 0.02\n\n# Long time window\nltw = 4*stw\n\n# Gap time window\ngtw = 0.04\n\n# STA/LTA threshold\nslt = 3"
      ]
    },
    {
      "cell_type": "markdown",
      "metadata": {},
      "source": [
        "### Perform detection using squared-value diffraction stacking\n\n"
      ]
    },
    {
      "cell_type": "code",
      "execution_count": null,
      "metadata": {
        "collapsed": false
      },
      "outputs": [],
      "source": [
        "start_time = time()\nprint(\"Squared-value diffraction stacking detection applied to clean data...\")\n(msf_sqd, \n slf_sqd, \n idp_sqd, \n eot_sqd, \n ds_full_sqd) = diffstack_detect(data = frwddata,\n                                 x = gx,\n                                 y = gy,\n                                 z = gz,\n                                 tt = tt,\n                                 dt = dt,      \n                                 stw = stw,\n                                 ltw = ltw,\n                                 gtw = gtw,\n                                 slt=slt,\n                                 stack_type=\"squared\")\n\nend_time = time()\nprint(f\"Computation time: {end_time - start_time} seconds\")"
      ]
    },
    {
      "cell_type": "markdown",
      "metadata": {},
      "source": [
        "### Compare the detection results with the actual origin times\n\n"
      ]
    },
    {
      "cell_type": "code",
      "execution_count": null,
      "metadata": {
        "collapsed": false
      },
      "outputs": [],
      "source": [
        "print('-------------------------------------------------------')\nprint('Comparison of origin times for squared-value diffraction stacking detection applied to clean data:')\nfor isrc in np.arange(nsrc):\n    print('Event {:d}'.format(isrc+1))\n    print('True origin time: {:.3f} s'.format(ort[isrc]))\n    print('Determined origin time: {:.3f} s'.format(eot_sqd[isrc]))\n    print('Origin time estimation error: {:.3f} s'.format(ort[isrc]-eot_sqd[isrc]))\nprint('-------------------------------------------------------')\n# for isrc in np.arange(nsrc):\n    # print('True event {:d} hypocenter:\\n[{:.2f} m, {:.2f} m, {:.2f} m]'.format(isrc+1,sx[isrc], sy[isrc], sz[isrc]))\n#print('Event hypocenter from semblance-based diffraction stacking with sliding window of {:d} samples for data contaminated with spiky noise of SNR={:.1f}:\\n[{:.2f} m, {:.2f} m, {:.2f} m]'.format(swsize,snr_sn,*np.multiply(hc_semb_swin_sn,[dx, dy, dz])))\n#print('Location error:\\n[{:.2f} m, {:.2f} m, {:.2f} m]'.format(*get_location_misfit([isx, isy, isz], hc_semb_swin_sn, [dx, dy, dz])))"
      ]
    },
    {
      "cell_type": "markdown",
      "metadata": {},
      "source": [
        "## Diffraction stacking detection for noisy data\nHere we apply diffraction stacking detection algorithms to noisy data\n\n"
      ]
    },
    {
      "cell_type": "markdown",
      "metadata": {},
      "source": [
        "### Perform detection using squared-value diffraction stacking\n\n"
      ]
    },
    {
      "cell_type": "code",
      "execution_count": null,
      "metadata": {
        "collapsed": false
      },
      "outputs": [],
      "source": [
        "start_time = time()\nprint(\"Squared-value diffraction stacking detection applied to noisy data...\")\n(msf_sqd_wn,\n slf_sqd_wn, \n idp_sqd_wn, \n eot_sqd_wn, \n ds_full_sqd_wn) = diffstack_detect(data = frwddata_wn,\n                                    x = gx,\n                                    y = gy,\n                                    z = gz,\n                                    tt = tt,\n                                    dt = dt,      \n                                    stw = stw,\n                                    ltw = ltw,\n                                    gtw = gtw,\n                                    slt=slt,\n                                    stack_type=\"squared\")\nend_time = time()\nprint(f\"Computation time: {end_time - start_time} seconds\")"
      ]
    },
    {
      "cell_type": "markdown",
      "metadata": {},
      "source": [
        "### Perform detection using semblance-based diffraction stacking\n\n"
      ]
    },
    {
      "cell_type": "code",
      "execution_count": null,
      "metadata": {
        "collapsed": false
      },
      "outputs": [],
      "source": [
        "# Define sliding window for semblance as two periods of the signal\nswsize = int(2/f0/dt)\nprint(f\"Sliding window size in samples: {swsize}\")\n\nstart_time = time()\nprint(\"Semblance-based diffraction stacking detection applied to noisy data...\")\n(msf_sem_wn, \n slf_sem_wn, \n idp_sem_wn, \n eot_sem_wn, \n ds_full_sem_wn) = diffstack_detect(data=frwddata_wn,\n                                    x = gx,\n                                    y = gy,\n                                    z = gz,\n                                    tt = tt,\n                                    dt = dt,      \n                                    stw = stw,\n                                    ltw = ltw,\n                                    gtw = gtw,\n                                    slt=slt,\n                                    stack_type=\"semblance\",\n                                    swsize=swsize)\nend_time = time()\nprint(f\"Computation time: {end_time - start_time} seconds\")"
      ]
    },
    {
      "cell_type": "markdown",
      "metadata": {},
      "source": [
        "### Compare the detection results with the actual origin times\n\n"
      ]
    },
    {
      "cell_type": "code",
      "execution_count": null,
      "metadata": {
        "collapsed": false
      },
      "outputs": [],
      "source": [
        "print('-------------------------------------------------------')\nprint('Comparison of origin times for squared-value diffraction stacking detection applied to noisy data:')\nfor isrc in np.arange(nsrc):\n    print('Event {:d}'.format(isrc+1))\n    print('True origin time: {:.3f} s'.format(ort[isrc]))\n    print('Determined origin time: {:.3f} s'.format(eot_sqd_wn[isrc]))\n    print('Origin time estimation error: {:.3f} s'.format(ort[isrc]-eot_sqd_wn[isrc]))\nprint('-------------------------------------------------------')\nprint('Comparison of origin times for semblance-based diffraction stacking detection applied to noisy data:')\nfor isrc in np.arange(nsrc):\n    print('Event {:d}'.format(isrc+1))\n    print('True origin time: {:.3f} s'.format(ort[isrc]))\n    print('Determined origin time: {:.3f} s'.format(eot_sem_wn[isrc]))\n    print('Origin time estimation error: {:.3f} s'.format(ort[isrc]-eot_sem_wn[isrc]))\nprint('-------------------------------------------------------')"
      ]
    },
    {
      "cell_type": "markdown",
      "metadata": {},
      "source": [
        "## Visualisation of detection results\nHere we visualise the detection curves\n\n"
      ]
    },
    {
      "cell_type": "code",
      "execution_count": null,
      "metadata": {
        "collapsed": false
      },
      "outputs": [],
      "source": [
        "# Make time vector\nt = np.arange(0, nt * dt, dt)\n\n# Create a new colormap with two distinct colors from batlow colorsheme\ncmap = mcolors.ListedColormap([cmc.batlow(80), cmc.batlow(225)], name=\"two_color_batlow\")\n#cmap = None\n\nfig,axs = detection_curves(msf=msf_sqd,\n                           slf=slf_sqd,                           \n                           slt=slt,\n                           idp=idp_sqd,\n                           t=t,\n                           title='Detection for clean data based on squared-value diffraction stacking',\n                           titlefontsize=12,\n                           cmap=cmap)\n\nfig,axs = detection_curves(msf=msf_sqd_wn,\n                           slf=slf_sqd_wn,\n                           slt=slt,\n                           idp=idp_sqd_wn,\n                           t=t,\n                           title='Detection for noisy data based on squared-value diffraction stacking',\n                           titlefontsize=12,\n                           cmap=cmap)\n\nfig,axs = detection_curves(msf=msf_sem_wn,\n                           slf=slf_sem_wn,\n                           slt=slt,\n                           idp=idp_sem_wn,\n                           t=t,\n                           title='Detection for noisy data based on semblance-based diffraction stacking',\n                           titlefontsize=12,\n                           cmap=cmap)"
      ]
    },
    {
      "cell_type": "markdown",
      "metadata": {},
      "source": [
        "## Localisation of detected events\nHere we determine locations of detected events\n\n"
      ]
    },
    {
      "cell_type": "code",
      "execution_count": null,
      "metadata": {
        "collapsed": false
      },
      "outputs": [],
      "source": [
        "nforhc = 10\nhc_sqd = []\nhc_sqd_wn = []\nhc_sem_wn = []\nihc_sqd = []\nihc_sqd_wn = []\nihc_sem_wn = []\nds_im_vol_sqd = []\nds_im_vol_sqd_wn = []\nds_im_vol_sem_wn = []\nfor isrc in np.arange(nsrc):\n    ds_im_vol = np.squeeze(ds_full_sqd[idp_sqd[isrc],:,:,:])\n    ihc, _ = get_max_locs(ds_im_vol, n_max=nforhc, rem_edge=False)\n    ihc_sqd.append(ihc)\n    hc_sqd.append(np.multiply(ihc,[dx, dy, dz]))\n    ds_im_vol_sqd.append(ds_im_vol)\n    \n    ds_im_vol = np.squeeze(ds_full_sqd_wn[idp_sqd_wn[isrc],:,:,:])\n    ihc, _ = get_max_locs(ds_im_vol, n_max=nforhc, rem_edge=False)\n    ihc_sqd_wn.append(ihc)\n    hc_sqd_wn.append(np.multiply(ihc,[dx, dy, dz]))\n    ds_im_vol_sqd_wn.append(ds_im_vol)\n    \n    ds_im_vol = np.squeeze(ds_full_sem_wn[idp_sem_wn[isrc],:,:,:])\n    ihc, _ = get_max_locs(ds_im_vol, n_max=nforhc, rem_edge=False)\n    ihc_sem_wn.append(ihc)\n    hc_sem_wn.append(np.multiply(ihc,[dx, dy, dz]))\n    ds_im_vol_sem_wn.append(ds_im_vol)"
      ]
    },
    {
      "cell_type": "markdown",
      "metadata": {},
      "source": [
        "### Compare the location results with the actual hypocentres\n\n"
      ]
    },
    {
      "cell_type": "code",
      "execution_count": null,
      "metadata": {
        "collapsed": false
      },
      "outputs": [],
      "source": [
        "print('-------------------------------------------------------')\nprint('Comparison of hypocentres for squared-value diffraction stacking detection applied to clean data:')\nfor isrc in np.arange(nsrc):\n    print('-------------------------------------------------------')\n    print('Event {:d}'.format(isrc+1))\n    print('True hypocentre:\\n[{:.2f} m, {:.2f} m, {:.2f} m]'.format(sx[isrc], sy[isrc], sz[isrc]))\n    print('Determined hypocentre:\\n[{:.2f} m, {:.2f} m, {:.2f} m]'.format(hc_sqd[isrc][0], hc_sqd[isrc][1], hc_sqd[isrc][2]))\n    print('Hypocentre estimation error:\\n[{:.2f} m, {:.2f} m, {:.2f} m]'.format(sx[isrc]-hc_sqd[isrc][0], sy[isrc]-hc_sqd[isrc][1], sz[isrc]-hc_sqd[isrc][2]))\nprint('-------------------------------------------------------')\nprint('Comparison of hypocentres for squared-value diffraction stacking detection applied to noisy data:')\nfor isrc in np.arange(nsrc):\n    print('-------------------------------------------------------')\n    print('Event {:d}'.format(isrc+1))\n    print('True hypocentre:\\n[{:.2f} m, {:.2f} m, {:.2f} m]'.format(sx[isrc], sy[isrc], sz[isrc]))\n    print('Determined hypocentre:\\n[{:.2f} m, {:.2f} m, {:.2f} m]'.format(hc_sqd_wn[isrc][0], hc_sqd_wn[isrc][1], hc_sqd_wn[isrc][2]))\n    print('Hypocentre estimation error:\\n[{:.2f} m, {:.2f} m, {:.2f} m]'.format(sx[isrc]-hc_sqd_wn[isrc][0], sy[isrc]-hc_sqd_wn[isrc][1], sz[isrc]-hc_sqd_wn[isrc][2]))\nprint('-------------------------------------------------------')\nprint('Comparison of hypocentres for semblance-based diffraction stacking detection applied to noisy data:')\nfor isrc in np.arange(nsrc):\n    print('-------------------------------------------------------')\n    print('Event {:d}'.format(isrc+1))\n    print('True hypocentre:\\n[{:.2f} m, {:.2f} m, {:.2f} m]'.format(sx[isrc], sy[isrc], sz[isrc]))\n    print('Determined hypocentre:\\n[{:.2f} m, {:.2f} m, {:.2f} m]'.format(hc_sem_wn[isrc][0], hc_sem_wn[isrc][1], hc_sem_wn[isrc][2]))\n    print('Hypocentre estimation error:\\n[{:.2f} m, {:.2f} m, {:.2f} m]'.format(sx[isrc]-hc_sem_wn[isrc][0], sy[isrc]-hc_sem_wn[isrc][1], sz[isrc]-hc_sem_wn[isrc][2]))\nprint('-------------------------------------------------------')"
      ]
    },
    {
      "cell_type": "markdown",
      "metadata": {},
      "source": [
        "## Visualisation of location results for all events\nHere we visualise the slices of the resulting image volume for all events\n\n"
      ]
    },
    {
      "cell_type": "code",
      "execution_count": null,
      "metadata": {
        "collapsed": false
      },
      "outputs": [],
      "source": [
        "# Get the spatial limits for plotting\nxlim = (min(gx),max(gx))\nylim = (min(gy),max(gy))\nzlim = (min(gz),max(gz))\n\n# Define colormap\ncmap_loc='cmc.bilbao_r'\n\nfor isrc in np.arange(nsrc):\n    # Define legend\n    crosslegend=(f\"Intersect plane (True location: event {isrc+1})\",'Determined location')\n\n    # Results of application of squared-value to clean data:\n    fig,axs = locimage3d(ds_im_vol_sqd[isrc], \n                         cmap=cmap_loc,                          \n                         x0=isx[isrc], y0=isy[isrc], z0=isz[isrc],\n                         secondcrossloc=ihc_sqd[isrc],\n                         crosslegend=crosslegend,\n                         xlim=xlim,ylim=ylim,zlim=zlim)\n    fig.suptitle(f\"Location of event {isrc+1} with squared-value diffraction stacking: clean data\")\n    \n    # Results of application of squared-value to noisy data:\n    fig,axs = locimage3d(ds_im_vol_sqd_wn[isrc], \n                         cmap=cmap_loc,                          \n                         x0=isx[isrc], y0=isy[isrc], z0=isz[isrc],\n                         secondcrossloc=ihc_sqd_wn[isrc],\n                         crosslegend=crosslegend,\n                         xlim=xlim,ylim=ylim,zlim=zlim)\n    fig.suptitle(f\"Location of event {isrc+1} with squared-value diffraction stacking: noisy data\")\n    \n    # Results of application of semblance-based to noisy data:\n    fig,axs = locimage3d(ds_im_vol_sem_wn[isrc], \n                         cmap=cmap_loc,                          \n                         x0=isx[isrc], y0=isy[isrc], z0=isz[isrc],\n                         secondcrossloc=ihc_sem_wn[isrc],\n                         crosslegend=crosslegend,\n                         xlim=xlim,ylim=ylim,zlim=zlim)\n    fig.suptitle(f\"Location of event {isrc+1} with semblance-based diffraction stacking: noisy data\")"
      ]
    }
  ],
  "metadata": {
    "kernelspec": {
      "display_name": "Python 3",
      "language": "python",
      "name": "python3"
    },
    "language_info": {
      "codemirror_mode": {
        "name": "ipython",
        "version": 3
      },
      "file_extension": ".py",
      "mimetype": "text/x-python",
      "name": "python",
      "nbconvert_exporter": "python",
      "pygments_lexer": "ipython3",
      "version": "3.10.15"
    }
  },
  "nbformat": 4,
  "nbformat_minor": 0
}