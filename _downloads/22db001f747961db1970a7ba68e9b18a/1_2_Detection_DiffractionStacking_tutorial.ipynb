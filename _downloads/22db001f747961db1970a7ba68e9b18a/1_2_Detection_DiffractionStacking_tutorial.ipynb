{
  "cells": [
    {
      "cell_type": "markdown",
      "metadata": {},
      "source": [
        "\n# 1.2 Diffraction Stacking: Detection\nThis tutorial illustrates how to perform microseismic event detection using diffraction stacking. \n\nWe consider here a simple case of a homogeneous subsurface model and a set of point microseismic sources with various epicenters and various origin times.\nWe consider only P-waves and single-component receivers for simplicity.\n\n## Traveltimes\nIn a homogeneous medium traveltimes are computed analytically as\n\n\\begin{align}t(\\mathbf{x_r},\\mathbf{x_s}) = \\frac{d(\\mathbf{x_r},\\mathbf{x_s})}{v}\\end{align}\n\nwhere $d(\\mathbf{x_r},\\mathbf{x_s})$ is the distance between a source at \n$\\mathbf{x_s}$ and a receiver at $\\mathbf{x_r}$, \nand $v$ is medium wave velocity (e.g. P-wave velocity $v_p$).\n\n## Waveforms\nThe input data waveforms are computed with the help of PyLops Kirchhoff operator which uses Kirchhoff integral relation with high-frequency Green's functions.\n\nSee more information here:\nhttps://pylops.readthedocs.io\n\n## Detection by diffraction stacking\n\nBasics of simple diffraction stacking are explained in\n`sphx_glr_tutorials_Location_DiffractionStacking_tutorial.py`.\n\nMicroseismic data always contain scattered energy and noise which may result in multiple\nlocal maxima of the 4D imaging function. Therefore, a certain criterion is required to identify these local maxima\nas detections of microseismic events.\nFor this purpose a joint detection algorithm was proposed in Anikiev at al. (2014).\nFor every time $t$ the maximum of the image function over all potential locations is\nevaluated (thus only one event at any given time $t$ is assumed):\n\n\\begin{align}F_t(t) = \\max_{\\mathbf{r}} F(\\mathbf{r},t)\\end{align}\n\nThe leading local maxima of the function $F_t(t)$ (later on referred to it as the\nmaximum stack function or MSF) occur at the origin times of microseismic events (Anikiev 2015).\nThese local maxima can be found by triggering algorithms, usually used for automatic picking of\nseismic signal, for instance, the STA/LTA (Short Term Average / Long Term Average) method\n (e.g., Withers et al., 1998; Trnkoczy, 2012). Local maxima are detected by\nmeasuring the ratio of average stack values in short and long sliding time windows and\ncomparing this ratio with the pre-defined STA/LTA threshold. As seismic waves scatter at\nthe near-surface or along the path, there can be multiple extrema in the MSF\ncorresponding to later arrivals. Therefore, it is necessary to make sure that only the first\n(leading) maximum in a group is identified for event detection and location (Anikiev 2015).\n\n\n## References\nAnikiev, D. (2015). Joint detection, location and source mechanism \ndetermination of microseismic events (Doctoral dissertation). \nSt. Petersburg State University. St. Petersburg. \nhttps://disser.spbu.ru/files/phdspsu2015/Anikiev_PhD_web_final.pdf\n\nAnikiev, D., Valenta, J., Stan\u011bk, F. & Eisner, L. (2014). Joint location and \nsource mechanism inversion of microseismic events: Benchmarking on seismicity \ninduced by hydraulic fracturing. Geophysical Journal International, 198(1), \n249\u2013258. https://doi.org/10.1093/gji/ggu126\n\nTrnkoczy, A. (2012). Understanding and parameter setting of STA/LTA trigger algorithm. \nIn: Bormann, P. (Ed.), New Manual of Seismological Observatory Practice 2 (NMSOP-2), Potsdam: Deutsches GeoForschungsZentrum GFZ, 1-20.\nhttps://doi.org/10.2312/GFZ.NMSOP-2_IS_8.1\n\nWithers, M., Aster, R., Young, C., Beiriger, J., Harris, M., Moore, S., & Trujillo, J. (1998). \nA comparison of select trigger algorithms for automated global seismic phase and event detection. \nBulletin of the Seismological Society of America, 88(1), 95\u2013106. https://doi.org/10.1785/bssa0880010095\n"
      ]
    },
    {
      "cell_type": "markdown",
      "metadata": {},
      "source": [
        "## Load all necessary packages\n\n"
      ]
    },
    {
      "cell_type": "code",
      "execution_count": null,
      "metadata": {
        "collapsed": false
      },
      "outputs": [],
      "source": [
        "import numpy as np\nimport matplotlib.pyplot as plt\n\nfrom pylops.utils import dottest\nfrom pylops.utils.wavelets import ricker\n\n# Import modelling utils\nfrom fracspy.modelling.kirchhoff import Kirchhoff\nfrom fracspy.utils.synthutils import add_noise\n\n# Import location utils\nfrom fracspy.location import Location\nfrom fracspy.location.utils import *\n\n# Import visualisation utils\nfrom fracspy.visualisation.traceviz import traceimage\nfrom fracspy.visualisation.eventimages import locimage3d\n\n# Deal with warnings (for a cleaner code)\nimport warnings\nwarnings.filterwarnings(\"ignore\", category=FutureWarning)\nwarnings.filterwarnings(\"ignore\", category=UserWarning)\n\n# Track computation time\nfrom time import time"
      ]
    },
    {
      "cell_type": "markdown",
      "metadata": {},
      "source": [
        "## Setup\nHere we setup the parameters of the velocity model, geometry of receivers and \nmicroseismic source for forward modelling\n\n"
      ]
    },
    {
      "cell_type": "markdown",
      "metadata": {},
      "source": [
        "### Velocity Model\n\n"
      ]
    },
    {
      "cell_type": "code",
      "execution_count": null,
      "metadata": {
        "collapsed": false
      },
      "outputs": [],
      "source": [
        "nx, ny, nz = 50, 50, 50\ndx, dy, dz = 4, 4, 4\nx, y, z = np.arange(nx)*dx, np.arange(ny)*dy, np.arange(nz)*dz\n\nv0 = 1000 # initial velocity\nvel = np.ones([nx,ny,nz])*v0\n\nprint(f\"Velocity model shape: {vel.shape}\")"
      ]
    },
    {
      "cell_type": "markdown",
      "metadata": {},
      "source": [
        "### Receivers\n\n"
      ]
    },
    {
      "cell_type": "code",
      "execution_count": null,
      "metadata": {
        "collapsed": false
      },
      "outputs": [],
      "source": [
        "dr_xyz = 4*dx\n\ngrid_rx_locs = np.arange(dx, (dx*nx)-dx, dr_xyz)\ngrid_ry_locs = np.arange(dy, (dy*ny)-dy, dr_xyz)\n\nrx, ry, rz = np.meshgrid(grid_rx_locs,\n                          grid_ry_locs,\n                          dz) \nrecs = np.vstack((rx.flatten(), ry.flatten(), rz.flatten()))\nnr = recs.shape[1]\n\nprint(f\"Receiver array shape: {recs.shape}\")"
      ]
    },
    {
      "cell_type": "markdown",
      "metadata": {},
      "source": [
        "### Microseismic sources\nHere we set up multiple sources at different locations \nand with different origin times\n\n"
      ]
    },
    {
      "cell_type": "code",
      "execution_count": null,
      "metadata": {
        "collapsed": false
      },
      "outputs": [],
      "source": [
        "# number of sources\nnsrc=3\n\n# Declare empty arrays\nisx, isy, isz = [np.zeros(nsrc).astype(int), np.zeros(nsrc).astype(int), np.zeros(nsrc).astype(int)]\nsx, sy, sz = [np.zeros(nsrc), np.zeros(nsrc), np.zeros(nsrc)] \n\n# Fill grid locations of events\nisx[0], isy[0], isz[0] = [nx//4, ny//2, nz//2]\nisx[1], isy[1], isz[1] = [(3*nx)//4, ny//2, (3*nz)//4]\nisx[2], isy[2], isz[2] = [nx//2, ny//4, nz//4]\n\n# Get real locations\nfor isrc in np.arange(nsrc):\n    sx[isrc], sy[isrc], sz[isrc] = isx[isrc]*dx, isy[isrc]*dy, isz[isrc]*dz \n\n# Origin times in sec\nort = [0, 0.15, 0.40]\n\n# Define different magnitudes\nmicroseismic0 = np.zeros((nx, ny, nz))\nmicroseismic1 = np.zeros((nx, ny, nz))\nmicroseismic2 = np.zeros((nx, ny, nz))\nmicroseismic0[isx[0], isy[0], isz[0]] = 1.\nmicroseismic1[isx[1], isy[1], isz[1]] = 0.3\nmicroseismic2[isx[2], isy[2], isz[2]] = 0.8"
      ]
    },
    {
      "cell_type": "markdown",
      "metadata": {},
      "source": [
        "## Generate synthetic data\n\n\n"
      ]
    },
    {
      "cell_type": "code",
      "execution_count": null,
      "metadata": {
        "collapsed": false
      },
      "outputs": [],
      "source": [
        "start_time = time()\nprint(\"Generating synthetic data...\")\nnt = 161 # number of time steps\ndt = 0.004 # time step\nf0 = 20 # Central frequency\nt = np.arange(nt) * dt # time vector"
      ]
    },
    {
      "cell_type": "markdown",
      "metadata": {},
      "source": [
        "### Create signal wavelet\n\n"
      ]
    },
    {
      "cell_type": "code",
      "execution_count": null,
      "metadata": {
        "collapsed": false
      },
      "outputs": [],
      "source": [
        "wav, wavt, wavc = ricker(t[:41], f0=f0)"
      ]
    },
    {
      "cell_type": "markdown",
      "metadata": {},
      "source": [
        "### Initialise operator\n\n"
      ]
    },
    {
      "cell_type": "code",
      "execution_count": null,
      "metadata": {
        "collapsed": false
      },
      "outputs": [],
      "source": [
        "Op = Kirchhoff(z=z, \n                x=x, \n                y=y, \n                t=t, \n                recs=recs, \n                vel=vel, \n                wav=wav, \n                wavcenter=wavc, \n                mode='eikonal', \n                engine='numba')"
      ]
    },
    {
      "cell_type": "markdown",
      "metadata": {},
      "source": [
        "### Check operator with dottest\nThis test can help to detect errors in the operator implementation.\n\n"
      ]
    },
    {
      "cell_type": "code",
      "execution_count": null,
      "metadata": {
        "collapsed": false
      },
      "outputs": [],
      "source": [
        "_ = dottest(Op, verb=True)"
      ]
    },
    {
      "cell_type": "markdown",
      "metadata": {},
      "source": [
        "### Forward modelling\nApply operator to model data for each event\n\n"
      ]
    },
    {
      "cell_type": "code",
      "execution_count": null,
      "metadata": {
        "collapsed": false
      },
      "outputs": [],
      "source": [
        "frwddata0 = (Op @ microseismic0.flatten().squeeze()).reshape(nr,nt)\nfrwddata1 = (Op @ microseismic1.flatten().squeeze()).reshape(nr,nt)\nfrwddata2 = (Op @ microseismic2.flatten().squeeze()).reshape(nr,nt)\n\n# Combine the data\nfrwddata = np.roll(frwddata0,shift=int(ort[0]/dt), axis=1) + np.roll(frwddata1,shift=int(ort[1]/dt), axis=1) + np.roll(frwddata2,shift=int(ort[2]/dt), axis=1)\n\n#frwddata = frwddata0 + frwddata1,shift=int(ort[0]/dt), axis=1) \n#+ np.roll(frwddata2,shift=int(ort[2]/dt), axis=1)\n\n# Contaminate data with white noise\n# \"\"\"\"\"\"\"\"\"\"\"\"\"\"\"\"\"\"\"\"\"\"\"\"\"\"\"\"\"\"\"\"\"\n\n# Fix the seed for reproducibility\nseed=1\n\n# Fix SNR levels\nsnr_wn=1\nsnr_sn=1/10\nsnr_rn=1/5\n\n# Fix traces for ringy noise\ntrind_rn = np.arange(1,nr,11)\n\n# Add white noise of defined SNR\nfrwddata_wn = add_noise(frwddata,noise_type=\"white\",snr=snr_wn,seed=seed)\n\n# Contaminate data with spiky noise\n# \"\"\"\"\"\"\"\"\"\"\"\"\"\"\"\"\"\"\"\"\"\"\"\"\"\"\"\"\"\"\"\"\"\n\n# Add noise spikes with twice as bigger SNR\nfrwddata_sn = add_noise(frwddata,noise_type=\"spiky\",snr=snr_sn,seed=seed)\n\n# Contaminate data with ringy noise\n# \"\"\"\"\"\"\"\"\"\"\"\"\"\"\"\"\"\"\"\"\"\"\"\"\"\"\"\"\"\"\"\"\"\n\n# Add ringy noise on some traces\nfrwddata_rn = add_noise(frwddata,noise_type=\"ringy\",snr=snr_rn,\n                        trind=trind_rn,seed=seed)\n\n# Show consumed time\nend_time = time()\nprint(f\"Computation time: {end_time - start_time} seconds\")"
      ]
    },
    {
      "cell_type": "markdown",
      "metadata": {},
      "source": [
        "## Plot input data\n\n"
      ]
    },
    {
      "cell_type": "code",
      "execution_count": null,
      "metadata": {
        "collapsed": false
      },
      "outputs": [],
      "source": [
        "# Plot modelled data\n# \"\"\"\"\"\"\"\"\"\"\"\"\"\"\"\"\"\"\n\nfig, ax = traceimage(frwddata, climQ=99.99)\nax.set_title('Noise-free modelled data')\nax.set_ylabel('Time steps')\nfig = ax.get_figure()\nfig.set_size_inches(10, 3)  # set size in inches"
      ]
    },
    {
      "cell_type": "markdown",
      "metadata": {},
      "source": [
        "### Plot modelled data contaminated with white noise\n\n"
      ]
    },
    {
      "cell_type": "code",
      "execution_count": null,
      "metadata": {
        "collapsed": false
      },
      "outputs": [],
      "source": [
        "fig, ax = traceimage(frwddata_wn, climQ=99.99)\nax.set_title(f\"Modelled data contaminated with white noise of SNR={snr_wn}\")\nax.set_ylabel('Time steps')\nfig = ax.get_figure()\nfig.set_size_inches(10, 3)  # set size in inches\n\n# ###############################################################################\n# # Plot modelled data contaminated with spiky noise\n# # \"\"\"\"\"\"\"\"\"\"\"\"\"\"\"\"\"\"\"\"\"\"\"\"\"\"\"\"\"\"\"\"\"\"\"\"\"\"\"\"\"\"\"\"\"\"\"\"\n\n# fig, ax = traceimage(frwddata_sn, climQ=99.99)\n# ax.set_title(f\"Modelled data contaminated with spiky noise of SNR={snr_sn}\")\n# ax.set_ylabel('Time steps')\n# fig = ax.get_figure()\n# fig.set_size_inches(10, 3)  # set size in inches\n\n# ###############################################################################\n# # Plot modelled data contaminated with ringy noise\n# # \"\"\"\"\"\"\"\"\"\"\"\"\"\"\"\"\"\"\"\"\"\"\"\"\"\"\"\"\"\"\"\"\"\"\"\"\"\"\"\"\"\"\"\"\"\"\"\"\n\n# fig, ax = traceimage(frwddata_rn, climQ=99.99)\n# ax.set_title(f\"Modelled data contaminated with ringy noise of SNR={snr_rn}\")\n# ax.set_ylabel('Time steps')\n# fig = ax.get_figure()\n# fig.set_size_inches(10, 3)  # set size in inches"
      ]
    },
    {
      "cell_type": "markdown",
      "metadata": {},
      "source": [
        "### Plot receiver geometry\n\n"
      ]
    },
    {
      "cell_type": "code",
      "execution_count": null,
      "metadata": {
        "collapsed": false
      },
      "outputs": [],
      "source": [
        "fig, ax = plt.subplots(1, 1)\nfig.set_size_inches(8, 8)  # set size in inches\nax.set_aspect('equal')\nax.scatter(recs[0],recs[1])\nfor isrc in np.arange(nsrc):\n    ax.scatter(sx[isrc],sy[isrc], marker='*')\n\nax.set_title('Receiver Geometry: map view')\nax.legend(['Receivers', 'Source 1', 'Source 2', 'Source 3'],loc='upper right')\n_ = ax.set_xlabel('x')\n_ = ax.set_ylabel('y')"
      ]
    },
    {
      "cell_type": "markdown",
      "metadata": {},
      "source": [
        "## Prepare for location\n\n"
      ]
    },
    {
      "cell_type": "markdown",
      "metadata": {},
      "source": [
        "### Define location class using grid vectors\nUse the original velocity model grid for location (the grid can be different)\n\n"
      ]
    },
    {
      "cell_type": "code",
      "execution_count": null,
      "metadata": {
        "collapsed": false
      },
      "outputs": [],
      "source": [
        "gx = x\ngy = y\ngz = z\n\n# Set up the location class\n\nL = Location(gx, gy, gz)"
      ]
    },
    {
      "cell_type": "markdown",
      "metadata": {},
      "source": [
        "### Prepare traveltimes\n\n"
      ]
    },
    {
      "cell_type": "code",
      "execution_count": null,
      "metadata": {
        "collapsed": false
      },
      "outputs": [],
      "source": [
        "tt = 1 / v0*dist2rec(recs,gx,gy,gz)\nprint(f\"Traveltime array shape: {tt.shape}\")"
      ]
    },
    {
      "cell_type": "markdown",
      "metadata": {},
      "source": [
        "## Apply diffraction stacking to clean data\nHere we apply various diffraction stacking algorithms to clean noise-free \ndata, get the image volume and determine location from the maximum of this \nvolume.\n\n"
      ]
    },
    {
      "cell_type": "markdown",
      "metadata": {},
      "source": [
        "### Perform absolute-value diffraction stacking\n\n"
      ]
    },
    {
      "cell_type": "code",
      "execution_count": null,
      "metadata": {
        "collapsed": false
      },
      "outputs": [],
      "source": [
        "start_time = time()\nprint(\"Absolute-value diffraction stacking...\")\ndstacked_abs, hc_abs = L.apply(frwddata, \n                      kind=\"diffstack\",\n                      x=gx, y=gy, z=gz,\n                      tt=tt, dt=dt, nforhc=10,\n                      stack_type=\"absolute\",\n                      output_type=\"mean\")\nend_time = time()\nprint(f\"Computation time: {end_time - start_time} seconds\")"
      ]
    },
    {
      "cell_type": "markdown",
      "metadata": {},
      "source": [
        "### Perform squared-value diffraction stacking\n\n"
      ]
    },
    {
      "cell_type": "code",
      "execution_count": null,
      "metadata": {
        "collapsed": false
      },
      "outputs": [],
      "source": [
        "start_time = time()\nprint(\"Squared-value diffraction stacking...\")\ndstacked_sqd, hc_sqd = L.apply(frwddata, \n                      kind=\"diffstack\",\n                      x=gx, y=gy, z=gz,\n                      tt=tt, dt=dt, nforhc=10,\n                      stack_type=\"squared\")\nend_time = time()\nprint(f\"Computation time: {end_time - start_time} seconds\")\n\n# ###############################################################################\n# # Perform semblance-based diffraction stacking without sliding time window\n# # \"\"\"\"\"\"\"\"\"\"\"\"\"\"\"\"\"\"\"\"\"\"\"\"\"\"\"\"\"\"\"\"\"\"\"\"\"\"\"\"\"\"\"\"\"\"\"\"\"\"\"\"\"\"\"\"\"\"\"\"\"\"\"\"\"\"\"\"\"\"\"\"\n\n# start_time = time()\n# print(\"Semblance-based diffraction stacking...\")\n# # Run the stacking using Location class\n# dstacked_semb, hc_semb = L.apply(frwddata, \n#                       kind=\"diffstack\",\n#                       x=gx, y=gy, z=gz,\n#                       tt=tt, dt=dt, nforhc=10,\n#                       stack_type=\"semblance\")\n# end_time = time()\n# print(f\"Computation time: {end_time - start_time} seconds\")\n\n# ###############################################################################\n# # Perform semblance-based diffraction stacking with sliding time window\n# # \"\"\"\"\"\"\"\"\"\"\"\"\"\"\"\"\"\"\"\"\"\"\"\"\"\"\"\"\"\"\"\"\"\"\"\"\"\"\"\"\"\"\"\"\"\"\"\"\"\"\"\"\"\"\"\"\"\"\"\"\"\"\"\"\"\"\"\"\"\n\n# # Define sliding window as two periods of the signal\n# swsize = int(2/f0/dt)\n# print(f\"Sliding window size in samples: {swsize}\")\n\n# start_time = time()\n# print(\"Semblance-based diffraction stacking...\")\n# # Run the stacking using Location class\n# dstacked_semb_swin, hc_semb_swin = L.apply(frwddata, \n#                       kind=\"diffstack\",\n#                       x=gx, y=gy, z=gz,\n#                       tt=tt, dt=dt, nforhc=10,\n#                       stack_type=\"semblance\", swsize=swsize)\n# end_time = time()\n# print(f\"Computation time: {end_time - start_time} seconds\")\n\n\n# #%%\n\n# ###############################################################################\n# # Apply diffraction stacking to noise-contaminated data\n# # ^^^^^^^^^^^^^^^^^^^^^^^^^^^^^^^^^^^^^^^^^^^^^^^^^^^^^\n# # Here we apply diffraction stacking algorithms to data contaminated \n# # with noise\n\n# ###############################################################################\n# # Perform absolute-value diffraction stacking\n# # \"\"\"\"\"\"\"\"\"\"\"\"\"\"\"\"\"\"\"\"\"\"\"\"\"\"\"\"\"\"\"\"\"\"\"\"\"\"\"\"\"\"\"\n\n# start_time = time()\n# print(\"Absolute-value diffraction stacking...\")\n# dstacked_abs_wn, hc_abs_wn = L.apply(frwddata_wn, \n#                             kind=\"diffstack\",\n#                             x=gx, y=gy, z=gz,\n#                             tt=tt, dt=dt, nforhc=10,\n#                             stack_type=\"absolute\")\n# dstacked_abs_sn, hc_abs_sn = L.apply(frwddata_sn, \n#                             kind=\"diffstack\",\n#                             x=gx, y=gy, z=gz,\n#                             tt=tt, dt=dt, nforhc=10,\n#                             stack_type=\"absolute\")\n# dstacked_abs_rn, hc_abs_rn = L.apply(frwddata_rn, \n#                             kind=\"diffstack\",\n#                             x=gx, y=gy, z=gz,\n#                             tt=tt, dt=dt, nforhc=10,\n#                             stack_type=\"absolute\")\n# end_time = time()\n# print(f\"Computation time: {end_time - start_time} seconds\")\n\n# ###############################################################################\n# # Perform squared-value diffraction stacking\n# # \"\"\"\"\"\"\"\"\"\"\"\"\"\"\"\"\"\"\"\"\"\"\"\"\"\"\"\"\"\"\"\"\"\"\"\"\"\"\"\"\"\"\"\n\n# start_time = time()\n# print(\"Squared-value diffraction stacking...\")\n# dstacked_sqd_wn, hc_sqd_wn = L.apply(frwddata_wn, \n#                             kind=\"diffstack\",\n#                             x=gx, y=gy, z=gz,\n#                             tt=tt, dt=dt, nforhc=10,\n#                             stack_type=\"squared\")\n# dstacked_sqd_sn, hc_sqd_sn = L.apply(frwddata_sn, \n#                             kind=\"diffstack\",\n#                             x=gx, y=gy, z=gz,\n#                             tt=tt, dt=dt, nforhc=10,\n#                             stack_type=\"squared\")\n# dstacked_sqd_rn, hc_sqd_rn = L.apply(frwddata_rn, \n#                             kind=\"diffstack\",\n#                             x=gx, y=gy, z=gz,\n#                             tt=tt, dt=dt, nforhc=10,\n#                             stack_type=\"squared\")\n# end_time = time()\n# print(f\"Computation time: {end_time - start_time} seconds\")\n\n# ###############################################################################\n# # Perform semblance-based diffraction stacking with sliding time window\n# # \"\"\"\"\"\"\"\"\"\"\"\"\"\"\"\"\"\"\"\"\"\"\"\"\"\"\"\"\"\"\"\"\"\"\"\"\"\"\"\"\"\"\"\"\"\"\"\"\"\"\"\"\"\"\"\"\"\"\"\"\"\"\"\"\"\"\"\"\"\n\n# # Define sliding window as two periods of the signal\n# print(f\"Sliding window size in samples: {swsize}\")\n# start_time = time()\n# print(\"Semblance-based diffraction stacking...\")\n# dstacked_semb_swin_wn, hc_semb_swin_wn = L.apply(frwddata_wn, \n#                                         kind=\"diffstack\",\n#                                         x=gx, y=gy, z=gz,\n#                                         tt=tt, dt=dt, nforhc=10,\n#                                         stack_type=\"semblance\", swsize=swsize)\n# dstacked_semb_swin_sn, hc_semb_swin_sn = L.apply(frwddata_sn, \n#                                         kind=\"diffstack\",\n#                                         x=gx, y=gy, z=gz,\n#                                         tt=tt, dt=dt, nforhc=10,\n#                                         stack_type=\"semblance\", swsize=swsize)\n# dstacked_semb_swin_rn, hc_semb_swin_rn = L.apply(frwddata_rn, \n#                                         kind=\"diffstack\",\n#                                         x=gx, y=gy, z=gz,\n#                                         tt=tt, dt=dt, nforhc=10,\n#                                         stack_type=\"semblance\", swsize=swsize)\n# end_time = time()\n# print(f\"Computation time: {end_time - start_time} seconds\")"
      ]
    },
    {
      "cell_type": "markdown",
      "metadata": {},
      "source": [
        "## Visualisation of results\nHere we visualise the slices of the resulting image volume\n\n"
      ]
    },
    {
      "cell_type": "markdown",
      "metadata": {},
      "source": [
        "### Plot resulting image volumes from absolute-value diffraction stacking\nThe form and inclination of the location spot reflect the \nreceiver geometry, whereas focusing is related to the selected imaging \ncondition (absolute value).\nYou can see how noise of different kind affects the result.\n\n"
      ]
    },
    {
      "cell_type": "code",
      "execution_count": null,
      "metadata": {
        "collapsed": false
      },
      "outputs": [],
      "source": [
        "# Get the spatial limits for plotting\nxlim = (min(gx),max(gx))\nylim = (min(gy),max(gy))\nzlim = (min(gz),max(gz))\n\n# Define colormap\ncmap='cmc.bilbao_r'\n\n# Define legend\ncrosslegend=('Intersect plane (True location)','Determined location')\n\n\n# Print true locations\nfor isrc in np.arange(nsrc):\n    print('True event {:d} hypocenter:\\n[{:.2f} m, {:.2f} m, {:.2f} m]'.format(isrc,sx[isrc], sy[isrc], sz[isrc]))\n\n# Results of application to clean data:\nfig,axs = locimage3d(dstacked_abs,                \n                      cmap=cmap,\n                      title='Location with absolute-value diffraction stacking:\\nclean data',\n                      x0=isx[0], y0=isy[0], z0=isz[0],\n                      secondcrossloc=hc_abs,\n                      crosslegend=crosslegend,\n                      xlim=xlim,ylim=ylim,zlim=zlim)\n\nprint('-------------------------------------------------------')\nprint('Event hypocenter from absolute-value diffraction stacking for clean data:\\n[{:.2f} m, {:.2f} m, {:.2f} m]'.format(*np.multiply(hc_abs,[dx, dy, dz])))\nprint('Location error:\\n[{:.2f} m, {:.2f} m, {:.2f} m]'.format(*get_location_misfit([isx[0], isy[0], isz[0]], hc_abs, [dx, dy, dz])))\n\n# # Results of application to data contaminated with white noise:\n# fig,axs = locimage3d(dstacked_abs_wn, \n#                      cmap=cmap,\n#                      title=f\"Location with absolute-value diffraction stacking:\\ndata contaminated with white noise of SNR={snr_wn}\",\n#                      x0=isx, y0=isy, z0=isz,\n#                      secondcrossloc=hc_abs_wn,\n#                      crosslegend=crosslegend,\n#                      xlim=xlim,ylim=ylim,zlim=zlim)\n# print('-------------------------------------------------------')\n# print('Event hypocenter from absolute-value diffraction stacking for data contaminated with white noise of SNR={:.1f}:\\n[{:.2f} m, {:.2f} m, {:.2f} m]'.format(snr_wn,*np.multiply(hc_abs_wn,[dx, dy, dz])))\n# print('Location error:\\n[{:.2f} m, {:.2f} m, {:.2f} m]'.format(*get_location_misfit([isx, isy, isz], hc_abs_wn, [dx, dy, dz])))\n\n# # Results of application to data contaminated with spiky noise:\n# fig,axs = locimage3d(dstacked_abs_sn, \n#                      cmap=cmap,\n#                      title=f\"Location with absolute-value diffraction stacking:\\ndata contaminated with spiky noise of SNR={snr_sn}\",\n#                      x0=isx, y0=isy, z0=isz,\n#                      secondcrossloc=hc_abs_sn,\n#                      crosslegend=crosslegend,\n#                      xlim=xlim,ylim=ylim,zlim=zlim)\n# print('-------------------------------------------------------')\n# print('Event hypocenter from absolute-value diffraction stacking for data contaminated with spiky noise of SNR={:.1f}:\\n[{:.2f} m, {:.2f} m, {:.2f} m]'.format(snr_sn,*np.multiply(hc_abs_sn,[dx, dy, dz])))\n# print('Location error: [{:.2f} m, {:.2f} m, {:.2f} m]'.format(*get_location_misfit([isx, isy, isz], hc_abs_sn, [dx, dy, dz])))\n\n# # Results of application to data contaminated with ringy noise:\n# fig,axs = locimage3d(dstacked_abs_rn, \n#                      cmap=cmap,\n#                      title=f\"Location with absolute-value diffraction stacking:\\ndata contaminated with ringy noise of SNR={snr_rn}\",\n#                      x0=isx, y0=isy, z0=isz,\n#                      secondcrossloc=hc_abs_rn,\n#                      crosslegend=crosslegend,\n#                      xlim=xlim,ylim=ylim,zlim=zlim)\n# print('-------------------------------------------------------')\n# print('Event hypocenter from absolute-value diffraction stacking for data contaminated with ringy noise of SNR={:.1f}:\\n[{:.2f} m, {:.2f} m, {:.2f} m]'.format(snr_rn,*np.multiply(hc_abs_rn,[dx, dy, dz])))\n# print('Location error:\\n[{:.2f} m, {:.2f} m, {:.2f} m]'.format(*get_location_misfit([isx, isy, isz], hc_abs_rn, [dx, dy, dz])))"
      ]
    },
    {
      "cell_type": "markdown",
      "metadata": {},
      "source": [
        "### Plot resulting image volumes from squared-value diffraction stacking\nYou can see that the focusing is better when using squared values\n\n"
      ]
    },
    {
      "cell_type": "code",
      "execution_count": null,
      "metadata": {
        "collapsed": false
      },
      "outputs": [],
      "source": [
        "# Print true locations\nfor isrc in np.arange(nsrc):\n    print('True event {:d} hypocenter:\\n[{:.2f} m, {:.2f} m, {:.2f} m]'.format(isrc,sx[isrc], sy[isrc], sz[isrc]))\n    \n# Results of application to clean data:\nfig,axs = locimage3d(dstacked_sqd, \n                      cmap=cmap,\n                      title='Location with squared-value diffraction stacking:\\nclean data',\n                      x0=isx[0], y0=isy[0], z0=isz[0],\n                      secondcrossloc=hc_sqd,\n                      crosslegend=crosslegend,\n                      xlim=xlim,ylim=ylim,zlim=zlim)\n\nprint('-------------------------------------------------------')\nprint('Event hypocenter from squared-value diffraction stacking for clean data:\\n[{:.2f} m, {:.2f} m, {:.2f} m]'.format(*np.multiply(hc_sqd,[dx, dy, dz])))\nprint('Location error:\\n[{:.2f} m, {:.2f} m, {:.2f} m]'.format(*get_location_misfit([isx[0], isy[0], isz[0]], hc_sqd, [dx, dy, dz])))\n\n# # Results of application to data contaminated with white noise:\n# fig,axs = locimage3d(dstacked_sqd_wn, \n#                      cmap=cmap,\n#                      title=f\"Location with squared-value diffraction stacking:\\ndata contaminated with white noise of SNR={snr_wn}\",\n#                      x0=isx, y0=isy, z0=isz,\n#                      secondcrossloc=hc_sqd_wn,\n#                      crosslegend=crosslegend,\n#                      xlim=xlim,ylim=ylim,zlim=zlim)\n# print('-------------------------------------------------------')\n# print('Event hypocenter from squared-value diffraction stacking for data contaminated with white noise of SNR={:.1f}:\\n[{:.2f} m, {:.2f} m, {:.2f} m]'.format(snr_wn,*np.multiply(hc_sqd_wn,[dx, dy, dz])))\n# print('Location error:\\n[{:.2f} m, {:.2f} m, {:.2f} m]'.format(*get_location_misfit([isx, isy, isz], hc_abs_wn, [dx, dy, dz])))\n\n# # Results of application to data contaminated with spiky noise:\n# fig,axs = locimage3d(dstacked_sqd_sn, \n#                      cmap=cmap,\n#                      title=f\"Location with squared-value diffraction stacking:\\ndata contaminated with spiky noise of SNR={snr_sn}\",\n#                      x0=isx, y0=isy, z0=isz,\n#                      secondcrossloc=hc_sqd_sn,\n#                      crosslegend=crosslegend,\n#                      xlim=xlim,ylim=ylim,zlim=zlim)\n# print('-------------------------------------------------------')\n# print('Event hypocenter from squared-value diffraction stacking for data contaminated with spiky noise of SNR={:.1f}:\\n[{:.2f} m, {:.2f} m, {:.2f} m]'.format(snr_sn,*np.multiply(hc_sqd_sn,[dx, dy, dz])))\n# print('Location error: [{:.2f} m, {:.2f} m, {:.2f} m]'.format(*get_location_misfit([isx, isy, isz], hc_abs_sn, [dx, dy, dz])))\n\n# # Results of application to data contaminated with ringy noise:\n# fig,axs = locimage3d(dstacked_sqd_rn, \n#                      cmap=cmap,\n#                      title=f\"Location with squared-value diffraction stacking:\\ndata contaminated with ringy noise of SNR={snr_rn}\",\n#                      x0=isx, y0=isy, z0=isz,\n#                      secondcrossloc=hc_sqd_rn,\n#                      crosslegend=crosslegend,\n#                      xlim=xlim,ylim=ylim,zlim=zlim)\n# print('-------------------------------------------------------')\n# print('Event hypocenter from squared-value diffraction stacking for data contaminated with ringy noise of SNR={:.1f}:\\n[{:.2f} m, {:.2f} m, {:.2f} m]'.format(snr_rn,*np.multiply(hc_sqd_rn,[dx, dy, dz])))\n# print('Location error:\\n[{:.2f} m, {:.2f} m, {:.2f} m]'.format(*get_location_misfit([isx, isy, isz], hc_sqd_rn, [dx, dy, dz])))\n\n\n# ###############################################################################\n# # Plot resulting image volume from semblance-based diffraction stacking\n# # \"\"\"\"\"\"\"\"\"\"\"\"\"\"\"\"\"\"\"\"\"\"\"\"\"\"\"\"\"\"\"\"\"\"\"\"\"\"\"\"\"\"\"\"\"\"\"\"\"\"\"\"\"\"\"\"\"\"\"\"\"\"\"\"\"\"\"\"\"\n# # First result show application of semblance-based diffraction stacking without\n# # sliding time window. The result has several numerical artifacts.\n# # Involving sliding window helps to reduce the artifacts and improve focusing\n# # but slightly increases the location error.\n# # Semblance-based stacking is generally acting in the presence of noise better \n# # than absolute-based stacking.\n\n# # Print true location\n# print('True event hypocenter:\\n[{:.2f} m, {:.2f} m, {:.2f} m]'.format(*[sx, sy, sz]))\n\n# # Results of application to clean data:\n# fig,axs = locimage3d(dstacked_semb,                       \n#                      cmap=cmap,\n#                      x0=isx, y0=isy, z0=isz,\n#                      secondcrossloc=hc_semb,\n#                      crosslegend=crosslegend,\n#                      xlim=xlim,ylim=ylim,zlim=zlim)\n# fig.suptitle(\"Location with semblance-based diffraction stacking:\\nclean data\")\n# print('-------------------------------------------------------')\n# print('Event hypocenter from semblance-based diffraction stacking for clean data:\\n[{:.2f} m, {:.2f} m, {:.2f} m]'.format(*np.multiply(hc_semb,[dx, dy, dz])))\n# print('Location error:\\n[{:.2f} m, {:.2f} m, {:.2f} m]'.format(*get_location_misfit([isx, isy, isz], hc_semb, [dx, dy, dz])))\n\n\n# # Results of application to clean data:\n# fig,axs = locimage3d(dstacked_semb_swin,                       \n#                      cmap=cmap,\n#                      x0=isx, y0=isy, z0=isz,\n#                      secondcrossloc=hc_semb_swin,\n#                      crosslegend=crosslegend,\n#                      xlim=xlim,ylim=ylim,zlim=zlim)\n# fig.suptitle(f\"Location with semblance-based diffraction stacking:\\nsliding window of {swsize} samples,\\nclean data\")\n# print('-------------------------------------------------------')\n# print('Event hypocenter from semblance-based diffraction stacking with sliding window of {:d} samples for clean data:\\n[{:.2f} m, {:.2f} m, {:.2f} m]'.format(swsize,*np.multiply(hc_semb_swin,[dx, dy, dz])))\n# print('Location error:\\n[{:.2f} m, {:.2f} m, {:.2f} m]'.format(*get_location_misfit([isx, isy, isz], hc_semb_swin, [dx, dy, dz])))\n\n# # Results of application to data contaminated with white noise:\n# fig,axs = locimage3d(dstacked_semb_swin_wn,                     \n#                      cmap=cmap,\n#                      x0=isx, y0=isy, z0=isz,\n#                      secondcrossloc=hc_semb_swin_wn,\n#                      crosslegend=crosslegend,\n#                      xlim=xlim,ylim=ylim,zlim=zlim)\n# fig.suptitle(f\"Location with semblance-based diffraction stacking:\\nsliding window of {swsize} samples,\\ndata contaminated with white noise of SNR={snr_wn}\")\n# print('-------------------------------------------------------')\n# print('Event hypocenter from semblance-based diffraction stacking with sliding window of {:d} samples for data contaminated with white noise of SNR={:.1f}:\\n[{:.2f} m, {:.2f} m, {:.2f} m]'.format(swsize,snr_wn,*np.multiply(hc_semb_swin_wn,[dx, dy, dz])))\n# print('Location error:\\n[{:.2f} m, {:.2f} m, {:.2f} m]'.format(*get_location_misfit([isx, isy, isz], hc_semb_swin_wn, [dx, dy, dz])))\n\n# # Results of application to data contaminated with spiky noise:\n# fig,axs = locimage3d(dstacked_semb_swin_sn,                     \n#                      cmap=cmap,\n#                      x0=isx, y0=isy, z0=isz,\n#                      secondcrossloc=hc_semb_swin_sn,\n#                      crosslegend=crosslegend,\n#                      xlim=xlim,ylim=ylim,zlim=zlim)\n# fig.suptitle(f\"Location with semblance-based diffraction stacking:\\nsliding window of {swsize} samples,\\ndata contaminated with spiky noise of SNR={snr_sn}\")\n# print('-------------------------------------------------------')\n# print('Event hypocenter from semblance-based diffraction stacking with sliding window of {:d} samples for data contaminated with spiky noise of SNR={:.1f}:\\n[{:.2f} m, {:.2f} m, {:.2f} m]'.format(swsize,snr_sn,*np.multiply(hc_semb_swin_sn,[dx, dy, dz])))\n# print('Location error:\\n[{:.2f} m, {:.2f} m, {:.2f} m]'.format(*get_location_misfit([isx, isy, isz], hc_semb_swin_sn, [dx, dy, dz])))\n\n# # Results of application to data contaminated with ringy noise:\n# fig,axs = locimage3d(dstacked_semb_swin_rn,                     \n#                      cmap=cmap,\n#                      x0=isx, y0=isy, z0=isz,\n#                      secondcrossloc=hc_semb_swin_rn,\n#                      crosslegend=crosslegend,\n#                      xlim=xlim,ylim=ylim,zlim=zlim)\n# fig.suptitle(f\"Location with semblance-based diffraction stacking:\\nsliding window of {swsize} samples,\\ndata contaminated with ringy noise of SNR={snr_rn}\")\n# print('-------------------------------------------------------')\n# print('Event hypocenter from semblance-based diffraction stacking with sliding window of {:d} samples for data contaminated with ringy noise of SNR={:.1f}:\\n[{:.2f} m, {:.2f} m, {:.2f} m]'.format(swsize,snr_rn,*np.multiply(hc_semb_swin_rn,[dx, dy, dz])))\n# print('Location error:\\n[{:.2f} m, {:.2f} m, {:.2f} m]'.format(*get_location_misfit([isx, isy, isz], hc_semb_swin_rn, [dx, dy, dz])))"
      ]
    }
  ],
  "metadata": {
    "kernelspec": {
      "display_name": "Python 3",
      "language": "python",
      "name": "python3"
    },
    "language_info": {
      "codemirror_mode": {
        "name": "ipython",
        "version": 3
      },
      "file_extension": ".py",
      "mimetype": "text/x-python",
      "name": "python",
      "nbconvert_exporter": "python",
      "pygments_lexer": "ipython3",
      "version": "3.10.15"
    }
  },
  "nbformat": 4,
  "nbformat_minor": 0
}