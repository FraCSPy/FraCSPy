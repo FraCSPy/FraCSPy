{
  "cells": [
    {
      "cell_type": "markdown",
      "metadata": {},
      "source": [
        "\n# Seismic Wiggles Plotting \nThis example shows how to visualise seismic trace data as wiggles. It is useful when\nworking with data with a small number of traces. \n"
      ]
    },
    {
      "cell_type": "code",
      "execution_count": null,
      "metadata": {
        "collapsed": false
      },
      "outputs": [],
      "source": [
        "import matplotlib.pyplot as plt\nimport numpy as np\nimport os \nfrom fracspy.utils.sofiutils import read_seis\nfrom fracspy.visualisation.traceviz import wiggleplot, multiwiggleplot\n\n\nplt.close(\"all\")\nnp.random.seed(0)"
      ]
    },
    {
      "cell_type": "markdown",
      "metadata": {},
      "source": [
        "## Data Loading\nLoad data previously modelled using SOFI3D finite difference package\n\n"
      ]
    },
    {
      "cell_type": "code",
      "execution_count": null,
      "metadata": {
        "collapsed": false
      },
      "outputs": [],
      "source": [
        "# Directory containing input data\ninput_dir = '../data/pyfrac_SOFIModelling'\n\n# Load receiver geometry - required to know number of receivers\nrecs_xzy = np.loadtxt(os.path.join(input_dir,'inputs',\n                                   'griddedarray_xzy_20m.dat')).T\nnr = recs_xzy.shape[1]\n\n# Modelling parameters\ndt = 1e-3  # SOFI3D Time sampling rate\n\n# Load the 3 component seismic data\nexpname = 'explosive_Homogeneous_griddedarray'\nvz = read_seis(os.path.join(input_dir, 'outputs',\n                            'su', f'{expname}_vy.txt'),\n               nr=nr)\nvx = read_seis(os.path.join(input_dir, 'outputs',\n                            'su', f'{expname}_vx.txt'),\n               nr=nr)\nvy = read_seis(os.path.join(input_dir, 'outputs',\n                            'su', f'{expname}_vz.txt'),\n               nr=nr)"
      ]
    },
    {
      "cell_type": "markdown",
      "metadata": {},
      "source": [
        "## One-Component Wiggle Visualisation\nWhere there are a relatively small number of traces (<40), wiggle plots can be\nparticularly useful for identifying events. \nIn this example we use:\n\n"
      ]
    },
    {
      "cell_type": "code",
      "execution_count": null,
      "metadata": {
        "collapsed": false
      },
      "outputs": [],
      "source": [
        "fig, ax = wiggleplot(vz[:10], dt=dt)"
      ]
    },
    {
      "cell_type": "markdown",
      "metadata": {},
      "source": [
        "We can increase the number of traces, and the plot labels will adapt accordingly,\nto ensure the labels don't overlap. As we increase the number of traces, it can\nmake sense to also increase the vertical length of the figure (using the figsize\narguement). \n\n"
      ]
    },
    {
      "cell_type": "code",
      "execution_count": null,
      "metadata": {
        "collapsed": false
      },
      "outputs": [],
      "source": [
        "fig, ax = wiggleplot(vz[:40], \n                     dt=dt,\n                     figsize=[12,10]\n                     )"
      ]
    },
    {
      "cell_type": "markdown",
      "metadata": {},
      "source": [
        "## Multi-Component Wiggle Visualisation\nWhen working with 3 component data it can be very useful to overlay the different\ncomponents. In this scenario, the plots can get overloaded very quickly, so we \nwould advise sticking to a maximum of 10 traces. \n\n"
      ]
    },
    {
      "cell_type": "code",
      "execution_count": null,
      "metadata": {
        "collapsed": false
      },
      "outputs": [],
      "source": [
        "fig, ax = multiwiggleplot([vx[:10],vy[:10],vz[:10]], \n                          dt=dt,\n                          norm_indiv=False,\n                          figsize=[12,8]\n                          )"
      ]
    }
  ],
  "metadata": {
    "kernelspec": {
      "display_name": "Python 3",
      "language": "python",
      "name": "python3"
    },
    "language_info": {
      "codemirror_mode": {
        "name": "ipython",
        "version": 3
      },
      "file_extension": ".py",
      "mimetype": "text/x-python",
      "name": "python",
      "nbconvert_exporter": "python",
      "pygments_lexer": "ipython3",
      "version": "3.10.14"
    }
  },
  "nbformat": 4,
  "nbformat_minor": 0
}