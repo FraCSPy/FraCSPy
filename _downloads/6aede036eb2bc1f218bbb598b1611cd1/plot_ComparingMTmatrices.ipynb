{
  "cells": [
    {
      "cell_type": "markdown",
      "metadata": {},
      "source": [
        "\n# Comparing Moment Tensor Matrices\nIn this example, we will perform a quick and dirty amplitude-based inversion\nfor the moment tensor.\n\nAs this is a plotting example, we will tackle the problem as an inverse-crime.\nFor a more scientific example of how to perform amplitude-based moment-tensor\ninversion, look into the tutorial [XXX] which uses data generated via finite-\ndifference modelling.\n"
      ]
    },
    {
      "cell_type": "code",
      "execution_count": null,
      "metadata": {
        "collapsed": false
      },
      "outputs": [],
      "source": [
        "import matplotlib.pyplot as plt\nimport numpy as np\nfrom fracspy.visualisation.momenttensor_plots import MTMatrix_comparisonplot\n\n\nplt.close(\"all\")\nnp.random.seed(0)"
      ]
    },
    {
      "cell_type": "markdown",
      "metadata": {},
      "source": [
        "Let's begin by creating a certain MT - we consider this the True MT\n\n"
      ]
    },
    {
      "cell_type": "code",
      "execution_count": null,
      "metadata": {
        "collapsed": false
      },
      "outputs": [],
      "source": [
        "mt_xx = 0\nmt_yy = 0\nmt_zz = 0\nmt_xy = -1\nmt_xz = 0\nmt_yz = 0\nmt = [mt_xx, mt_yy, mt_zz, mt_xy, mt_xz, mt_yz]\nprint('MT for forward modelling: ', mt)"
      ]
    },
    {
      "cell_type": "markdown",
      "metadata": {},
      "source": [
        "Let's make a second MT which is a noisy version of our True MT - we can consider\nthis the Estimated MT\n\n"
      ]
    },
    {
      "cell_type": "code",
      "execution_count": null,
      "metadata": {
        "collapsed": false
      },
      "outputs": [],
      "source": [
        "mt_noise = 0.75 * (np.random.random(6)-0.5)\nmt_est = mt + mt_noise"
      ]
    },
    {
      "cell_type": "markdown",
      "metadata": {},
      "source": [
        "Now we are ready to plot the comparison between our known MT (mt) and our\nestimate MT (mt_est)\n\n"
      ]
    },
    {
      "cell_type": "code",
      "execution_count": null,
      "metadata": {
        "collapsed": false
      },
      "outputs": [],
      "source": [
        "MTMatrix_comparisonplot(mt, mt_est)\nplt.show()"
      ]
    }
  ],
  "metadata": {
    "kernelspec": {
      "display_name": "Python 3",
      "language": "python",
      "name": "python3"
    },
    "language_info": {
      "codemirror_mode": {
        "name": "ipython",
        "version": 3
      },
      "file_extension": ".py",
      "mimetype": "text/x-python",
      "name": "python",
      "nbconvert_exporter": "python",
      "pygments_lexer": "ipython3",
      "version": "3.10.14"
    }
  },
  "nbformat": 4,
  "nbformat_minor": 0
}