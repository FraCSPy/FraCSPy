{
  "cells": [
    {
      "cell_type": "markdown",
      "metadata": {},
      "source": [
        "\n# Diffraction Stacking Localisation With Moment Tensor Inversion\nThis tutorial illustrates how to perform source localisation using \ndiffraction stacking with moment tensor inversion. \n\nWe consider here a homogeneous subsurface model and \na point Double-Couple (DC) microseismic source.\nWe also consider only P-waves for simplicity here.\n\n## Traveltimes\nIn a homogeneous medium traveltimes are computed analytically as\n\n\\begin{align}t(\\mathbf{x_r},\\mathbf{x_s}) = \\frac{d(\\mathbf{x_r},\\mathbf{x_s})}{v}\\end{align}\n\nwhere $d(\\mathbf{x_r},\\mathbf{x_s})$ is the distance between a source \nat $\\mathbf{x_s}$ and a receiver at $\\mathbf{x_r}$, and \n$v$ is medium wave velocity (e.g. P-wave velocity $v_p$).\n\n## Waveforms\nThe input data waveforms are computed with the help of PyLops operator which\ninvolves finite-difference (FD) modelling.\n\nSee more:\nhttps://pylops.readthedocs.io\n\n## Diffraction stacking with moment tensor inversion\n\nBasics of the simple diffraction stacking are explained in\n`sphx_glr_tutorials_Location_DiffractionStacking_tutorial.py`.\n\n## References\nAnikiev, D. (2015). Joint detection, location and source mechanism \ndetermination of microseismic events (Doctoral dissertation). \nSt. Petersburg State University. St. Petersburg. \nhttps://disser.spbu.ru/files/phdspsu2015/Anikiev_PhD_web_final.pdf\n\nAnikiev, D., Valenta, J., Stan\u011bk, F. & Eisner, L. (2014). Joint location and \nsource mechanism inversion of microseismic events: Benchmarking on seismicity \ninduced by hydraulic fracturing. Geophysical Journal International, 198(1), \n249\u2013258. https://doi.org/10.1093/gji/ggu126\n\nNeidell, N. S., & Taner, M. T. (1971). SEMBLANCE AND OTHER COHERENCY MEASURES \nFOR MULTICHANNEL DATA. Geophysics, 36(3), 482\u2013497. \nhttps://doi.org/10.1190/1.1440186\n\nTrojanowski, J., & Eisner, L. (2016). Comparison of migration\u2010based location \nand detection methods for microseismic events. Geophysical Prospecting, 65(1), \n47\u201363. https://doi.org/10.1111/1365-2478.12366\n"
      ]
    },
    {
      "cell_type": "markdown",
      "metadata": {},
      "source": [
        "## Load all necessary packages\n\n"
      ]
    },
    {
      "cell_type": "code",
      "execution_count": null,
      "metadata": {
        "collapsed": false
      },
      "outputs": [],
      "source": [
        "import os\nimport fracspy\nimport numpy as np\nimport matplotlib.pyplot as plt\n\n# Import modelling utils\nfrom fracspy.modelling.kirchhoff import Kirchhoff\n\n# Import data utils\nfrom fracspy.utils.sofiutils import read_seis\n\n# Import location utils\nfrom fracspy.location import Location\nfrom fracspy.location.utils import *\nfrom fracspy.location.migration import *\n\n# Import visualisation utils\nfrom fracspy.visualisation.traceviz import traceimage\nfrom fracspy.visualisation.eventimages import locimage3d\n\n\n# Deal with warnings (for a cleaner code)\nimport warnings\nwarnings.filterwarnings(\"ignore\", category=FutureWarning)\nwarnings.filterwarnings(\"ignore\", category=UserWarning)\n\n# Track computation time\nfrom time import time"
      ]
    },
    {
      "cell_type": "markdown",
      "metadata": {},
      "source": [
        "##############################################################################\n Load model and seismic data\n ---------------------------\n For this example, we will use a toy example of a small homogenous model with a gridded surface receiver\n array, same as in `sphx_glr_tutorials_MT_AmplitudeINversion_tutorial.py`.\nThe data are modelled using the SOFI3D Finite Difference package.\n\n"
      ]
    },
    {
      "cell_type": "code",
      "execution_count": null,
      "metadata": {
        "collapsed": false
      },
      "outputs": [],
      "source": [
        "# Directory containing input data\ninput_dir = '../data/pyfrac_SOFIModelling'\n\n# Loading the model\nabs_bounds = 30\ndx = dy = dz = 5\nmnx, mny, mnz = 112, 128, 120\n\n# Load source parameters\nsource = np.loadtxt(os.path.join(input_dir,'inputs/centralsource.dat')).T\nf0 = source[4] # source frequency\n\n# Modelling parameters\ndt = 1e-3  # SOFI3D Time sampling rate\nt_shift = 360  # Time shift to reduce the time steps\ntdur = 250  # Recording duration\n\n# Load model\nmod_w_bounds = np.fromfile(os.path.join(input_dir,'inputs',\n                                        'models',\n                                        'Homogeneous_xyz.vp'),\n                           dtype='float32').reshape([mnx, mny, mnz])\n\n# Get velocity value considering that the model is homogeneous\nvp = float(mod_w_bounds[0][0][0])\n\n# Load receiver geometry\nrecs_xzy = np.loadtxt(os.path.join(input_dir,'inputs/griddedarray_xzy_20m.dat')).T\n#recs_xzy = np.loadtxt(os.path.join(input_dir,'inputs/walkaway8arms_xzy.dat')).T\nnr = recs_xzy.shape[1]\n\n# Load seismic data\nexpname = 'MT-90-90-180_Homogeneous_griddedarray'\n#expname = 'explosive_Homogeneous_griddedarray'\n# expname = 'MT-90-90-180_Homogeneous_walkaway8arms'\ndata_vz = read_seis(os.path.join(input_dir, 'outputs','su', f'{expname}_vy.txt'),\n                    nr=nr)\n\n# Define scaler and make data more friendly computation-wise\nefd_scaler = np.max(abs(data_vz)) \ndata_vz = data_vz[:, t_shift: t_shift + tdur] * efd_scaler\n\n# Remove absorbing boundaries from the model, source and receiver coordinates\nmod = mod_w_bounds[abs_bounds:-abs_bounds, abs_bounds:-abs_bounds, :-abs_bounds] # z has free surface\nnx, ny, nz = mod.shape\nx, y, z = np.arange(nx) * dx, np.arange(ny) * dy, np.arange(nz) * dz\nsx, sy, sz = source[0]-(abs_bounds*dx), source[2]-(abs_bounds*dy), source[1] \nrecs = np.array([recs_xzy[0]-(abs_bounds*dx), recs_xzy[2]-(abs_bounds*dy), recs_xzy[1]])\n# Get indices of source\nisx, isy, isz = int(sx/dx), int(sy/dy), int(sz/dz)"
      ]
    },
    {
      "cell_type": "markdown",
      "metadata": {},
      "source": [
        "## Plot input data\nLet's now double-check that the data has been loaded correctly. Observe the\nchanges in polarity across the  traces; this is the information that we utilise\nto determine the Moment Tensor.\n\n"
      ]
    },
    {
      "cell_type": "code",
      "execution_count": null,
      "metadata": {
        "collapsed": false
      },
      "outputs": [],
      "source": [
        "fig, ax = traceimage(data_vz, climQ=99.99, figsize=(10, 4))\nax.set_title('SOFI FD data - Vertical Component')\nplt.tight_layout()"
      ]
    },
    {
      "cell_type": "markdown",
      "metadata": {},
      "source": [
        "## Plot source location and receiver geometry\n\n"
      ]
    },
    {
      "cell_type": "code",
      "execution_count": null,
      "metadata": {
        "collapsed": false
      },
      "outputs": [],
      "source": [
        "fig, ax = plt.subplots(1, 1)\nfig.set_size_inches(8, 8)  # set size in inches\nax.set_aspect('equal')\nax.scatter(recs[0],recs[1])\nax.scatter(sx,sy, marker='*')\nax.set_title('Receiver Geometry: map view')\nax.legend(['Receivers', 'Source'],loc='upper right')\nax.set_xlabel('x')\nax.set_ylabel('y')"
      ]
    },
    {
      "cell_type": "markdown",
      "metadata": {},
      "source": [
        "##############################################################################\n Test basic functions\n ^^^^^^^^^^^^^^^^^^^^\n Here we test basic elements of diffraction stacking like moveout and polarity\n correction\n\n"
      ]
    },
    {
      "cell_type": "markdown",
      "metadata": {},
      "source": [
        "### Test moveout correction and plot corrected data\n\n"
      ]
    },
    {
      "cell_type": "code",
      "execution_count": null,
      "metadata": {
        "collapsed": false
      },
      "outputs": [],
      "source": [
        "# Compute traveltimes to receivers from the true location\ntt_true = 1 / vp * np.squeeze(dist2rec(recs,sx,sy,sz))\nitshifts_true = np.round((tt_true - tt_true.min(axis=0))/dt)\ndata_mc = moveout_correction(data=data_vz,\n                             itshifts=itshifts_true)\n\n# Plot data with corrected moveout\nfig, ax = traceimage(data_mc, climQ=99.99, figsize=(10, 4))\nax.set_title('Data with corrected event moveout')\nplt.tight_layout()\n\n# Restore moveout (use negative time index tshifts)\ndata_mr = moveout_correction(data=data_mc,\n                             itshifts=-itshifts_true)\n\n# Plot data with restored moveout\nfig, ax = traceimage(data_mr, climQ=99.99, figsize=(10, 4))\nax.set_title('Data with restored event moveout')\nplt.tight_layout()"
      ]
    },
    {
      "cell_type": "markdown",
      "metadata": {},
      "source": [
        "### Test polarity correction and plot corrected data\n\n"
      ]
    },
    {
      "cell_type": "code",
      "execution_count": null,
      "metadata": {
        "collapsed": false
      },
      "outputs": [],
      "source": [
        "# Compute compute vectorized Green tensor derivatives for the true location\nvgtd_true = vgtd(x=sx,y=sy,z=sz,recs=recs)\n# Compuite the GTG matrix\ngtg_inv_true = mgtdinv(g=vgtd_true)\n\ndata_pc = polarity_correction(data = data_mc,\n                              polcor_type = \"mti\",\n                              g = vgtd_true,\n                              gtg_inv = gtg_inv_true\n                              )\n\n# Plot data with corrected moveout and polarity\nfig, ax = traceimage(data_pc, climQ=99.99, figsize=(10, 4))\nax.set_title('Data with corrected event moveout and polarity')\nplt.tight_layout()\n\n# Restore moveout for polarity corrected data\ndata_pc_mr = moveout_correction(data=data_pc,\n                                itshifts=-itshifts_true)\n\n# Plot data with restored moveout\nfig, ax = traceimage(data_pc_mr, climQ=99.99, figsize=(10, 4))\nax.set_title('Data with restored event moveout and corrected polarity')\nplt.tight_layout()"
      ]
    },
    {
      "cell_type": "markdown",
      "metadata": {},
      "source": [
        "## Prepare for location\nSet up the location class and grid, compute traveltimes\n\n"
      ]
    },
    {
      "cell_type": "markdown",
      "metadata": {},
      "source": [
        "### Define location class using grid vectors\nWe can use the original velocity model grid for location,\nbut for the sake of having more representative image we shift the grid deeper\nMoreover, we reduce the grid step twice for efficiency\n\n"
      ]
    },
    {
      "cell_type": "code",
      "execution_count": null,
      "metadata": {
        "collapsed": false
      },
      "outputs": [],
      "source": [
        "gdx = dx*2\ngdy = dy*2\ngdz = dz*2\ngx = x[::2] # use every second grid node\ngy = y[::2]\ngz = np.arange(250, 560, gdz) # shift the grid to range 250m-550m\n\n\n\n# Set up the location class\n\nL = Location(gx, gy, gz)"
      ]
    },
    {
      "cell_type": "markdown",
      "metadata": {},
      "source": [
        "### Prepare traveltimes\n\n"
      ]
    },
    {
      "cell_type": "code",
      "execution_count": null,
      "metadata": {
        "collapsed": false
      },
      "outputs": [],
      "source": [
        "from fracspy.location.utils import dist2rec\ntt = 1 / vp*dist2rec(recs,gx,gy,gz)\nprint(f\"Traveltime array shape: {tt.shape}\")"
      ]
    },
    {
      "cell_type": "markdown",
      "metadata": {},
      "source": [
        "## Apply diffraction stacking without polarity correction\nHere we apply a diffraction stacking algorithm without \nany polarity correction, for reference\n\n"
      ]
    },
    {
      "cell_type": "markdown",
      "metadata": {},
      "source": [
        "### Perform squared-value diffraction stacking without polarity correction\n\n"
      ]
    },
    {
      "cell_type": "code",
      "execution_count": null,
      "metadata": {
        "collapsed": false
      },
      "outputs": [],
      "source": [
        "start_time = time()\nprint(\"Squared-value diffraction stacking without polarity correction...\")\ndstacked_sqd, hc_sqd = L.apply(data_vz,\n                                kind=\"diffstack\",\n                                tt=tt, dt=dt, nforhc=10,\n                                stack_type=\"squared\",\n                                output_type = \"mean\")\nend_time = time()\nprint(f\"Computation time: {end_time - start_time} seconds\")"
      ]
    },
    {
      "cell_type": "markdown",
      "metadata": {},
      "source": [
        "## Apply diffraction stacking witth polarity correction using MTI\nHere we apply various diffraction stacking algorithms with \npolarity correction using moment tensor inversion\n\n"
      ]
    },
    {
      "cell_type": "markdown",
      "metadata": {},
      "source": [
        "### Perform squared-value diffraction stacking with polarity correction with MTI\n\n"
      ]
    },
    {
      "cell_type": "code",
      "execution_count": null,
      "metadata": {
        "collapsed": false
      },
      "outputs": [],
      "source": [
        "start_time = time()\nprint(\"Squared-value diffraction stacking with polarity correction based on MTI...\")\ndstacked_sqd_mti, hc_sqd_mti = L.apply(data_vz,\n                                       kind=\"diffstack\",\n                                       tt=tt, dt=dt, nforhc=10,\n                                       stack_type=\"squared\",\n                                       output_type = \"mean\",\n                                       polcor_type=\"mti\",recs=recs)\nend_time = time()\nprint(f\"Computation time: {end_time - start_time} seconds\")"
      ]
    },
    {
      "cell_type": "markdown",
      "metadata": {},
      "source": [
        "### Perform semblance-based diffraction stacking with polarity correction with MTI\n\n"
      ]
    },
    {
      "cell_type": "code",
      "execution_count": null,
      "metadata": {
        "collapsed": false
      },
      "outputs": [],
      "source": [
        "# Define sliding window as two periods of the signal\nswsize = int(2/f0/dt)\nprint(f\"Sliding window size in samples: {swsize}\")\n\nstart_time = time()\nprint(\"Semblance-based diffraction stacking with polarity correction based on MTI...\")\ndstacked_sem_mti, hc_sem_mti = L.apply(data_vz,\n                                kind=\"diffstack\",\n                                tt=tt, dt=dt, nforhc=10,                                \n                                stack_type=\"semblance\", swsize = swsize,\n                                output_type = \"mean\",\n                                polcor_type=\"mti\",recs=recs)\nend_time = time()\nprint(f\"Computation time: {end_time - start_time} seconds\")"
      ]
    },
    {
      "cell_type": "markdown",
      "metadata": {},
      "source": [
        "## Visualisation of results\nHere we visualise the slices of the resulting image volumes.\nClearly, the result of application of stacking without polarity correction  \nshows an unfocused image, whereas for stacking with polarity correction the ]\nresulting images are focused in the correct location which fluctuates in \ndepth, reflecting the time-depth tradeoff.\nUncertainty in depth direction is much higher due to surface acquisition.\n\n"
      ]
    },
    {
      "cell_type": "markdown",
      "metadata": {},
      "source": [
        "### Plot resulting image volumes from squared-value diffraction stacking\n\n"
      ]
    },
    {
      "cell_type": "code",
      "execution_count": null,
      "metadata": {
        "collapsed": false
      },
      "outputs": [],
      "source": [
        "# Get the spatial limits for plotting\nxlim = (min(gx),max(gx))\nylim = (min(gy),max(gy))\nzlim = (min(gz),max(gz))\n\n# True source location in new index coordinates\n#true_index_location = int(isx/2), int(isy/2), int(isz/2)-25\n\ntrue_index_location = L.gridtoind([sx, sy, sz])\n\n# Define colormap\ncmap='cmc.bilbao_r'\n\n# Define legend\ncrosslegend=('Intersect plane (True location)','Determined location')\n\n# Print true location\nprint('True event hypocenter:\\n[{:.2f} m, {:.2f} m, {:.2f} m]'.format(*[sx, sy, sz]))\n\n# Results of application:\nfig,axs = locimage3d(dstacked_sqd, \n                     cmap=cmap,\n                     title='Location with squared-value diffraction stacking\\nwithout polarity correction:',\n                     x0=true_index_location[0],y0=true_index_location[1],z0=true_index_location[2],\n                     secondcrossloc=hc_sqd,\n                     crosslegend=crosslegend,\n                     xlim=xlim,ylim=ylim,zlim=zlim)\n\nprint('-------------------------------------------------------')\nprint('Event hypocenter from squared-value diffraction stacking without polarity correction:\\n[{:.2f} m, {:.2f} m, {:.2f} m]'.format(*L.indtogrid(hc_sqd)))\nprint('Location error:\\n[{:.2f} m, {:.2f} m, {:.2f} m]'.format(*get_location_misfit([sx, sy, sz], L.indtogrid(hc_sqd))))\n\nfig,axs = locimage3d(dstacked_sqd_mti, \n                     cmap=cmap,\n                     title='Location with squared-value diffraction stacking\\nwith polarity correction based on MTI:',\n                     x0=true_index_location[0],y0=true_index_location[1],z0=true_index_location[2],\n                     secondcrossloc=hc_sqd_mti,\n                     crosslegend=crosslegend,\n                     xlim=xlim,ylim=ylim,zlim=zlim)\n\nprint('-------------------------------------------------------')\nprint('Event hypocenter from squared-value diffraction stacking with polarity correction:\\n[{:.2f} m, {:.2f} m, {:.2f} m]'.format(*L.indtogrid(hc_sqd_mti)))\nprint('Location error:\\n[{:.2f} m, {:.2f} m, {:.2f} m]'.format(*get_location_misfit([sx, sy, sz], L.indtogrid(hc_sqd_mti))))\n\nfig,axs = locimage3d(dstacked_sem_mti, \n                     cmap=cmap,\n                     title='Location with semblance-based diffraction stacking\\nwith polarity correction based on MTI:',\n                     x0=true_index_location[0],y0=true_index_location[1],z0=true_index_location[2],\n                     secondcrossloc=hc_sem_mti,\n                     crosslegend=crosslegend,\n                     xlim=xlim,ylim=ylim,zlim=zlim)\n\nprint('-------------------------------------------------------')\nprint('Event hypocenter from semblance-based diffraction stacking with polarity correction:\\n[{:.2f} m, {:.2f} m, {:.2f} m]'.format(*L.indtogrid(hc_sem_mti)))\nprint('Location error:\\n[{:.2f} m, {:.2f} m, {:.2f} m]'.format(*get_location_misfit([sx, sy, sz], L.indtogrid(hc_sem_mti))))"
      ]
    }
  ],
  "metadata": {
    "kernelspec": {
      "display_name": "Python 3",
      "language": "python",
      "name": "python3"
    },
    "language_info": {
      "codemirror_mode": {
        "name": "ipython",
        "version": 3
      },
      "file_extension": ".py",
      "mimetype": "text/x-python",
      "name": "python",
      "nbconvert_exporter": "python",
      "pygments_lexer": "ipython3",
      "version": "3.10.14"
    }
  },
  "nbformat": 4,
  "nbformat_minor": 0
}