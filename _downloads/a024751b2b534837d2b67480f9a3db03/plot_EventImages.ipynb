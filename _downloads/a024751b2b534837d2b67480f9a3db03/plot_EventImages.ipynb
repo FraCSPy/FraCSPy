{
  "cells": [
    {
      "cell_type": "markdown",
      "metadata": {},
      "source": [
        "\n# Event Volume Plotting \nThis example shows how to visualise microseismic event characteristics, i.e., semblance or imaging functions\nas a volume.\n"
      ]
    },
    {
      "cell_type": "code",
      "execution_count": null,
      "metadata": {
        "collapsed": false
      },
      "outputs": [],
      "source": [
        "import numpy as np\nimport matplotlib.pyplot as plt\nfrom scipy.ndimage import gaussian_filter\nfrom fracspy.visualisation.eventimages import locimage3d\nfrom fracspy.location.utils import get_max_locs"
      ]
    },
    {
      "cell_type": "markdown",
      "metadata": {},
      "source": [
        "## Setting up model\n\n"
      ]
    },
    {
      "cell_type": "code",
      "execution_count": null,
      "metadata": {
        "collapsed": false
      },
      "outputs": [],
      "source": [
        "# Define subsurface\nnx, ny, nz = 60, 65, 75\ndx = dy = dz = 5\nx = np.arange(0,nx)*dx\ny = np.arange(0,ny)*dy\nz = np.arange(0,nz)*dz\n\nsource_location = 25, 30, 50  # x,y,z location"
      ]
    },
    {
      "cell_type": "markdown",
      "metadata": {},
      "source": [
        "## Simple Example\nIn this example we have a noisy background but the coherent energy, and \nthe image maxima correspond to our source location\n\n"
      ]
    },
    {
      "cell_type": "code",
      "execution_count": null,
      "metadata": {
        "collapsed": false
      },
      "outputs": [],
      "source": [
        "noise_inds = np.random.randint(0,nx*ny*nz,size=int(0.05*(nx*ny*nz)))\nnoise_flat = np.zeros([nx*ny*nz])\nnoise_flat[noise_inds] = np.random.rand(int(0.05*(nx*ny*nz)))\nbackground_noise = 2*gaussian_filter(noise_flat.reshape([nx,ny,nz]), \n                                   sigma=1, radius=2)\n\nmicroseismic_event = np.zeros_like(background_noise)\nmicroseismic_event[source_location] = 80\nmicroseismic_event = gaussian_filter(microseismic_event, sigma=2, radius=5)\nmicroseismic_image = microseismic_event + background_noise"
      ]
    },
    {
      "cell_type": "markdown",
      "metadata": {},
      "source": [
        "Perform plotting, here we are going to intersect the volume at the known \nsource location. We also provide the limits for the model space using \nthe xlim, ylim, and zlim parameters. \n\n"
      ]
    },
    {
      "cell_type": "code",
      "execution_count": null,
      "metadata": {
        "collapsed": false
      },
      "outputs": [],
      "source": [
        "fig, axs = locimage3d(microseismic_image,\n                      x0=int(np.round(source_location[0])),\n                      y0=int(np.round(source_location[1])),\n                      z0=int(np.round(source_location[2])),\n                      xlim=[x[0],x[-1]],\n                      ylim=[y[0],y[-1]],\n                      zlim=[z[0],z[-1]],\n                      clipval=[0,1])\nplt.tight_layout()"
      ]
    },
    {
      "cell_type": "markdown",
      "metadata": {},
      "source": [
        "## Noisy Example - Artifact present in image \n\n"
      ]
    },
    {
      "cell_type": "code",
      "execution_count": null,
      "metadata": {
        "collapsed": false
      },
      "outputs": [],
      "source": [
        "artifact_location_center = 22, 35, 25  # x,y,z location \nartifact_image = np.zeros_like(microseismic_image)\nartifact_image[artifact_location_center] = 200\nartifact_image = gaussian_filter(artifact_image, sigma=3, radius=4)\n\nmicroseismic_image_noisy = microseismic_image.copy() + artifact_image"
      ]
    },
    {
      "cell_type": "markdown",
      "metadata": {},
      "source": [
        "If we perform slicing at the location of the maxima of the image volume we\nwill now be slicing over the artifact location, as opposed to the true\nsource location\n\n"
      ]
    },
    {
      "cell_type": "code",
      "execution_count": null,
      "metadata": {
        "collapsed": false
      },
      "outputs": [],
      "source": [
        "max_loc, _ = get_max_locs(microseismic_image_noisy, n_max=5)\n\nfig, axs = locimage3d(microseismic_image_noisy,\n                      x0=int(np.round(max_loc[0])),\n                      y0=int(np.round(max_loc[1])),\n                      z0=int(np.round(max_loc[2])),\n                      xlim=[x[0],x[-1]],\n                      ylim=[y[0],y[-1]],\n                      zlim=[z[0],z[-1]],\n                      clipval=[0,1])\nplt.tight_layout()"
      ]
    },
    {
      "cell_type": "markdown",
      "metadata": {},
      "source": [
        "In this instance, it may be preferable to add an additional cross to the plot\nto highlight where we believe the source location is, in comparison to the \nmaxima for the image volume. \n\nNote, that the source location is not the location for the plane intersection\nthe second cross is merely a projection of the expected location, on top of\nthe intersection.\n\n"
      ]
    },
    {
      "cell_type": "code",
      "execution_count": null,
      "metadata": {
        "collapsed": false
      },
      "outputs": [],
      "source": [
        "fig, axs = locimage3d(microseismic_image_noisy,\n                      x0=int(np.round(max_loc[0])),\n                      y0=int(np.round(max_loc[1])),\n                      z0=int(np.round(max_loc[2])),\n                      xlim=[x[0],x[-1]],\n                      ylim=[y[0],y[-1]],\n                      zlim=[z[0],z[-1]],                      \n                      secondcrossloc=source_location,\n                      clipval=[0,1])\nplt.tight_layout()"
      ]
    }
  ],
  "metadata": {
    "kernelspec": {
      "display_name": "Python 3",
      "language": "python",
      "name": "python3"
    },
    "language_info": {
      "codemirror_mode": {
        "name": "ipython",
        "version": 3
      },
      "file_extension": ".py",
      "mimetype": "text/x-python",
      "name": "python",
      "nbconvert_exporter": "python",
      "pygments_lexer": "ipython3",
      "version": "3.10.15"
    }
  },
  "nbformat": 4,
  "nbformat_minor": 0
}