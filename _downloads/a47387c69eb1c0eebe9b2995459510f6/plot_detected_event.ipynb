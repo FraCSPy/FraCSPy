{
  "cells": [
    {
      "cell_type": "markdown",
      "metadata": {},
      "source": [
        "\n# Load and Plot Detected Events Across Stations\n\nThis script loads the results of associated detected seismic events saved in JSON format,\nretrieves the corresponding data for each detected station, and plots examples of 4-second \nsegments starting from the detected times.\n\n## Example Usage\nTo run this script, ensure that the output directory containing the associated detected \nevents JSON file is correctly specified and populated with the necessary data.\n"
      ]
    },
    {
      "cell_type": "code",
      "execution_count": null,
      "metadata": {
        "collapsed": false
      },
      "outputs": [],
      "source": [
        "import json\nimport os\nimport glob\nimport obspy\nimport matplotlib.pyplot as plt\nimport numpy as np\nimport random  # Import the random module for random selection\n# For tracking time\nfrom time import time\nfrom datetime import datetime\nfrom obspy import read\nfrom obspy.clients.fdsn import Client\nfrom fracspy.visualisation.Plotting_Detected_Events import *"
      ]
    },
    {
      "cell_type": "markdown",
      "metadata": {},
      "source": [
        "Read Event Data Paths                          \n---------------------------                                                    \n\n"
      ]
    },
    {
      "cell_type": "code",
      "execution_count": null,
      "metadata": {
        "collapsed": false
      },
      "outputs": [],
      "source": [
        "# Define client\nclient = Client(\"IRIS\")\n# Starting time of the event #1\nt1 = obspy.UTCDateTime(\"2016-11-22T01:51:27\") \n# Add more time for inventory grabbing\nt2 = t1 + 5 \nprint(f\"Time range: {t1} - {t2}\")\n\nstation_list = [str(stationID) for stationID in range(1120,1130)]\n\n# Get inventory\ninventory = client.get_stations(network=\"5B\", station=\"*\",\n                                starttime=t1,\n                                endtime=t2)\n# Get station codes\nstation_info = inventory.networks[0].stations\nstation_codes = []\nfor station in station_info:\n    station_codes.append(station.code)\n\ntr_data = []\nstart_time = time()\ni = 0\nfor st_code in station_codes:\n    if st_code in station_list:\n        st = client.get_waveforms(network=\"5B\", \n                                  station=st_code, \n                                  location=\"00\",\n                                  channel=\"DHZ\", \n                                  starttime=t1, \n                                  endtime=t2)\n        st = st.filter('bandpass', freqmin=1, freqmax=200, corners=4, zerophase=False)\n        tr_data.append(st[0].data)\nend_time = time()\nprint(f\"Done! Loading time: {end_time - start_time} seconds\")"
      ]
    },
    {
      "cell_type": "markdown",
      "metadata": {},
      "source": [
        "Plot Detected Events                                 \n---------------------------                                                    \nPlot the data segments.       \n\n"
      ]
    },
    {
      "cell_type": "code",
      "execution_count": null,
      "metadata": {
        "collapsed": false
      },
      "outputs": [],
      "source": [
        "num_stations_to_plot = 6\nplot_station_data(tr_data, station_list, num_stations_to_plot)"
      ]
    }
  ],
  "metadata": {
    "kernelspec": {
      "display_name": "Python 3",
      "language": "python",
      "name": "python3"
    },
    "language_info": {
      "codemirror_mode": {
        "name": "ipython",
        "version": 3
      },
      "file_extension": ".py",
      "mimetype": "text/x-python",
      "name": "python",
      "nbconvert_exporter": "python",
      "pygments_lexer": "ipython3",
      "version": "3.10.15"
    }
  },
  "nbformat": 4,
  "nbformat_minor": 0
}