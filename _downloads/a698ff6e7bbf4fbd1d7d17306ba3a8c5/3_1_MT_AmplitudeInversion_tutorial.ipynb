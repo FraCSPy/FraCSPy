{
  "cells": [
    {
      "cell_type": "markdown",
      "metadata": {},
      "source": [
        "\n# 3.1 Amplitude-based Moment Tensor Inversion\nThis tutorial illustrates how we can determine the moment tensor of a microseismic source based\non the amplitudes of the first P-wave arrival, assuming a known source location.\n\nStarting from the far-field particle velocity expression from a moment tensor source in a homogeneous full space\n(from eq. 4.29, Aki and Richards):\n\n\\begin{align}v_i^P = j \\omega_P \\left( \\frac{\\gamma_i\\gamma_p\\gamma_q}{4\\pi\\rho\\alpha^3}  \\frac{1}{r} \\right) M_{pq}\\end{align}\n\nwhere:\n\n- $v$ is the particle velocity measurements (seismic data) at the arrival of the wave, in other words\n  the P-wave peak amplitudes;\n\n- $M$ is the moment tensor;\n\n- $\\theta$ describes whether we are utilising the P-wave information;\n\n- $i$ describes the component of the data, aligning with the below p,q definitions;\n\n- $p$ describes the first index of the moment tensor element;\n\n- $q$ describes the second index of the moment tensor element;\n\n- $\\omega_P$ is the peak frequency of the given wave;\n\n- $\\gamma_{i/p/q}$ is the take-off angle in the i/p/q-th direction\n  (for a ray between the source and receiver);\n\n- $r$ is the distance between source and receiver;\n\n- $\\alpha$ is the average velocity (currently we assume a homogeneous velocity);\n\n- $\\rho$ is the average density;\n\nIf we consider to have access to the vertical particle velocity component of the data (defined here as $i=1$,\nthe above equation can be expanded out as\n\n\\begin{align}v_1^P = j \\omega_P (\\frac{\\gamma_1\\gamma_1\\gamma_1}{4\\pi\\rho\\alpha^3}  \\frac{1}{r} )M_{1,1} +\n    j \\omega_P ( \\frac{\\gamma_1\\gamma_2\\gamma_2}{4\\pi\\rho\\alpha^3}  \\frac{1}{r} )M_{2,2} +\n    j \\omega_P ( \\frac{\\gamma_1\\gamma_3\\gamma_3}{4\\pi\\rho\\alpha^3}  \\frac{1}{r} )M_{3,3} + \\\\\n    2*j \\omega_P ( \\frac{\\gamma_1\\gamma_1\\gamma_2}{4\\pi\\rho\\alpha^3}  \\frac{1}{r} )M_{1,2} +\n    2*j \\omega_P ( \\frac{\\gamma_1\\gamma_1\\gamma_3}{4\\pi\\rho\\alpha^3}  \\frac{1}{r} )M_{1,3} +\n    2*j \\omega_P ( \\frac{\\gamma_1\\gamma_2\\gamma_3}{4\\pi\\rho\\alpha^3}  \\frac{1}{r} )M_{2,3}\\end{align}\n\nHere, it is important to recall that the moment tensor matrix is symmetric and can therefore be represented\nwith only 6 elements. This results in the multiplication by two of the off-diagonal elements in the equation\nabove. For more information on the creation of the Greens equations, refer to the source code documentation\n[LINK TO HOMOMTI DOCS]\n\nAt this point, we can set up a linear problem of the form:\n\n\\begin{align}\\mathbf{v} = \\mathbf{G}\\mathbf{M}\\end{align}\n\nwhere $\\mathbf{v}$ contains the vertical particle velocity measurements at each receiver, $\\mathbf{M}$\ncontains the six parameters of the moment tensor fo the source, and $\\mathbf{G}$ is a dense matrix of\nsize $n_r \\times 6$ which contains the scalars linking the different components of the moment tensor to the\nmeasurements.\n\nOnce the problem is defined, the matrix $\\mathbf{G}$ can be explicitly inverted (or by means of an iterative solver)\nto obtain our best estimate of the moment tensor parameters.\n"
      ]
    },
    {
      "cell_type": "code",
      "execution_count": null,
      "metadata": {
        "collapsed": false
      },
      "outputs": [],
      "source": [
        "import os\nimport numpy as np\nimport matplotlib.pyplot as plt\n\nimport fracspy\n# sphinx_gallery_thumbnail_number = 3"
      ]
    },
    {
      "cell_type": "markdown",
      "metadata": {},
      "source": [
        "## Load model and seismic data\nFor this example, we will use a toy example of a small homogenous model with a gridded surface receiver\narray. The data are modelled using the SOFI3D Finite Difference package.\n\n"
      ]
    },
    {
      "cell_type": "code",
      "execution_count": null,
      "metadata": {
        "collapsed": false
      },
      "outputs": [],
      "source": [
        "# Directory containing input data\ninput_dir = '../data/pyfrac_SOFIModelling'\n\n# Loading the model\nabs_bounds = 30\ndx = dy = dz = 5\nnx = 112\nny = 128\nnz = 120\n\n# Modelling parameters\ndt = 1e-3  # SOFI3D Time sampling rate\nt_shift = 160  # Time shift required to align FD data to zero for Kirchhoff operators\ntdur = 500  # Recording duration\n\n# Load model\nmod_w_bounds = np.fromfile(os.path.join(input_dir,'inputs',\n                                        'models',\n                                        'Homogeneous_xyz.vp'),\n                           dtype='float32').reshape([nx, ny, nz])\n\n# Load receiver geometry\nrecs_xzy = np.loadtxt(os.path.join(input_dir,'inputs/griddedarray_xzy_20m.dat')).T\nnr = recs_xzy.shape[1]\n\n# Load seismic data\nexpname = 'MT-90-90-180_Homogeneous_griddedarray'\nvz = fracspy.utils.sofiutils.read_seis(\n    os.path.join(input_dir, 'outputs',\n                 'su', f'{expname}_vy.txt'),\n    nr=nr)\nvz = vz[:, t_shift: t_shift + tdur]\nefd_scaler = np.max(abs(vz))  # Scaler to make data more friendly\nvz /= efd_scaler\n\n# Remove absorbing boundaries from both the model and receiver coordinates\nmod = mod_w_bounds[abs_bounds:-abs_bounds, abs_bounds:-abs_bounds, :-abs_bounds] # z has free surface\nnx, ny, nz = mod.shape\nx, y, z = np.arange(nx) * dx, np.arange(ny) * dy, np.arange(nz) * dz\nrecs = np.array([recs_xzy[0]-(abs_bounds*dx), recs_xzy[2]-(abs_bounds*dx), recs_xzy[1]])"
      ]
    },
    {
      "cell_type": "markdown",
      "metadata": {},
      "source": [
        "Let's now double-check that the data has been loaded correctly. Observe the\nchanges in polarity across the  traces; this is the information that we utilise\nto determine the Moment Tensor.\n\n"
      ]
    },
    {
      "cell_type": "code",
      "execution_count": null,
      "metadata": {
        "collapsed": false
      },
      "outputs": [],
      "source": [
        "fig, ax = fracspy.visualisation.traceviz.traceimage(vz, climQ=99.99, figsize=(10, 4))\nax.set_title('SOFI FD data - Vertical Component')\nplt.tight_layout()"
      ]
    },
    {
      "cell_type": "markdown",
      "metadata": {},
      "source": [
        "## Create modelling operator\nWe start by defining the source frequency and location, which we assume to be\nknown ahead of time.\n\n"
      ]
    },
    {
      "cell_type": "code",
      "execution_count": null,
      "metadata": {
        "collapsed": false
      },
      "outputs": [],
      "source": [
        "omega_p = 30\nsx = nx // 2\nsy = ny // 2\nsz = 2 * nz // 3\nsloc_ind = [sx, sy, sz]"
      ]
    },
    {
      "cell_type": "markdown",
      "metadata": {},
      "source": [
        "We can now model the traveltimes from the source to each of the receivers\nand extract the amplitudes at the peak of the P-wave arrival in the data\n\n"
      ]
    },
    {
      "cell_type": "code",
      "execution_count": null,
      "metadata": {
        "collapsed": false
      },
      "outputs": [],
      "source": [
        "# Traveltime table\ntrav = fracspy.modelling.kirchhoff.Kirchhoff._traveltime_table(\n        z,\n        x,\n        y=y,\n        recs=recs,\n        vel=mod,\n        mode='eikonal')\ntrav = trav.reshape(nx, ny, nz, nr).transpose([3,0,1,2])\nsource_times = np.round(trav[:, sloc_ind[0],\n                        sloc_ind[1], sloc_ind[2]]\n                        / dt).astype(int)\n\n# Extract amplitudes at arrival times based on given source location\nvz_amps = np.ones(nr)\nfor i in range(nr):\n    vz_amps[i] = vz[i, source_times[i]]\n\nplt.figure(figsize=(10, 4))\nplt.imshow(vz[:, np.min(source_times)-50: 150+np.min(source_times)].T,\n           aspect='auto', cmap='RdBu',\n           extent=(0, nr, 150+np.min(source_times), np.min(source_times)-50))\nplt.scatter(range(nr), source_times, marker='o', facecolors='none', edgecolors='k', s=5)\nplt.tight_layout()"
      ]
    },
    {
      "cell_type": "markdown",
      "metadata": {},
      "source": [
        "## Moment Tensor Inversion\nWe finally solve our inverse problem to obtain an estimate of the moment tensor\n\n"
      ]
    },
    {
      "cell_type": "code",
      "execution_count": null,
      "metadata": {
        "collapsed": false
      },
      "outputs": [],
      "source": [
        "MT = fracspy.mtinversion.MTInversion(x, y, z, recs, mod)\nmt_est = MT.apply(vz_amps, sloc_ind, 2, omega_p, kind=\"ai\")\nmt_est /= np.max(abs(mt_est))\n\n# Comparison with known MT\nmt = np.array([0, 0, 0, 1, 0, 0])\nplt.scatter(range(6), mt, c='k', marker='s', label='True')\nplt.scatter(range(6), mt_est, c='r', marker='x', label='Estimated')\nplt.legend()\nplt.title('MT Amplitude Inversion')\nplt.tight_layout()"
      ]
    }
  ],
  "metadata": {
    "kernelspec": {
      "display_name": "Python 3",
      "language": "python",
      "name": "python3"
    },
    "language_info": {
      "codemirror_mode": {
        "name": "ipython",
        "version": 3
      },
      "file_extension": ".py",
      "mimetype": "text/x-python",
      "name": "python",
      "nbconvert_exporter": "python",
      "pygments_lexer": "ipython3",
      "version": "3.10.15"
    }
  },
  "nbformat": 4,
  "nbformat_minor": 0
}