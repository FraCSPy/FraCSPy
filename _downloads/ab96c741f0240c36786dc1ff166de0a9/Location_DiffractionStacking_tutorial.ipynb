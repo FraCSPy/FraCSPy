{
  "cells": [
    {
      "cell_type": "markdown",
      "metadata": {},
      "source": [
        "\n# Diffraction Stacking Localisation - Simple scenario\nThis tutorial illustrates how to perform source localisation using a diffraction stacking based on semblance.\n\nIn this tutorial we will consider a simple scenario where the subsurface is homogenous,\nand traveltimes are computed analytically as\n\n\\begin{align}t(\\mathbf{x_r},\\mathbf{x_s}) = \\frac{d(\\mathbf{x_r},\\mathbf{x_s})}{v}\\end{align}\n\nwhere $d(\\mathbf{x_r},\\mathbf{x_s})$ is the distance between the source and receiver, and $v$\nis velocity (e.g. P-wave velocity $v_p$).\n\nThe waveforms are computed using the FD modelling.\n"
      ]
    },
    {
      "cell_type": "markdown",
      "metadata": {},
      "source": [
        "## Load all necessary packages\n\n"
      ]
    },
    {
      "cell_type": "code",
      "execution_count": null,
      "metadata": {
        "collapsed": false
      },
      "outputs": [],
      "source": [
        "import numpy as np\nimport matplotlib.pyplot as plt\n\nfrom pylops.utils import dottest\nfrom pylops.utils.wavelets import ricker\n\n# Import modelling utils\nfrom fracspy.modelling.kirchhoff import Kirchhoff\n\n# Import diffraction stacking utils\nfrom fracspy.location.utils import dist2rec\nfrom fracspy.location.migration import semblancediffstack\n\n# Import visualization utils\nfrom fracspy.visualisation.traceviz import traceimage\nfrom fracspy.visualisation.eventimages import locimage3d"
      ]
    },
    {
      "cell_type": "markdown",
      "metadata": {},
      "source": [
        "## Setup\nVelocity Model\n\n"
      ]
    },
    {
      "cell_type": "code",
      "execution_count": null,
      "metadata": {
        "collapsed": false
      },
      "outputs": [],
      "source": [
        "nx, ny, nz = 50, 50, 50\ndx, dy, dz = 4, 4, 4\nx, y, z = np.arange(nx)*dx, np.arange(ny)*dy, np.arange(nz)*dz\n\nv0 = 1000 # initial velocity\nvel = np.ones([nx,ny,nz])*v0\n\nprint(vel.shape)\n\n# Receivers\ndr_xyz = 4*dx\n\ngrid_rx_locs = np.arange(dx, (dx*nx)-dx, dr_xyz)\ngrid_ry_locs = np.arange(dy, (dy*ny)-dy, dr_xyz)\n\nrx, ry, rz = np.meshgrid(grid_rx_locs,\n                         grid_ry_locs,\n                         dz) \nrecs = np.vstack((rx.flatten(), ry.flatten(), rz.flatten()))\nnr = recs.shape[1]\n\nprint(recs.shape)\n\n# Microseismic sources\nsx, sy, sz = [nx//4, ny//2, nz//2]\nmicroseismic = np.zeros((nx, ny, nz))\nmicroseismic[sx, sy, sz] = 1.\n\n# Plot geometry\nplt.figure(figsize=(8, 8))  # set size in inches\nfig = plt.gcf()\nax = fig.add_subplot(111)\nax.set_aspect('equal')\nplt.scatter(recs[0],recs[1])\nplt.scatter(sx*dx,sy*dy, marker='*')\nplt.title('Receiver Geometry: map view')\nplt.xlabel('x')\nplt.ylabel('y')"
      ]
    },
    {
      "cell_type": "markdown",
      "metadata": {},
      "source": [
        "## Generate synthetic data\n\n"
      ]
    },
    {
      "cell_type": "code",
      "execution_count": null,
      "metadata": {
        "collapsed": false
      },
      "outputs": [],
      "source": [
        "nt = 251\ndt = 0.004\nt = np.arange(nt) * dt\nwav, wavt, wavc = ricker(t[:41], f0=20)\n\nplt.figure()\nplt.plot(wav)\n\n# Initialize operator\nOp = Kirchhoff(z=z, \n               x=x, \n               y=y, \n               t=t, \n               recs=recs, \n               vel=vel, \n               wav=wav, \n               wavcenter=wavc, \n               mode='eikonal', \n               engine='numba')\n\n# check operator with dottest\n_ = dottest(Op, verb=True)\n\n# Forform forward modelling\nfrwddata_1d = Op @ microseismic.flatten().squeeze()\nfrwddata = frwddata_1d.reshape(nr,nt)\n\nfig, ax = traceimage(frwddata, climQ=99.99)\nax.set_title('Point Receivers')\nfig = ax.get_figure()\nfig.set_size_inches(10, 9.5)  # set size in inches"
      ]
    },
    {
      "cell_type": "markdown",
      "metadata": {},
      "source": [
        "## Diffraction stacking\n\n"
      ]
    },
    {
      "cell_type": "code",
      "execution_count": null,
      "metadata": {
        "collapsed": false
      },
      "outputs": [],
      "source": [
        "# Define search grid\ngx = x\ngy = y\ngz = z\n\n# Prepare traveltimes\ntt = 1 / v0*dist2rec(recs,gx,gy,gz)\nprint(tt.shape)\n\n# Reshape tt into ttg\nttg = tt.reshape(nr, -1)\nprint(ttg.shape)\n\n# Perform standard semblance-based diffraction stack\ndstacked, hc = semblancediffstack(data=frwddata, n_xyz=[len(gx),len(gy),len(gz)], tt=tt, dt=dt, nforhc=10)\n\n# Visualise image volume\nfig,axs = locimage3d(dstacked, x0=sx, y0=sy, z0=sz)"
      ]
    }
  ],
  "metadata": {
    "kernelspec": {
      "display_name": "Python 3",
      "language": "python",
      "name": "python3"
    },
    "language_info": {
      "codemirror_mode": {
        "name": "ipython",
        "version": 3
      },
      "file_extension": ".py",
      "mimetype": "text/x-python",
      "name": "python",
      "nbconvert_exporter": "python",
      "pygments_lexer": "ipython3",
      "version": "3.10.14"
    }
  },
  "nbformat": 4,
  "nbformat_minor": 0
}