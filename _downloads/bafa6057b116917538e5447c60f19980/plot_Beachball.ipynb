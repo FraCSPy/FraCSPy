{
  "cells": [
    {
      "cell_type": "markdown",
      "metadata": {},
      "source": [
        "\n# Moment Tensor Plotting - Matrix Style\nThis example shows how to create a heatmap of the moment tensor matrix\n"
      ]
    },
    {
      "cell_type": "code",
      "execution_count": null,
      "metadata": {
        "collapsed": false
      },
      "outputs": [],
      "source": [
        "import matplotlib.pyplot as plt\nimport numpy as np\nfrom pyfrac.visualisation.momenttensor_plots import MTBeachball\n\n\nplt.close(\"all\")\nnp.random.seed(0)"
      ]
    },
    {
      "cell_type": "markdown",
      "metadata": {},
      "source": [
        "Let's start by creating a moment tensor, as the moment tensor is a symmetric\nmatrix we only need to define 6 of the 9 components\n\n"
      ]
    },
    {
      "cell_type": "code",
      "execution_count": null,
      "metadata": {
        "collapsed": false
      },
      "outputs": [],
      "source": [
        "mt_xx = 0\nmt_yy = 0\nmt_zz = 0\nmt_xy = -1\nmt_xz = 0\nmt_yz = 0\nmt = [mt_xx, mt_yy, mt_zz, mt_xy, mt_xz, mt_yz]\nprint(mt)"
      ]
    },
    {
      "cell_type": "markdown",
      "metadata": {},
      "source": [
        "We are going to visualise the moment tensor in the common form of a beachball\ndefined by the microseismic event's focal mechanism. The plotting function\nhandles conversion of the six-component moment tensor to the focal mechanism\nform desired by the ObSpy python package. After which, the beachball is drawn\nand attached to the provided axis.\nHere we utilise the function:\npyfrac.visualisation.momenttensor_plots.MTBeachball\n\n"
      ]
    },
    {
      "cell_type": "code",
      "execution_count": null,
      "metadata": {
        "collapsed": false
      },
      "outputs": [],
      "source": [
        "fig, ax = plt.subplots(1,1,figsize=[4.8,4.8])\nMTBeachball(mt,ax)\nplt.show()"
      ]
    }
  ],
  "metadata": {
    "kernelspec": {
      "display_name": "Python 3",
      "language": "python",
      "name": "python3"
    },
    "language_info": {
      "codemirror_mode": {
        "name": "ipython",
        "version": 3
      },
      "file_extension": ".py",
      "mimetype": "text/x-python",
      "name": "python",
      "nbconvert_exporter": "python",
      "pygments_lexer": "ipython3",
      "version": "3.10.14"
    }
  },
  "nbformat": 4,
  "nbformat_minor": 0
}