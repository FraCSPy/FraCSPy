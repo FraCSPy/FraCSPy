{
  "cells": [
    {
      "cell_type": "markdown",
      "metadata": {},
      "source": [
        "\n# Seismic Data Plotting \nThis example shows how to visualise seismic trace data as an image, which is\nparticularly useful when handling a large number of traces.\n"
      ]
    },
    {
      "cell_type": "code",
      "execution_count": null,
      "metadata": {
        "collapsed": false
      },
      "outputs": [],
      "source": [
        "import matplotlib.pyplot as plt\nimport numpy as np\nimport os \nfrom fracspy.utils.sofiutils import read_seis\nfrom fracspy.visualisation.traceviz import traceimage\n\n\nplt.close(\"all\")\nnp.random.seed(0)"
      ]
    },
    {
      "cell_type": "markdown",
      "metadata": {},
      "source": [
        "## Data Loading\nLoad data previously modelled using SOFI3D finite difference package\n\n"
      ]
    },
    {
      "cell_type": "code",
      "execution_count": null,
      "metadata": {
        "collapsed": false
      },
      "outputs": [],
      "source": [
        "# Directory containing input data\ninput_dir = '../data/pyfrac_SOFIModelling'\n\n# Load receiver geometry - required to know number of receivers\nrecs_xzy = np.loadtxt(os.path.join(input_dir,'inputs',\n                                   'griddedarray_xzy_20m.dat')).T\nnr = recs_xzy.shape[1]\n\n# Modelling parameters\ndt = 1e-3  # SOFI3D Time sampling rate\n\n# Load seismic data\nexpname = 'explosive_Homogeneous_griddedarray'\nvz = read_seis(os.path.join(input_dir, 'outputs',\n                            'su', f'{expname}_vy.txt'),\n               nr=nr)"
      ]
    },
    {
      "cell_type": "markdown",
      "metadata": {},
      "source": [
        "## Traces as an Image Visualisation\nWhere there are a relatively small number of traces (<40), wiggle plots can be\nparticularly useful for identifying events. \n\n"
      ]
    },
    {
      "cell_type": "code",
      "execution_count": null,
      "metadata": {
        "collapsed": false
      },
      "outputs": [],
      "source": [
        "fig, ax = traceimage(vz, dt=dt, climQ=99.99, figsize=(10, 4))\nax.set_title('SOFI FD data - Vertical Component')\nplt.tight_layout()"
      ]
    }
  ],
  "metadata": {
    "kernelspec": {
      "display_name": "Python 3",
      "language": "python",
      "name": "python3"
    },
    "language_info": {
      "codemirror_mode": {
        "name": "ipython",
        "version": 3
      },
      "file_extension": ".py",
      "mimetype": "text/x-python",
      "name": "python",
      "nbconvert_exporter": "python",
      "pygments_lexer": "ipython3",
      "version": "3.10.15"
    }
  },
  "nbformat": 4,
  "nbformat_minor": 0
}