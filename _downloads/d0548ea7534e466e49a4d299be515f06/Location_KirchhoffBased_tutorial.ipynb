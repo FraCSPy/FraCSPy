{
  "cells": [
    {
      "cell_type": "markdown",
      "metadata": {},
      "source": [
        "\n# Kirchhoff-Based Localisation - Single component\nThis tutorial illustrates how to perform source localisation using a Kirchhoff-based\nmodelling operator.\n\nTo begin with, we express the process of creating a microseismic recording from a source (or a set of distributed\nsources) using the following integral relation:\n\n\\begin{align}d(\\mathbf{x_r}, t) =\n        w(t) * \\int\\limits_V G(\\mathbf{x_r}, \\mathbf{x}, t) m(\\mathbf{x})\\,\\mathrm{d}\\mathbf{x}\\end{align}\n\nwhere $m(\\mathbf{x})$ represents the source distribution at every location in the subsurface\n(and effectively parametrises the source strength), $G(\\mathbf{x_r}, \\mathbf{x}, t)$ is the subsurface-to-receiver\nGreen's function and finally  $w(t)$ is the source wavelet. In our implementation, the following high-frequency\napproximation of the Green's function is adopted:\n\n\\begin{align}G(\\mathbf{x_r}, \\mathbf{x}, \\omega) = a(\\mathbf{x_r}, \\mathbf{x})\n        e^{j \\omega t(\\mathbf{x_r}, \\mathbf{x})}\\end{align}\n\nwhere $t(\\mathbf{x_r}, \\mathbf{x})$ is the traveltime and $a(\\mathbf{x_r}, \\mathbf{x})$ is the amplitude.\nHowever, we currently discard the amplitude component.\n\nIn this tutorial we will consider a simple scenario where the subsurface is homogenous, as such we can compute an\nanalytical expression for the traveltime. Similarly, an eikonal solver can also be used in this scenario as well as in\nmore complex cases when we deal with heterogenous media.\n"
      ]
    },
    {
      "cell_type": "code",
      "execution_count": null,
      "metadata": {
        "collapsed": false
      },
      "outputs": [],
      "source": [
        "import os\nimport numpy as np\nimport matplotlib.pyplot as plt\n\nfrom pylops.utils import dottest\nfrom pylops.utils.wavelets import ricker\n\nimport fracspy\n\nfrom fracspy.visualisation.eventimages import locimage3d\nfrom fracspy.utils.sofiutils import read_seis"
      ]
    },
    {
      "cell_type": "markdown",
      "metadata": {},
      "source": [
        "## Load model and seismic data\nFor this example, we will use a toy homogenous model with a gridded surface\nreceiver array. The data are modelled using the\n[SOFI3D](https://gitlab.kit.edu/kit/gpi/ag/software/sofi3d)\nFinite Difference modelling software. The model is the same that we have used\nin the FD modelling to generate the data. As such, it contains additional\nboundaries, which we need to remove prior to performing localisation.\n\n"
      ]
    },
    {
      "cell_type": "code",
      "execution_count": null,
      "metadata": {
        "collapsed": false
      },
      "outputs": [],
      "source": [
        "# Directory containing input data\ninput_dir = '../data/pyfrac_SOFIModelling'\n\n# Model parameters\nabs_bounds = 30\ndx = dy = dz = 5\nnx = 112\nny = 128\nnz = 120\n\n# Modelling parameters\ndt = 1e-3  # SOFI3D Time sampling rate\nt_shift = 167  # Time shift required to align FD data to zero time for Kirchhoff operators\n\n# Load model\nmod_w_bounds = np.fromfile(os.path.join(input_dir,'inputs',\n                                        'models',\n                                        'Homogeneous_xyz.vp'),\n                           dtype='float32').reshape([nx, ny, nz])\n\n# Load receiver geometry\nrecs_xzy = np.loadtxt(os.path.join(input_dir,'inputs',\n                                   'griddedarray_xzy_20m.dat')).T\nnr = recs_xzy.shape[1]\n\n# Load seismic data\nexpname = 'explosive_Homogeneous_griddedarray'\nvz = read_seis(os.path.join(input_dir, 'outputs',\n                            'su', f'{expname}_vy.txt'),\n               nr=nr)\nvz = vz[:, t_shift:]  # Cut time axis to account for selected ignition time\nvz /= np.max(abs(vz))  # Normalise to get reasonable amplitudes\n\n# Remove absorbing boundaries from both the model and receiver coordinates\nmod = mod_w_bounds[abs_bounds:-abs_bounds, abs_bounds:-abs_bounds, :-abs_bounds] # z has free surface\nnx, ny, nz = mod.shape\nx, y, z = np.arange(nx) * dx, np.arange(ny) * dy, np.arange(nz) * dz\nrecs = np.array([recs_xzy[0]-(abs_bounds*dx), recs_xzy[2]-(abs_bounds*dx), recs_xzy[1]])"
      ]
    },
    {
      "cell_type": "markdown",
      "metadata": {},
      "source": [
        "Let's now double-check that the data has been loaded correctly.\n\n"
      ]
    },
    {
      "cell_type": "code",
      "execution_count": null,
      "metadata": {
        "collapsed": false
      },
      "outputs": [],
      "source": [
        "fig, ax = fracspy.visualisation.traceviz.traceimage(vz, climQ=99.99, figsize=(10, 4))\nax.set_title('SOFI FD data - Vertical Component')\nplt.tight_layout()"
      ]
    },
    {
      "cell_type": "markdown",
      "metadata": {},
      "source": [
        "## Create modelling operator\nFirst, we will define a Ricker wavelet with\npeak frequency of 20Hz. This is the same wavelet that we used in modelling;\nin real applications, this will need to be estimated from the data.\n\n"
      ]
    },
    {
      "cell_type": "code",
      "execution_count": null,
      "metadata": {
        "collapsed": false
      },
      "outputs": [],
      "source": [
        "nt = vz.shape[1]\nt = np.arange(nt) * dt\nwav, wavt, wavc = ricker(t[:81], f0=20)\n\nfig, ax = plt.subplots(figsize=(10, 2))\nax.plot(wavt, wav, 'k', lw=2)\nax.set_xlabel('t [s]')\nax.set_title('Wavelet')\nax.grid('on')\nplt.tight_layout()"
      ]
    },
    {
      "cell_type": "markdown",
      "metadata": {},
      "source": [
        "Second, we define our modelling operator; as part of the initialization process,\nan eikonal solver is used here to compute the traveltimes from each subsurface\npoint to each receiver.\n\n"
      ]
    },
    {
      "cell_type": "code",
      "execution_count": null,
      "metadata": {
        "collapsed": false
      },
      "outputs": [],
      "source": [
        "Op = fracspy.modelling.kirchhoff.Kirchhoff(\n        z=z,\n        x=x,\n        y=y,\n        t=t,\n        recs=recs,\n        vel=1000 * np.ones_like(mod),\n        wav=wav,\n        wavcenter=wavc,\n        mode='eikonal',\n        engine='numba')\n\n# Check operator with dottest\n_ = dottest(Op, verb=True)"
      ]
    },
    {
      "cell_type": "markdown",
      "metadata": {},
      "source": [
        "## ASIDE: Checking operator optimality\nHere we will just forward model the data to check that it looks similar to\nthe one computed via Finite-Difference. This is not strictly required if we\nare simply interested to apply the adjoint of our modelling operator\n(i.e., source localisation by imaging); however, it becomes important if we\nwant to invert the modelling operator (i.e., source localisation by inversion).\nFor such a simple subsurface model and synthetically generated data, we expect\nto have a good match even though our modelling operator is clearly ignoring\nsome physics (e.g., geometrical spreading).\n\nWhen working with field data, this preliminary step becomes even more important\nas one may want to look at the waveform to ensure that its kinematic and\nfrequency content is consistent with that of the observed data. As far as the\nkinematic part is concerned, this will be dependant on the velocity model as well as\nthe choice of the ignition time. [More commentary on ignition time can be found\nin the tutorial on rolling detection.]\n\n"
      ]
    },
    {
      "cell_type": "code",
      "execution_count": null,
      "metadata": {
        "collapsed": false
      },
      "outputs": [],
      "source": [
        "# Choose a microseismic source location as function of grid points\nsx = nx // 2\nsy = ny // 2\nsz = 2 * nz // 3\nprint(f'True source location [index]: {sx}-{sy}-{sz}')\n\nmicroseismic = np.zeros((nx, ny, nz))\nmicroseismic[sx, sy, sz] = 1.\n\n# Perform forward modelling\nfrwddata_1d = Op @ microseismic.flatten().squeeze()\nfrwddata  = frwddata_1d.reshape(nr,nt)"
      ]
    },
    {
      "cell_type": "markdown",
      "metadata": {},
      "source": [
        "Let's compare the data across the full array\n\n"
      ]
    },
    {
      "cell_type": "code",
      "execution_count": null,
      "metadata": {
        "collapsed": false
      },
      "outputs": [],
      "source": [
        "fig, axs = plt.subplots(1, 2, sharey=True, figsize=[15,5])\naxs[0].imshow(vz.T, aspect='auto', cmap='seismic', vmin=-1,vmax=1)\naxs[0].set_title('True (from FD)')\naxs[1].imshow(frwddata.T, aspect='auto', cmap='seismic', vmin=-1, vmax=1)\naxs[1].imshow(vz.T, aspect='auto', cmap='seismic', vmin=-1,vmax=1)\naxs[1].set_title('Modelled')\nplt.tight_layout()"
      ]
    },
    {
      "cell_type": "markdown",
      "metadata": {},
      "source": [
        "And at trace level\n\n"
      ]
    },
    {
      "cell_type": "code",
      "execution_count": null,
      "metadata": {
        "collapsed": false
      },
      "outputs": [],
      "source": [
        "plt.figure(figsize=[15, 3])\nplt.plot(-1 * vz[10, 250:], 'k', label='True (from FD)')\nplt.plot(frwddata[10, 250:], 'b', label='Modelled')\nplt.legend()\nplt.tight_layout()"
      ]
    },
    {
      "cell_type": "markdown",
      "metadata": {},
      "source": [
        "## Source localisation by imaging\nCreating an image of our microseismic source using the adjoint of the\nmodelling operator is a good first step to assess its ability to relocate\nthe energy of the event of interest to a certain subsurface location.\n\nIn our setup, the adjoint is fast to perform. Therefore, we recommend computing\nthe adjoint to gain an initial idea on possible source locations. However,\nthe source location is likely to be a smoothed product, as opposed\n# to the desired single location.\n\n"
      ]
    },
    {
      "cell_type": "code",
      "execution_count": null,
      "metadata": {
        "collapsed": false
      },
      "outputs": [],
      "source": [
        "L = fracspy.location.Location(x, y, z)\nmigrated, mig_hc = L.apply(vz, kind=\"kmigration\", Op=Op, nforhc=10)\n\nprint('True Hypo-Center:', [sx,sy,sz])\nprint('Migration Hypo-Centers:', mig_hc)\n\nfig, axs = locimage3d(migrated,\n                      x0=int(np.round(mig_hc[0])),\n                      y0=int(np.round(mig_hc[1])),\n                      z0=int(np.round(mig_hc[2])),\n                      p=100)\nplt.tight_layout()"
      ]
    },
    {
      "cell_type": "markdown",
      "metadata": {},
      "source": [
        "## Source localisation by inversion\nWe try now to fully invert the forward operator. Two approaches will be explored:\nfirst, we consider a standard least-squares solution, followed by a sparsity-promoting\ninversion with the FISTA solver. The former approach is likely to share some\nof the downsides of the adjoint solution unless inversion is carried out usig a very\nlarge number of iterations. However, since the modelling operator is not exact, it may\nbecome unstable as iterations progress. On the other hand, adding a sparsity constraints\ncan lead to a better resolved source location. Note, however, that in both cases error in\nthe velocity model cannot be compensated and will contribute to the blurring of the resulting\nsource image.\n\nLet's start with the least-squares solution\n\n"
      ]
    },
    {
      "cell_type": "code",
      "execution_count": null,
      "metadata": {
        "collapsed": false
      },
      "outputs": [],
      "source": [
        "inv, inv_hc = L.apply(vz, kind=\"lsi\", Op=Op,\n                      nforhc=10, verbose=False)\n\nprint('True Hypo-Center:', [sx,sy,sz])\nprint('LSQR Inversion Hypo-Centers:', inv_hc)\n\nfig,axs = locimage3d(inv,\n                     x0=int(np.round(inv_hc[0])),\n                     y0=int(np.round(inv_hc[1])),\n                     z0=int(np.round(inv_hc[2])),\n                     p=100)\nplt.tight_layout()"
      ]
    },
    {
      "cell_type": "markdown",
      "metadata": {},
      "source": [
        "We move on now to the sparsity-promoting solution\n\n"
      ]
    },
    {
      "cell_type": "code",
      "execution_count": null,
      "metadata": {
        "collapsed": false
      },
      "outputs": [],
      "source": [
        "fista, fista_hc = L.apply(frwddata, kind=\"sparselsi\", Op=Op,\n                          l1eps=1e1, nforhc=10, verbose=False)\n\nprint('True Hypo-Center:', [sx, sy, sz])\nprint('FISTA Inversion Hypo-Centers:', fista_hc)\n\nfig, axs = locimage3d(fista,\n                      x0=int(np.round(fista_hc[0])),\n                      y0=int(np.round(fista_hc[1])),\n                      z0=int(np.round(fista_hc[2])),\n                      p=100)\nplt.tight_layout()"
      ]
    }
  ],
  "metadata": {
    "kernelspec": {
      "display_name": "Python 3",
      "language": "python",
      "name": "python3"
    },
    "language_info": {
      "codemirror_mode": {
        "name": "ipython",
        "version": 3
      },
      "file_extension": ".py",
      "mimetype": "text/x-python",
      "name": "python",
      "nbconvert_exporter": "python",
      "pygments_lexer": "ipython3",
      "version": "3.10.15"
    }
  },
  "nbformat": 4,
  "nbformat_minor": 0
}