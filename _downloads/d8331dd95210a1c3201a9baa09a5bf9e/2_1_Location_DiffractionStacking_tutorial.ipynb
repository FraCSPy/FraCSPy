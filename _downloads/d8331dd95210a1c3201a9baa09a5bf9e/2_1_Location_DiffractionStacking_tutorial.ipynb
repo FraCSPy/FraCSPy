{
  "cells": [
    {
      "cell_type": "markdown",
      "metadata": {},
      "source": [
        "\n# 2.1 Diffraction Stacking: Localisation\nThis tutorial illustrates how to perform source localisation using diffraction stacking. \n\nWe consider here a simple scenario with a homogeneous subsurface model and a point microseismic source with a uniform radiation pattern (explosion-like).\nWe also consider only P-waves for simplicity here, and single-component receivers.\n\n## Traveltimes\nIn a homogeneous medium traveltimes are computed analytically as\n\n\\begin{align}t(\\mathbf{x_r},\\mathbf{x_s}) = \\frac{d(\\mathbf{x_r},\\mathbf{x_s})}{v}\\end{align}\n\nwhere $d(\\mathbf{x_r},\\mathbf{x_s})$ is the distance between a source at \n$\\mathbf{x_s}$ and a receiver at $\\mathbf{x_r}$, \nand $v$ is medium wave velocity (e.g. P-wave velocity $v_p$).\n\n## Waveforms\nThe input data waveforms are computed with the help of PyLops Kirchhoff operator which uses Kirchhoff integral relation with high-frequency Green's functions.\n\nSee more information here:\nhttps://pylops.readthedocs.io\n\n## Diffraction stacking\nThe subsurface volume is discretised and each grid node is considered to be a potential source position or a so-called image point.\nIn other words, each image point represents a possible diffraction point from which seismic energy radiates. \nThe term 'diffraction stacking' dates back to the works of Claerbout (1971, 1985) and Timoshin (1972). \nThe concept was initially related to seismic migration and imaging of reflectors as a set of diffraction points (in the context of the exploding reflector principle). \nHere, the diffraction stacking is related to imaging of real excitation sources.\n\nWaveforms from all traces are stacked along the calculated moveouts. \nIn other words, one should apply event moveout (EMO) correction (e.g., Trojanowski and Eisner, 2016) to microseismic data and stack the traces.\nAs the source origin time of a seismic event is unknown, in order to get the image function value $F(\\mathbf{r},t)$, the stacking must be performed for all possible origin times $t$:   \n    \n\\begin{align}F(\\mathbf{r},t) = \\left|\\sum_{R=1}^{N_R} A_R \n        \\left(t + T_R(\\mathbf{r})\\right)\\right|,\\end{align}\n\nwhere $\\mathbf{r}$ is a vector that defines a spatial position $(x, y, z)$ of the image point, \n$T_R(\\mathbf{r})$ is the P-wave traveltime from the image point $\\mathbf{r}$ to a receiver $R$,\n$N_R$ is a number of receivers, and $A_R$ is the observed waveform at the receiver $R$ (e.g., Anikiev, 2015).\n\nThe term \n\n\\begin{align}A_R^{EMO}(t,\\mathbf{r}) = A_R \\left(t + T_R(\\mathbf{r})\\right)\\end{align}\n\nrepresents the EMO-corrected data.\n\nAn absolute value of the stack of the EMO-corrected data is used in order to treat equally positive and negative phases of the stacked amplitudes \nand let the positive maximum of the resulting 4D image function  $\\mathbf{F}_0(\\mathbf{r},t)$ work as an indicator of a correct location \nand origin time of an event (Anikiev et al. 2014).\n\nAnother option would be to stack squared values:\n        \n\\begin{align}E(\\mathbf{r},t) = \\left(\\sum_{R=1}^{N_R} A_R^{EMO}(t,\\mathbf{r})\\right)^2,\\end{align}\nThis simple modification comes from an idea of summation of signal energy rather than the amplitudes (Landa et al. 2006).\n\nHowever, simple stacking of the absolute or squared values can be further improved, e.g., using a semblance-based approach. \nThe semblance is a coherency or similarity measure and can be understood as the ratio of the total energy (the square of sum of amplitudes) \nto the energy of individual traces (the sum of squares) (Neidell and Taner, 1971).\n\nFor the EMO-corrected data, for image point $\\mathbf{r}$ and a given time step $t$ the semblance-based image function $S(\\mathbf{r},t)$ can be calculated by:\n        \n\\begin{align}S(\\mathbf{r},t) = \\frac{\\left[\\sum_{R=1}^{N_R} A_R^{EMO}(t,\\mathbf{r})\\right]^2}\n        {N_R \\sum_{R=1}^{N_R} \\left[A_R^{EMO}(t,\\mathbf{r})\\right]^2}\\end{align}\n\nThe main advantage of the semblance-based imaging is its ability to identify and suppress high stack values that result from high noise on only a few receivers, \nwhich is a common problem for surface monitoring (Trojanowski and Eisner, 2016). \nThe semblance reaches its maximum value of 1 for identical signals on all traces and the minimum value of 0 for a zero sum of the samples. \nHigh stacks resulting from high noise on individual receivers have a low semblance value and in contrast to microseismic events \nthat have consistent amplitude arrivals across the array (provided that EMO correction is done with a suitable velocity model).\n\nIn order to suppress the effect of noise even better, it is possible to extend \nthe semblance-based approach by introducing a sliding time window $W$ over which the energy measures are summed:\n\n\\begin{align}S_W(\\mathbf{r},t,W) = \\frac{\\sum_{k=it-W}^{it+W}\\left[\\sum_{R=1}^{N_R} A_R^{EMO}(t,\\mathbf{r})\\right]^2}\n        {N_R \\sum_{k=it-W}^{it+W}\\sum_{R=1}^{N_R} \\left[A_R^{EMO}(t,\\mathbf{r})\\right]^2}\\end{align}\n\nwhere $k$ an index of the time-discretised signal within a sliding time interval \nconsisting of the $2W + 1$ samples, and $it$ is the index of time $t$ (Trojanowski and Eisner, 2016).\n\nFinally, location and origin times of events are determined as the values corresponding to the local maxima of the selected 4-D imaging function.\n\nAssuming that there is only one event in the given time window, its location can be estimated from a 3D volume of the spatial image function \nobtained by searching for a maximum of $F(\\mathbf{r},t)$ over the time for each spatial point $\\mathbf{r}$:\n\n\\begin{align}F_s(\\mathbf{r}) = F(\\mathbf{r},t_{max}(\\mathbf{r})),\\end{align}\n\nwhere $t_{max}$\n\n\\begin{align}t_{max}(\\mathbf{r}) = \\arg\\!\\max_{t} F(\\mathbf{r},t)\\end{align}\n\nAlternatively, and average value over time can be computed at each spatial point $\\mathbf{r}$.\n\nThe 4-D search is time consuming and if it is necessary to determine only the event location, \none can collapse the time dimension by summing the squared image function values over time, e.g.:\n\n\\begin{align}F_s(\\mathbf{r}) = \\sum_t F^2(\\mathbf{r},t).\\end{align}\n\nThis idea of summation of the squared image function values here also comes from the path-integral seismic imaging (Landa et al., 2006).\n\nIn the end, all the three methods will leave only the spatial dependence, and the estimated event location (hypocenter) $\\mathbf{r}_{est}$ will be\nassociated with the maximum of function $F_s(\\mathbf{r})$:\n\n\\begin{align}\\mathbf{r}_{est} = \\arg\\!\\max_{\\mathbf{r}} F_s(\\mathbf{r})\\end{align}\n\nAll the approaches listed above (the various imaging functions as well as the collapsing of the time dimension into a 3D volume) \nare implemented in :py:class:`fracspy.location.migration.diffstack`, and imaging functions with time dimension methods can be used in any combination. \nHowever, a combination of summation of the squared values over time with the semblance-based stacking will destroy the scaling of the semblance-based imaging function.\nTo keep the scaling from 0 to 1 while keeping the ability to cover the whole time range, it is advised to use the average over time instead.\n\nObviously, the absolute-value stacking combined with the summation of the squared values over time will give the same result (up to the scaling coefficient) \nas the squared-valued stacking combined with the average over time.\nAnd if the squared-valued stacking is combined with the summation of the squared values over time it will give a power of 4, which will, of course, provide a more focussed images in a synthetic case, \nbut in case of real data application can be harmful.\n\nNote also that the approach with the maximum value over time is the most universal, because it can provide a reasonable image function for the strongest event even if several events are interfering in one dataset.\nIn this tutorial we have only one microseismic event and we apply the average over time in all cases for comparability.\nIn case of the absolute-value stacking we additionally apply the maximum over time for comparison.\n\nNote that neither of the imaging approaches described here take into account the potential polarity changes of the signal.\nTherefore, seismograms generated by shear source mechanisms (with positive and negative P-wave and S-wave polarizations) \ncause these methods to fail to produce high stack values at the true origin time \nand location because of the destructive interference of the signal (e.g. Anikiev et al., 2014, Trojanowski and Eisner, 2016).\n\nWe discuss this issue and introduce diffraction stacking with polarity correction in `sphx_glr_tutorials_2_2_Location_DSMTI_tutorial.py`.\n\nThe described localisation methodology allows determination of the source location from the data\nwithout picking of arrivals on individual traces. The origin time $t_{est}$ of the located event can be determined from $t_{max}$ \nat the grid point associated with the estimated location $\\mathbf{r}_{est}$ and the corresponding traveltime:\n\n\\begin{align}\\mathbf{t}_{est} = t_{max}(\\mathbf{r}_{est}) - \\min_{R} T_R(\\mathbf{r}_{est}).\\end{align}\n\nHowever, the approach implies that the time window of the processed data contains records \nonly for a single microseismic event, otherwise multiple event signatures will superimpose and image function will become biased.\n\nWe discuss this issue as well as joint detection and localisation of multiple events using diffraction stacking \nin `sphx_glr_tutorials_1_2_Detection_DiffractionStacking_tutorial.py`.\n\n## References\nAnikiev, D. (2015). Joint detection, location and source mechanism \ndetermination of microseismic events (Doctoral dissertation). \nSt. Petersburg State University. St. Petersburg. \nhttps://disser.spbu.ru/files/phdspsu2015/Anikiev_PhD_web_final.pdf\n\nAnikiev, D., Valenta, J., Stan\u011bk, F. & Eisner, L. (2014). Joint location and \nsource mechanism inversion of microseismic events: Benchmarking on seismicity \ninduced by hydraulic fracturing. Geophysical Journal International, 198(1), \n249\u2013258. https://doi.org/10.1093/gji/ggu126\n\nClaerbout, J. F. (1971). Toward a unified theory of reflector mapping. \nGeophysics, 36(3), 467-481. https://doi.org/10.1190/1.1440185\n\nClaerbout, J. (1985). Imaging the earth's interior. Oxford, England: Blackwell \nScientific Publications. https://sepwww.stanford.edu/sep/prof/iei2/\n\nLanda, E., Fomel, S., & Moser, T. (2006). Path\u2010integral seismic imaging. \nGeophysical Prospecting, 54(5), 491\u2013503. https://doi.org/10.1111/j.1365-2478.2006.00552.x\n\nNeidell, N. S., & Taner, M. T. (1971). SEMBLANCE AND OTHER COHERENCY MEASURES \nFOR MULTICHANNEL DATA. Geophysics, 36(3), 482\u2013497. \nhttps://doi.org/10.1190/1.1440186\n\nTimoshin Yu. V. (1972). Fundamentals of diffraction conversion of seismic \nrecordings. Moscow: Nedra. [In Russian].\n\nTrojanowski, J., & Eisner, L. (2016). Comparison of migration\u2010based location \nand detection methods for microseismic events. Geophysical Prospecting, 65(1), \n47\u201363. https://doi.org/10.1111/1365-2478.12366\n"
      ]
    },
    {
      "cell_type": "markdown",
      "metadata": {},
      "source": [
        "## Load all necessary packages\n\n"
      ]
    },
    {
      "cell_type": "code",
      "execution_count": null,
      "metadata": {
        "collapsed": false
      },
      "outputs": [],
      "source": [
        "import numpy as np\nimport matplotlib.pyplot as plt\n\nfrom pylops.utils import dottest\nfrom pylops.utils.wavelets import ricker\n\n# Import modelling utils\nfrom fracspy.modelling.kirchhoff import Kirchhoff\nfrom fracspy.utils.synthutils import add_noise\n\n# Import location utils\nfrom fracspy.location import Location\nfrom fracspy.location.utils import *\n\n# Import visualisation utils\nfrom fracspy.visualisation.traceviz import traceimage\nfrom fracspy.visualisation.eventimages import locimage3d\n\n# Deal with warnings (for a cleaner code)\nimport warnings\nwarnings.filterwarnings(\"ignore\", category=FutureWarning)\nwarnings.filterwarnings(\"ignore\", category=UserWarning)\n\n# Track computation time\nfrom time import time"
      ]
    },
    {
      "cell_type": "markdown",
      "metadata": {},
      "source": [
        "## Setup\nHere we setup the parameters of the velocity model, geometry of receivers and \nmicroseismic source for forward modelling\n\n"
      ]
    },
    {
      "cell_type": "markdown",
      "metadata": {},
      "source": [
        "### Velocity Model\n\n"
      ]
    },
    {
      "cell_type": "code",
      "execution_count": null,
      "metadata": {
        "collapsed": false
      },
      "outputs": [],
      "source": [
        "nx, ny, nz = 50, 50, 50\ndx, dy, dz = 4, 4, 4\nx, y, z = np.arange(nx)*dx, np.arange(ny)*dy, np.arange(nz)*dz\n\nv0 = 1000 # initial velocity\nvel = np.ones([nx,ny,nz])*v0\n\nprint(f\"Velocity model shape: {vel.shape}\")"
      ]
    },
    {
      "cell_type": "markdown",
      "metadata": {},
      "source": [
        "### Receivers\n\n"
      ]
    },
    {
      "cell_type": "code",
      "execution_count": null,
      "metadata": {
        "collapsed": false
      },
      "outputs": [],
      "source": [
        "dr_xyz = 4*dx\n\ngrid_rx_locs = np.arange(dx, (dx*nx)-dx, dr_xyz)\ngrid_ry_locs = np.arange(dy, (dy*ny)-dy, dr_xyz)\n\nrx, ry, rz = np.meshgrid(grid_rx_locs,\n                          grid_ry_locs,\n                          dz) \nrecs = np.vstack((rx.flatten(), ry.flatten(), rz.flatten()))\nnr = recs.shape[1]\n\nprint(f\"Receiver array shape: {recs.shape}\")"
      ]
    },
    {
      "cell_type": "markdown",
      "metadata": {},
      "source": [
        "### Microseismic source\n\n"
      ]
    },
    {
      "cell_type": "code",
      "execution_count": null,
      "metadata": {
        "collapsed": false
      },
      "outputs": [],
      "source": [
        "isx, isy, isz = [nx//4, ny//2, nz//2]\nmicroseismic = np.zeros((nx, ny, nz))\nmicroseismic[isx, isy, isz] = 1.\nsx, sy, sz = isx*dx, isy*dy, isz*dz"
      ]
    },
    {
      "cell_type": "markdown",
      "metadata": {},
      "source": [
        "## Generate synthetic data\n\n\n"
      ]
    },
    {
      "cell_type": "code",
      "execution_count": null,
      "metadata": {
        "collapsed": false
      },
      "outputs": [],
      "source": [
        "start_time = time()\nprint(\"Generating synthetic data...\")\nnt = 81 # number of time steps\ndt = 0.004 # time step\nf0 = 20 # Central frequency\nt = np.arange(nt) * dt # time vector"
      ]
    },
    {
      "cell_type": "markdown",
      "metadata": {},
      "source": [
        "### Create signal wavelet\n\n"
      ]
    },
    {
      "cell_type": "code",
      "execution_count": null,
      "metadata": {
        "collapsed": false
      },
      "outputs": [],
      "source": [
        "wav, wavt, wavc = ricker(t[:41], f0=f0)"
      ]
    },
    {
      "cell_type": "markdown",
      "metadata": {},
      "source": [
        "### Initialise operator\n\n"
      ]
    },
    {
      "cell_type": "code",
      "execution_count": null,
      "metadata": {
        "collapsed": false
      },
      "outputs": [],
      "source": [
        "Op = Kirchhoff(z=z, \n                x=x, \n                y=y, \n                t=t, \n                recs=recs, \n                vel=vel, \n                wav=wav, \n                wavcenter=wavc, \n                mode='eikonal', \n                engine='numba')"
      ]
    },
    {
      "cell_type": "markdown",
      "metadata": {},
      "source": [
        "### Check operator with dottest\nThis test can help to detect errors in the operator implementation.\n\n"
      ]
    },
    {
      "cell_type": "code",
      "execution_count": null,
      "metadata": {
        "collapsed": false
      },
      "outputs": [],
      "source": [
        "_ = dottest(Op, verb=True)"
      ]
    },
    {
      "cell_type": "markdown",
      "metadata": {},
      "source": [
        "### Forward modelling\nApply operator to model data\n\n"
      ]
    },
    {
      "cell_type": "code",
      "execution_count": null,
      "metadata": {
        "collapsed": false
      },
      "outputs": [],
      "source": [
        "frwddata_1d = Op @ microseismic.flatten().squeeze()\nfrwddata = frwddata_1d.reshape(nr,nt)\n\n# Contaminate data with white noise\n# \"\"\"\"\"\"\"\"\"\"\"\"\"\"\"\"\"\"\"\"\"\"\"\"\"\"\"\"\"\"\"\"\"\n\n# Fix the seed for reproducibility\nseed=1\n\n# Fix SNR levels\nsnr_wn=1\nsnr_sn=1/10\nsnr_rn=1/5\n\n# Fix traces for ringy noise\ntrind_rn = np.arange(1,nr,11)\n\n# Add white noise of defined SNR\nfrwddata_wn = add_noise(frwddata,noise_type=\"white\",snr=snr_wn,seed=seed)\n\n# Contaminate data with spiky noise\n# \"\"\"\"\"\"\"\"\"\"\"\"\"\"\"\"\"\"\"\"\"\"\"\"\"\"\"\"\"\"\"\"\"\n\n# Add noise spikes with twice as bigger SNR\nfrwddata_sn = add_noise(frwddata,noise_type=\"spiky\",snr=snr_sn,seed=seed)\n\n# Contaminate data with ringy noise\n# \"\"\"\"\"\"\"\"\"\"\"\"\"\"\"\"\"\"\"\"\"\"\"\"\"\"\"\"\"\"\"\"\"\n\n# Add ringy noise on some traces\nfrwddata_rn = add_noise(frwddata,noise_type=\"ringy\",snr=snr_rn,\n                        trind=trind_rn,seed=seed)\n\n# Show consumed time\nend_time = time()\nprint(f\"Computation time: {end_time - start_time} seconds\")"
      ]
    },
    {
      "cell_type": "markdown",
      "metadata": {},
      "source": [
        "## Plot input data\n\n"
      ]
    },
    {
      "cell_type": "code",
      "execution_count": null,
      "metadata": {
        "collapsed": false
      },
      "outputs": [],
      "source": [
        "# Plot modelled data\n# \"\"\"\"\"\"\"\"\"\"\"\"\"\"\"\"\"\"\n\nfig, ax = traceimage(frwddata, climQ=99.99)\nax.set_title('Noise-free modelled data')\nfig = ax.get_figure()\nfig.set_size_inches(10, 3)  # set size in inches"
      ]
    },
    {
      "cell_type": "markdown",
      "metadata": {},
      "source": [
        "### Plot modelled data contaminated with white noise\n\n"
      ]
    },
    {
      "cell_type": "code",
      "execution_count": null,
      "metadata": {
        "collapsed": false
      },
      "outputs": [],
      "source": [
        "fig, ax = traceimage(frwddata_wn, climQ=99.99)\nax.set_title(f\"Modelled data contaminated with white noise of SNR={snr_wn}\")\nfig = ax.get_figure()\nfig.set_size_inches(10, 3)  # set size in inches"
      ]
    },
    {
      "cell_type": "markdown",
      "metadata": {},
      "source": [
        "### Plot modelled data contaminated with spiky noise\n\n"
      ]
    },
    {
      "cell_type": "code",
      "execution_count": null,
      "metadata": {
        "collapsed": false
      },
      "outputs": [],
      "source": [
        "fig, ax = traceimage(frwddata_sn, climQ=99.99)\nax.set_title(f\"Modelled data contaminated with spiky noise of SNR={snr_sn}\")\nfig = ax.get_figure()\nfig.set_size_inches(10, 3)  # set size in inches"
      ]
    },
    {
      "cell_type": "markdown",
      "metadata": {},
      "source": [
        "### Plot modelled data contaminated with ringy noise\n\n"
      ]
    },
    {
      "cell_type": "code",
      "execution_count": null,
      "metadata": {
        "collapsed": false
      },
      "outputs": [],
      "source": [
        "fig, ax = traceimage(frwddata_rn, climQ=99.99)\nax.set_title(f\"Modelled data contaminated with ringy noise of SNR={snr_rn}\")\nfig = ax.get_figure()\nfig.set_size_inches(10, 3)  # set size in inches"
      ]
    },
    {
      "cell_type": "markdown",
      "metadata": {},
      "source": [
        "### Plot receiver geometry\n\n"
      ]
    },
    {
      "cell_type": "code",
      "execution_count": null,
      "metadata": {
        "collapsed": false
      },
      "outputs": [],
      "source": [
        "fig, ax = plt.subplots(1, 1)\nfig.set_size_inches(8, 8)  # set size in inches\nax.set_aspect('equal')\nax.scatter(recs[0],recs[1])\nax.scatter(sx,sy, marker='*')\nax.set_title('Receiver Geometry: map view')\nax.legend(['Receivers', 'Source'],loc='upper right')\nax.set_xlabel('x')\nax.set_ylabel('y')"
      ]
    },
    {
      "cell_type": "markdown",
      "metadata": {},
      "source": [
        "## Prepare for location\n\n"
      ]
    },
    {
      "cell_type": "markdown",
      "metadata": {},
      "source": [
        "### Define location class using grid vectors\nUse the original velocity model grid for location (the grid can be different)\n\n"
      ]
    },
    {
      "cell_type": "code",
      "execution_count": null,
      "metadata": {
        "collapsed": false
      },
      "outputs": [],
      "source": [
        "gx = x\ngy = y\ngz = z\n\n# Set up the location class\n\nL = Location(gx, gy, gz)"
      ]
    },
    {
      "cell_type": "markdown",
      "metadata": {},
      "source": [
        "### Prepare traveltimes\n\n"
      ]
    },
    {
      "cell_type": "code",
      "execution_count": null,
      "metadata": {
        "collapsed": false
      },
      "outputs": [],
      "source": [
        "tt = 1 / v0*dist2rec(recs,gx,gy,gz)\nprint(f\"Traveltime array shape: {tt.shape}\")"
      ]
    },
    {
      "cell_type": "markdown",
      "metadata": {},
      "source": [
        "## Apply diffraction stacking to clean data\nHere we apply various diffraction stacking algorithms to clean noise-free \ndata, get the image volume and determine location from the maximum of this \nvolume.\n\n"
      ]
    },
    {
      "cell_type": "markdown",
      "metadata": {},
      "source": [
        "### Perform absolute-value diffraction stacking\n\n"
      ]
    },
    {
      "cell_type": "code",
      "execution_count": null,
      "metadata": {
        "collapsed": false
      },
      "outputs": [],
      "source": [
        "start_time = time()\nprint(\"Absolute-value diffraction stacking...\")\ndstacked_abs, hc_abs = L.apply(frwddata, \n                      kind=\"diffstack\",\n                      x=gx, y=gy, z=gz,\n                      tt=tt, dt=dt, nforhc=10,\n                      stack_type=\"absolute\",\n                      output_type=\"mean\")\nend_time = time()\nprint(f\"Computation time: {end_time - start_time} seconds\")"
      ]
    },
    {
      "cell_type": "markdown",
      "metadata": {},
      "source": [
        "### Perform squared-value diffraction stacking\n\n"
      ]
    },
    {
      "cell_type": "code",
      "execution_count": null,
      "metadata": {
        "collapsed": false
      },
      "outputs": [],
      "source": [
        "start_time = time()\nprint(\"Squared-value diffraction stacking...\")\ndstacked_sqd, hc_sqd = L.apply(frwddata, \n                      kind=\"diffstack\",\n                      x=gx, y=gy, z=gz,\n                      tt=tt, dt=dt, nforhc=10,\n                      stack_type=\"squared\",\n                      output_type=\"mean\")\nend_time = time()\nprint(f\"Computation time: {end_time - start_time} seconds\")"
      ]
    },
    {
      "cell_type": "markdown",
      "metadata": {},
      "source": [
        "### Perform semblance-based diffraction stacking without sliding time window\n\n"
      ]
    },
    {
      "cell_type": "code",
      "execution_count": null,
      "metadata": {
        "collapsed": false
      },
      "outputs": [],
      "source": [
        "start_time = time()\nprint(\"Semblance-based diffraction stacking...\")\n# Run the stacking using Location class\ndstacked_semb, hc_semb = L.apply(frwddata, \n                      kind=\"diffstack\",\n                      x=gx, y=gy, z=gz,\n                      tt=tt, dt=dt, nforhc=10,\n                      stack_type=\"semblance\",\n                      output_type=\"mean\")\nend_time = time()\nprint(f\"Computation time: {end_time - start_time} seconds\")"
      ]
    },
    {
      "cell_type": "markdown",
      "metadata": {},
      "source": [
        "### Perform semblance-based diffraction stacking with sliding time window\n\n"
      ]
    },
    {
      "cell_type": "code",
      "execution_count": null,
      "metadata": {
        "collapsed": false
      },
      "outputs": [],
      "source": [
        "# Define sliding window as two periods of the signal\nswsize = int(2/f0/dt)\nprint(f\"Sliding window size in samples: {swsize}\")\n\nstart_time = time()\nprint(\"Semblance-based diffraction stacking...\")\n# Run the stacking using Location class\ndstacked_semb_swin, hc_semb_swin = L.apply(frwddata, \n                      kind=\"diffstack\",\n                      x=gx, y=gy, z=gz,\n                      tt=tt, dt=dt, nforhc=10,\n                      stack_type=\"semblance\", swsize=swsize,\n                      output_type=\"mean\")\nend_time = time()\nprint(f\"Computation time: {end_time - start_time} seconds\")"
      ]
    },
    {
      "cell_type": "markdown",
      "metadata": {},
      "source": [
        "## Apply diffraction stacking to noise-contaminated data\nHere we apply diffraction stacking algorithms to data contaminated \nwith noise.\n\n"
      ]
    },
    {
      "cell_type": "markdown",
      "metadata": {},
      "source": [
        "### Perform absolute-value diffraction stacking\n\n"
      ]
    },
    {
      "cell_type": "code",
      "execution_count": null,
      "metadata": {
        "collapsed": false
      },
      "outputs": [],
      "source": [
        "start_time = time()\nprint(\"Absolute-value diffraction stacking...\")\ndstacked_abs_wn, hc_abs_wn = L.apply(frwddata_wn, \n                            kind=\"diffstack\",\n                            x=gx, y=gy, z=gz,\n                            tt=tt, dt=dt, nforhc=10,\n                            stack_type=\"absolute\",\n                            output_type=\"mean\")\ndstacked_abs_sn, hc_abs_sn = L.apply(frwddata_sn, \n                            kind=\"diffstack\",\n                            x=gx, y=gy, z=gz,\n                            tt=tt, dt=dt, nforhc=10,\n                            stack_type=\"absolute\",\n                            output_type=\"mean\")\ndstacked_abs_rn, hc_abs_rn = L.apply(frwddata_rn, \n                            kind=\"diffstack\",\n                            x=gx, y=gy, z=gz,\n                            tt=tt, dt=dt, nforhc=10,\n                            stack_type=\"absolute\",\n                            output_type=\"mean\")\nend_time = time()\nprint(f\"Computation time: {end_time - start_time} seconds\")"
      ]
    },
    {
      "cell_type": "markdown",
      "metadata": {},
      "source": [
        "### Perform absolute-value diffraction stacking with maximum over time\n\n"
      ]
    },
    {
      "cell_type": "code",
      "execution_count": null,
      "metadata": {
        "collapsed": false
      },
      "outputs": [],
      "source": [
        "start_time = time()\nprint(\"Absolute-value diffraction stacking...\")\ndstacked_abs_max_wn, hc_abs_max_wn = L.apply(frwddata_wn, \n                            kind=\"diffstack\",\n                            x=gx, y=gy, z=gz,\n                            tt=tt, dt=dt, nforhc=10,\n                            stack_type=\"absolute\",\n                            output_type=\"max\")\ndstacked_abs_max_sn, hc_abs_max_sn = L.apply(frwddata_sn, \n                            kind=\"diffstack\",\n                            x=gx, y=gy, z=gz,\n                            tt=tt, dt=dt, nforhc=10,\n                            stack_type=\"absolute\",\n                            output_type=\"max\")\ndstacked_abs_max_rn, hc_abs_max_rn = L.apply(frwddata_rn, \n                            kind=\"diffstack\",\n                            x=gx, y=gy, z=gz,\n                            tt=tt, dt=dt, nforhc=10,\n                            stack_type=\"absolute\",\n                            output_type=\"max\")\nend_time = time()\nprint(f\"Computation time: {end_time - start_time} seconds\")"
      ]
    },
    {
      "cell_type": "markdown",
      "metadata": {},
      "source": [
        "### Perform squared-value diffraction stacking\n\n"
      ]
    },
    {
      "cell_type": "code",
      "execution_count": null,
      "metadata": {
        "collapsed": false
      },
      "outputs": [],
      "source": [
        "start_time = time()\nprint(\"Squared-value diffraction stacking...\")\ndstacked_sqd_wn, hc_sqd_wn = L.apply(frwddata_wn, \n                            kind=\"diffstack\",\n                            x=gx, y=gy, z=gz,\n                            tt=tt, dt=dt, nforhc=10,\n                            stack_type=\"squared\",\n                            output_type=\"mean\")\ndstacked_sqd_sn, hc_sqd_sn = L.apply(frwddata_sn, \n                            kind=\"diffstack\",\n                            x=gx, y=gy, z=gz,\n                            tt=tt, dt=dt, nforhc=10,\n                            stack_type=\"squared\",\n                            output_type=\"mean\")\ndstacked_sqd_rn, hc_sqd_rn = L.apply(frwddata_rn, \n                            kind=\"diffstack\",\n                            x=gx, y=gy, z=gz,\n                            tt=tt, dt=dt, nforhc=10,\n                            stack_type=\"squared\",\n                            output_type=\"mean\")\nend_time = time()\nprint(f\"Computation time: {end_time - start_time} seconds\")"
      ]
    },
    {
      "cell_type": "markdown",
      "metadata": {},
      "source": [
        "### Perform semblance-based diffraction stacking with sliding time window\n\n"
      ]
    },
    {
      "cell_type": "code",
      "execution_count": null,
      "metadata": {
        "collapsed": false
      },
      "outputs": [],
      "source": [
        "# Define sliding window as two periods of the signal\nprint(f\"Sliding window size in samples: {swsize}\")\nstart_time = time()\nprint(\"Semblance-based diffraction stacking...\")\ndstacked_semb_swin_wn, hc_semb_swin_wn = L.apply(frwddata_wn, \n                                        kind=\"diffstack\",\n                                        x=gx, y=gy, z=gz,\n                                        tt=tt, dt=dt, nforhc=10,\n                                        stack_type=\"semblance\", swsize=swsize,\n                                        output_type=\"mean\")\ndstacked_semb_swin_sn, hc_semb_swin_sn = L.apply(frwddata_sn, \n                                        kind=\"diffstack\",\n                                        x=gx, y=gy, z=gz,\n                                        tt=tt, dt=dt, nforhc=10,\n                                        stack_type=\"semblance\", swsize=swsize,\n                                        output_type=\"mean\")\ndstacked_semb_swin_rn, hc_semb_swin_rn = L.apply(frwddata_rn, \n                                        kind=\"diffstack\",\n                                        x=gx, y=gy, z=gz,\n                                        tt=tt, dt=dt, nforhc=10,\n                                        stack_type=\"semblance\", swsize=swsize,\n                                        output_type=\"mean\")\nend_time = time()\nprint(f\"Computation time: {end_time - start_time} seconds\")"
      ]
    },
    {
      "cell_type": "markdown",
      "metadata": {},
      "source": [
        "## Visualisation of results\nHere we visualise the slices of the resulting image volume\n\n"
      ]
    },
    {
      "cell_type": "markdown",
      "metadata": {},
      "source": [
        "### Plot resulting image volumes from absolute-value diffraction stacking\nThe form and inclination of the location spot reflect the \nreceiver geometry, whereas focusing is related to the selected imaging \ncondition (absolute value).\nYou can see how noise of different kind affects the result.\nYou can also see how changing the output can influence the result.\n\n"
      ]
    },
    {
      "cell_type": "code",
      "execution_count": null,
      "metadata": {
        "collapsed": false
      },
      "outputs": [],
      "source": [
        "# Get the spatial limits for plotting\nxlim = (min(gx),max(gx))\nylim = (min(gy),max(gy))\nzlim = (min(gz),max(gz))\n\n# Define colormap\ncmap='cmc.bilbao_r'\n\n# Define legend\ncrosslegend=('Intersect plane (True location)','Determined location')\n\n\n# Print true location\nprint('True event hypocenter:\\n[{:.2f} m, {:.2f} m, {:.2f} m]'.format(*[sx, sy, sz]))\n\n# Results of application to clean data:\nfig,axs = locimage3d(dstacked_abs,                \n                     cmap=cmap,\n                     title='Location with absolute-value diffraction stacking:\\nclean data',\n                     x0=isx, y0=isy, z0=isz,\n                     secondcrossloc=hc_abs,\n                     crosslegend=crosslegend,\n                     xlim=xlim,ylim=ylim,zlim=zlim)\n\nprint('-------------------------------------------------------')\nprint('Event hypocenter from absolute-value diffraction stacking for clean data:\\n[{:.2f} m, {:.2f} m, {:.2f} m]'.format(*np.multiply(hc_abs,[dx, dy, dz])))\nprint('Location error:\\n[{:.2f} m, {:.2f} m, {:.2f} m]'.format(*get_location_misfit([isx, isy, isz], hc_abs, [dx, dy, dz])))\n\n# Results of application to data contaminated with white noise:\nfig,axs = locimage3d(dstacked_abs_wn, \n                     cmap=cmap,\n                     title=f\"Location with absolute-value diffraction stacking:\\ndata contaminated with white noise of SNR={snr_wn}\",\n                     x0=isx, y0=isy, z0=isz,\n                     secondcrossloc=hc_abs_wn,\n                     crosslegend=crosslegend,\n                     xlim=xlim,ylim=ylim,zlim=zlim)\nprint('-------------------------------------------------------')\nprint('Event hypocenter from absolute-value diffraction stacking for data contaminated with white noise of SNR={:.1f}:\\n[{:.2f} m, {:.2f} m, {:.2f} m]'.format(snr_wn,*np.multiply(hc_abs_wn,[dx, dy, dz])))\nprint('Location error:\\n[{:.2f} m, {:.2f} m, {:.2f} m]'.format(*get_location_misfit([isx, isy, isz], hc_abs_wn, [dx, dy, dz])))\n\n# Results of application to data contaminated with spiky noise:\nfig,axs = locimage3d(dstacked_abs_sn, \n                     cmap=cmap,\n                     title=f\"Location with absolute-value diffraction stacking:\\ndata contaminated with spiky noise of SNR={snr_sn}\",\n                     x0=isx, y0=isy, z0=isz,\n                     secondcrossloc=hc_abs_sn,\n                     crosslegend=crosslegend,\n                     xlim=xlim,ylim=ylim,zlim=zlim)\nprint('-------------------------------------------------------')\nprint('Event hypocenter from absolute-value diffraction stacking for data contaminated with spiky noise of SNR={:.1f}:\\n[{:.2f} m, {:.2f} m, {:.2f} m]'.format(snr_sn,*np.multiply(hc_abs_sn,[dx, dy, dz])))\nprint('Location error: [{:.2f} m, {:.2f} m, {:.2f} m]'.format(*get_location_misfit([isx, isy, isz], hc_abs_sn, [dx, dy, dz])))\n\n# Results of application to data contaminated with ringy noise:\nfig,axs = locimage3d(dstacked_abs_rn, \n                     cmap=cmap,\n                     title=f\"Location with absolute-value diffraction stacking:\\ndata contaminated with ringy noise of SNR={snr_rn}\",\n                     x0=isx, y0=isy, z0=isz,\n                     secondcrossloc=hc_abs_rn,\n                     crosslegend=crosslegend,\n                     xlim=xlim,ylim=ylim,zlim=zlim)\nprint('-------------------------------------------------------')\nprint('Event hypocenter from absolute-value diffraction stacking for data contaminated with ringy noise of SNR={:.1f}:\\n[{:.2f} m, {:.2f} m, {:.2f} m]'.format(snr_rn,*np.multiply(hc_abs_rn,[dx, dy, dz])))\nprint('Location error:\\n[{:.2f} m, {:.2f} m, {:.2f} m]'.format(*get_location_misfit([isx, isy, isz], hc_abs_rn, [dx, dy, dz])))\n\n# Results of application to data contaminated with white noise with max over time:\nfig,axs = locimage3d(dstacked_abs_max_wn, \n                     cmap=cmap,                     \n                     x0=isx, y0=isy, z0=isz,\n                     secondcrossloc=hc_abs_max_wn,\n                     crosslegend=crosslegend,\n                     xlim=xlim,ylim=ylim,zlim=zlim)\nfig.suptitle(f\"Location with absolute-value diffraction stacking:\\ndata contaminated with white noise of SNR={snr_wn},\\nwith maximum over time applied\")\nprint('-------------------------------------------------------')\nprint('Event hypocenter from absolute-value diffraction stacking with maximum over time applied for data contaminated with white noise of SNR={:.1f}:\\n[{:.2f} m, {:.2f} m, {:.2f} m]'.format(snr_wn,*np.multiply(hc_abs_max_wn,[dx, dy, dz])))\nprint('Location error:\\n[{:.2f} m, {:.2f} m, {:.2f} m]'.format(*get_location_misfit([isx, isy, isz], hc_abs_max_wn, [dx, dy, dz])))\n\n# Results of application to data contaminated with spiky noise with max over time:\nfig,axs = locimage3d(dstacked_abs_max_sn, \n                     cmap=cmap,                     \n                     x0=isx, y0=isy, z0=isz,\n                     secondcrossloc=hc_abs_max_sn,\n                     crosslegend=crosslegend,\n                     xlim=xlim,ylim=ylim,zlim=zlim)\nfig.suptitle(f\"Location with absolute-value diffraction stacking:\\ndata contaminated with spiky noise of SNR={snr_sn},\\nwith maximum over time applied\")\nprint('-------------------------------------------------------')\nprint('Event hypocenter from absolute-value diffraction stacking with maximum over time applied for data contaminated with spiky noise of SNR={:.1f}:\\n[{:.2f} m, {:.2f} m, {:.2f} m]'.format(snr_sn,*np.multiply(hc_abs_max_sn,[dx, dy, dz])))\nprint('Location error: [{:.2f} m, {:.2f} m, {:.2f} m]'.format(*get_location_misfit([isx, isy, isz], hc_abs_max_sn, [dx, dy, dz])))\n\n# Results of application to data contaminated with ringy noise with max over time:\nfig,axs = locimage3d(dstacked_abs_max_rn, \n                     cmap=cmap,                     \n                     x0=isx, y0=isy, z0=isz,\n                     secondcrossloc=hc_abs_max_rn,\n                     crosslegend=crosslegend,\n                     xlim=xlim,ylim=ylim,zlim=zlim)\nfig.suptitle(f\"Location with absolute-value diffraction stacking:\\ndata contaminated with ringy noise of SNR={snr_rn},\\nwith maximum over time applied\")\nprint('-------------------------------------------------------')\nprint('Event hypocenter from absolute-value diffraction stacking with maximum over time applied for data contaminated with ringy noise of SNR={:.1f}:\\n[{:.2f} m, {:.2f} m, {:.2f} m]'.format(snr_rn,*np.multiply(hc_abs_max_rn,[dx, dy, dz])))\nprint('Location error:\\n[{:.2f} m, {:.2f} m, {:.2f} m]'.format(*get_location_misfit([isx, isy, isz], hc_abs_max_rn, [dx, dy, dz])))"
      ]
    },
    {
      "cell_type": "markdown",
      "metadata": {},
      "source": [
        "### Plot resulting image volumes from squared-value diffraction stacking\nYou can see that the focusing is better when using squared values\n\n"
      ]
    },
    {
      "cell_type": "code",
      "execution_count": null,
      "metadata": {
        "collapsed": false
      },
      "outputs": [],
      "source": [
        "# Print true location\nprint('True event hypocenter:\\n[{:.2f} m, {:.2f} m, {:.2f} m]'.format(*[sx, sy, sz]))\n\n# Results of application to clean data:\nfig,axs = locimage3d(dstacked_sqd, \n                     cmap=cmap,\n                     title='Location with squared-value diffraction stacking:\\nclean data',\n                     x0=isx, y0=isy, z0=isz,\n                     secondcrossloc=hc_sqd,\n                     crosslegend=crosslegend,\n                     xlim=xlim,ylim=ylim,zlim=zlim)\n\nprint('-------------------------------------------------------')\nprint('Event hypocenter from squared-value diffraction stacking for clean data:\\n[{:.2f} m, {:.2f} m, {:.2f} m]'.format(*np.multiply(hc_sqd,[dx, dy, dz])))\nprint('Location error:\\n[{:.2f} m, {:.2f} m, {:.2f} m]'.format(*get_location_misfit([isx, isy, isz], hc_sqd, [dx, dy, dz])))\n\n# Results of application to data contaminated with white noise:\nfig,axs = locimage3d(dstacked_sqd_wn, \n                     cmap=cmap,\n                     title=f\"Location with squared-value diffraction stacking:\\ndata contaminated with white noise of SNR={snr_wn}\",\n                     x0=isx, y0=isy, z0=isz,\n                     secondcrossloc=hc_sqd_wn,\n                     crosslegend=crosslegend,\n                     xlim=xlim,ylim=ylim,zlim=zlim)\nprint('-------------------------------------------------------')\nprint('Event hypocenter from squared-value diffraction stacking for data contaminated with white noise of SNR={:.1f}:\\n[{:.2f} m, {:.2f} m, {:.2f} m]'.format(snr_wn,*np.multiply(hc_sqd_wn,[dx, dy, dz])))\nprint('Location error:\\n[{:.2f} m, {:.2f} m, {:.2f} m]'.format(*get_location_misfit([isx, isy, isz], hc_sqd_wn, [dx, dy, dz])))\n\n# Results of application to data contaminated with spiky noise:\nfig,axs = locimage3d(dstacked_sqd_sn, \n                     cmap=cmap,\n                     title=f\"Location with squared-value diffraction stacking:\\ndata contaminated with spiky noise of SNR={snr_sn}\",\n                     x0=isx, y0=isy, z0=isz,\n                     secondcrossloc=hc_sqd_sn,\n                     crosslegend=crosslegend,\n                     xlim=xlim,ylim=ylim,zlim=zlim)\nprint('-------------------------------------------------------')\nprint('Event hypocenter from squared-value diffraction stacking for data contaminated with spiky noise of SNR={:.1f}:\\n[{:.2f} m, {:.2f} m, {:.2f} m]'.format(snr_sn,*np.multiply(hc_sqd_sn,[dx, dy, dz])))\nprint('Location error: [{:.2f} m, {:.2f} m, {:.2f} m]'.format(*get_location_misfit([isx, isy, isz], hc_sqd_sn, [dx, dy, dz])))\n\n# Results of application to data contaminated with ringy noise:\nfig,axs = locimage3d(dstacked_sqd_rn, \n                     cmap=cmap,\n                     title=f\"Location with squared-value diffraction stacking:\\ndata contaminated with ringy noise of SNR={snr_rn}\",\n                     x0=isx, y0=isy, z0=isz,\n                     secondcrossloc=hc_sqd_rn,\n                     crosslegend=crosslegend,\n                     xlim=xlim,ylim=ylim,zlim=zlim)\nprint('-------------------------------------------------------')\nprint('Event hypocenter from squared-value diffraction stacking for data contaminated with ringy noise of SNR={:.1f}:\\n[{:.2f} m, {:.2f} m, {:.2f} m]'.format(snr_rn,*np.multiply(hc_sqd_rn,[dx, dy, dz])))\nprint('Location error:\\n[{:.2f} m, {:.2f} m, {:.2f} m]'.format(*get_location_misfit([isx, isy, isz], hc_sqd_rn, [dx, dy, dz])))"
      ]
    },
    {
      "cell_type": "markdown",
      "metadata": {},
      "source": [
        "### Plot resulting image volume from semblance-based diffraction stacking\nFirst result show application of semblance-based diffraction stacking without\nsliding time window. The result has several numerical artifacts.\nInvolving sliding window helps to reduce the artifacts and improve focusing\nbut slightly increases the location error.\nSemblance-based stacking is generally acting in the presence of noise better \nthan absolute-based stacking.\n\n"
      ]
    },
    {
      "cell_type": "code",
      "execution_count": null,
      "metadata": {
        "collapsed": false
      },
      "outputs": [],
      "source": [
        "# Print true location\nprint('True event hypocenter:\\n[{:.2f} m, {:.2f} m, {:.2f} m]'.format(*[sx, sy, sz]))\n\n# Results of application to clean data:\nfig,axs = locimage3d(dstacked_semb,                       \n                     cmap=cmap,\n                     x0=isx, y0=isy, z0=isz,\n                     secondcrossloc=hc_semb,\n                     crosslegend=crosslegend,\n                     xlim=xlim,ylim=ylim,zlim=zlim)\nfig.suptitle(\"Location with semblance-based diffraction stacking:\\nclean data\")\nprint('-------------------------------------------------------')\nprint('Event hypocenter from semblance-based diffraction stacking for clean data:\\n[{:.2f} m, {:.2f} m, {:.2f} m]'.format(*np.multiply(hc_semb,[dx, dy, dz])))\nprint('Location error:\\n[{:.2f} m, {:.2f} m, {:.2f} m]'.format(*get_location_misfit([isx, isy, isz], hc_semb, [dx, dy, dz])))\n\n\n# Results of application to clean data:\nfig,axs = locimage3d(dstacked_semb_swin,                       \n                     cmap=cmap,\n                     x0=isx, y0=isy, z0=isz,\n                     secondcrossloc=hc_semb_swin,\n                     crosslegend=crosslegend,\n                     xlim=xlim,ylim=ylim,zlim=zlim)\nfig.suptitle(f\"Location with semblance-based diffraction stacking:\\nsliding window of {swsize} samples,\\nclean data\")\nprint('-------------------------------------------------------')\nprint('Event hypocenter from semblance-based diffraction stacking with sliding window of {:d} samples for clean data:\\n[{:.2f} m, {:.2f} m, {:.2f} m]'.format(swsize,*np.multiply(hc_semb_swin,[dx, dy, dz])))\nprint('Location error:\\n[{:.2f} m, {:.2f} m, {:.2f} m]'.format(*get_location_misfit([isx, isy, isz], hc_semb_swin, [dx, dy, dz])))\n\n# Results of application to data contaminated with white noise:\nfig,axs = locimage3d(dstacked_semb_swin_wn,                     \n                     cmap=cmap,\n                     x0=isx, y0=isy, z0=isz,\n                     secondcrossloc=hc_semb_swin_wn,\n                     crosslegend=crosslegend,\n                     xlim=xlim,ylim=ylim,zlim=zlim)\nfig.suptitle(f\"Location with semblance-based diffraction stacking:\\nsliding window of {swsize} samples,\\ndata contaminated with white noise of SNR={snr_wn}\")\nprint('-------------------------------------------------------')\nprint('Event hypocenter from semblance-based diffraction stacking with sliding window of {:d} samples for data contaminated with white noise of SNR={:.1f}:\\n[{:.2f} m, {:.2f} m, {:.2f} m]'.format(swsize,snr_wn,*np.multiply(hc_semb_swin_wn,[dx, dy, dz])))\nprint('Location error:\\n[{:.2f} m, {:.2f} m, {:.2f} m]'.format(*get_location_misfit([isx, isy, isz], hc_semb_swin_wn, [dx, dy, dz])))\n\n# Results of application to data contaminated with spiky noise:\nfig,axs = locimage3d(dstacked_semb_swin_sn,                     \n                     cmap=cmap,\n                     x0=isx, y0=isy, z0=isz,\n                     secondcrossloc=hc_semb_swin_sn,\n                     crosslegend=crosslegend,\n                     xlim=xlim,ylim=ylim,zlim=zlim)\nfig.suptitle(f\"Location with semblance-based diffraction stacking:\\nsliding window of {swsize} samples,\\ndata contaminated with spiky noise of SNR={snr_sn}\")\nprint('-------------------------------------------------------')\nprint('Event hypocenter from semblance-based diffraction stacking with sliding window of {:d} samples for data contaminated with spiky noise of SNR={:.1f}:\\n[{:.2f} m, {:.2f} m, {:.2f} m]'.format(swsize,snr_sn,*np.multiply(hc_semb_swin_sn,[dx, dy, dz])))\nprint('Location error:\\n[{:.2f} m, {:.2f} m, {:.2f} m]'.format(*get_location_misfit([isx, isy, isz], hc_semb_swin_sn, [dx, dy, dz])))\n\n# Results of application to data contaminated with ringy noise:\nfig,axs = locimage3d(dstacked_semb_swin_rn,                     \n                     cmap=cmap,\n                     x0=isx, y0=isy, z0=isz,\n                     secondcrossloc=hc_semb_swin_rn,\n                     crosslegend=crosslegend,\n                     xlim=xlim,ylim=ylim,zlim=zlim)\nfig.suptitle(f\"Location with semblance-based diffraction stacking:\\nsliding window of {swsize} samples,\\ndata contaminated with ringy noise of SNR={snr_rn}\")\nprint('-------------------------------------------------------')\nprint('Event hypocenter from semblance-based diffraction stacking with sliding window of {:d} samples for data contaminated with ringy noise of SNR={:.1f}:\\n[{:.2f} m, {:.2f} m, {:.2f} m]'.format(swsize,snr_rn,*np.multiply(hc_semb_swin_rn,[dx, dy, dz])))\nprint('Location error:\\n[{:.2f} m, {:.2f} m, {:.2f} m]'.format(*get_location_misfit([isx, isy, isz], hc_semb_swin_rn, [dx, dy, dz])))"
      ]
    }
  ],
  "metadata": {
    "kernelspec": {
      "display_name": "Python 3",
      "language": "python",
      "name": "python3"
    },
    "language_info": {
      "codemirror_mode": {
        "name": "ipython",
        "version": 3
      },
      "file_extension": ".py",
      "mimetype": "text/x-python",
      "name": "python",
      "nbconvert_exporter": "python",
      "pygments_lexer": "ipython3",
      "version": "3.10.15"
    }
  },
  "nbformat": 4,
  "nbformat_minor": 0
}