{
  "cells": [
    {
      "cell_type": "markdown",
      "metadata": {},
      "source": [
        "\n# Comparing Beachball Focal Mechanism Solutions\nIn this example, we will perform a quick and dirty amplitude-based inversion\nfor the moment tensor and visualise the inverted focal mechanism using\nthe commonly used beachball plot.\n\nAs this is a plotting example, we will tackle the problem as an inverse-crime.\nFor a more scientific example of how to perform amplitude-based moment-tensor\ninversion, look into the tutorial [XXX] which uses data generated via finite-\ndifference modelling.\n"
      ]
    },
    {
      "cell_type": "code",
      "execution_count": null,
      "metadata": {
        "collapsed": false
      },
      "outputs": [],
      "source": [
        "import matplotlib.pyplot as plt\nimport numpy as np\nfrom pyfrac.mtsolvers.homo_mti import collect_source_angles, pwave_Greens_comp\nfrom pyfrac.mtsolvers.mtutils import get_mt_computation_dict\nfrom pyfrac.mtsolvers.mtai import *\nfrom pyfrac.visualisation.momenttensor_plots import MTBeachball_comparisonplot\n\n\nplt.close(\"all\")\nnp.random.seed(0)"
      ]
    },
    {
      "cell_type": "markdown",
      "metadata": {},
      "source": [
        "For this inverse-crime, we will use our inverse operator in the forward mode\nto generate the data we will invert.\n\n"
      ]
    },
    {
      "cell_type": "code",
      "execution_count": null,
      "metadata": {
        "collapsed": false
      },
      "outputs": [],
      "source": [
        "# Velocity Model\nnx, ny, nz = 47, 51, 75\ndx, dy, dz = 4, 4, 4\nx, y, z = np.arange(nx)*dx, np.arange(ny)*dy, np.arange(nz)*dz\n\nvp = 1000\nvel = vp * np.ones([nx, ny, nz])\n\n# RECEIVERS\ngrid_rx_locs = np.linspace(dx, (dx*nx)-2*dx, 11)\ngrid_ry_locs = np.linspace(dy, (dy*ny)-2*dy, 13)\nrx, ry, rz = np.meshgrid(grid_rx_locs,\n                         grid_ry_locs,\n                         dz)\nrecs = np.vstack((rx.flatten(), ry.flatten(), rz.flatten()))\nnr = recs.shape[1]"
      ]
    },
    {
      "cell_type": "markdown",
      "metadata": {},
      "source": [
        "Initialise all the necessary components for the inversion.\n\nTo learn more about what these components are and their purpose, see the\ntutorial on amplitude-based moment tensor inversion: [LINK]\n\n"
      ]
    },
    {
      "cell_type": "code",
      "execution_count": null,
      "metadata": {
        "collapsed": false
      },
      "outputs": [],
      "source": [
        "# Amplitude terms for inversion\ngamma_sourceangles, dist_table = collect_source_angles(x,\n                                                       y,\n                                                       z,\n                                                       reclocs=recs,\n                                                       nc=3)\n# Source Parameters\nomega_p = 30  # Central frequency\nsloc_ind = [nx//2, ny//2, nz//2]  # As indices of velocity model\nMT_comp_dict = get_mt_computation_dict()  # Moment Tensor Dictionary for house-keeping purposes\n# Compute the p-wave Green's functions\nGz = pwave_Greens_comp(gamma_sourceangles,\n                       dist_table,\n                       sloc_ind,\n                       vel,\n                       MT_comp_dict,\n                       comp_gamma_ind=2,\n                       omega_p=omega_p,\n                       )"
      ]
    },
    {
      "cell_type": "markdown",
      "metadata": {},
      "source": [
        "Create the forward data based on a chosen moment tensor, in this case the\nforward data is only the p-wave arrival amplitude\n\n"
      ]
    },
    {
      "cell_type": "code",
      "execution_count": null,
      "metadata": {
        "collapsed": false
      },
      "outputs": [],
      "source": [
        "mt_xx = 0\nmt_yy = 0\nmt_zz = 0\nmt_xy = -1\nmt_xz = 0\nmt_yz = 0\nmt = [mt_xx, mt_yy, mt_zz, mt_xy, mt_xz, mt_yz]\nprint('MT for forward modelling: ', mt)\n# Forward (Note, this will only give the p-amplitudes of the arrival\np_amps_true = frwrd_mtmodelling(Gz, mt)\n# So this is not super boring let's add a tiny bit of noise\np_amps_noisy = p_amps_true + 0.25*((np.random.random(len(p_amps_true))-0.5)*np.mean(abs(p_amps_true)))"
      ]
    },
    {
      "cell_type": "markdown",
      "metadata": {},
      "source": [
        "Perform inverse operation with our least-squares MT solver\n\n"
      ]
    },
    {
      "cell_type": "code",
      "execution_count": null,
      "metadata": {
        "collapsed": false
      },
      "outputs": [],
      "source": [
        "mt_est = lsqr_mtsolver(Gz, p_amps_noisy)"
      ]
    },
    {
      "cell_type": "markdown",
      "metadata": {},
      "source": [
        "Now we are ready to plot the comparison between our known MT (mt) and our\nestimate MT (mt_est)\n\n"
      ]
    },
    {
      "cell_type": "code",
      "execution_count": null,
      "metadata": {
        "collapsed": false
      },
      "outputs": [],
      "source": [
        "MTBeachball_comparisonplot(mt, mt_est)\nplt.show()"
      ]
    },
    {
      "cell_type": "markdown",
      "metadata": {},
      "source": [
        "NB: Just a quick plot to show how shifted the selected arrival amplitudes are\n\n"
      ]
    },
    {
      "cell_type": "code",
      "execution_count": null,
      "metadata": {
        "collapsed": false
      },
      "outputs": [],
      "source": [
        "fig = plt.figure()\nplt.scatter(x=np.arange(len(p_amps_true)), y=p_amps_true, c='r', label='true')\nplt.scatter(x=np.arange(len(p_amps_true)), y=p_amps_noisy, c='b', label='noisy')\nplt.legend()\nplt.xlabel('Receiver #')\nplt.ylabel('P-Amplitude')\nplt.title('P-Wave Arrival Amplitudes')"
      ]
    }
  ],
  "metadata": {
    "kernelspec": {
      "display_name": "Python 3",
      "language": "python",
      "name": "python3"
    },
    "language_info": {
      "codemirror_mode": {
        "name": "ipython",
        "version": 3
      },
      "file_extension": ".py",
      "mimetype": "text/x-python",
      "name": "python",
      "nbconvert_exporter": "python",
      "pygments_lexer": "ipython3",
      "version": "3.10.14"
    }
  },
  "nbformat": 4,
  "nbformat_minor": 0
}