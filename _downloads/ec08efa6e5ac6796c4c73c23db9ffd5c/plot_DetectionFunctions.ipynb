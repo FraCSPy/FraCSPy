{
  "cells": [
    {
      "cell_type": "markdown",
      "metadata": {},
      "source": [
        "\n# Detection Function Plotting \nThis example shows how to visualise detection functions (curves), e.g. when \nworking with diffraction stacking detection.\n"
      ]
    },
    {
      "cell_type": "code",
      "execution_count": null,
      "metadata": {
        "collapsed": false
      },
      "outputs": [],
      "source": [
        "import numpy as np\nimport matplotlib.pyplot as plt\nfrom scipy.stats import norm\nfrom fracspy.visualisation.plotting_support import detection_curves\nfrom fracspy.detection.stacking import stalta"
      ]
    },
    {
      "cell_type": "markdown",
      "metadata": {},
      "source": [
        "## Create simple dataset\nHere we generate a purely synthetic function which would look like a maximum stack function\n\n"
      ]
    },
    {
      "cell_type": "code",
      "execution_count": null,
      "metadata": {
        "collapsed": false
      },
      "outputs": [],
      "source": [
        "# Parameters\ndt = 0.004  # time step in seconds\nduration = 1.0  # total duration of the signal in seconds\nt = np.arange(0, duration, dt)  # time array\n\n# Gaussian function parameters: mean, standard deviation, maximum\ngaussian_params = [\n    {\"mean\": 0.1, \"std\": 0.01, \"height\": 1},    # First peak\n    {\"mean\": 0.5, \"std\": 0.01, \"height\": 0.3},  # Second peak\n    {\"mean\": 0.8, \"std\": 0.01, \"height\": 0.9},  # Third peak\n]\n\n# Create the signal with constant level of 1\nsignal = np.zeros_like(t) + 1\n\n\n# Add each Gaussian peak to the signal\nfor params in gaussian_params:\n    gaussian = params[\"height\"] * norm.pdf(t, params[\"mean\"], params[\"std\"])\n    signal += gaussian\n\n# Generate random background noise between 0 and 5\nrandom_noise = np.random.uniform(0, 5, size=len(t))\n\n# Add the random background noise to the signal\nsignal += random_noise"
      ]
    },
    {
      "cell_type": "markdown",
      "metadata": {},
      "source": [
        "## Plot the function\n\n"
      ]
    },
    {
      "cell_type": "code",
      "execution_count": null,
      "metadata": {
        "collapsed": false
      },
      "outputs": [],
      "source": [
        "fig,axs = detection_curves(msf=signal,t=t,msflabel='Signal',figsize=(8, 6))\n\n#%"
      ]
    },
    {
      "cell_type": "markdown",
      "metadata": {},
      "source": [
        "## Get Short Term Average / Long Term Average (STA/LTA) \nSet parameters\n\n"
      ]
    },
    {
      "cell_type": "code",
      "execution_count": null,
      "metadata": {
        "collapsed": false
      },
      "outputs": [],
      "source": [
        "# Short time window\nstw = 0.05\n\n# Long time window\nltw = 5*stw\n\n# Gap time window\ngtw = 1\n\n# Compute STA/LTA for the example signal\nslf,_,_ = stalta(tdf=signal, dt=dt, stw=stw, ltw=ltw, gtw=gtw)"
      ]
    },
    {
      "cell_type": "markdown",
      "metadata": {},
      "source": [
        "## Plot both the signal and the STA/LTA\n\n"
      ]
    },
    {
      "cell_type": "code",
      "execution_count": null,
      "metadata": {
        "collapsed": false
      },
      "outputs": [],
      "source": [
        "fig,axs = detection_curves(msf=signal,t=t,msflabel='Signal',slf=slf)"
      ]
    }
  ],
  "metadata": {
    "kernelspec": {
      "display_name": "Python 3",
      "language": "python",
      "name": "python3"
    },
    "language_info": {
      "codemirror_mode": {
        "name": "ipython",
        "version": 3
      },
      "file_extension": ".py",
      "mimetype": "text/x-python",
      "name": "python",
      "nbconvert_exporter": "python",
      "pygments_lexer": "ipython3",
      "version": "3.10.15"
    }
  },
  "nbformat": 4,
  "nbformat_minor": 0
}