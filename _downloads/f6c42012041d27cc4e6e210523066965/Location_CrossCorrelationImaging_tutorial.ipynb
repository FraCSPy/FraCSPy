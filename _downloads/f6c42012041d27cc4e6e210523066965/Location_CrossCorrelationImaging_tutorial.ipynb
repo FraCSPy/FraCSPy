{
  "cells": [
    {
      "cell_type": "markdown",
      "metadata": {},
      "source": [
        "\n# 2.2 Cross-Correlation-Based Localisation - Single component\nThis tutorial illustrates how to perform source localisation by inversion\nusing a Kirchhoff-based modelling operator together with a correlation-based\nobjective function.\n\nSimilar to the other tutorials on this topic, we will consider heree a simple scenario\nwhere the subsurface is homogenous, as such we can compute an analytical expression for the\ntraveltime. Moreover, we discard the amplitude component from the high-frequency\napproximation of the Green's function adopted here. As such, we expect our modelling operator\nto be accurate in terms of kinematic, however inaccurate in terms of its dynamic component\n(amplitudes).\n\nUsing a standard least-squares data misfit term in an inversion approach to source\nlocalisation (as done in the previous tutorial) would lead to inaccurate results, unless the\nmodelling operator is improved to take into account the amplitude of the wavefield. An alternative\nroute, which we have decided to take here, does instead require us to design an objective function\nthat is mostly sensitive to traveltime, and less so to amplitudes. Following prior work in the\nliterature of least-squares imaging for active seismic data, the normalized correlation function\n(aka Pearson correlation coefficient) between the modelled and observed data is used here, as defined by:\n\n\\begin{align}J(m(\\mathbf{x})) = - \\sum_{\\mathbf{x_r}} \\frac{\\int{d^{obs}(\\mathbf{x_r}, t) d^{mod}(\\mathbf{x_r}, t) dt}}\n        {\\sqrt{\\int{d^{obs}(\\mathbf{x_r}, t)^2 dt}} \\sqrt{\\int{d^{mod}(\\mathbf{x_r}, t)^2 dt}}}\\end{align}\n\nWhilst this objective function is differentiable with respect to $m(\\mathbf{x})$ and one could\nwrite a gradient 'by-hand', this tutorial is also aimed at showcasing how easy is to combine FraCSPy\nwith modern software packages from the deep learning community such as PyTorch, which provide Automatic\nDifferentiation (AD) functionalities. The optimization process is therefore carried out using a AD-based\ngradient of the main objective function, $\\partial J / \\partial m(\\mathbf{x})$, augumented with a L1\nregularization term that promotes sparse solutions (i.e., compact source distributions).\n"
      ]
    },
    {
      "cell_type": "code",
      "execution_count": null,
      "metadata": {
        "collapsed": false
      },
      "outputs": [],
      "source": [
        "import os\nimport numpy as np\nimport matplotlib.pyplot as plt\n\nfrom pylops.utils import dottest\nfrom pylops.utils.wavelets import ricker\n\nimport fracspy\n\nfrom fracspy.visualisation.eventimages import locimage3d\nfrom fracspy.utils.sofiutils import read_seis"
      ]
    },
    {
      "cell_type": "markdown",
      "metadata": {},
      "source": [
        "## Load model and seismic data\nFor this example, we will use a toy homogenous model with a gridded surface\nreceiver array. The data are modelled using the\n[SOFI3D](https://gitlab.kit.edu/kit/gpi/ag/software/sofi3d)\nFinite Difference modelling software. The model is the same that we have used\nin the FD modelling to generate the data. As such, it contains additional\nboundaries, which we need to remove prior to performing localisation.\n\n"
      ]
    },
    {
      "cell_type": "code",
      "execution_count": null,
      "metadata": {
        "collapsed": false
      },
      "outputs": [],
      "source": [
        "# Directory containing input data\ninput_dir = '../data/pyfrac_SOFIModelling'\n\n# Model parameters\nabs_bounds = 30\ndx = dy = dz = 5\nnx = 112\nny = 128\nnz = 120\n\n# Modelling parameters\ndt = 1e-3  # SOFI3D Time sampling rate\nt_shift = 167  # Time shift required to align FD data to zero time for Kirchhoff operators\n\n# Load model\nmod_w_bounds = np.fromfile(os.path.join(input_dir,'inputs',\n                                        'models',\n                                        'Homogeneous_xyz.vp'),\n                           dtype='float32').reshape([nx, ny, nz])\n\n# Load receiver geometry\nrecs_xzy = np.loadtxt(os.path.join(input_dir,'inputs',\n                                   'griddedarray_xzy_20m.dat')).T\nnr = recs_xzy.shape[1]\n\n# Load seismic data\nexpname = 'explosive_Homogeneous_griddedarray'\nvz = read_seis(os.path.join(input_dir, 'outputs',\n                            'su', f'{expname}_vy.txt'),\n               nr=nr)\nvz = vz[:, t_shift:]  # Cut time axis to account for selected ignition time\nvz /= np.max(abs(vz))  # Normalise to get reasonable amplitudes\n\n# Remove absorbing boundaries from both the model and receiver coordinates\nmod = mod_w_bounds[abs_bounds:-abs_bounds, abs_bounds:-abs_bounds, :-abs_bounds] # z has free surface\nnx, ny, nz = mod.shape\nx, y, z = np.arange(nx) * dx, np.arange(ny) * dy, np.arange(nz) * dz\nrecs = np.array([recs_xzy[0]-(abs_bounds*dx), recs_xzy[2]-(abs_bounds*dx), recs_xzy[1]])"
      ]
    },
    {
      "cell_type": "markdown",
      "metadata": {},
      "source": [
        "Let's now double-check that the data has been loaded correctly.\n\n"
      ]
    },
    {
      "cell_type": "code",
      "execution_count": null,
      "metadata": {
        "collapsed": false
      },
      "outputs": [],
      "source": [
        "fig, ax = fracspy.visualisation.traceviz.traceimage(vz, climQ=99.99, figsize=(10, 4))\nax.set_title('SOFI FD data - Vertical Component')\nplt.tight_layout()"
      ]
    },
    {
      "cell_type": "markdown",
      "metadata": {},
      "source": [
        "## Create modelling operator\nFirst, we will define a Ricker wavelet with\npeak frequency of 20Hz. This is the same wavelet that we used in modelling;\nin real applications, this will need to be estimated from the data.\n\n"
      ]
    },
    {
      "cell_type": "code",
      "execution_count": null,
      "metadata": {
        "collapsed": false
      },
      "outputs": [],
      "source": [
        "nt = vz.shape[1]\nt = np.arange(nt) * dt\nwav, wavt, wavc = ricker(t[:81], f0=20)\n\nfig, ax = plt.subplots(figsize=(10, 2))\nax.plot(wavt, wav, 'k', lw=2)\nax.set_xlabel('t [s]')\nax.set_title('Wavelet')\nax.grid('on')\nplt.tight_layout()"
      ]
    },
    {
      "cell_type": "markdown",
      "metadata": {},
      "source": [
        "Second, we define our modelling operator; as part of the initialization process,\nan eikonal solver is used here to compute the traveltimes from each subsurface\npoint to each receiver.\n\n"
      ]
    },
    {
      "cell_type": "code",
      "execution_count": null,
      "metadata": {
        "collapsed": false
      },
      "outputs": [],
      "source": [
        "Op = fracspy.modelling.kirchhoff.Kirchhoff(\n        z=z,\n        x=x,\n        y=y,\n        t=t,\n        recs=recs,\n        vel=1000 * np.ones_like(mod),\n        wav=wav,\n        wavcenter=wavc,\n        mode='eikonal',\n        engine='numba')\n\n# Check operator with dottest\n_ = dottest(Op, verb=True)"
      ]
    },
    {
      "cell_type": "markdown",
      "metadata": {},
      "source": [
        "## ASIDE: Checking operator optimality\nHere we will just forward model the data to check that it looks similar to\nthe one computed via Finite-Difference. This is not strictly required if we\nare simply interested to apply the adjoint of our modelling operator\n(i.e., source localisation by imaging); however, it becomes important if we\nwant to invert the modelling operator (i.e., source localisation by inversion).\nFor such a simple subsurface model and synthetically generated data, we expect\nto have a good match even though our modelling operator is clearly ignoring\nsome physics (e.g., geometrical spreading).\n\nWhen working with field data, this preliminary step becomes even more important\nas one may want to look at the waveform to ensure that its kinematic and\nfrequency content is consistent with that of the observed data. As far as the\nkinematic part is concerned, this will be dependant on the velocity model as well as\nthe choice of the ignition time. [More commentary on ignition time can be found\nin the tutorial on rolling detection.]\n\n"
      ]
    },
    {
      "cell_type": "code",
      "execution_count": null,
      "metadata": {
        "collapsed": false
      },
      "outputs": [],
      "source": [
        "# Choose a microseismic source location as function of grid points\nsx = nx // 2\nsy = ny // 2\nsz = 2 * nz // 3\nprint(f'True source location [index]: {sx}-{sy}-{sz}')\n\nmicroseismic = np.zeros((nx, ny, nz))\nmicroseismic[sx, sy, sz] = 1.\n\n# Perform forward modelling\nfrwddata_1d = Op @ microseismic.flatten().squeeze()\nfrwddata  = frwddata_1d.reshape(nr,nt)"
      ]
    },
    {
      "cell_type": "markdown",
      "metadata": {},
      "source": [
        "Let's compare the data across the full array\n\n"
      ]
    },
    {
      "cell_type": "code",
      "execution_count": null,
      "metadata": {
        "collapsed": false
      },
      "outputs": [],
      "source": [
        "fig, axs = plt.subplots(1, 2, sharey=True, figsize=[15,5])\naxs[0].imshow(vz.T, aspect='auto', cmap='seismic', vmin=-1,vmax=1)\naxs[0].set_title('True (from FD)')\naxs[1].imshow(frwddata.T, aspect='auto', cmap='seismic', vmin=-1, vmax=1)\naxs[1].imshow(vz.T, aspect='auto', cmap='seismic', vmin=-1,vmax=1)\naxs[1].set_title('Modelled')\nplt.tight_layout()"
      ]
    },
    {
      "cell_type": "markdown",
      "metadata": {},
      "source": [
        "And at trace level\n\n"
      ]
    },
    {
      "cell_type": "code",
      "execution_count": null,
      "metadata": {
        "collapsed": false
      },
      "outputs": [],
      "source": [
        "plt.figure(figsize=[15, 3])\nplt.plot(-1 * vz[10, 250:], 'k', label='True (from FD)')\nplt.plot(frwddata[10, 250:], 'b', label='Modelled')\nplt.legend()\nplt.tight_layout()"
      ]
    },
    {
      "cell_type": "markdown",
      "metadata": {},
      "source": [
        "## Source localisation by cross-correlation-based imaging\n\n"
      ]
    },
    {
      "cell_type": "code",
      "execution_count": null,
      "metadata": {
        "collapsed": false
      },
      "outputs": [],
      "source": [
        "L = fracspy.location.Location(x, y, z)\nxc_inv, xci_hc = L.apply(vz, kind=\"xcorri\", Op=Op, nforhc=10)\n\nprint('True Hypo-Center:', [sx,sy,sz])\nprint('Migration Hypo-Centers:', xci_hc)\n\nfig, axs = locimage3d(xc_inv,\n                      x0=int(np.round(xci_hc[0])),\n                      y0=int(np.round(xci_hc[1])),\n                      z0=int(np.round(xci_hc[2])),\n                      p=100)\nplt.tight_layout()"
      ]
    }
  ],
  "metadata": {
    "kernelspec": {
      "display_name": "Python 3",
      "language": "python",
      "name": "python3"
    },
    "language_info": {
      "codemirror_mode": {
        "name": "ipython",
        "version": 3
      },
      "file_extension": ".py",
      "mimetype": "text/x-python",
      "name": "python",
      "nbconvert_exporter": "python",
      "pygments_lexer": "ipython3",
      "version": "3.10.15"
    }
  },
  "nbformat": 4,
  "nbformat_minor": 0
}