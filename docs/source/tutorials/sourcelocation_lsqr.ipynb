{
  "cells": [
    {
      "cell_type": "markdown",
      "metadata": {},
      "source": [
        "\n# LSQR Kirchhoff-based Inversion for Source Location\nThis example shows how to create pre-stack angle gathers using\nthe `pyfrac.locationsolvers.imaging.lsqr_migration`.\n"
      ]
    },
    {
      "cell_type": "code",
      "execution_count": null,
      "metadata": {
        "collapsed": false
      },
      "outputs": [],
      "source": [
        "import numpy as np\nimport matplotlib.pyplot as plt\nfrom pylops.utils import dottest\nfrom pylops.utils.wavelets import *\n\nfrom pyfrac.modelling.kirchhoff import Kirchhoff\nfrom pyfrac.visualisation.traceviz import traceimage\nfrom pyfrac.visualisation.eventimages import locimage3d\n\nr\"\"\"\nSet up Problem - Velocity Model + Receiver Geometry\n===================================================\nFor this simple example, let's use a small homogeneous velocity model with a surface receiver array in a \ngridded formation that fully covers the velocity model.\n\"\"\"\n# Model Definition\nnx, ny, nz = 50, 50, 50  # Number of dimensions of model\ndx, dy, dz = 4, 4, 4  # Grid spacing of model\nx, y, z = np.arange(nx)*dx, np.arange(ny)*dy, np.arange(nz)*dz  # Model coordinates\n\n# Velocity Model\nvp = 1000  # P-wave velocity\nvel = np.ones([nx,ny,nz])*vp  # 3D Velocity Model\n\n# Receiver array\ndr_xyz = 4*dx  # Spacing of receivers as a function of the model step size\ngrid_rx_locs = np.arange(dx, (dx*nx)-dx, dr_xyz)  # Get receiver x-coords\ngrid_ry_locs = np.arange(dy, (dy*ny)-dy, dr_xyz)  # Get receiver y-coords\nrx, ry, rz = np.meshgrid(grid_rx_locs,\n                         grid_ry_locs,\n                         dz)\nrecs = np.vstack((rx.flatten(), ry.flatten(), rz.flatten()))  # Flatten grid\nnr = recs.shape[1]  # Number of receivers (useful parameter for later)\n\n# Plot receiver array\nplt.figure()\nplt.scatter(recs[0], recs[1])\nr\"\"\"\nMake Kirchhoff imaging operator\n=================================================\nThe Kirchhoff imaging operator \n\"\"\"\n# Define time parameters\nnt = 251\ndt = 0.004\nt = np.arange(nt)*dt\n\n# Make source wavelet\nfc = 20  # expected central frequency\nwav, wavt, wavc = ricker(t[:41], f0=20)\n\n# INITIALISE OPERATOR\nOp = Kirchhoff(z=z,\n               x=x,\n               y=y,\n               t=t,\n               srcs=recs[:, :1],\n               recs=recs,\n               vel=vel,\n               wav=wav,\n               wavcenter=wavc,\n               mode='eikonal',\n               engine='numba')\n\n# check operator with dottest\n_ = dottest(Op, verb=True)"
      ]
    }
  ],
  "metadata": {
    "kernelspec": {
      "display_name": "Python 3",
      "language": "python",
      "name": "python3"
    },
    "language_info": {
      "codemirror_mode": {
        "name": "ipython",
        "version": 3
      },
      "file_extension": ".py",
      "mimetype": "text/x-python",
      "name": "python",
      "nbconvert_exporter": "python",
      "pygments_lexer": "ipython3",
      "version": "3.9.18"
    }
  },
  "nbformat": 4,
  "nbformat_minor": 0
}